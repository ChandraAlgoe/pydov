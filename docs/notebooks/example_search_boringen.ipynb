{
 "cells": [
  {
   "cell_type": "markdown",
   "metadata": {},
   "source": [
    "# Example of DOV search methods for boreholes (boringen)"
   ]
  },
  {
   "cell_type": "markdown",
   "metadata": {},
   "source": [
    "## Use cases explained below\n",
    "* Get boreholes in a bounding box\n",
    "* Get boreholes with specific properties\n",
    "* Get boreholes in a bounding box based on specific properties\n",
    "* Select boreholes in a municipality and return depth\n",
    "* Get boreholes based on fields not available in the standard output dataframe\n",
    "* Get borehole data, returning fields not available in the standard output dataframe\n",
    "* Get boreholes in a municipality and where groundwater related data are available"
   ]
  },
  {
   "cell_type": "code",
   "execution_count": 13,
   "metadata": {
    "collapsed": true
   },
   "outputs": [],
   "source": [
    "%matplotlib inline\n",
    "import inspect, sys"
   ]
  },
  {
   "cell_type": "code",
   "execution_count": 2,
   "metadata": {
    "collapsed": true
   },
   "outputs": [],
   "source": [
    "# check pydov path\n",
    "import pydov"
   ]
  },
  {
   "cell_type": "markdown",
   "metadata": {},
   "source": [
    "## Get information about the datatype 'Boring'"
   ]
  },
  {
   "cell_type": "code",
   "execution_count": 3,
   "metadata": {
    "collapsed": true
   },
   "outputs": [],
   "source": [
    "from pydov.search.boring import BoringSearch\n",
    "boring = BoringSearch()"
   ]
  },
  {
   "cell_type": "markdown",
   "metadata": {},
   "source": [
    "A description is provided for the 'Boring' datatype:"
   ]
  },
  {
   "cell_type": "code",
   "execution_count": 4,
   "metadata": {},
   "outputs": [
    {
     "data": {
      "text/plain": [
       "'In de DOV-databank is elke waarneming van grondlagen een boring. Bij de meeste boringen wordt er met een boortoestel een gat gemaakt in de ondergrond om de verschillende grondlagen te kunnen beschrijven. Aan de hand van een boring krijg je een beeld van het materiaal in de ondergrond met toenemende diepte. Afhankelijk van het doel waarvoor de boring geplaatst wordt, zal men een geschikte boormethode toepassen. Boringen worden geplaatst voor verkennend bodemonderzoek, monstername van het sediment en/of grondwater, bepaling van bodemfysische parameters, milieuhygienisch onderzoek,... Afhankelijk van de diepte, soort materiaal, en het al dan niet boren tot onder de grondwatertafel kan men kiezen uit verscheidene systemen voor handmatig of machinaal te boren. Het bodemmateriaal dat vrijkomt, kan gebruikt worden om een profiel van de ondergrond op te stellen of om er grondmonsters van te nemen om verdere analyses op uit te voeren. Vaak is het de bedoeling een put uit te bouwen zodat water kan gewonnen worden (zie ook grondwatermeetnet en grondwatervergunningen). Soms worden boringen uitgevoerd om een aantal geotechnische karakteristieken te bepalen of om wetenschappelijk onderzoek uit te voeren. Oppervlakkige waarnemingen van de ondergrond noemen we ook boringen. Vooral rond 1900 beschreven een aantal geologen vaak de oppervlakkige lagen. In de databank staan er dan ook verschillende boringen met een diepte van 0 meter. Het gaat vooral om weginsnijdingen of om zichtbare lithologische kenmerken langs de oppervlakte.'"
      ]
     },
     "execution_count": 4,
     "metadata": {},
     "output_type": "execute_result"
    }
   ],
   "source": [
    "boring.get_description()"
   ]
  },
  {
   "cell_type": "markdown",
   "metadata": {},
   "source": [
    "The different fields that are available for objects of the 'Boring' datatype can be requested with the get_fields() method:"
   ]
  },
  {
   "cell_type": "code",
   "execution_count": 5,
   "metadata": {},
   "outputs": [
    {
     "name": "stderr",
     "output_type": "stream",
     "text": [
      "/home/stijn_vanhoey/.pyenv/versions/miniconda3-4.3.11/envs/inbobase/lib/python3.5/site-packages/owslib/iso.py:116: FutureWarning: the .identification and .serviceidentification properties will merge into .identification being a list of properties.  This is currently implemented in .identificationinfo.  Please see https://github.com/geopython/OWSLib/issues/38 for more information\n",
      "  FutureWarning)\n"
     ]
    },
    {
     "name": "stdout",
     "output_type": "stream",
     "text": [
      "opdrachtgever\n",
      "rapport\n",
      "diepte_boring_van\n",
      "namen\n",
      "opdrachten\n",
      "start_boring_mtaw\n",
      "doel\n",
      "pkey_boring\n",
      "diepte_boring_tot\n",
      "boorgatmeting\n",
      "erkenning\n",
      "diepte_methode_van\n",
      "gecodeerde_lithologie\n",
      "mv_mtaw\n",
      "informele_stratigrafie\n",
      "hydrogeologische_stratigrafie\n",
      "y\n",
      "uitvoerder\n",
      "informele_hydrostratigrafie\n",
      "diepte_methode_tot\n",
      "datum_aanvang\n",
      "geotechnische_codering\n",
      "boornummer\n",
      "methode\n",
      "id\n",
      "gemeente\n",
      "dikte_quartair\n",
      "x\n",
      "doorheen_quartair\n",
      "formele_stratigrafie\n",
      "lithologische_beschrijving\n",
      "boormethode\n",
      "putnummer\n",
      "quartaire_stratigrafie\n",
      "generated_id\n",
      "tertiair_onder_quartair\n"
     ]
    }
   ],
   "source": [
    "fields = boring.get_fields()\n",
    "\n",
    "# print available fields\n",
    "for f in fields.values():\n",
    "    print(f['name'])"
   ]
  },
  {
   "cell_type": "markdown",
   "metadata": {},
   "source": [
    "You can get more information of a field by requesting it from the fields dictionary:\n",
    "* *name*: name of the field\n",
    "* *definition*: definition of this field\n",
    "* *cost*: currently this is either 1 or 10, depending on the datasource of the field. It is an indication of the expected time it will take to retrieve this field in the output dataframe.\n",
    "* *notnull*: whether the field is mandatory or not\n",
    "* *type*: datatype of the values of this field"
   ]
  },
  {
   "cell_type": "code",
   "execution_count": 6,
   "metadata": {},
   "outputs": [
    {
     "data": {
      "text/plain": [
       "{'cost': 1,\n",
       " 'definition': 'Maximumdiepte van de boring ten opzichte van het aanvangspeil, in meter.',\n",
       " 'name': 'diepte_boring_tot',\n",
       " 'notnull': False,\n",
       " 'type': 'float'}"
      ]
     },
     "execution_count": 6,
     "metadata": {},
     "output_type": "execute_result"
    }
   ],
   "source": [
    "fields['diepte_boring_tot']"
   ]
  },
  {
   "cell_type": "markdown",
   "metadata": {},
   "source": [
    "Optionally, if the values of the field have a specific domain the possible values are listed as *values*:"
   ]
  },
  {
   "cell_type": "code",
   "execution_count": 7,
   "metadata": {},
   "outputs": [
    {
     "data": {
      "text/plain": [
       "['avegaarboring',\n",
       " 'droge boring',\n",
       " 'edelmanboring',\n",
       " 'geen boring',\n",
       " 'gestoken boring',\n",
       " 'graafmachine',\n",
       " 'handboring',\n",
       " 'kernboring',\n",
       " 'lansen',\n",
       " 'lepelboring',\n",
       " 'luchthamer',\n",
       " 'luchthevelboren of air-lift boren',\n",
       " 'meerdere technieken',\n",
       " 'omgek. spoelboring',\n",
       " 'onbekend',\n",
       " 'pulsboring',\n",
       " 'ramguts',\n",
       " 'ramkernboring',\n",
       " 'rollerbit',\n",
       " 'slagboring',\n",
       " 'spade',\n",
       " 'spiraalboring',\n",
       " 'spoelboring',\n",
       " 'steenboring',\n",
       " 'trilboring',\n",
       " 'voorput',\n",
       " 'zuigboring']"
      ]
     },
     "execution_count": 7,
     "metadata": {},
     "output_type": "execute_result"
    }
   ],
   "source": [
    "fields['methode']['values']"
   ]
  },
  {
   "cell_type": "markdown",
   "metadata": {},
   "source": [
    "## Example use cases"
   ]
  },
  {
   "cell_type": "markdown",
   "metadata": {},
   "source": [
    "### Get boreholes in a bounding box"
   ]
  },
  {
   "cell_type": "markdown",
   "metadata": {},
   "source": [
    "Get data for all the boreholes that are geographically located within the bounds of the specified box.\n",
    "\n",
    "The coordinates are in the Belgian Lambert72 (EPSG:31370) coordinate system and are given in the order of lower left x, lower left y, upper right x, upper right y."
   ]
  },
  {
   "cell_type": "code",
   "execution_count": 8,
   "metadata": {},
   "outputs": [
    {
     "data": {
      "text/html": [
       "<div>\n",
       "<style scoped>\n",
       "    .dataframe tbody tr th:only-of-type {\n",
       "        vertical-align: middle;\n",
       "    }\n",
       "\n",
       "    .dataframe tbody tr th {\n",
       "        vertical-align: top;\n",
       "    }\n",
       "\n",
       "    .dataframe thead th {\n",
       "        text-align: right;\n",
       "    }\n",
       "</style>\n",
       "<table border=\"1\" class=\"dataframe\">\n",
       "  <thead>\n",
       "    <tr style=\"text-align: right;\">\n",
       "      <th></th>\n",
       "      <th>pkey_boring</th>\n",
       "      <th>boornummer</th>\n",
       "      <th>x</th>\n",
       "      <th>y</th>\n",
       "      <th>mv_mtaw</th>\n",
       "      <th>start_boring_mtaw</th>\n",
       "      <th>gemeente</th>\n",
       "      <th>diepte_boring_van</th>\n",
       "      <th>diepte_boring_tot</th>\n",
       "      <th>datum_aanvang</th>\n",
       "      <th>uitvoerder</th>\n",
       "      <th>boorgatmeting</th>\n",
       "      <th>diepte_methode_van</th>\n",
       "      <th>diepte_methode_tot</th>\n",
       "      <th>boormethode</th>\n",
       "    </tr>\n",
       "  </thead>\n",
       "  <tbody>\n",
       "    <tr>\n",
       "      <th>0</th>\n",
       "      <td>https://www.dov.vlaanderen.be/data/boring/1974...</td>\n",
       "      <td>GEO-74/254-b1</td>\n",
       "      <td>153147.0</td>\n",
       "      <td>206931.0</td>\n",
       "      <td>14.12</td>\n",
       "      <td>14.12</td>\n",
       "      <td>Antwerpen</td>\n",
       "      <td>0.0</td>\n",
       "      <td>14.05</td>\n",
       "      <td>1974-07-02</td>\n",
       "      <td>Rijksinstituut voor Grondmechanica</td>\n",
       "      <td>False</td>\n",
       "      <td>0.0</td>\n",
       "      <td>1.30</td>\n",
       "      <td>lepelboring</td>\n",
       "    </tr>\n",
       "    <tr>\n",
       "      <th>1</th>\n",
       "      <td>https://www.dov.vlaanderen.be/data/boring/1974...</td>\n",
       "      <td>GEO-74/254-b1</td>\n",
       "      <td>153147.0</td>\n",
       "      <td>206931.0</td>\n",
       "      <td>14.12</td>\n",
       "      <td>14.12</td>\n",
       "      <td>Antwerpen</td>\n",
       "      <td>0.0</td>\n",
       "      <td>14.05</td>\n",
       "      <td>1974-07-02</td>\n",
       "      <td>Rijksinstituut voor Grondmechanica</td>\n",
       "      <td>False</td>\n",
       "      <td>1.3</td>\n",
       "      <td>13.50</td>\n",
       "      <td>pulsboring</td>\n",
       "    </tr>\n",
       "    <tr>\n",
       "      <th>2</th>\n",
       "      <td>https://www.dov.vlaanderen.be/data/boring/1974...</td>\n",
       "      <td>GEO-74/254-b1</td>\n",
       "      <td>153147.0</td>\n",
       "      <td>206931.0</td>\n",
       "      <td>14.12</td>\n",
       "      <td>14.12</td>\n",
       "      <td>Antwerpen</td>\n",
       "      <td>0.0</td>\n",
       "      <td>14.05</td>\n",
       "      <td>1974-07-02</td>\n",
       "      <td>Rijksinstituut voor Grondmechanica</td>\n",
       "      <td>False</td>\n",
       "      <td>13.5</td>\n",
       "      <td>14.05</td>\n",
       "      <td>lepelboring</td>\n",
       "    </tr>\n",
       "  </tbody>\n",
       "</table>\n",
       "</div>"
      ],
      "text/plain": [
       "                                         pkey_boring     boornummer         x  \\\n",
       "0  https://www.dov.vlaanderen.be/data/boring/1974...  GEO-74/254-b1  153147.0   \n",
       "1  https://www.dov.vlaanderen.be/data/boring/1974...  GEO-74/254-b1  153147.0   \n",
       "2  https://www.dov.vlaanderen.be/data/boring/1974...  GEO-74/254-b1  153147.0   \n",
       "\n",
       "          y  mv_mtaw  start_boring_mtaw   gemeente  diepte_boring_van  \\\n",
       "0  206931.0    14.12              14.12  Antwerpen                0.0   \n",
       "1  206931.0    14.12              14.12  Antwerpen                0.0   \n",
       "2  206931.0    14.12              14.12  Antwerpen                0.0   \n",
       "\n",
       "   diepte_boring_tot datum_aanvang                          uitvoerder  \\\n",
       "0              14.05    1974-07-02  Rijksinstituut voor Grondmechanica   \n",
       "1              14.05    1974-07-02  Rijksinstituut voor Grondmechanica   \n",
       "2              14.05    1974-07-02  Rijksinstituut voor Grondmechanica   \n",
       "\n",
       "   boorgatmeting  diepte_methode_van  diepte_methode_tot  boormethode  \n",
       "0          False                 0.0                1.30  lepelboring  \n",
       "1          False                 1.3               13.50   pulsboring  \n",
       "2          False                13.5               14.05  lepelboring  "
      ]
     },
     "execution_count": 8,
     "metadata": {},
     "output_type": "execute_result"
    }
   ],
   "source": [
    "df = boring.search(location=(153145, 206930, 153150, 206935))\n",
    "df.head()"
   ]
  },
  {
   "cell_type": "markdown",
   "metadata": {},
   "source": [
    "The dataframe contains one borehole where three methods ('boormethode') were applied for its construction. The available data are flattened to represent unique attributes per row of the dataframe.\n",
    "\n",
    "Using the *pkey_boring* field one can request the details of this borehole in a webbrowser:"
   ]
  },
  {
   "cell_type": "code",
   "execution_count": 9,
   "metadata": {},
   "outputs": [
    {
     "name": "stdout",
     "output_type": "stream",
     "text": [
      "https://www.dov.vlaanderen.be/data/boring/1974-010351\n"
     ]
    }
   ],
   "source": [
    "for pkey_boring in set(df.pkey_boring):\n",
    "    print(pkey_boring)"
   ]
  },
  {
   "cell_type": "markdown",
   "metadata": {},
   "source": [
    "### Get boreholes with specific properties"
   ]
  },
  {
   "cell_type": "markdown",
   "metadata": {},
   "source": [
    "Next to querying boreholes based on their geographic location within a bounding box, we can also search for boreholes matching a specific set of properties. For this we can build a query using a combination of the 'Boring' fields and operators provided by the WFS protocol.\n",
    "\n",
    "A list of possible operators can be found below:"
   ]
  },
  {
   "cell_type": "code",
   "execution_count": 14,
   "metadata": {},
   "outputs": [
    {
     "data": {
      "text/plain": [
       "['PropertyIsBetween',\n",
       " 'PropertyIsEqualTo',\n",
       " 'PropertyIsGreaterThan',\n",
       " 'PropertyIsGreaterThanOrEqualTo',\n",
       " 'PropertyIsLessThan',\n",
       " 'PropertyIsLessThanOrEqualTo',\n",
       " 'PropertyIsLike',\n",
       " 'PropertyIsNotEqualTo',\n",
       " 'PropertyIsNull',\n",
       " 'SortProperty']"
      ]
     },
     "execution_count": 14,
     "metadata": {},
     "output_type": "execute_result"
    }
   ],
   "source": [
    "[i for i,j in inspect.getmembers(sys.modules['owslib.fes'], inspect.isclass) if 'Property' in i]"
   ]
  },
  {
   "cell_type": "markdown",
   "metadata": {},
   "source": [
    "In this example we build a query using the *PropertyIsEqualTo* operator to find all boreholes that are within the community (gemeente) of 'Herstappe':"
   ]
  },
  {
   "cell_type": "code",
   "execution_count": 15,
   "metadata": {},
   "outputs": [
    {
     "data": {
      "text/html": [
       "<div>\n",
       "<style scoped>\n",
       "    .dataframe tbody tr th:only-of-type {\n",
       "        vertical-align: middle;\n",
       "    }\n",
       "\n",
       "    .dataframe tbody tr th {\n",
       "        vertical-align: top;\n",
       "    }\n",
       "\n",
       "    .dataframe thead th {\n",
       "        text-align: right;\n",
       "    }\n",
       "</style>\n",
       "<table border=\"1\" class=\"dataframe\">\n",
       "  <thead>\n",
       "    <tr style=\"text-align: right;\">\n",
       "      <th></th>\n",
       "      <th>pkey_boring</th>\n",
       "      <th>boornummer</th>\n",
       "      <th>x</th>\n",
       "      <th>y</th>\n",
       "      <th>mv_mtaw</th>\n",
       "      <th>start_boring_mtaw</th>\n",
       "      <th>gemeente</th>\n",
       "      <th>diepte_boring_van</th>\n",
       "      <th>diepte_boring_tot</th>\n",
       "      <th>datum_aanvang</th>\n",
       "      <th>uitvoerder</th>\n",
       "      <th>boorgatmeting</th>\n",
       "      <th>diepte_methode_van</th>\n",
       "      <th>diepte_methode_tot</th>\n",
       "      <th>boormethode</th>\n",
       "    </tr>\n",
       "  </thead>\n",
       "  <tbody>\n",
       "    <tr>\n",
       "      <th>0</th>\n",
       "      <td>https://www.dov.vlaanderen.be/data/boring/2016...</td>\n",
       "      <td>kb33d106e-B236</td>\n",
       "      <td>224687.4</td>\n",
       "      <td>158191.0</td>\n",
       "      <td>124.0</td>\n",
       "      <td>124.0</td>\n",
       "      <td>Herstappe</td>\n",
       "      <td>0.0</td>\n",
       "      <td>6.0</td>\n",
       "      <td>NaN</td>\n",
       "      <td>Belgische Geologische Dienst (BGD)</td>\n",
       "      <td>False</td>\n",
       "      <td>0.0</td>\n",
       "      <td>6.0</td>\n",
       "      <td>gestoken boring</td>\n",
       "    </tr>\n",
       "    <tr>\n",
       "      <th>1</th>\n",
       "      <td>https://www.dov.vlaanderen.be/data/boring/1993...</td>\n",
       "      <td>kb41d120e-B1027</td>\n",
       "      <td>224820.0</td>\n",
       "      <td>157794.0</td>\n",
       "      <td>132.0</td>\n",
       "      <td>132.0</td>\n",
       "      <td>Herstappe</td>\n",
       "      <td>0.0</td>\n",
       "      <td>50.0</td>\n",
       "      <td>1993-09-02</td>\n",
       "      <td>Peeters-Ramsel</td>\n",
       "      <td>False</td>\n",
       "      <td>0.0</td>\n",
       "      <td>50.0</td>\n",
       "      <td>onbekend</td>\n",
       "    </tr>\n",
       "  </tbody>\n",
       "</table>\n",
       "</div>"
      ],
      "text/plain": [
       "                                         pkey_boring       boornummer  \\\n",
       "0  https://www.dov.vlaanderen.be/data/boring/2016...   kb33d106e-B236   \n",
       "1  https://www.dov.vlaanderen.be/data/boring/1993...  kb41d120e-B1027   \n",
       "\n",
       "          x         y  mv_mtaw  start_boring_mtaw   gemeente  \\\n",
       "0  224687.4  158191.0    124.0              124.0  Herstappe   \n",
       "1  224820.0  157794.0    132.0              132.0  Herstappe   \n",
       "\n",
       "   diepte_boring_van  diepte_boring_tot datum_aanvang  \\\n",
       "0                0.0                6.0           NaN   \n",
       "1                0.0               50.0    1993-09-02   \n",
       "\n",
       "                           uitvoerder  boorgatmeting  diepte_methode_van  \\\n",
       "0  Belgische Geologische Dienst (BGD)          False                 0.0   \n",
       "1                      Peeters-Ramsel          False                 0.0   \n",
       "\n",
       "   diepte_methode_tot      boormethode  \n",
       "0                 6.0  gestoken boring  \n",
       "1                50.0         onbekend  "
      ]
     },
     "execution_count": 15,
     "metadata": {},
     "output_type": "execute_result"
    }
   ],
   "source": [
    "from owslib.fes import PropertyIsEqualTo\n",
    "\n",
    "query = PropertyIsEqualTo(propertyname='gemeente',\n",
    "                          literal='Herstappe')\n",
    "df = boring.search(query=query)\n",
    "\n",
    "df.head()"
   ]
  },
  {
   "cell_type": "markdown",
   "metadata": {},
   "source": [
    "Once again we can use the *pkey_boring* as a permanent link to the information of these boreholes:"
   ]
  },
  {
   "cell_type": "code",
   "execution_count": 16,
   "metadata": {},
   "outputs": [
    {
     "name": "stdout",
     "output_type": "stream",
     "text": [
      "https://www.dov.vlaanderen.be/data/boring/2016-125511\n",
      "https://www.dov.vlaanderen.be/data/boring/1993-096210\n"
     ]
    }
   ],
   "source": [
    "for pkey_boring in set(df.pkey_boring):\n",
    "    print(pkey_boring)"
   ]
  },
  {
   "cell_type": "markdown",
   "metadata": {},
   "source": [
    "### Get boreholes in a bounding box based on specific properties"
   ]
  },
  {
   "cell_type": "markdown",
   "metadata": {},
   "source": [
    "We can combine a query on attributes with a query on geographic location to get the boreholes within a bounding box that have specific properties.\n",
    "\n",
    "The following example requests the boreholes with a depth greater than or equal to 2000 meters within the given bounding box.\n",
    "\n",
    "(Note that the datatype of the *literal* parameter should be a string, regardless of the datatype of this field in the output dataframe.)"
   ]
  },
  {
   "cell_type": "code",
   "execution_count": 17,
   "metadata": {},
   "outputs": [
    {
     "data": {
      "text/html": [
       "<div>\n",
       "<style scoped>\n",
       "    .dataframe tbody tr th:only-of-type {\n",
       "        vertical-align: middle;\n",
       "    }\n",
       "\n",
       "    .dataframe tbody tr th {\n",
       "        vertical-align: top;\n",
       "    }\n",
       "\n",
       "    .dataframe thead th {\n",
       "        text-align: right;\n",
       "    }\n",
       "</style>\n",
       "<table border=\"1\" class=\"dataframe\">\n",
       "  <thead>\n",
       "    <tr style=\"text-align: right;\">\n",
       "      <th></th>\n",
       "      <th>pkey_boring</th>\n",
       "      <th>boornummer</th>\n",
       "      <th>x</th>\n",
       "      <th>y</th>\n",
       "      <th>mv_mtaw</th>\n",
       "      <th>start_boring_mtaw</th>\n",
       "      <th>gemeente</th>\n",
       "      <th>diepte_boring_van</th>\n",
       "      <th>diepte_boring_tot</th>\n",
       "      <th>datum_aanvang</th>\n",
       "      <th>uitvoerder</th>\n",
       "      <th>boorgatmeting</th>\n",
       "      <th>diepte_methode_van</th>\n",
       "      <th>diepte_methode_tot</th>\n",
       "      <th>boormethode</th>\n",
       "    </tr>\n",
       "  </thead>\n",
       "  <tbody>\n",
       "    <tr>\n",
       "      <th>0</th>\n",
       "      <td>https://www.dov.vlaanderen.be/data/boring/2016...</td>\n",
       "      <td>B/1-102785</td>\n",
       "      <td>201790.5</td>\n",
       "      <td>212962.0</td>\n",
       "      <td>25.0</td>\n",
       "      <td>25.0</td>\n",
       "      <td>Mol</td>\n",
       "      <td>0.0</td>\n",
       "      <td>4341.0</td>\n",
       "      <td>2016-03-02</td>\n",
       "      <td>THV Daldrup - Smet</td>\n",
       "      <td>True</td>\n",
       "      <td>0.0</td>\n",
       "      <td>4341.0</td>\n",
       "      <td>spoelboring</td>\n",
       "    </tr>\n",
       "    <tr>\n",
       "      <th>1</th>\n",
       "      <td>https://www.dov.vlaanderen.be/data/boring/2016...</td>\n",
       "      <td>B/1-102786</td>\n",
       "      <td>201783.0</td>\n",
       "      <td>212961.0</td>\n",
       "      <td>25.0</td>\n",
       "      <td>25.0</td>\n",
       "      <td>Mol</td>\n",
       "      <td>0.0</td>\n",
       "      <td>3610.0</td>\n",
       "      <td>2015-09-14</td>\n",
       "      <td>THV Daldrup - Smet</td>\n",
       "      <td>True</td>\n",
       "      <td>0.0</td>\n",
       "      <td>1034.0</td>\n",
       "      <td>spoelboring</td>\n",
       "    </tr>\n",
       "    <tr>\n",
       "      <th>2</th>\n",
       "      <td>https://www.dov.vlaanderen.be/data/boring/2016...</td>\n",
       "      <td>B/1-102786</td>\n",
       "      <td>201783.0</td>\n",
       "      <td>212961.0</td>\n",
       "      <td>25.0</td>\n",
       "      <td>25.0</td>\n",
       "      <td>Mol</td>\n",
       "      <td>0.0</td>\n",
       "      <td>3610.0</td>\n",
       "      <td>2015-09-14</td>\n",
       "      <td>THV Daldrup - Smet</td>\n",
       "      <td>True</td>\n",
       "      <td>1034.0</td>\n",
       "      <td>1042.0</td>\n",
       "      <td>kernboring</td>\n",
       "    </tr>\n",
       "    <tr>\n",
       "      <th>3</th>\n",
       "      <td>https://www.dov.vlaanderen.be/data/boring/2016...</td>\n",
       "      <td>B/1-102786</td>\n",
       "      <td>201783.0</td>\n",
       "      <td>212961.0</td>\n",
       "      <td>25.0</td>\n",
       "      <td>25.0</td>\n",
       "      <td>Mol</td>\n",
       "      <td>0.0</td>\n",
       "      <td>3610.0</td>\n",
       "      <td>2015-09-14</td>\n",
       "      <td>THV Daldrup - Smet</td>\n",
       "      <td>True</td>\n",
       "      <td>1042.0</td>\n",
       "      <td>2926.0</td>\n",
       "      <td>spoelboring</td>\n",
       "    </tr>\n",
       "    <tr>\n",
       "      <th>4</th>\n",
       "      <td>https://www.dov.vlaanderen.be/data/boring/2016...</td>\n",
       "      <td>B/1-102786</td>\n",
       "      <td>201783.0</td>\n",
       "      <td>212961.0</td>\n",
       "      <td>25.0</td>\n",
       "      <td>25.0</td>\n",
       "      <td>Mol</td>\n",
       "      <td>0.0</td>\n",
       "      <td>3610.0</td>\n",
       "      <td>2015-09-14</td>\n",
       "      <td>THV Daldrup - Smet</td>\n",
       "      <td>True</td>\n",
       "      <td>2926.0</td>\n",
       "      <td>2931.0</td>\n",
       "      <td>kernboring</td>\n",
       "    </tr>\n",
       "  </tbody>\n",
       "</table>\n",
       "</div>"
      ],
      "text/plain": [
       "                                         pkey_boring  boornummer         x  \\\n",
       "0  https://www.dov.vlaanderen.be/data/boring/2016...  B/1-102785  201790.5   \n",
       "1  https://www.dov.vlaanderen.be/data/boring/2016...  B/1-102786  201783.0   \n",
       "2  https://www.dov.vlaanderen.be/data/boring/2016...  B/1-102786  201783.0   \n",
       "3  https://www.dov.vlaanderen.be/data/boring/2016...  B/1-102786  201783.0   \n",
       "4  https://www.dov.vlaanderen.be/data/boring/2016...  B/1-102786  201783.0   \n",
       "\n",
       "          y  mv_mtaw  start_boring_mtaw gemeente  diepte_boring_van  \\\n",
       "0  212962.0     25.0               25.0      Mol                0.0   \n",
       "1  212961.0     25.0               25.0      Mol                0.0   \n",
       "2  212961.0     25.0               25.0      Mol                0.0   \n",
       "3  212961.0     25.0               25.0      Mol                0.0   \n",
       "4  212961.0     25.0               25.0      Mol                0.0   \n",
       "\n",
       "   diepte_boring_tot datum_aanvang          uitvoerder  boorgatmeting  \\\n",
       "0             4341.0    2016-03-02  THV Daldrup - Smet           True   \n",
       "1             3610.0    2015-09-14  THV Daldrup - Smet           True   \n",
       "2             3610.0    2015-09-14  THV Daldrup - Smet           True   \n",
       "3             3610.0    2015-09-14  THV Daldrup - Smet           True   \n",
       "4             3610.0    2015-09-14  THV Daldrup - Smet           True   \n",
       "\n",
       "   diepte_methode_van  diepte_methode_tot  boormethode  \n",
       "0                 0.0              4341.0  spoelboring  \n",
       "1                 0.0              1034.0  spoelboring  \n",
       "2              1034.0              1042.0   kernboring  \n",
       "3              1042.0              2926.0  spoelboring  \n",
       "4              2926.0              2931.0   kernboring  "
      ]
     },
     "execution_count": 17,
     "metadata": {},
     "output_type": "execute_result"
    }
   ],
   "source": [
    "from owslib.fes import PropertyIsGreaterThanOrEqualTo\n",
    "\n",
    "query = PropertyIsGreaterThanOrEqualTo(\n",
    "            propertyname='diepte_boring_tot',\n",
    "            literal='2000')\n",
    "\n",
    "df = boring.search(\n",
    "    location=(200000, 211000, 205000, 214000),\n",
    "    query=query\n",
    "    )\n",
    "\n",
    "df.head()"
   ]
  },
  {
   "cell_type": "markdown",
   "metadata": {},
   "source": [
    "We can look at one of the boreholes in a webbrowser using its *pkey_boring*:"
   ]
  },
  {
   "cell_type": "code",
   "execution_count": 18,
   "metadata": {},
   "outputs": [
    {
     "name": "stdout",
     "output_type": "stream",
     "text": [
      "https://www.dov.vlaanderen.be/data/boring/2016-148767\n",
      "https://www.dov.vlaanderen.be/data/boring/2016-148766\n"
     ]
    }
   ],
   "source": [
    "for pkey_boring in set(df.pkey_boring):\n",
    "    print(pkey_boring)"
   ]
  },
  {
   "cell_type": "markdown",
   "metadata": {},
   "source": [
    "### Select boreholes in a municipality and return depth"
   ]
  },
  {
   "cell_type": "markdown",
   "metadata": {},
   "source": [
    "We can limit the columns in the output dataframe by specifying the *return_fields* parameter in our search.\n",
    "\n",
    "In this example we query all the boreholes in the city of Ghent and return their depth:"
   ]
  },
  {
   "cell_type": "code",
   "execution_count": 19,
   "metadata": {},
   "outputs": [
    {
     "data": {
      "text/html": [
       "<div>\n",
       "<style scoped>\n",
       "    .dataframe tbody tr th:only-of-type {\n",
       "        vertical-align: middle;\n",
       "    }\n",
       "\n",
       "    .dataframe tbody tr th {\n",
       "        vertical-align: top;\n",
       "    }\n",
       "\n",
       "    .dataframe thead th {\n",
       "        text-align: right;\n",
       "    }\n",
       "</style>\n",
       "<table border=\"1\" class=\"dataframe\">\n",
       "  <thead>\n",
       "    <tr style=\"text-align: right;\">\n",
       "      <th></th>\n",
       "      <th>diepte_boring_tot</th>\n",
       "    </tr>\n",
       "  </thead>\n",
       "  <tbody>\n",
       "    <tr>\n",
       "      <th>0</th>\n",
       "      <td>42.0</td>\n",
       "    </tr>\n",
       "    <tr>\n",
       "      <th>1</th>\n",
       "      <td>32.0</td>\n",
       "    </tr>\n",
       "    <tr>\n",
       "      <th>2</th>\n",
       "      <td>59.0</td>\n",
       "    </tr>\n",
       "    <tr>\n",
       "      <th>3</th>\n",
       "      <td>11.0</td>\n",
       "    </tr>\n",
       "    <tr>\n",
       "      <th>4</th>\n",
       "      <td>27.0</td>\n",
       "    </tr>\n",
       "  </tbody>\n",
       "</table>\n",
       "</div>"
      ],
      "text/plain": [
       "   diepte_boring_tot\n",
       "0               42.0\n",
       "1               32.0\n",
       "2               59.0\n",
       "3               11.0\n",
       "4               27.0"
      ]
     },
     "execution_count": 19,
     "metadata": {},
     "output_type": "execute_result"
    }
   ],
   "source": [
    "query = PropertyIsEqualTo(propertyname='gemeente',\n",
    "                          literal='Gent')\n",
    "df = boring.search(query=query,\n",
    "                   return_fields=('diepte_boring_tot',))\n",
    "df.head()"
   ]
  },
  {
   "cell_type": "code",
   "execution_count": 20,
   "metadata": {},
   "outputs": [
    {
     "data": {
      "text/html": [
       "<div>\n",
       "<style scoped>\n",
       "    .dataframe tbody tr th:only-of-type {\n",
       "        vertical-align: middle;\n",
       "    }\n",
       "\n",
       "    .dataframe tbody tr th {\n",
       "        vertical-align: top;\n",
       "    }\n",
       "\n",
       "    .dataframe thead th {\n",
       "        text-align: right;\n",
       "    }\n",
       "</style>\n",
       "<table border=\"1\" class=\"dataframe\">\n",
       "  <thead>\n",
       "    <tr style=\"text-align: right;\">\n",
       "      <th></th>\n",
       "      <th>diepte_boring_tot</th>\n",
       "    </tr>\n",
       "  </thead>\n",
       "  <tbody>\n",
       "    <tr>\n",
       "      <th>count</th>\n",
       "      <td>2663.000000</td>\n",
       "    </tr>\n",
       "    <tr>\n",
       "      <th>mean</th>\n",
       "      <td>15.459805</td>\n",
       "    </tr>\n",
       "    <tr>\n",
       "      <th>std</th>\n",
       "      <td>32.229134</td>\n",
       "    </tr>\n",
       "    <tr>\n",
       "      <th>min</th>\n",
       "      <td>0.000000</td>\n",
       "    </tr>\n",
       "    <tr>\n",
       "      <th>25%</th>\n",
       "      <td>0.000000</td>\n",
       "    </tr>\n",
       "    <tr>\n",
       "      <th>50%</th>\n",
       "      <td>6.000000</td>\n",
       "    </tr>\n",
       "    <tr>\n",
       "      <th>75%</th>\n",
       "      <td>20.000000</td>\n",
       "    </tr>\n",
       "    <tr>\n",
       "      <th>max</th>\n",
       "      <td>660.000000</td>\n",
       "    </tr>\n",
       "  </tbody>\n",
       "</table>\n",
       "</div>"
      ],
      "text/plain": [
       "       diepte_boring_tot\n",
       "count        2663.000000\n",
       "mean           15.459805\n",
       "std            32.229134\n",
       "min             0.000000\n",
       "25%             0.000000\n",
       "50%             6.000000\n",
       "75%            20.000000\n",
       "max           660.000000"
      ]
     },
     "execution_count": 20,
     "metadata": {},
     "output_type": "execute_result"
    }
   ],
   "source": [
    "df.describe()"
   ]
  },
  {
   "cell_type": "markdown",
   "metadata": {},
   "source": [
    "By discarding the boreholes with a depth of 0 m, we get a different result:"
   ]
  },
  {
   "cell_type": "code",
   "execution_count": 21,
   "metadata": {},
   "outputs": [
    {
     "data": {
      "text/html": [
       "<div>\n",
       "<style scoped>\n",
       "    .dataframe tbody tr th:only-of-type {\n",
       "        vertical-align: middle;\n",
       "    }\n",
       "\n",
       "    .dataframe tbody tr th {\n",
       "        vertical-align: top;\n",
       "    }\n",
       "\n",
       "    .dataframe thead th {\n",
       "        text-align: right;\n",
       "    }\n",
       "</style>\n",
       "<table border=\"1\" class=\"dataframe\">\n",
       "  <thead>\n",
       "    <tr style=\"text-align: right;\">\n",
       "      <th></th>\n",
       "      <th>diepte_boring_tot</th>\n",
       "    </tr>\n",
       "  </thead>\n",
       "  <tbody>\n",
       "    <tr>\n",
       "      <th>count</th>\n",
       "      <td>1987.000000</td>\n",
       "    </tr>\n",
       "    <tr>\n",
       "      <th>mean</th>\n",
       "      <td>20.719406</td>\n",
       "    </tr>\n",
       "    <tr>\n",
       "      <th>std</th>\n",
       "      <td>35.822447</td>\n",
       "    </tr>\n",
       "    <tr>\n",
       "      <th>min</th>\n",
       "      <td>0.100000</td>\n",
       "    </tr>\n",
       "    <tr>\n",
       "      <th>25%</th>\n",
       "      <td>5.000000</td>\n",
       "    </tr>\n",
       "    <tr>\n",
       "      <th>50%</th>\n",
       "      <td>12.000000</td>\n",
       "    </tr>\n",
       "    <tr>\n",
       "      <th>75%</th>\n",
       "      <td>22.000000</td>\n",
       "    </tr>\n",
       "    <tr>\n",
       "      <th>max</th>\n",
       "      <td>660.000000</td>\n",
       "    </tr>\n",
       "  </tbody>\n",
       "</table>\n",
       "</div>"
      ],
      "text/plain": [
       "       diepte_boring_tot\n",
       "count        1987.000000\n",
       "mean           20.719406\n",
       "std            35.822447\n",
       "min             0.100000\n",
       "25%             5.000000\n",
       "50%            12.000000\n",
       "75%            22.000000\n",
       "max           660.000000"
      ]
     },
     "execution_count": 21,
     "metadata": {},
     "output_type": "execute_result"
    }
   ],
   "source": [
    "df[df.diepte_boring_tot != 0].describe()"
   ]
  },
  {
   "cell_type": "code",
   "execution_count": 22,
   "metadata": {},
   "outputs": [
    {
     "data": {
      "text/plain": [
       "<matplotlib.axes._subplots.AxesSubplot at 0x7f8eabec0748>"
      ]
     },
     "execution_count": 22,
     "metadata": {},
     "output_type": "execute_result"
    },
    {
     "data": {
      "image/png": "[encoded data removed]",
      "text/plain": [
       "<Figure size 432x288 with 1 Axes>"
      ]
     },
     "metadata": {},
     "output_type": "display_data"
    }
   ],
   "source": [
    "df[df.diepte_boring_tot != 0].boxplot()"
   ]
  },
  {
   "cell_type": "markdown",
   "metadata": {},
   "source": [
    "### Get boreholes based on fields not available in the standard output dataframe"
   ]
  },
  {
   "cell_type": "markdown",
   "metadata": {},
   "source": [
    "To keep the output dataframe size acceptable, not all availabe WFS fields are included in the standard output. However, one can use this information to select boreholes as illustrated below.\n",
    "\n",
    "For example, make a selection of the boreholes in municipality the of Antwerp, for which a hydrogeological interpretation was performed:"
   ]
  },
  {
   "cell_type": "code",
   "execution_count": 23,
   "metadata": {},
   "outputs": [
    {
     "data": {
      "text/html": [
       "<div>\n",
       "<style scoped>\n",
       "    .dataframe tbody tr th:only-of-type {\n",
       "        vertical-align: middle;\n",
       "    }\n",
       "\n",
       "    .dataframe tbody tr th {\n",
       "        vertical-align: top;\n",
       "    }\n",
       "\n",
       "    .dataframe thead th {\n",
       "        text-align: right;\n",
       "    }\n",
       "</style>\n",
       "<table border=\"1\" class=\"dataframe\">\n",
       "  <thead>\n",
       "    <tr style=\"text-align: right;\">\n",
       "      <th></th>\n",
       "      <th>pkey_boring</th>\n",
       "      <th>boornummer</th>\n",
       "      <th>x</th>\n",
       "      <th>y</th>\n",
       "      <th>diepte_boring_tot</th>\n",
       "      <th>datum_aanvang</th>\n",
       "    </tr>\n",
       "  </thead>\n",
       "  <tbody>\n",
       "    <tr>\n",
       "      <th>0</th>\n",
       "      <td>https://www.dov.vlaanderen.be/data/boring/1937...</td>\n",
       "      <td>kb7d14e-B82</td>\n",
       "      <td>145457.0</td>\n",
       "      <td>224973.5</td>\n",
       "      <td>10.0</td>\n",
       "      <td>1937-01-02</td>\n",
       "    </tr>\n",
       "    <tr>\n",
       "      <th>1</th>\n",
       "      <td>https://www.dov.vlaanderen.be/data/boring/1969...</td>\n",
       "      <td>kb7d14e-B110</td>\n",
       "      <td>143700.4</td>\n",
       "      <td>228086.3</td>\n",
       "      <td>12.0</td>\n",
       "      <td>1969-01-01</td>\n",
       "    </tr>\n",
       "    <tr>\n",
       "      <th>2</th>\n",
       "      <td>https://www.dov.vlaanderen.be/data/boring/1966...</td>\n",
       "      <td>kb7d14e-B115</td>\n",
       "      <td>143067.0</td>\n",
       "      <td>227707.6</td>\n",
       "      <td>66.0</td>\n",
       "      <td>1966-01-01</td>\n",
       "    </tr>\n",
       "    <tr>\n",
       "      <th>3</th>\n",
       "      <td>https://www.dov.vlaanderen.be/data/boring/1966...</td>\n",
       "      <td>kb7d14e-B117</td>\n",
       "      <td>144770.5</td>\n",
       "      <td>223430.6</td>\n",
       "      <td>49.0</td>\n",
       "      <td>1966-01-01</td>\n",
       "    </tr>\n",
       "    <tr>\n",
       "      <th>4</th>\n",
       "      <td>https://www.dov.vlaanderen.be/data/boring/1970...</td>\n",
       "      <td>kb7d14e-B121</td>\n",
       "      <td>143597.8</td>\n",
       "      <td>223498.6</td>\n",
       "      <td>11.9</td>\n",
       "      <td>1970-01-01</td>\n",
       "    </tr>\n",
       "  </tbody>\n",
       "</table>\n",
       "</div>"
      ],
      "text/plain": [
       "                                         pkey_boring    boornummer         x  \\\n",
       "0  https://www.dov.vlaanderen.be/data/boring/1937...   kb7d14e-B82  145457.0   \n",
       "1  https://www.dov.vlaanderen.be/data/boring/1969...  kb7d14e-B110  143700.4   \n",
       "2  https://www.dov.vlaanderen.be/data/boring/1966...  kb7d14e-B115  143067.0   \n",
       "3  https://www.dov.vlaanderen.be/data/boring/1966...  kb7d14e-B117  144770.5   \n",
       "4  https://www.dov.vlaanderen.be/data/boring/1970...  kb7d14e-B121  143597.8   \n",
       "\n",
       "          y  diepte_boring_tot datum_aanvang  \n",
       "0  224973.5               10.0    1937-01-02  \n",
       "1  228086.3               12.0    1969-01-01  \n",
       "2  227707.6               66.0    1966-01-01  \n",
       "3  223430.6               49.0    1966-01-01  \n",
       "4  223498.6               11.9    1970-01-01  "
      ]
     },
     "execution_count": 23,
     "metadata": {},
     "output_type": "execute_result"
    }
   ],
   "source": [
    "from owslib.fes import And\n",
    "\n",
    "query = And([PropertyIsEqualTo(propertyname='gemeente',\n",
    "                               literal='Antwerpen'),\n",
    "             PropertyIsEqualTo(propertyname='hydrogeologische_stratigrafie', \n",
    "                               literal='True')]\n",
    "            )\n",
    "df = boring.search(query=query,\n",
    "                   return_fields=('pkey_boring', 'boornummer', 'x', 'y', 'diepte_boring_tot', 'datum_aanvang'))\n",
    "df.head()"
   ]
  },
  {
   "cell_type": "markdown",
   "metadata": {},
   "source": [
    "### Get borehole data, returning fields not available in the standard output dataframe"
   ]
  },
  {
   "cell_type": "markdown",
   "metadata": {},
   "source": [
    "As denoted in the previous example, not all available fields are available in the default output frame to keep its size limited. However, you can request any available field by including it in the *return_fields* parameter of the search:"
   ]
  },
  {
   "cell_type": "code",
   "execution_count": 24,
   "metadata": {},
   "outputs": [
    {
     "data": {
      "text/html": [
       "<div>\n",
       "<style scoped>\n",
       "    .dataframe tbody tr th:only-of-type {\n",
       "        vertical-align: middle;\n",
       "    }\n",
       "\n",
       "    .dataframe tbody tr th {\n",
       "        vertical-align: top;\n",
       "    }\n",
       "\n",
       "    .dataframe thead th {\n",
       "        text-align: right;\n",
       "    }\n",
       "</style>\n",
       "<table border=\"1\" class=\"dataframe\">\n",
       "  <thead>\n",
       "    <tr style=\"text-align: right;\">\n",
       "      <th></th>\n",
       "      <th>pkey_boring</th>\n",
       "      <th>boornummer</th>\n",
       "      <th>diepte_boring_tot</th>\n",
       "      <th>gecodeerde_lithologie</th>\n",
       "      <th>informele_stratigrafie</th>\n",
       "      <th>hydrogeologische_stratigrafie</th>\n",
       "      <th>informele_hydrostratigrafie</th>\n",
       "      <th>geotechnische_codering</th>\n",
       "      <th>formele_stratigrafie</th>\n",
       "      <th>lithologische_beschrijving</th>\n",
       "      <th>quartaire_stratigrafie</th>\n",
       "    </tr>\n",
       "  </thead>\n",
       "  <tbody>\n",
       "    <tr>\n",
       "      <th>0</th>\n",
       "      <td>https://www.dov.vlaanderen.be/data/boring/1981...</td>\n",
       "      <td>kb8d7e-B224</td>\n",
       "      <td>2513.0</td>\n",
       "      <td>False</td>\n",
       "      <td>True</td>\n",
       "      <td>False</td>\n",
       "      <td>False</td>\n",
       "      <td>False</td>\n",
       "      <td>True</td>\n",
       "      <td>False</td>\n",
       "      <td>False</td>\n",
       "    </tr>\n",
       "    <tr>\n",
       "      <th>1</th>\n",
       "      <td>https://www.dov.vlaanderen.be/data/boring/1952...</td>\n",
       "      <td>kb8d17e-B272</td>\n",
       "      <td>2705.0</td>\n",
       "      <td>True</td>\n",
       "      <td>True</td>\n",
       "      <td>True</td>\n",
       "      <td>False</td>\n",
       "      <td>False</td>\n",
       "      <td>True</td>\n",
       "      <td>True</td>\n",
       "      <td>False</td>\n",
       "    </tr>\n",
       "    <tr>\n",
       "      <th>2</th>\n",
       "      <td>https://www.dov.vlaanderen.be/data/boring/1935...</td>\n",
       "      <td>kb17d31e-B197</td>\n",
       "      <td>2034.0</td>\n",
       "      <td>True</td>\n",
       "      <td>True</td>\n",
       "      <td>True</td>\n",
       "      <td>False</td>\n",
       "      <td>False</td>\n",
       "      <td>True</td>\n",
       "      <td>False</td>\n",
       "      <td>False</td>\n",
       "    </tr>\n",
       "    <tr>\n",
       "      <th>3</th>\n",
       "      <td>https://www.dov.vlaanderen.be/data/boring/2016...</td>\n",
       "      <td>B/1-102785</td>\n",
       "      <td>4341.0</td>\n",
       "      <td>False</td>\n",
       "      <td>False</td>\n",
       "      <td>False</td>\n",
       "      <td>False</td>\n",
       "      <td>False</td>\n",
       "      <td>True</td>\n",
       "      <td>True</td>\n",
       "      <td>False</td>\n",
       "    </tr>\n",
       "    <tr>\n",
       "      <th>4</th>\n",
       "      <td>https://www.dov.vlaanderen.be/data/boring/2016...</td>\n",
       "      <td>B/1-102786</td>\n",
       "      <td>3610.0</td>\n",
       "      <td>False</td>\n",
       "      <td>False</td>\n",
       "      <td>False</td>\n",
       "      <td>False</td>\n",
       "      <td>False</td>\n",
       "      <td>True</td>\n",
       "      <td>True</td>\n",
       "      <td>False</td>\n",
       "    </tr>\n",
       "  </tbody>\n",
       "</table>\n",
       "</div>"
      ],
      "text/plain": [
       "                                         pkey_boring     boornummer  \\\n",
       "0  https://www.dov.vlaanderen.be/data/boring/1981...    kb8d7e-B224   \n",
       "1  https://www.dov.vlaanderen.be/data/boring/1952...   kb8d17e-B272   \n",
       "2  https://www.dov.vlaanderen.be/data/boring/1935...  kb17d31e-B197   \n",
       "3  https://www.dov.vlaanderen.be/data/boring/2016...     B/1-102785   \n",
       "4  https://www.dov.vlaanderen.be/data/boring/2016...     B/1-102786   \n",
       "\n",
       "   diepte_boring_tot  gecodeerde_lithologie  informele_stratigrafie  \\\n",
       "0             2513.0                  False                    True   \n",
       "1             2705.0                   True                    True   \n",
       "2             2034.0                   True                    True   \n",
       "3             4341.0                  False                   False   \n",
       "4             3610.0                  False                   False   \n",
       "\n",
       "   hydrogeologische_stratigrafie  informele_hydrostratigrafie  \\\n",
       "0                          False                        False   \n",
       "1                           True                        False   \n",
       "2                           True                        False   \n",
       "3                          False                        False   \n",
       "4                          False                        False   \n",
       "\n",
       "   geotechnische_codering  formele_stratigrafie  lithologische_beschrijving  \\\n",
       "0                   False                  True                       False   \n",
       "1                   False                  True                        True   \n",
       "2                   False                  True                       False   \n",
       "3                   False                  True                        True   \n",
       "4                   False                  True                        True   \n",
       "\n",
       "   quartaire_stratigrafie  \n",
       "0                   False  \n",
       "1                   False  \n",
       "2                   False  \n",
       "3                   False  \n",
       "4                   False  "
      ]
     },
     "execution_count": 24,
     "metadata": {},
     "output_type": "execute_result"
    }
   ],
   "source": [
    "query = PropertyIsGreaterThanOrEqualTo(\n",
    "            propertyname='diepte_boring_tot',\n",
    "            literal='2000')\n",
    "\n",
    "df = boring.search(query=query,\n",
    "                   return_fields=('pkey_boring', 'boornummer', 'diepte_boring_tot',\n",
    "                                  'informele_stratigrafie', 'formele_stratigrafie', 'lithologische_beschrijving',\n",
    "                                  'gecodeerde_lithologie', 'hydrogeologische_stratigrafie', 'quartaire_stratigrafie',\n",
    "                                  'geotechnische_codering', 'informele_hydrostratigrafie'))\n",
    "\n",
    "df.head()"
   ]
  },
  {
   "cell_type": "markdown",
   "metadata": {},
   "source": [
    "### Get boreholes in a municipality and where groundwater related data are available"
   ]
  },
  {
   "cell_type": "markdown",
   "metadata": {},
   "source": [
    "The following full example return all boreholes where *gemeente* is 'Antwerpen' and either *putnummer* is not empty or *doel* starts with 'Grondwater' or *erkenning* is '2. Andere grondwaterwinningen'."
   ]
  },
  {
   "cell_type": "code",
   "execution_count": 25,
   "metadata": {},
   "outputs": [
    {
     "data": {
      "text/html": [
       "<div>\n",
       "<style scoped>\n",
       "    .dataframe tbody tr th:only-of-type {\n",
       "        vertical-align: middle;\n",
       "    }\n",
       "\n",
       "    .dataframe tbody tr th {\n",
       "        vertical-align: top;\n",
       "    }\n",
       "\n",
       "    .dataframe thead th {\n",
       "        text-align: right;\n",
       "    }\n",
       "</style>\n",
       "<table border=\"1\" class=\"dataframe\">\n",
       "  <thead>\n",
       "    <tr style=\"text-align: right;\">\n",
       "      <th></th>\n",
       "      <th>pkey_boring</th>\n",
       "      <th>boornummer</th>\n",
       "      <th>x</th>\n",
       "      <th>y</th>\n",
       "      <th>mv_mtaw</th>\n",
       "      <th>start_boring_mtaw</th>\n",
       "      <th>gemeente</th>\n",
       "      <th>diepte_boring_van</th>\n",
       "      <th>diepte_boring_tot</th>\n",
       "      <th>datum_aanvang</th>\n",
       "      <th>uitvoerder</th>\n",
       "      <th>boorgatmeting</th>\n",
       "      <th>diepte_methode_van</th>\n",
       "      <th>diepte_methode_tot</th>\n",
       "      <th>boormethode</th>\n",
       "    </tr>\n",
       "  </thead>\n",
       "  <tbody>\n",
       "    <tr>\n",
       "      <th>0</th>\n",
       "      <td>https://www.dov.vlaanderen.be/data/boring/1997...</td>\n",
       "      <td>kb15d28e-B741</td>\n",
       "      <td>154825.0</td>\n",
       "      <td>212445.0</td>\n",
       "      <td>5.00</td>\n",
       "      <td>5.00</td>\n",
       "      <td>Antwerpen</td>\n",
       "      <td>0.0</td>\n",
       "      <td>36.5</td>\n",
       "      <td>1996-12-31</td>\n",
       "      <td>Meysen Dammekens (Dammekens)-Hoboken</td>\n",
       "      <td>False</td>\n",
       "      <td>0.0</td>\n",
       "      <td>36.5</td>\n",
       "      <td>onbekend</td>\n",
       "    </tr>\n",
       "    <tr>\n",
       "      <th>1</th>\n",
       "      <td>https://www.dov.vlaanderen.be/data/boring/1996...</td>\n",
       "      <td>kb15d43w-B393</td>\n",
       "      <td>151150.0</td>\n",
       "      <td>206550.0</td>\n",
       "      <td>18.09</td>\n",
       "      <td>18.09</td>\n",
       "      <td>Antwerpen</td>\n",
       "      <td>0.0</td>\n",
       "      <td>104.0</td>\n",
       "      <td>1996-06-26</td>\n",
       "      <td>Meysen Dammekens (Dammekens)-Hoboken</td>\n",
       "      <td>False</td>\n",
       "      <td>0.0</td>\n",
       "      <td>104.0</td>\n",
       "      <td>spoelboring</td>\n",
       "    </tr>\n",
       "    <tr>\n",
       "      <th>2</th>\n",
       "      <td>https://www.dov.vlaanderen.be/data/boring/2017...</td>\n",
       "      <td>B/1-103105</td>\n",
       "      <td>153020.0</td>\n",
       "      <td>220412.0</td>\n",
       "      <td>-1.00</td>\n",
       "      <td>-1.00</td>\n",
       "      <td>Antwerpen</td>\n",
       "      <td>0.0</td>\n",
       "      <td>0.0</td>\n",
       "      <td>NaN</td>\n",
       "      <td>NaN</td>\n",
       "      <td>False</td>\n",
       "      <td>0.0</td>\n",
       "      <td>0.0</td>\n",
       "      <td>onbekend</td>\n",
       "    </tr>\n",
       "    <tr>\n",
       "      <th>3</th>\n",
       "      <td>https://www.dov.vlaanderen.be/data/boring/2017...</td>\n",
       "      <td>B/1-103483</td>\n",
       "      <td>153054.0</td>\n",
       "      <td>210697.0</td>\n",
       "      <td>-1.00</td>\n",
       "      <td>-1.00</td>\n",
       "      <td>Antwerpen</td>\n",
       "      <td>0.0</td>\n",
       "      <td>0.0</td>\n",
       "      <td>NaN</td>\n",
       "      <td>NaN</td>\n",
       "      <td>False</td>\n",
       "      <td>0.0</td>\n",
       "      <td>0.0</td>\n",
       "      <td>onbekend</td>\n",
       "    </tr>\n",
       "    <tr>\n",
       "      <th>4</th>\n",
       "      <td>https://www.dov.vlaanderen.be/data/boring/2016...</td>\n",
       "      <td>B/1-102776</td>\n",
       "      <td>153099.0</td>\n",
       "      <td>213577.0</td>\n",
       "      <td>-1.00</td>\n",
       "      <td>-1.00</td>\n",
       "      <td>Antwerpen</td>\n",
       "      <td>0.0</td>\n",
       "      <td>0.0</td>\n",
       "      <td>NaN</td>\n",
       "      <td>NaN</td>\n",
       "      <td>False</td>\n",
       "      <td>0.0</td>\n",
       "      <td>0.0</td>\n",
       "      <td>onbekend</td>\n",
       "    </tr>\n",
       "  </tbody>\n",
       "</table>\n",
       "</div>"
      ],
      "text/plain": [
       "                                         pkey_boring     boornummer         x  \\\n",
       "0  https://www.dov.vlaanderen.be/data/boring/1997...  kb15d28e-B741  154825.0   \n",
       "1  https://www.dov.vlaanderen.be/data/boring/1996...  kb15d43w-B393  151150.0   \n",
       "2  https://www.dov.vlaanderen.be/data/boring/2017...     B/1-103105  153020.0   \n",
       "3  https://www.dov.vlaanderen.be/data/boring/2017...     B/1-103483  153054.0   \n",
       "4  https://www.dov.vlaanderen.be/data/boring/2016...     B/1-102776  153099.0   \n",
       "\n",
       "          y  mv_mtaw  start_boring_mtaw   gemeente  diepte_boring_van  \\\n",
       "0  212445.0     5.00               5.00  Antwerpen                0.0   \n",
       "1  206550.0    18.09              18.09  Antwerpen                0.0   \n",
       "2  220412.0    -1.00              -1.00  Antwerpen                0.0   \n",
       "3  210697.0    -1.00              -1.00  Antwerpen                0.0   \n",
       "4  213577.0    -1.00              -1.00  Antwerpen                0.0   \n",
       "\n",
       "   diepte_boring_tot datum_aanvang                            uitvoerder  \\\n",
       "0               36.5    1996-12-31  Meysen Dammekens (Dammekens)-Hoboken   \n",
       "1              104.0    1996-06-26  Meysen Dammekens (Dammekens)-Hoboken   \n",
       "2                0.0           NaN                                   NaN   \n",
       "3                0.0           NaN                                   NaN   \n",
       "4                0.0           NaN                                   NaN   \n",
       "\n",
       "   boorgatmeting  diepte_methode_van  diepte_methode_tot  boormethode  \n",
       "0          False                 0.0                36.5     onbekend  \n",
       "1          False                 0.0               104.0  spoelboring  \n",
       "2          False                 0.0                 0.0     onbekend  \n",
       "3          False                 0.0                 0.0     onbekend  \n",
       "4          False                 0.0                 0.0     onbekend  "
      ]
     },
     "execution_count": 25,
     "metadata": {},
     "output_type": "execute_result"
    }
   ],
   "source": [
    "from owslib.fes import PropertyIsLike\n",
    "from owslib.fes import PropertyIsNull\n",
    "from owslib.fes import Or\n",
    "from owslib.fes import Not\n",
    "\n",
    "query = And([PropertyIsEqualTo(propertyname='gemeente',\n",
    "                               literal='Antwerpen'),\n",
    "             Or([Not([PropertyIsNull(propertyname='putnummer')]),\n",
    "                PropertyIsLike(propertyname='doel',\n",
    "                               literal='Grondwater%'),\n",
    "                PropertyIsEqualTo(propertyname='erkenning', \n",
    "                                  literal='2. Andere grondwaterwinningen')]\n",
    "               )]\n",
    "           )\n",
    "df = boring.search(query=query)\n",
    "df.head()"
   ]
  },
  {
   "cell_type": "markdown",
   "metadata": {},
   "source": [
    "## Visualize results"
   ]
  },
  {
   "cell_type": "markdown",
   "metadata": {},
   "source": [
    "Using Folium, we can display the results of our search on a map."
   ]
  },
  {
   "cell_type": "code",
   "execution_count": 29,
   "metadata": {
    "collapsed": true
   },
   "outputs": [],
   "source": [
    "# import the necessary modules (not included in the requirements of pydov!)\n",
    "import folium\n",
    "from folium.plugins import MarkerCluster\n",
    "from pyproj import Proj, transform"
   ]
  },
  {
   "cell_type": "code",
   "execution_count": 30,
   "metadata": {
    "collapsed": true
   },
   "outputs": [],
   "source": [
    "# convert the coordinates to lat/lon for folium\n",
    "def convert_latlon(x1, y1):\n",
    "    inProj = Proj(init='epsg:31370')\n",
    "    outProj = Proj(init='epsg:4326')\n",
    "    x2,y2 = transform(inProj, outProj, x1, y1)\n",
    "    return x2, y2\n",
    "df['lon'], df['lat'] = zip(*map(convert_latlon, df['x'], df['y'])) \n",
    "# convert to list\n",
    "loclist = df[['lat', 'lon']].values.tolist()"
   ]
  },
  {
   "cell_type": "code",
   "execution_count": 31,
   "metadata": {},
   "outputs": [
    {
     "data": {
      "text/html": [
       "<div style=\"width:100%;\"><div style=\"position:relative;width:100%;height:0;padding-bottom:60%;\"><iframe src=\"data:text/html;charset=utf-8;base64,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\" style=\"position:absolute;width:100%;height:100%;left:0;top:0;border:none !important;\" allowfullscreen webkitallowfullscreen mozallowfullscreen></iframe></div></div>"
      ],
      "text/plain": [
       "<folium.folium.Map at 0x7f8eab6500f0>"
      ]
     },
     "execution_count": 31,
     "metadata": {},
     "output_type": "execute_result"
    }
   ],
   "source": [
    "# initialize the Folium map on the centre of the selected locations, play with the zoom until ok\n",
    "fmap = folium.Map(location=[df['lat'].mean(), df['lon'].mean()], zoom_start=12)\n",
    "marker_cluster = MarkerCluster().add_to(fmap)\n",
    "for loc in range(0, len(loclist)):\n",
    "    folium.Marker(loclist[loc], popup=df['boornummer'][loc]).add_to(marker_cluster)\n",
    "fmap\n"
   ]
  }
 ],
 "metadata": {
  "kernelspec": {
   "display_name": "Python [default]",
   "language": "python",
   "name": "python3"
  },
  "language_info": {
   "codemirror_mode": {
    "name": "ipython",
    "version": 3
   },
   "file_extension": ".py",
   "mimetype": "text/x-python",
   "name": "python",
   "nbconvert_exporter": "python",
   "pygments_lexer": "ipython3",
   "version": "3.5.5"
  }
 },
 "nbformat": 4,
 "nbformat_minor": 2
}
