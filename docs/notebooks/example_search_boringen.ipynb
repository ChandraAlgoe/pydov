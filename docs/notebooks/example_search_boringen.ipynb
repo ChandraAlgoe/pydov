{
 "cells": [
  {
   "cell_type": "markdown",
   "metadata": {},
   "source": [
    "# Example of DOV search methods for boringen\n",
    "\n",
    "@pjhaest\n",
    "date 20180503"
   ]
  },
  {
   "cell_type": "markdown",
   "metadata": {},
   "source": [
    "## Use cases:\n",
    "* Select boreholes in a bbox\n",
    "* Select boreholes in a bbox with selected properties\n",
    "* Select boreholes in a municipality\n",
    "* Select boreholes in a municipality and return depth\n",
    "* Get boreholes for a municipality where groundwater related data are available\n",
    "\n"
   ]
  },
  {
   "cell_type": "code",
   "execution_count": 57,
   "metadata": {},
   "outputs": [],
   "source": [
    "%matplotlib inline\n",
    "import os, sys\n",
    "import inspect"
   ]
  },
  {
   "cell_type": "code",
   "execution_count": 58,
   "metadata": {},
   "outputs": [
    {
     "name": "stdout",
     "output_type": "stream",
     "text": [
      "['c:\\\\_workingdir\\\\pydov\\\\pydov']\n"
     ]
    }
   ],
   "source": [
    "# check pydov path\n",
    "import pydov\n",
    "print(pydov.__path__)"
   ]
  },
  {
   "cell_type": "markdown",
   "metadata": {},
   "source": [
    "## Get information about code base"
   ]
  },
  {
   "cell_type": "code",
   "execution_count": 59,
   "metadata": {},
   "outputs": [
    {
     "name": "stdout",
     "output_type": "stream",
     "text": [
      "In de DOV-databank is elke waarneming van grondlagen een boring. Bij de meeste boringen wordt er met een boortoestel een gat gemaakt in de ondergrond om de verschillende grondlagen te kunnen beschrijven. Aan de hand van een boring krijg je een beeld van het materiaal in de ondergrond met toenemende diepte. Afhankelijk van het doel waarvoor de boring geplaatst wordt, zal men een geschikte boormethode toepassen. Boringen worden geplaatst voor verkennend bodemonderzoek, monstername van het sediment en/of grondwater, bepaling van bodemfysische parameters, milieuhygienisch onderzoek,... Afhankelijk van de diepte, soort materiaal, en het al dan niet boren tot onder de grondwatertafel kan men kiezen uit verscheidene systemen voor handmatig of machinaal te boren. Het bodemmateriaal dat vrijkomt, kan gebruikt worden om een profiel van de ondergrond op te stellen of om er grondmonsters van te nemen om verdere analyses op uit te voeren. Vaak is het de bedoeling een put uit te bouwen zodat water kan gewonnen worden (zie ook grondwatermeetnet en grondwatervergunningen). Soms worden boringen uitgevoerd om een aantal geotechnische karakteristieken te bepalen of om wetenschappelijk onderzoek uit te voeren. Oppervlakkige waarnemingen van de ondergrond noemen we ook boringen. Vooral rond 1900 beschreven een aantal geologen vaak de oppervlakkige lagen. In de databank staan er dan ook verschillende boringen met een diepte van 0 meter. Het gaat vooral om weginsnijdingen of om zichtbare lithologische kenmerken langs de oppervlakte.\n"
     ]
    }
   ],
   "source": [
    "from pydov.search.boring import BoringSearch\n",
    "boring = BoringSearch()\n",
    "\n",
    "# information about the Boring type (In Dutch):\n",
    "print(boring.get_description())"
   ]
  },
  {
   "cell_type": "code",
   "execution_count": 60,
   "metadata": {},
   "outputs": [
    {
     "name": "stdout",
     "output_type": "stream",
     "text": [
      "generated_id\n",
      "id\n",
      "boornummer\n",
      "pkey_boring\n",
      "rapport\n",
      "diepte_boring_tot\n",
      "datum_aanvang\n",
      "namen\n",
      "putnummer\n",
      "x\n",
      "y\n",
      "start_boring_mtaw\n",
      "gemeente\n",
      "uitvoerder\n",
      "doel\n",
      "methode\n",
      "erkenning\n",
      "opdrachtgever\n",
      "informele_stratigrafie\n",
      "formele_stratigrafie\n",
      "lithologische_beschrijving\n",
      "gecodeerde_lithologie\n",
      "hydrogeologische_stratigrafie\n",
      "quartaire_stratigrafie\n",
      "geotechnische_codering\n",
      "informele_hydrostratigrafie\n",
      "doorheen_quartair\n",
      "dikte_quartair\n",
      "tertiair_onder_quartair\n",
      "opdrachten\n",
      "mv_mtaw\n",
      "diepte_boring_van\n",
      "boorgatmeting\n",
      "diepte_methode_van\n",
      "diepte_methode_tot\n",
      "boormethode\n"
     ]
    }
   ],
   "source": [
    "# information about the available fields for a Boring object\n",
    "fields = boring.get_fields()\n",
    "# print available fields\n",
    "for f in fields.values():\n",
    "    print(f['name'])"
   ]
  },
  {
   "cell_type": "code",
   "execution_count": 61,
   "metadata": {},
   "outputs": [
    {
     "data": {
      "text/plain": [
       "{'cost': 1,\n",
       " 'definition': 'Maximumdiepte van de boring ten opzichte van het aanvangspeil, in meter.',\n",
       " 'name': 'diepte_boring_tot',\n",
       " 'notnull': False,\n",
       " 'type': 'float'}"
      ]
     },
     "execution_count": 61,
     "metadata": {},
     "output_type": "execute_result"
    }
   ],
   "source": [
    "# print information for a certain field\n",
    "fields['diepte_boring_tot']"
   ]
  },
  {
   "cell_type": "markdown",
   "metadata": {},
   "source": [
    "The cost is an arbitrary attribute to indicate if the information is retrieved from a wfs query (cost = 1), \n",
    "or from an xml (cost = 10)"
   ]
  },
  {
   "cell_type": "code",
   "execution_count": 62,
   "metadata": {},
   "outputs": [
    {
     "data": {
      "text/plain": [
       "{'cost': 1,\n",
       " 'definition': \"De methode waarmee de boring uitgevoerd werd. Heeft als waarde 'onbekend' indien de methode niet gekend is.\",\n",
       " 'name': 'methode',\n",
       " 'notnull': True,\n",
       " 'type': 'string',\n",
       " 'values': ['avegaarboring',\n",
       "  'droge boring',\n",
       "  'edelmanboring',\n",
       "  'geen boring',\n",
       "  'gestoken boring',\n",
       "  'graafmachine',\n",
       "  'handboring',\n",
       "  'kernboring',\n",
       "  'lansen',\n",
       "  'lepelboring',\n",
       "  'luchthamer',\n",
       "  'luchthevelboren of air-lift boren',\n",
       "  'meerdere technieken',\n",
       "  'omgek. spoelboring',\n",
       "  'onbekend',\n",
       "  'pulsboring',\n",
       "  'ramguts',\n",
       "  'ramkernboring',\n",
       "  'rollerbit',\n",
       "  'slagboring',\n",
       "  'spade',\n",
       "  'spiraalboring',\n",
       "  'spoelboring',\n",
       "  'steenboring',\n",
       "  'trilboring',\n",
       "  'voorput',\n",
       "  'zuigboring']}"
      ]
     },
     "execution_count": 62,
     "metadata": {},
     "output_type": "execute_result"
    }
   ],
   "source": [
    "# if an attribute can have several values, these are listed under 'values', e.g. for 'methode':\n",
    "fields['methode']"
   ]
  },
  {
   "cell_type": "markdown",
   "metadata": {},
   "source": [
    "## Try-out of use cases"
   ]
  },
  {
   "cell_type": "markdown",
   "metadata": {},
   "source": [
    "### Select boreholes in a bbox"
   ]
  },
  {
   "cell_type": "code",
   "execution_count": 63,
   "metadata": {},
   "outputs": [
    {
     "name": "stdout",
     "output_type": "stream",
     "text": [
      "                                         pkey_boring         boornummer  \\\n",
      "0  https://www.dov.vlaanderen.be/data/boring/2004...  GEO-04/169-BNo-B1   \n",
      "1  https://www.dov.vlaanderen.be/data/boring/2004...  GEO-04/169-BNo-B1   \n",
      "\n",
      "           x          y mv_mtaw  start_boring_mtaw   gemeente  \\\n",
      "0  151680.75  214678.06    None               7.16  Antwerpen   \n",
      "1  151680.75  214678.06    None               7.16  Antwerpen   \n",
      "\n",
      "   diepte_boring_van  diepte_boring_tot datum_aanvang uitvoerder  \\\n",
      "0                0.0               30.0    2004-12-20     GEOLAB   \n",
      "1                0.0               30.0    2004-12-20     GEOLAB   \n",
      "\n",
      "   boorgatmeting  diepte_methode_van  diepte_methode_tot    boormethode  \n",
      "0          False                 0.0                 1.5          spade  \n",
      "1          False                 1.5                30.0  avegaarboring  \n"
     ]
    }
   ],
   "source": [
    "# Get all borehole data in a bounding box (llx, llxy, ulx, uly)\n",
    "# the pkey_boring link is not available below, but is in the df\n",
    "df = boring.search(location=(151650, 214675, 151750, 214775))\n",
    "print(df.head())"
   ]
  },
  {
   "cell_type": "markdown",
   "metadata": {},
   "source": [
    "The dataframe contains one borehole where two methodes ('boormethode') were applied for its construction. The available data are flattened to represent unique attributes per row of the dataframe"
   ]
  },
  {
   "cell_type": "markdown",
   "metadata": {},
   "source": [
    "### Select boreholes in a bbox with selected properties"
   ]
  },
  {
   "cell_type": "code",
   "execution_count": 64,
   "metadata": {},
   "outputs": [
    {
     "name": "stdout",
     "output_type": "stream",
     "text": [
      "['PropertyIsBetween', 'PropertyIsEqualTo', 'PropertyIsGreaterThan', 'PropertyIsGreaterThanOrEqualTo', 'PropertyIsLessThan', 'PropertyIsLessThanOrEqualTo', 'PropertyIsLike', 'PropertyIsNotEqualTo', 'PropertyIsNull', 'SortProperty']\n"
     ]
    }
   ],
   "source": [
    "# list available query methods\n",
    "methods = [i for i,j in inspect.getmembers(sys.modules['owslib.fes'], \n",
    "                                           inspect.isclass) \n",
    "           if 'Property' in i]\n",
    "print(methods)\n",
    "from owslib.fes import PropertyIsGreaterThanOrEqualTo"
   ]
  },
  {
   "cell_type": "markdown",
   "metadata": {},
   "source": [
    "The property feature methodes listed above are available from the owslib module. These were not adapted for use in pydov."
   ]
  },
  {
   "cell_type": "code",
   "execution_count": 65,
   "metadata": {},
   "outputs": [
    {
     "name": "stdout",
     "output_type": "stream",
     "text": [
      "                                         pkey_boring  boornummer         x  \\\n",
      "0  https://www.dov.vlaanderen.be/data/boring/2016...  B/1-102785  201790.5   \n",
      "1  https://www.dov.vlaanderen.be/data/boring/2016...  B/1-102786  201783.0   \n",
      "2  https://www.dov.vlaanderen.be/data/boring/2016...  B/1-102786  201783.0   \n",
      "3  https://www.dov.vlaanderen.be/data/boring/2016...  B/1-102786  201783.0   \n",
      "4  https://www.dov.vlaanderen.be/data/boring/2016...  B/1-102786  201783.0   \n",
      "\n",
      "          y  mv_mtaw  start_boring_mtaw gemeente  diepte_boring_van  \\\n",
      "0  212962.0     25.0               25.0      Mol                0.0   \n",
      "1  212961.0     25.0               25.0      Mol                0.0   \n",
      "2  212961.0     25.0               25.0      Mol                0.0   \n",
      "3  212961.0     25.0               25.0      Mol                0.0   \n",
      "4  212961.0     25.0               25.0      Mol                0.0   \n",
      "\n",
      "   diepte_boring_tot datum_aanvang          uitvoerder  boorgatmeting  \\\n",
      "0             4341.0    2016-03-02  THV Daldrup - Smet           True   \n",
      "1             3610.0    2015-09-14  THV Daldrup - Smet           True   \n",
      "2             3610.0    2015-09-14  THV Daldrup - Smet           True   \n",
      "3             3610.0    2015-09-14  THV Daldrup - Smet           True   \n",
      "4             3610.0    2015-09-14  THV Daldrup - Smet           True   \n",
      "\n",
      "   diepte_methode_van  diepte_methode_tot  boormethode  \n",
      "0                 0.0              4341.0  spoelboring  \n",
      "1                 0.0              1034.0  spoelboring  \n",
      "2              1034.0              1042.0   kernboring  \n",
      "3              1042.0              2926.0  spoelboring  \n",
      "4              2926.0              2931.0   kernboring  \n"
     ]
    }
   ],
   "source": [
    "# Get deep boreholes in a bounding box \n",
    "from owslib.fes import PropertyIsEqualTo\n",
    "# the propertyname can be any of the fields of the boring object as shown on line 52 above, the literal is always a string, no \n",
    "# matter what its definition is in the boring object (string, float...)\n",
    "query = PropertyIsGreaterThanOrEqualTo(\n",
    "        propertyname='diepte_boring_tot', literal='2000')\n",
    "df = boring.search(\n",
    "    location=(200000, 211000, 205000, 214000),\n",
    "    query=query\n",
    "    )\n",
    "print(df.head())"
   ]
  },
  {
   "cell_type": "markdown",
   "metadata": {},
   "source": [
    "### Select boreholes in a municipality"
   ]
  },
  {
   "cell_type": "code",
   "execution_count": 66,
   "metadata": {},
   "outputs": [
    {
     "name": "stdout",
     "output_type": "stream",
     "text": [
      "                                         pkey_boring       boornummer  \\\n",
      "0  https://www.dov.vlaanderen.be/data/boring/2016...   kb33d106e-B236   \n",
      "1  https://www.dov.vlaanderen.be/data/boring/1993...  kb41d120e-B1027   \n",
      "\n",
      "          x         y  mv_mtaw  start_boring_mtaw   gemeente  \\\n",
      "0  224687.4  158191.0    124.0              124.0  Herstappe   \n",
      "1  224820.0  157794.0    132.0              132.0  Herstappe   \n",
      "\n",
      "   diepte_boring_van  diepte_boring_tot datum_aanvang  \\\n",
      "0                0.0                6.0          None   \n",
      "1                0.0               50.0    1993-09-02   \n",
      "\n",
      "                           uitvoerder  boorgatmeting  diepte_methode_van  \\\n",
      "0  Belgische Geologische Dienst (BGD)          False                 0.0   \n",
      "1                      Peeters-Ramsel          False                 0.0   \n",
      "\n",
      "   diepte_methode_tot      boormethode  \n",
      "0                 6.0  gestoken boring  \n",
      "1                50.0         onbekend  \n"
     ]
    }
   ],
   "source": [
    "query = PropertyIsEqualTo(propertyname='gemeente',\n",
    "                          literal='Herstappe')\n",
    "df = boring.search(query=query)\n",
    "print(df.head())"
   ]
  },
  {
   "cell_type": "markdown",
   "metadata": {},
   "source": [
    "### Select boreholes in a municipality and return depth"
   ]
  },
  {
   "cell_type": "code",
   "execution_count": 67,
   "metadata": {},
   "outputs": [
    {
     "name": "stdout",
     "output_type": "stream",
     "text": [
      "   diepte_boring_tot\n",
      "0               42.0\n",
      "1               32.0\n",
      "2               59.0\n",
      "3               11.0\n",
      "4               27.0\n",
      "       diepte_boring_tot\n",
      "count        2628.000000\n",
      "mean           15.534992\n",
      "std            32.308829\n",
      "min             0.000000\n",
      "25%             0.000000\n",
      "50%             6.100000\n",
      "75%            20.000000\n",
      "max           660.000000\n"
     ]
    }
   ],
   "source": [
    "query = PropertyIsEqualTo(propertyname='gemeente',\n",
    "                          literal='Gent')\n",
    "df = boring.search(query=query,\n",
    "                   return_fields=('diepte_boring_tot',))\n",
    "print(df.head())\n",
    "# get general info of dataframe\n",
    "print(df.describe())\n",
    "# depth of borehole equal to zero indicates missing values \n",
    "# a depth could be available in the interpretations"
   ]
  },
  {
   "cell_type": "markdown",
   "metadata": {},
   "source": [
    "### Get boreholes for a municipality where groundwater related data are available"
   ]
  },
  {
   "cell_type": "code",
   "execution_count": 68,
   "metadata": {},
   "outputs": [
    {
     "name": "stdout",
     "output_type": "stream",
     "text": [
      "                                         pkey_boring       boornummer  \\\n",
      "0  https://www.dov.vlaanderen.be/data/boring/1997...    kb15d28e-B741   \n",
      "1  https://www.dov.vlaanderen.be/data/boring/1996...    kb15d43w-B393   \n",
      "2  https://www.dov.vlaanderen.be/data/boring/2016...       B/1-102776   \n",
      "3  https://www.dov.vlaanderen.be/data/boring/2017...       B/1-102987   \n",
      "4  https://www.dov.vlaanderen.be/data/boring/2017...  1434-BG000106-9   \n",
      "\n",
      "          x         y  mv_mtaw  start_boring_mtaw   gemeente  \\\n",
      "0  154825.0  212445.0     5.00               5.00  Antwerpen   \n",
      "1  151150.0  206550.0    18.09              18.09  Antwerpen   \n",
      "2  153099.0  213577.0    -1.00              -1.00  Antwerpen   \n",
      "3  149408.0  224256.0    -1.00              -1.00  Antwerpen   \n",
      "4  149486.0  221697.0     5.98               5.98  Antwerpen   \n",
      "\n",
      "   diepte_boring_van  diepte_boring_tot datum_aanvang  \\\n",
      "0                0.0               36.5    1997-08-21   \n",
      "1                0.0              104.0    1996-06-26   \n",
      "2                0.0                0.0          None   \n",
      "3                0.0                0.0          None   \n",
      "4                0.0               50.0    2017-02-09   \n",
      "\n",
      "                             uitvoerder  boorgatmeting  diepte_methode_van  \\\n",
      "0  Meysen Dammekens (Dammekens)-Hoboken          False                 0.0   \n",
      "1  Meysen Dammekens (Dammekens)-Hoboken          False                 0.0   \n",
      "2                                  None          False                 0.0   \n",
      "3                                  None          False                 0.0   \n",
      "4                   SMET GROUP OVERSEAS          False                 0.0   \n",
      "\n",
      "   diepte_methode_tot  boormethode  \n",
      "0                36.5     onbekend  \n",
      "1               104.0  spoelboring  \n",
      "2                 0.0     onbekend  \n",
      "3                 0.0     onbekend  \n",
      "4                50.0  spoelboring  \n"
     ]
    }
   ],
   "source": [
    "#  E.g. get the boreholes where 'gemeente' is 'Antwerp' and either \n",
    "# 'putnummer' is not empty \n",
    "# or 'doel' starts with 'Grondwater' \n",
    "# or 'erkenning' equals '2. Andere grondwaterwinningen'\n",
    "from owslib.fes import PropertyIsLike\n",
    "from owslib.fes import PropertyIsNull\n",
    "from owslib.fes import And\n",
    "from owslib.fes import Or\n",
    "from owslib.fes import Not\n",
    "query = And([PropertyIsEqualTo(propertyname='gemeente',\n",
    "                               literal='Antwerpen'),\n",
    "             Or([Not([PropertyIsNull(propertyname='putnummer')]),\n",
    "                PropertyIsLike(propertyname='doel',\n",
    "                               literal='Grondwater%'),\n",
    "                PropertyIsEqualTo(propertyname='erkenning', \n",
    "                                  literal='2. Andere grondwaterwinningen')]\n",
    "               )]\n",
    "           )\n",
    "df = boring.search(query=query)\n",
    "print(df.head())\n"
   ]
  }
 ],
 "metadata": {
  "kernelspec": {
   "display_name": "Python 3",
   "language": "python",
   "name": "python3"
  }
 },
 "nbformat": 4,
 "nbformat_minor": 2
}
