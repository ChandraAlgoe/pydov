{
 "cells": [
  {
   "cell_type": "markdown",
   "metadata": {},
   "source": [
    "# Example of DOV search methods for boringen\n",
    "\n",
    "@pjhaest\n",
    "date 20180503"
   ]
  },
  {
   "cell_type": "markdown",
   "metadata": {},
   "source": [
    "## Use cases explained below\n",
    "* Get boreholes in a bounding box\n",
    "* Get boreholes with specific properties\n",
    "* Get boreholes in a bounding box based on specific properties\n",
    "* Select boreholes in a municipality and return depth\n",
    "* Get boreholes based on fields not available in the standard output dataframe\n",
    "* Get borehole data, returning fields not available in the standard output dataframe\n",
    "* Get boreholes in a municipality and where groundwater related data are available"
   ]
  },
  {
   "cell_type": "code",
   "execution_count": 80,
   "metadata": {
    "collapsed": true
   },
   "outputs": [],
   "source": [
    "%matplotlib inline\n",
    "import os, sys\n",
    "import inspect"
   ]
  },
  {
   "cell_type": "code",
   "execution_count": 81,
   "metadata": {
    "collapsed": true
   },
   "outputs": [],
   "source": [
    "# Insert current tree in the sys path to be able to import local copy of 'pydov'\n",
    "sys.path.insert(0, '../../')"
   ]
  },
  {
   "cell_type": "code",
   "execution_count": 82,
   "metadata": {},
   "outputs": [
    {
     "name": "stdout",
     "output_type": "stream",
     "text": [
      "['../..\\\\pydov']\n"
     ]
    }
   ],
   "source": [
    "# check pydov path\n",
    "import pydov\n",
    "print(pydov.__path__)"
   ]
  },
  {
   "cell_type": "markdown",
   "metadata": {},
   "source": [
    "## Get information about the datatype 'Boringen'"
   ]
  },
  {
   "cell_type": "code",
   "execution_count": 83,
   "metadata": {
    "collapsed": true
   },
   "outputs": [],
   "source": [
    "from pydov.search.boring import BoringSearch\n",
    "boring = BoringSearch()"
   ]
  },
  {
   "cell_type": "markdown",
   "metadata": {},
   "source": [
    "A description is provided for the 'Boring' datatype:"
   ]
  },
  {
   "cell_type": "code",
   "execution_count": 84,
   "metadata": {},
   "outputs": [
    {
     "data": {
      "text/plain": [
       "'In de DOV-databank is elke waarneming van grondlagen een boring. Bij de meeste boringen wordt er met een boortoestel een gat gemaakt in de ondergrond om de verschillende grondlagen te kunnen beschrijven. Aan de hand van een boring krijg je een beeld van het materiaal in de ondergrond met toenemende diepte. Afhankelijk van het doel waarvoor de boring geplaatst wordt, zal men een geschikte boormethode toepassen. Boringen worden geplaatst voor verkennend bodemonderzoek, monstername van het sediment en/of grondwater, bepaling van bodemfysische parameters, milieuhygienisch onderzoek,... Afhankelijk van de diepte, soort materiaal, en het al dan niet boren tot onder de grondwatertafel kan men kiezen uit verscheidene systemen voor handmatig of machinaal te boren. Het bodemmateriaal dat vrijkomt, kan gebruikt worden om een profiel van de ondergrond op te stellen of om er grondmonsters van te nemen om verdere analyses op uit te voeren. Vaak is het de bedoeling een put uit te bouwen zodat water kan gewonnen worden (zie ook grondwatermeetnet en grondwatervergunningen). Soms worden boringen uitgevoerd om een aantal geotechnische karakteristieken te bepalen of om wetenschappelijk onderzoek uit te voeren. Oppervlakkige waarnemingen van de ondergrond noemen we ook boringen. Vooral rond 1900 beschreven een aantal geologen vaak de oppervlakkige lagen. In de databank staan er dan ook verschillende boringen met een diepte van 0 meter. Het gaat vooral om weginsnijdingen of om zichtbare lithologische kenmerken langs de oppervlakte.'"
      ]
     },
     "execution_count": 84,
     "metadata": {},
     "output_type": "execute_result"
    }
   ],
   "source": [
    "boring.get_description()"
   ]
  },
  {
   "cell_type": "markdown",
   "metadata": {},
   "source": [
    "The different fields that are available for objects of the 'Boring' datatype can be requested with the get_fields() method:"
   ]
  },
  {
   "cell_type": "code",
   "execution_count": 85,
   "metadata": {},
   "outputs": [
    {
     "name": "stdout",
     "output_type": "stream",
     "text": [
      "generated_id\n",
      "id\n",
      "boornummer\n",
      "pkey_boring\n",
      "rapport\n",
      "diepte_boring_tot\n",
      "datum_aanvang\n",
      "namen\n",
      "putnummer\n",
      "x\n",
      "y\n",
      "start_boring_mtaw\n",
      "gemeente\n",
      "uitvoerder\n",
      "doel\n",
      "methode\n",
      "erkenning\n",
      "opdrachtgever\n",
      "informele_stratigrafie\n",
      "formele_stratigrafie\n",
      "lithologische_beschrijving\n",
      "gecodeerde_lithologie\n",
      "hydrogeologische_stratigrafie\n",
      "quartaire_stratigrafie\n",
      "geotechnische_codering\n",
      "informele_hydrostratigrafie\n",
      "doorheen_quartair\n",
      "dikte_quartair\n",
      "tertiair_onder_quartair\n",
      "opdrachten\n",
      "mv_mtaw\n",
      "diepte_boring_van\n",
      "boorgatmeting\n",
      "diepte_methode_van\n",
      "diepte_methode_tot\n",
      "boormethode\n"
     ]
    }
   ],
   "source": [
    "fields = boring.get_fields()\n",
    "\n",
    "# print available fields\n",
    "for f in fields.values():\n",
    "    print(f['name'])"
   ]
  },
  {
   "cell_type": "markdown",
   "metadata": {},
   "source": [
    "You can get more information of a field by requesting it from the fields dictionary:\n",
    "* *name*: name of the field\n",
    "* *definition*: definition of this field\n",
    "* *cost*: currently this is either 1 or 10, depending on the datasource of the field. It is an indication of the expected time it will take to retrieve this field in the output dataframe.\n",
    "* *notnull*: whether the field is mandatory or not\n",
    "* *type*: datatype of the values of this field"
   ]
  },
  {
   "cell_type": "code",
   "execution_count": 86,
   "metadata": {},
   "outputs": [
    {
     "data": {
      "text/plain": [
       "{'cost': 1,\n",
       " 'definition': 'Maximumdiepte van de boring ten opzichte van het aanvangspeil, in meter.',\n",
       " 'name': 'diepte_boring_tot',\n",
       " 'notnull': False,\n",
       " 'type': 'float'}"
      ]
     },
     "execution_count": 86,
     "metadata": {},
     "output_type": "execute_result"
    }
   ],
   "source": [
    "fields['diepte_boring_tot']"
   ]
  },
  {
   "cell_type": "markdown",
   "metadata": {},
   "source": [
    "Optionally, if the values of the field have a specific domain the possible values are listed as *values*:"
   ]
  },
  {
   "cell_type": "code",
   "execution_count": 87,
   "metadata": {},
   "outputs": [
    {
     "data": {
      "text/plain": [
       "['avegaarboring',\n",
       " 'droge boring',\n",
       " 'edelmanboring',\n",
       " 'geen boring',\n",
       " 'gestoken boring',\n",
       " 'graafmachine',\n",
       " 'handboring',\n",
       " 'kernboring',\n",
       " 'lansen',\n",
       " 'lepelboring',\n",
       " 'luchthamer',\n",
       " 'luchthevelboren of air-lift boren',\n",
       " 'meerdere technieken',\n",
       " 'omgek. spoelboring',\n",
       " 'onbekend',\n",
       " 'pulsboring',\n",
       " 'ramguts',\n",
       " 'ramkernboring',\n",
       " 'rollerbit',\n",
       " 'slagboring',\n",
       " 'spade',\n",
       " 'spiraalboring',\n",
       " 'spoelboring',\n",
       " 'steenboring',\n",
       " 'trilboring',\n",
       " 'voorput',\n",
       " 'zuigboring']"
      ]
     },
     "execution_count": 87,
     "metadata": {},
     "output_type": "execute_result"
    }
   ],
   "source": [
    "fields['methode']['values']"
   ]
  },
  {
   "cell_type": "markdown",
   "metadata": {},
   "source": [
    "## Example use cases"
   ]
  },
  {
   "cell_type": "markdown",
   "metadata": {},
   "source": [
    "### Get boreholes in a bounding box"
   ]
  },
  {
   "cell_type": "markdown",
   "metadata": {},
   "source": [
    "Get data for all the boreholes that are geographically located within the bounds of the specified box.\n",
    "\n",
    "The coordinates are in the Belgian Lambert72 (EPSG:31370) coordinate system and are given in the order of lower left x, lower left y, upper right x, upper right y."
   ]
  },
  {
   "cell_type": "code",
   "execution_count": 88,
   "metadata": {},
   "outputs": [
    {
     "data": {
      "text/html": [
       "<div>\n",
       "<style scoped>\n",
       "    .dataframe tbody tr th:only-of-type {\n",
       "        vertical-align: middle;\n",
       "    }\n",
       "\n",
       "    .dataframe tbody tr th {\n",
       "        vertical-align: top;\n",
       "    }\n",
       "\n",
       "    .dataframe thead th {\n",
       "        text-align: right;\n",
       "    }\n",
       "</style>\n",
       "<table border=\"1\" class=\"dataframe\">\n",
       "  <thead>\n",
       "    <tr style=\"text-align: right;\">\n",
       "      <th></th>\n",
       "      <th>pkey_boring</th>\n",
       "      <th>boornummer</th>\n",
       "      <th>x</th>\n",
       "      <th>y</th>\n",
       "      <th>mv_mtaw</th>\n",
       "      <th>start_boring_mtaw</th>\n",
       "      <th>gemeente</th>\n",
       "      <th>diepte_boring_van</th>\n",
       "      <th>diepte_boring_tot</th>\n",
       "      <th>datum_aanvang</th>\n",
       "      <th>uitvoerder</th>\n",
       "      <th>boorgatmeting</th>\n",
       "      <th>diepte_methode_van</th>\n",
       "      <th>diepte_methode_tot</th>\n",
       "      <th>boormethode</th>\n",
       "    </tr>\n",
       "  </thead>\n",
       "  <tbody>\n",
       "    <tr>\n",
       "      <th>0</th>\n",
       "      <td>https://www.dov.vlaanderen.be/data/boring/1974...</td>\n",
       "      <td>GEO-74/254-b1</td>\n",
       "      <td>153147.0</td>\n",
       "      <td>206931.0</td>\n",
       "      <td>14.12</td>\n",
       "      <td>14.12</td>\n",
       "      <td>Antwerpen</td>\n",
       "      <td>0.0</td>\n",
       "      <td>14.05</td>\n",
       "      <td>1974-07-02</td>\n",
       "      <td>Rijksinstituut voor Grondmechanica</td>\n",
       "      <td>False</td>\n",
       "      <td>0.0</td>\n",
       "      <td>1.30</td>\n",
       "      <td>lepelboring</td>\n",
       "    </tr>\n",
       "    <tr>\n",
       "      <th>1</th>\n",
       "      <td>https://www.dov.vlaanderen.be/data/boring/1974...</td>\n",
       "      <td>GEO-74/254-b1</td>\n",
       "      <td>153147.0</td>\n",
       "      <td>206931.0</td>\n",
       "      <td>14.12</td>\n",
       "      <td>14.12</td>\n",
       "      <td>Antwerpen</td>\n",
       "      <td>0.0</td>\n",
       "      <td>14.05</td>\n",
       "      <td>1974-07-02</td>\n",
       "      <td>Rijksinstituut voor Grondmechanica</td>\n",
       "      <td>False</td>\n",
       "      <td>1.3</td>\n",
       "      <td>13.50</td>\n",
       "      <td>pulsboring</td>\n",
       "    </tr>\n",
       "    <tr>\n",
       "      <th>2</th>\n",
       "      <td>https://www.dov.vlaanderen.be/data/boring/1974...</td>\n",
       "      <td>GEO-74/254-b1</td>\n",
       "      <td>153147.0</td>\n",
       "      <td>206931.0</td>\n",
       "      <td>14.12</td>\n",
       "      <td>14.12</td>\n",
       "      <td>Antwerpen</td>\n",
       "      <td>0.0</td>\n",
       "      <td>14.05</td>\n",
       "      <td>1974-07-02</td>\n",
       "      <td>Rijksinstituut voor Grondmechanica</td>\n",
       "      <td>False</td>\n",
       "      <td>13.5</td>\n",
       "      <td>14.05</td>\n",
       "      <td>lepelboring</td>\n",
       "    </tr>\n",
       "  </tbody>\n",
       "</table>\n",
       "</div>"
      ],
      "text/plain": [
       "                                         pkey_boring     boornummer         x  \\\n",
       "0  https://www.dov.vlaanderen.be/data/boring/1974...  GEO-74/254-b1  153147.0   \n",
       "1  https://www.dov.vlaanderen.be/data/boring/1974...  GEO-74/254-b1  153147.0   \n",
       "2  https://www.dov.vlaanderen.be/data/boring/1974...  GEO-74/254-b1  153147.0   \n",
       "\n",
       "          y  mv_mtaw  start_boring_mtaw   gemeente  diepte_boring_van  \\\n",
       "0  206931.0    14.12              14.12  Antwerpen                0.0   \n",
       "1  206931.0    14.12              14.12  Antwerpen                0.0   \n",
       "2  206931.0    14.12              14.12  Antwerpen                0.0   \n",
       "\n",
       "   diepte_boring_tot datum_aanvang                          uitvoerder  \\\n",
       "0              14.05    1974-07-02  Rijksinstituut voor Grondmechanica   \n",
       "1              14.05    1974-07-02  Rijksinstituut voor Grondmechanica   \n",
       "2              14.05    1974-07-02  Rijksinstituut voor Grondmechanica   \n",
       "\n",
       "   boorgatmeting  diepte_methode_van  diepte_methode_tot  boormethode  \n",
       "0          False                 0.0                1.30  lepelboring  \n",
       "1          False                 1.3               13.50   pulsboring  \n",
       "2          False                13.5               14.05  lepelboring  "
      ]
     },
     "execution_count": 88,
     "metadata": {},
     "output_type": "execute_result"
    }
   ],
   "source": [
    "df = boring.search(location=(153145, 206930, 153150, 206935))\n",
    "df.head()"
   ]
  },
  {
   "cell_type": "markdown",
   "metadata": {},
   "source": [
    "The dataframe contains one borehole where three methods ('boormethode') were applied for its construction. The available data are flattened to represent unique attributes per row of the dataframe.\n",
    "\n",
    "Using the *pkey_boring* field one can request the details of this borehole in a webbrowser:"
   ]
  },
  {
   "cell_type": "code",
   "execution_count": 89,
   "metadata": {},
   "outputs": [
    {
     "name": "stdout",
     "output_type": "stream",
     "text": [
      "https://www.dov.vlaanderen.be/data/boring/1974-010351\n"
     ]
    }
   ],
   "source": [
    "for pkey_boring in set(df.pkey_boring):\n",
    "    print(pkey_boring)"
   ]
  },
  {
   "cell_type": "markdown",
   "metadata": {},
   "source": [
    "### Get boreholes with specific properties"
   ]
  },
  {
   "cell_type": "markdown",
   "metadata": {},
   "source": [
    "Next to querying boreholes based on their geographic location within a bounding box, we can also search for boreholes matching a specific set of properties. For this we can build a query using a combination of the 'Boring' fields and operators provided by the WFS protocol.\n",
    "\n",
    "A list of possible operators can be found below:"
   ]
  },
  {
   "cell_type": "code",
   "execution_count": 90,
   "metadata": {},
   "outputs": [
    {
     "data": {
      "text/plain": [
       "['PropertyIsBetween',\n",
       " 'PropertyIsEqualTo',\n",
       " 'PropertyIsGreaterThan',\n",
       " 'PropertyIsGreaterThanOrEqualTo',\n",
       " 'PropertyIsLessThan',\n",
       " 'PropertyIsLessThanOrEqualTo',\n",
       " 'PropertyIsLike',\n",
       " 'PropertyIsNotEqualTo',\n",
       " 'PropertyIsNull',\n",
       " 'SortProperty']"
      ]
     },
     "execution_count": 90,
     "metadata": {},
     "output_type": "execute_result"
    }
   ],
   "source": [
    "[i for i,j in inspect.getmembers(sys.modules['owslib.fes'], inspect.isclass) if 'Property' in i]"
   ]
  },
  {
   "cell_type": "markdown",
   "metadata": {},
   "source": [
    "In this example we build a query using the *PropertyIsEqualTo* operator to find all boreholes that are within the community (gemeente) of 'Herstappe':"
   ]
  },
  {
   "cell_type": "code",
   "execution_count": 91,
   "metadata": {},
   "outputs": [
    {
     "data": {
      "text/html": [
       "<div>\n",
       "<style scoped>\n",
       "    .dataframe tbody tr th:only-of-type {\n",
       "        vertical-align: middle;\n",
       "    }\n",
       "\n",
       "    .dataframe tbody tr th {\n",
       "        vertical-align: top;\n",
       "    }\n",
       "\n",
       "    .dataframe thead th {\n",
       "        text-align: right;\n",
       "    }\n",
       "</style>\n",
       "<table border=\"1\" class=\"dataframe\">\n",
       "  <thead>\n",
       "    <tr style=\"text-align: right;\">\n",
       "      <th></th>\n",
       "      <th>pkey_boring</th>\n",
       "      <th>boornummer</th>\n",
       "      <th>x</th>\n",
       "      <th>y</th>\n",
       "      <th>mv_mtaw</th>\n",
       "      <th>start_boring_mtaw</th>\n",
       "      <th>gemeente</th>\n",
       "      <th>diepte_boring_van</th>\n",
       "      <th>diepte_boring_tot</th>\n",
       "      <th>datum_aanvang</th>\n",
       "      <th>uitvoerder</th>\n",
       "      <th>boorgatmeting</th>\n",
       "      <th>diepte_methode_van</th>\n",
       "      <th>diepte_methode_tot</th>\n",
       "      <th>boormethode</th>\n",
       "    </tr>\n",
       "  </thead>\n",
       "  <tbody>\n",
       "    <tr>\n",
       "      <th>0</th>\n",
       "      <td>https://www.dov.vlaanderen.be/data/boring/2016...</td>\n",
       "      <td>kb33d106e-B236</td>\n",
       "      <td>224687.4</td>\n",
       "      <td>158191.0</td>\n",
       "      <td>124.0</td>\n",
       "      <td>124.0</td>\n",
       "      <td>Herstappe</td>\n",
       "      <td>0.0</td>\n",
       "      <td>6.0</td>\n",
       "      <td>NaN</td>\n",
       "      <td>Belgische Geologische Dienst (BGD)</td>\n",
       "      <td>False</td>\n",
       "      <td>0.0</td>\n",
       "      <td>6.0</td>\n",
       "      <td>gestoken boring</td>\n",
       "    </tr>\n",
       "    <tr>\n",
       "      <th>1</th>\n",
       "      <td>https://www.dov.vlaanderen.be/data/boring/1993...</td>\n",
       "      <td>kb41d120e-B1027</td>\n",
       "      <td>224820.0</td>\n",
       "      <td>157794.0</td>\n",
       "      <td>132.0</td>\n",
       "      <td>132.0</td>\n",
       "      <td>Herstappe</td>\n",
       "      <td>0.0</td>\n",
       "      <td>50.0</td>\n",
       "      <td>1993-09-02</td>\n",
       "      <td>Peeters-Ramsel</td>\n",
       "      <td>False</td>\n",
       "      <td>0.0</td>\n",
       "      <td>50.0</td>\n",
       "      <td>onbekend</td>\n",
       "    </tr>\n",
       "  </tbody>\n",
       "</table>\n",
       "</div>"
      ],
      "text/plain": [
       "                                         pkey_boring       boornummer  \\\n",
       "0  https://www.dov.vlaanderen.be/data/boring/2016...   kb33d106e-B236   \n",
       "1  https://www.dov.vlaanderen.be/data/boring/1993...  kb41d120e-B1027   \n",
       "\n",
       "          x         y  mv_mtaw  start_boring_mtaw   gemeente  \\\n",
       "0  224687.4  158191.0    124.0              124.0  Herstappe   \n",
       "1  224820.0  157794.0    132.0              132.0  Herstappe   \n",
       "\n",
       "   diepte_boring_van  diepte_boring_tot datum_aanvang  \\\n",
       "0                0.0                6.0           NaN   \n",
       "1                0.0               50.0    1993-09-02   \n",
       "\n",
       "                           uitvoerder  boorgatmeting  diepte_methode_van  \\\n",
       "0  Belgische Geologische Dienst (BGD)          False                 0.0   \n",
       "1                      Peeters-Ramsel          False                 0.0   \n",
       "\n",
       "   diepte_methode_tot      boormethode  \n",
       "0                 6.0  gestoken boring  \n",
       "1                50.0         onbekend  "
      ]
     },
     "execution_count": 91,
     "metadata": {},
     "output_type": "execute_result"
    }
   ],
   "source": [
    "from owslib.fes import PropertyIsEqualTo\n",
    "\n",
    "query = PropertyIsEqualTo(propertyname='gemeente',\n",
    "                          literal='Herstappe')\n",
    "df = boring.search(query=query)\n",
    "\n",
    "df.head()"
   ]
  },
  {
   "cell_type": "markdown",
   "metadata": {},
   "source": [
    "Once again we can use the *pkey_boring* as a permanent link to the information of these boreholes:"
   ]
  },
  {
   "cell_type": "code",
   "execution_count": 92,
   "metadata": {},
   "outputs": [
    {
     "name": "stdout",
     "output_type": "stream",
     "text": [
      "https://www.dov.vlaanderen.be/data/boring/1993-096210\n",
      "https://www.dov.vlaanderen.be/data/boring/2016-125511\n"
     ]
    }
   ],
   "source": [
    "for pkey_boring in set(df.pkey_boring):\n",
    "    print(pkey_boring)"
   ]
  },
  {
   "cell_type": "markdown",
   "metadata": {},
   "source": [
    "### Get boreholes in a bounding box based on specific properties"
   ]
  },
  {
   "cell_type": "markdown",
   "metadata": {},
   "source": [
    "We can combine a query on attributes with a query on geographic location to get the boreholes within a bounding box that have specific properties.\n",
    "\n",
    "The following example requests the boreholes with a depth greater than or equal to 2000 meters within the given bounding box.\n",
    "\n",
    "(Note that the datatype of the *literal* parameter should be a string, regardless of the datatype of this field in the output dataframe.)"
   ]
  },
  {
   "cell_type": "code",
   "execution_count": 93,
   "metadata": {},
   "outputs": [
    {
     "data": {
      "text/html": [
       "<div>\n",
       "<style scoped>\n",
       "    .dataframe tbody tr th:only-of-type {\n",
       "        vertical-align: middle;\n",
       "    }\n",
       "\n",
       "    .dataframe tbody tr th {\n",
       "        vertical-align: top;\n",
       "    }\n",
       "\n",
       "    .dataframe thead th {\n",
       "        text-align: right;\n",
       "    }\n",
       "</style>\n",
       "<table border=\"1\" class=\"dataframe\">\n",
       "  <thead>\n",
       "    <tr style=\"text-align: right;\">\n",
       "      <th></th>\n",
       "      <th>pkey_boring</th>\n",
       "      <th>boornummer</th>\n",
       "      <th>x</th>\n",
       "      <th>y</th>\n",
       "      <th>mv_mtaw</th>\n",
       "      <th>start_boring_mtaw</th>\n",
       "      <th>gemeente</th>\n",
       "      <th>diepte_boring_van</th>\n",
       "      <th>diepte_boring_tot</th>\n",
       "      <th>datum_aanvang</th>\n",
       "      <th>uitvoerder</th>\n",
       "      <th>boorgatmeting</th>\n",
       "      <th>diepte_methode_van</th>\n",
       "      <th>diepte_methode_tot</th>\n",
       "      <th>boormethode</th>\n",
       "    </tr>\n",
       "  </thead>\n",
       "  <tbody>\n",
       "    <tr>\n",
       "      <th>0</th>\n",
       "      <td>https://www.dov.vlaanderen.be/data/boring/2016...</td>\n",
       "      <td>B/1-102785</td>\n",
       "      <td>201790.5</td>\n",
       "      <td>212962.0</td>\n",
       "      <td>25.0</td>\n",
       "      <td>25.0</td>\n",
       "      <td>Mol</td>\n",
       "      <td>0.0</td>\n",
       "      <td>4341.0</td>\n",
       "      <td>2016-03-02</td>\n",
       "      <td>THV Daldrup - Smet</td>\n",
       "      <td>True</td>\n",
       "      <td>0.0</td>\n",
       "      <td>4341.0</td>\n",
       "      <td>spoelboring</td>\n",
       "    </tr>\n",
       "    <tr>\n",
       "      <th>1</th>\n",
       "      <td>https://www.dov.vlaanderen.be/data/boring/2016...</td>\n",
       "      <td>B/1-102786</td>\n",
       "      <td>201783.0</td>\n",
       "      <td>212961.0</td>\n",
       "      <td>25.0</td>\n",
       "      <td>25.0</td>\n",
       "      <td>Mol</td>\n",
       "      <td>0.0</td>\n",
       "      <td>3610.0</td>\n",
       "      <td>2015-09-14</td>\n",
       "      <td>THV Daldrup - Smet</td>\n",
       "      <td>True</td>\n",
       "      <td>0.0</td>\n",
       "      <td>1034.0</td>\n",
       "      <td>spoelboring</td>\n",
       "    </tr>\n",
       "    <tr>\n",
       "      <th>2</th>\n",
       "      <td>https://www.dov.vlaanderen.be/data/boring/2016...</td>\n",
       "      <td>B/1-102786</td>\n",
       "      <td>201783.0</td>\n",
       "      <td>212961.0</td>\n",
       "      <td>25.0</td>\n",
       "      <td>25.0</td>\n",
       "      <td>Mol</td>\n",
       "      <td>0.0</td>\n",
       "      <td>3610.0</td>\n",
       "      <td>2015-09-14</td>\n",
       "      <td>THV Daldrup - Smet</td>\n",
       "      <td>True</td>\n",
       "      <td>1034.0</td>\n",
       "      <td>1042.0</td>\n",
       "      <td>kernboring</td>\n",
       "    </tr>\n",
       "    <tr>\n",
       "      <th>3</th>\n",
       "      <td>https://www.dov.vlaanderen.be/data/boring/2016...</td>\n",
       "      <td>B/1-102786</td>\n",
       "      <td>201783.0</td>\n",
       "      <td>212961.0</td>\n",
       "      <td>25.0</td>\n",
       "      <td>25.0</td>\n",
       "      <td>Mol</td>\n",
       "      <td>0.0</td>\n",
       "      <td>3610.0</td>\n",
       "      <td>2015-09-14</td>\n",
       "      <td>THV Daldrup - Smet</td>\n",
       "      <td>True</td>\n",
       "      <td>1042.0</td>\n",
       "      <td>2926.0</td>\n",
       "      <td>spoelboring</td>\n",
       "    </tr>\n",
       "    <tr>\n",
       "      <th>4</th>\n",
       "      <td>https://www.dov.vlaanderen.be/data/boring/2016...</td>\n",
       "      <td>B/1-102786</td>\n",
       "      <td>201783.0</td>\n",
       "      <td>212961.0</td>\n",
       "      <td>25.0</td>\n",
       "      <td>25.0</td>\n",
       "      <td>Mol</td>\n",
       "      <td>0.0</td>\n",
       "      <td>3610.0</td>\n",
       "      <td>2015-09-14</td>\n",
       "      <td>THV Daldrup - Smet</td>\n",
       "      <td>True</td>\n",
       "      <td>2926.0</td>\n",
       "      <td>2931.0</td>\n",
       "      <td>kernboring</td>\n",
       "    </tr>\n",
       "  </tbody>\n",
       "</table>\n",
       "</div>"
      ],
      "text/plain": [
       "                                         pkey_boring  boornummer         x  \\\n",
       "0  https://www.dov.vlaanderen.be/data/boring/2016...  B/1-102785  201790.5   \n",
       "1  https://www.dov.vlaanderen.be/data/boring/2016...  B/1-102786  201783.0   \n",
       "2  https://www.dov.vlaanderen.be/data/boring/2016...  B/1-102786  201783.0   \n",
       "3  https://www.dov.vlaanderen.be/data/boring/2016...  B/1-102786  201783.0   \n",
       "4  https://www.dov.vlaanderen.be/data/boring/2016...  B/1-102786  201783.0   \n",
       "\n",
       "          y  mv_mtaw  start_boring_mtaw gemeente  diepte_boring_van  \\\n",
       "0  212962.0     25.0               25.0      Mol                0.0   \n",
       "1  212961.0     25.0               25.0      Mol                0.0   \n",
       "2  212961.0     25.0               25.0      Mol                0.0   \n",
       "3  212961.0     25.0               25.0      Mol                0.0   \n",
       "4  212961.0     25.0               25.0      Mol                0.0   \n",
       "\n",
       "   diepte_boring_tot datum_aanvang          uitvoerder  boorgatmeting  \\\n",
       "0             4341.0    2016-03-02  THV Daldrup - Smet           True   \n",
       "1             3610.0    2015-09-14  THV Daldrup - Smet           True   \n",
       "2             3610.0    2015-09-14  THV Daldrup - Smet           True   \n",
       "3             3610.0    2015-09-14  THV Daldrup - Smet           True   \n",
       "4             3610.0    2015-09-14  THV Daldrup - Smet           True   \n",
       "\n",
       "   diepte_methode_van  diepte_methode_tot  boormethode  \n",
       "0                 0.0              4341.0  spoelboring  \n",
       "1                 0.0              1034.0  spoelboring  \n",
       "2              1034.0              1042.0   kernboring  \n",
       "3              1042.0              2926.0  spoelboring  \n",
       "4              2926.0              2931.0   kernboring  "
      ]
     },
     "execution_count": 93,
     "metadata": {},
     "output_type": "execute_result"
    }
   ],
   "source": [
    "from owslib.fes import PropertyIsGreaterThanOrEqualTo\n",
    "\n",
    "\n",
    "query = PropertyIsGreaterThanOrEqualTo(\n",
    "            propertyname='diepte_boring_tot',\n",
    "            literal='2000')\n",
    "\n",
    "df = boring.search(\n",
    "    location=(200000, 211000, 205000, 214000),\n",
    "    query=query\n",
    "    )\n",
    "\n",
    "df.head()"
   ]
  },
  {
   "cell_type": "markdown",
   "metadata": {},
   "source": [
    "We can look at one of the boreholes in a webbrowser using its *pkey_boring*:"
   ]
  },
  {
   "cell_type": "code",
   "execution_count": 94,
   "metadata": {},
   "outputs": [
    {
     "name": "stdout",
     "output_type": "stream",
     "text": [
      "https://www.dov.vlaanderen.be/data/boring/2016-148766\n",
      "https://www.dov.vlaanderen.be/data/boring/2016-148767\n"
     ]
    }
   ],
   "source": [
    "for pkey_boring in set(df.pkey_boring):\n",
    "    print(pkey_boring)"
   ]
  },
  {
   "cell_type": "markdown",
   "metadata": {},
   "source": [
    "### Select boreholes in a municipality and return depth"
   ]
  },
  {
   "cell_type": "markdown",
   "metadata": {},
   "source": [
    "We can limit the columns in the output dataframe by specifying the *return_fields* parameter in our search.\n",
    "\n",
    "In this example we query all the boreholes in the city of Ghent and return their depth:"
   ]
  },
  {
   "cell_type": "code",
   "execution_count": 95,
   "metadata": {},
   "outputs": [
    {
     "data": {
      "text/html": [
       "<div>\n",
       "<style scoped>\n",
       "    .dataframe tbody tr th:only-of-type {\n",
       "        vertical-align: middle;\n",
       "    }\n",
       "\n",
       "    .dataframe tbody tr th {\n",
       "        vertical-align: top;\n",
       "    }\n",
       "\n",
       "    .dataframe thead th {\n",
       "        text-align: right;\n",
       "    }\n",
       "</style>\n",
       "<table border=\"1\" class=\"dataframe\">\n",
       "  <thead>\n",
       "    <tr style=\"text-align: right;\">\n",
       "      <th></th>\n",
       "      <th>diepte_boring_tot</th>\n",
       "    </tr>\n",
       "  </thead>\n",
       "  <tbody>\n",
       "    <tr>\n",
       "      <th>0</th>\n",
       "      <td>42.0</td>\n",
       "    </tr>\n",
       "    <tr>\n",
       "      <th>1</th>\n",
       "      <td>32.0</td>\n",
       "    </tr>\n",
       "    <tr>\n",
       "      <th>2</th>\n",
       "      <td>59.0</td>\n",
       "    </tr>\n",
       "    <tr>\n",
       "      <th>3</th>\n",
       "      <td>11.0</td>\n",
       "    </tr>\n",
       "    <tr>\n",
       "      <th>4</th>\n",
       "      <td>27.0</td>\n",
       "    </tr>\n",
       "  </tbody>\n",
       "</table>\n",
       "</div>"
      ],
      "text/plain": [
       "   diepte_boring_tot\n",
       "0               42.0\n",
       "1               32.0\n",
       "2               59.0\n",
       "3               11.0\n",
       "4               27.0"
      ]
     },
     "execution_count": 95,
     "metadata": {},
     "output_type": "execute_result"
    }
   ],
   "source": [
    "query = PropertyIsEqualTo(propertyname='gemeente',\n",
    "                          literal='Gent')\n",
    "df = boring.search(query=query,\n",
    "                   return_fields=('diepte_boring_tot',))\n",
    "df.head()"
   ]
  },
  {
   "cell_type": "code",
   "execution_count": 96,
   "metadata": {},
   "outputs": [
    {
     "data": {
      "text/html": [
       "<div>\n",
       "<style scoped>\n",
       "    .dataframe tbody tr th:only-of-type {\n",
       "        vertical-align: middle;\n",
       "    }\n",
       "\n",
       "    .dataframe tbody tr th {\n",
       "        vertical-align: top;\n",
       "    }\n",
       "\n",
       "    .dataframe thead th {\n",
       "        text-align: right;\n",
       "    }\n",
       "</style>\n",
       "<table border=\"1\" class=\"dataframe\">\n",
       "  <thead>\n",
       "    <tr style=\"text-align: right;\">\n",
       "      <th></th>\n",
       "      <th>diepte_boring_tot</th>\n",
       "    </tr>\n",
       "  </thead>\n",
       "  <tbody>\n",
       "    <tr>\n",
       "      <th>count</th>\n",
       "      <td>2648.000000</td>\n",
       "    </tr>\n",
       "    <tr>\n",
       "      <th>mean</th>\n",
       "      <td>15.449381</td>\n",
       "    </tr>\n",
       "    <tr>\n",
       "      <th>std</th>\n",
       "      <td>32.202824</td>\n",
       "    </tr>\n",
       "    <tr>\n",
       "      <th>min</th>\n",
       "      <td>0.000000</td>\n",
       "    </tr>\n",
       "    <tr>\n",
       "      <th>25%</th>\n",
       "      <td>0.000000</td>\n",
       "    </tr>\n",
       "    <tr>\n",
       "      <th>50%</th>\n",
       "      <td>6.000000</td>\n",
       "    </tr>\n",
       "    <tr>\n",
       "      <th>75%</th>\n",
       "      <td>20.000000</td>\n",
       "    </tr>\n",
       "    <tr>\n",
       "      <th>max</th>\n",
       "      <td>660.000000</td>\n",
       "    </tr>\n",
       "  </tbody>\n",
       "</table>\n",
       "</div>"
      ],
      "text/plain": [
       "       diepte_boring_tot\n",
       "count        2648.000000\n",
       "mean           15.449381\n",
       "std            32.202824\n",
       "min             0.000000\n",
       "25%             0.000000\n",
       "50%             6.000000\n",
       "75%            20.000000\n",
       "max           660.000000"
      ]
     },
     "execution_count": 96,
     "metadata": {},
     "output_type": "execute_result"
    }
   ],
   "source": [
    "df.describe()"
   ]
  },
  {
   "cell_type": "markdown",
   "metadata": {},
   "source": [
    "By discarding the boreholes with a depth of 0 m, we get a different result:"
   ]
  },
  {
   "cell_type": "code",
   "execution_count": 97,
   "metadata": {},
   "outputs": [
    {
     "data": {
      "text/html": [
       "<div>\n",
       "<style scoped>\n",
       "    .dataframe tbody tr th:only-of-type {\n",
       "        vertical-align: middle;\n",
       "    }\n",
       "\n",
       "    .dataframe tbody tr th {\n",
       "        vertical-align: top;\n",
       "    }\n",
       "\n",
       "    .dataframe thead th {\n",
       "        text-align: right;\n",
       "    }\n",
       "</style>\n",
       "<table border=\"1\" class=\"dataframe\">\n",
       "  <thead>\n",
       "    <tr style=\"text-align: right;\">\n",
       "      <th></th>\n",
       "      <th>diepte_boring_tot</th>\n",
       "    </tr>\n",
       "  </thead>\n",
       "  <tbody>\n",
       "    <tr>\n",
       "      <th>count</th>\n",
       "      <td>1973.000000</td>\n",
       "    </tr>\n",
       "    <tr>\n",
       "      <th>mean</th>\n",
       "      <td>20.734901</td>\n",
       "    </tr>\n",
       "    <tr>\n",
       "      <th>std</th>\n",
       "      <td>35.809718</td>\n",
       "    </tr>\n",
       "    <tr>\n",
       "      <th>min</th>\n",
       "      <td>0.100000</td>\n",
       "    </tr>\n",
       "    <tr>\n",
       "      <th>25%</th>\n",
       "      <td>5.000000</td>\n",
       "    </tr>\n",
       "    <tr>\n",
       "      <th>50%</th>\n",
       "      <td>12.000000</td>\n",
       "    </tr>\n",
       "    <tr>\n",
       "      <th>75%</th>\n",
       "      <td>22.000000</td>\n",
       "    </tr>\n",
       "    <tr>\n",
       "      <th>max</th>\n",
       "      <td>660.000000</td>\n",
       "    </tr>\n",
       "  </tbody>\n",
       "</table>\n",
       "</div>"
      ],
      "text/plain": [
       "       diepte_boring_tot\n",
       "count        1973.000000\n",
       "mean           20.734901\n",
       "std            35.809718\n",
       "min             0.100000\n",
       "25%             5.000000\n",
       "50%            12.000000\n",
       "75%            22.000000\n",
       "max           660.000000"
      ]
     },
     "execution_count": 97,
     "metadata": {},
     "output_type": "execute_result"
    }
   ],
   "source": [
    "df[df.diepte_boring_tot != 0].describe()"
   ]
  },
  {
   "cell_type": "code",
   "execution_count": 98,
   "metadata": {},
   "outputs": [
    {
     "data": {
      "text/plain": [
       "<matplotlib.axes._subplots.AxesSubplot at 0x2545c0852b0>"
      ]
     },
     "execution_count": 98,
     "metadata": {},
     "output_type": "execute_result"
    },
    {
     "data": {
      "image/png": "[encoded data removed]",
      "text/plain": [
       "<Figure size 432x288 with 1 Axes>"
      ]
     },
     "metadata": {},
     "output_type": "display_data"
    }
   ],
   "source": [
    "df[df.diepte_boring_tot != 0].boxplot()"
   ]
  },
  {
   "cell_type": "markdown",
   "metadata": {},
   "source": [
    "### Get boreholes based on fields not available in the standard output dataframe"
   ]
  },
  {
   "cell_type": "markdown",
   "metadata": {},
   "source": [
    "To keep the output dataframe size acceptable, not all availabe WFS fields are included in the standard output. However, one can use this information to select boreholes as illustrated below.\n",
    "\n",
    "For example, make a selection of the boreholes in municipality the of Antwerp, for which a hydrogeological interpretation was performed:"
   ]
  },
  {
   "cell_type": "code",
   "execution_count": 99,
   "metadata": {},
   "outputs": [
    {
     "data": {
      "text/html": [
       "<div>\n",
       "<style scoped>\n",
       "    .dataframe tbody tr th:only-of-type {\n",
       "        vertical-align: middle;\n",
       "    }\n",
       "\n",
       "    .dataframe tbody tr th {\n",
       "        vertical-align: top;\n",
       "    }\n",
       "\n",
       "    .dataframe thead th {\n",
       "        text-align: right;\n",
       "    }\n",
       "</style>\n",
       "<table border=\"1\" class=\"dataframe\">\n",
       "  <thead>\n",
       "    <tr style=\"text-align: right;\">\n",
       "      <th></th>\n",
       "      <th>pkey_boring</th>\n",
       "      <th>boornummer</th>\n",
       "      <th>x</th>\n",
       "      <th>y</th>\n",
       "      <th>diepte_boring_tot</th>\n",
       "      <th>datum_aanvang</th>\n",
       "    </tr>\n",
       "  </thead>\n",
       "  <tbody>\n",
       "    <tr>\n",
       "      <th>0</th>\n",
       "      <td>https://www.dov.vlaanderen.be/data/boring/1937...</td>\n",
       "      <td>kb7d14e-B82</td>\n",
       "      <td>145457.0</td>\n",
       "      <td>224973.5</td>\n",
       "      <td>10.0</td>\n",
       "      <td>1937-01-02</td>\n",
       "    </tr>\n",
       "    <tr>\n",
       "      <th>1</th>\n",
       "      <td>https://www.dov.vlaanderen.be/data/boring/1969...</td>\n",
       "      <td>kb7d14e-B110</td>\n",
       "      <td>143700.4</td>\n",
       "      <td>228086.3</td>\n",
       "      <td>12.0</td>\n",
       "      <td>1969-01-01</td>\n",
       "    </tr>\n",
       "    <tr>\n",
       "      <th>2</th>\n",
       "      <td>https://www.dov.vlaanderen.be/data/boring/1966...</td>\n",
       "      <td>kb7d14e-B115</td>\n",
       "      <td>143067.0</td>\n",
       "      <td>227707.6</td>\n",
       "      <td>66.0</td>\n",
       "      <td>1966-01-01</td>\n",
       "    </tr>\n",
       "    <tr>\n",
       "      <th>3</th>\n",
       "      <td>https://www.dov.vlaanderen.be/data/boring/1966...</td>\n",
       "      <td>kb7d14e-B117</td>\n",
       "      <td>144770.5</td>\n",
       "      <td>223430.6</td>\n",
       "      <td>49.0</td>\n",
       "      <td>1966-01-01</td>\n",
       "    </tr>\n",
       "    <tr>\n",
       "      <th>4</th>\n",
       "      <td>https://www.dov.vlaanderen.be/data/boring/1970...</td>\n",
       "      <td>kb7d14e-B121</td>\n",
       "      <td>143597.8</td>\n",
       "      <td>223498.6</td>\n",
       "      <td>11.9</td>\n",
       "      <td>1970-01-01</td>\n",
       "    </tr>\n",
       "  </tbody>\n",
       "</table>\n",
       "</div>"
      ],
      "text/plain": [
       "                                         pkey_boring    boornummer         x  \\\n",
       "0  https://www.dov.vlaanderen.be/data/boring/1937...   kb7d14e-B82  145457.0   \n",
       "1  https://www.dov.vlaanderen.be/data/boring/1969...  kb7d14e-B110  143700.4   \n",
       "2  https://www.dov.vlaanderen.be/data/boring/1966...  kb7d14e-B115  143067.0   \n",
       "3  https://www.dov.vlaanderen.be/data/boring/1966...  kb7d14e-B117  144770.5   \n",
       "4  https://www.dov.vlaanderen.be/data/boring/1970...  kb7d14e-B121  143597.8   \n",
       "\n",
       "          y  diepte_boring_tot datum_aanvang  \n",
       "0  224973.5               10.0    1937-01-02  \n",
       "1  228086.3               12.0    1969-01-01  \n",
       "2  227707.6               66.0    1966-01-01  \n",
       "3  223430.6               49.0    1966-01-01  \n",
       "4  223498.6               11.9    1970-01-01  "
      ]
     },
     "execution_count": 99,
     "metadata": {},
     "output_type": "execute_result"
    }
   ],
   "source": [
    "from owslib.fes import And\n",
    "\n",
    "query = And([PropertyIsEqualTo(propertyname='gemeente',\n",
    "                               literal='Antwerpen'),\n",
    "             PropertyIsEqualTo(propertyname='hydrogeologische_stratigrafie', \n",
    "                               literal='True')]\n",
    "            )\n",
    "df = boring.search(query=query,\n",
    "                   return_fields=('pkey_boring', 'boornummer', 'x', 'y', 'diepte_boring_tot', 'datum_aanvang'))\n",
    "df.head()"
   ]
  },
  {
   "cell_type": "markdown",
   "metadata": {},
   "source": [
    "### Get borehole data, returning fields not available in the standard output dataframe"
   ]
  },
  {
   "cell_type": "markdown",
   "metadata": {},
   "source": [
    "As denoted in the previous example, not all available fields are available in the default output frame to keep its size limited. However, you can request any available field by including it in the *return_fields* parameter of the search:"
   ]
  },
  {
   "cell_type": "code",
   "execution_count": null,
   "metadata": {},
   "outputs": [],
   "source": [
    "query = PropertyIsGreaterThanOrEqualTo(\n",
    "            propertyname='diepte_boring_tot',\n",
    "            literal='2000')\n",
    "\n",
    "df = boring.search(query=query,\n",
    "                   return_fields=('pkey_boring', 'boornummer', 'diepte_boring_tot',\n",
    "                                  'informele_stratigrafie', 'formele_stratigrafie', 'lithologische_beschrijving',\n",
    "                                  'gecodeerde_lithologie', 'hydrogeologische_stratigrafie', 'quartaire_stratigrafie',\n",
    "                                  'geotechnische_codering', 'informele_hydrostratigrafie'))\n",
    "\n",
    "df.head()"
   ]
  },
  {
   "cell_type": "markdown",
   "metadata": {},
   "source": [
    "### Get boreholes in a municipality and where groundwater related data are available"
   ]
  },
  {
   "cell_type": "markdown",
   "metadata": {},
   "source": [
    "The following full example return all boreholes where *gemeente* is 'Antwerpen' and either *putnummer* is not empty or *doel* starts with 'Grondwater' or *erkenning* is '2. Andere grondwaterwinningen'."
   ]
  },
  {
   "cell_type": "code",
   "execution_count": 79,
   "metadata": {},
   "outputs": [
    {
     "data": {
      "text/html": [
       "<div>\n",
       "<style scoped>\n",
       "    .dataframe tbody tr th:only-of-type {\n",
       "        vertical-align: middle;\n",
       "    }\n",
       "\n",
       "    .dataframe tbody tr th {\n",
       "        vertical-align: top;\n",
       "    }\n",
       "\n",
       "    .dataframe thead th {\n",
       "        text-align: right;\n",
       "    }\n",
       "</style>\n",
       "<table border=\"1\" class=\"dataframe\">\n",
       "  <thead>\n",
       "    <tr style=\"text-align: right;\">\n",
       "      <th></th>\n",
       "      <th>pkey_boring</th>\n",
       "      <th>boornummer</th>\n",
       "      <th>x</th>\n",
       "      <th>y</th>\n",
       "      <th>mv_mtaw</th>\n",
       "      <th>start_boring_mtaw</th>\n",
       "      <th>gemeente</th>\n",
       "      <th>diepte_boring_van</th>\n",
       "      <th>diepte_boring_tot</th>\n",
       "      <th>datum_aanvang</th>\n",
       "      <th>uitvoerder</th>\n",
       "      <th>boorgatmeting</th>\n",
       "      <th>diepte_methode_van</th>\n",
       "      <th>diepte_methode_tot</th>\n",
       "      <th>boormethode</th>\n",
       "    </tr>\n",
       "  </thead>\n",
       "  <tbody>\n",
       "    <tr>\n",
       "      <th>0</th>\n",
       "      <td>https://www.dov.vlaanderen.be/data/boring/1997...</td>\n",
       "      <td>kb15d28e-B741</td>\n",
       "      <td>154825.0</td>\n",
       "      <td>212445.0</td>\n",
       "      <td>5.00</td>\n",
       "      <td>5.00</td>\n",
       "      <td>Antwerpen</td>\n",
       "      <td>0.0</td>\n",
       "      <td>36.5</td>\n",
       "      <td>1996-12-31</td>\n",
       "      <td>Meysen Dammekens (Dammekens)-Hoboken</td>\n",
       "      <td>False</td>\n",
       "      <td>0.0</td>\n",
       "      <td>36.5</td>\n",
       "      <td>onbekend</td>\n",
       "    </tr>\n",
       "    <tr>\n",
       "      <th>1</th>\n",
       "      <td>https://www.dov.vlaanderen.be/data/boring/1996...</td>\n",
       "      <td>kb15d43w-B393</td>\n",
       "      <td>151150.0</td>\n",
       "      <td>206550.0</td>\n",
       "      <td>18.09</td>\n",
       "      <td>18.09</td>\n",
       "      <td>Antwerpen</td>\n",
       "      <td>0.0</td>\n",
       "      <td>104.0</td>\n",
       "      <td>1996-06-26</td>\n",
       "      <td>Meysen Dammekens (Dammekens)-Hoboken</td>\n",
       "      <td>False</td>\n",
       "      <td>0.0</td>\n",
       "      <td>104.0</td>\n",
       "      <td>spoelboring</td>\n",
       "    </tr>\n",
       "    <tr>\n",
       "      <th>2</th>\n",
       "      <td>https://www.dov.vlaanderen.be/data/boring/2016...</td>\n",
       "      <td>B/1-102776</td>\n",
       "      <td>153099.0</td>\n",
       "      <td>213577.0</td>\n",
       "      <td>-1.00</td>\n",
       "      <td>-1.00</td>\n",
       "      <td>Antwerpen</td>\n",
       "      <td>0.0</td>\n",
       "      <td>0.0</td>\n",
       "      <td>NaN</td>\n",
       "      <td>NaN</td>\n",
       "      <td>False</td>\n",
       "      <td>0.0</td>\n",
       "      <td>0.0</td>\n",
       "      <td>onbekend</td>\n",
       "    </tr>\n",
       "    <tr>\n",
       "      <th>3</th>\n",
       "      <td>https://www.dov.vlaanderen.be/data/boring/2017...</td>\n",
       "      <td>1434-BG000106-9</td>\n",
       "      <td>149486.0</td>\n",
       "      <td>221697.0</td>\n",
       "      <td>5.98</td>\n",
       "      <td>5.98</td>\n",
       "      <td>Antwerpen</td>\n",
       "      <td>0.0</td>\n",
       "      <td>50.0</td>\n",
       "      <td>2017-02-09</td>\n",
       "      <td>SMET GROUP OVERSEAS</td>\n",
       "      <td>False</td>\n",
       "      <td>0.0</td>\n",
       "      <td>50.0</td>\n",
       "      <td>spoelboring</td>\n",
       "    </tr>\n",
       "    <tr>\n",
       "      <th>4</th>\n",
       "      <td>https://www.dov.vlaanderen.be/data/boring/2017...</td>\n",
       "      <td>B/1-102987</td>\n",
       "      <td>149408.0</td>\n",
       "      <td>224256.0</td>\n",
       "      <td>-1.00</td>\n",
       "      <td>-1.00</td>\n",
       "      <td>Antwerpen</td>\n",
       "      <td>0.0</td>\n",
       "      <td>0.0</td>\n",
       "      <td>NaN</td>\n",
       "      <td>NaN</td>\n",
       "      <td>False</td>\n",
       "      <td>0.0</td>\n",
       "      <td>0.0</td>\n",
       "      <td>onbekend</td>\n",
       "    </tr>\n",
       "  </tbody>\n",
       "</table>\n",
       "</div>"
      ],
      "text/plain": [
       "                                         pkey_boring       boornummer  \\\n",
       "0  https://www.dov.vlaanderen.be/data/boring/1997...    kb15d28e-B741   \n",
       "1  https://www.dov.vlaanderen.be/data/boring/1996...    kb15d43w-B393   \n",
       "2  https://www.dov.vlaanderen.be/data/boring/2016...       B/1-102776   \n",
       "3  https://www.dov.vlaanderen.be/data/boring/2017...  1434-BG000106-9   \n",
       "4  https://www.dov.vlaanderen.be/data/boring/2017...       B/1-102987   \n",
       "\n",
       "          x         y  mv_mtaw  start_boring_mtaw   gemeente  \\\n",
       "0  154825.0  212445.0     5.00               5.00  Antwerpen   \n",
       "1  151150.0  206550.0    18.09              18.09  Antwerpen   \n",
       "2  153099.0  213577.0    -1.00              -1.00  Antwerpen   \n",
       "3  149486.0  221697.0     5.98               5.98  Antwerpen   \n",
       "4  149408.0  224256.0    -1.00              -1.00  Antwerpen   \n",
       "\n",
       "   diepte_boring_van  diepte_boring_tot datum_aanvang  \\\n",
       "0                0.0               36.5    1996-12-31   \n",
       "1                0.0              104.0    1996-06-26   \n",
       "2                0.0                0.0           NaN   \n",
       "3                0.0               50.0    2017-02-09   \n",
       "4                0.0                0.0           NaN   \n",
       "\n",
       "                             uitvoerder  boorgatmeting  diepte_methode_van  \\\n",
       "0  Meysen Dammekens (Dammekens)-Hoboken          False                 0.0   \n",
       "1  Meysen Dammekens (Dammekens)-Hoboken          False                 0.0   \n",
       "2                                   NaN          False                 0.0   \n",
       "3                   SMET GROUP OVERSEAS          False                 0.0   \n",
       "4                                   NaN          False                 0.0   \n",
       "\n",
       "   diepte_methode_tot  boormethode  \n",
       "0                36.5     onbekend  \n",
       "1               104.0  spoelboring  \n",
       "2                 0.0     onbekend  \n",
       "3                50.0  spoelboring  \n",
       "4                 0.0     onbekend  "
      ]
     },
     "execution_count": 79,
     "metadata": {},
     "output_type": "execute_result"
    }
   ],
   "source": [
    "from owslib.fes import PropertyIsLike\n",
    "from owslib.fes import PropertyIsNull\n",
    "from owslib.fes import Or\n",
    "from owslib.fes import Not\n",
    "\n",
    "query = And([PropertyIsEqualTo(propertyname='gemeente',\n",
    "                               literal='Antwerpen'),\n",
    "             Or([Not([PropertyIsNull(propertyname='putnummer')]),\n",
    "                PropertyIsLike(propertyname='doel',\n",
    "                               literal='Grondwater%'),\n",
    "                PropertyIsEqualTo(propertyname='erkenning', \n",
    "                                  literal='2. Andere grondwaterwinningen')]\n",
    "               )]\n",
    "           )\n",
    "df = boring.search(query=query)\n",
    "df.head()"
   ]
  },
  {
   "cell_type": "markdown",
   "metadata": {},
   "source": [
    "## Visualize results"
   ]
  },
  {
   "cell_type": "markdown",
   "metadata": {},
   "source": [
    "Using Folium, we can display the results of our search on a map."
   ]
  },
  {
   "cell_type": "code",
   "execution_count": 76,
   "metadata": {
    "collapsed": true
   },
   "outputs": [],
   "source": [
    "# import the necessary modules (not included in the requirements of pydov!)\n",
    "import folium\n",
    "from folium.plugins import MarkerCluster\n",
    "from pyproj import Proj, transform"
   ]
  },
  {
   "cell_type": "code",
   "execution_count": 77,
   "metadata": {
    "collapsed": true
   },
   "outputs": [],
   "source": [
    "# convert the coordinates to lat/lon for folium\n",
    "def convert_latlon(x1, y1):\n",
    "    inProj = Proj(init='epsg:31370')\n",
    "    outProj = Proj(init='epsg:4326')\n",
    "    x2,y2 = transform(inProj, outProj, x1, y1)\n",
    "    return x2, y2\n",
    "df['lon'], df['lat'] = zip(*map(convert_latlon, df['x'], df['y'])) \n",
    "# convert to list\n",
    "loclist = df[['lat', 'lon']].values.tolist()"
   ]
  },
  {
   "cell_type": "code",
   "execution_count": 78,
   "metadata": {},
   "outputs": [
    {
     "data": {
      "text/html": [
       "<div style=\"width:100%;\"><div style=\"position:relative;width:100%;height:0;padding-bottom:60%;\"><iframe src=\"data:text/html;charset=utf-8;base64,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\" style=\"position:absolute;width:100%;height:100%;left:0;top:0;border:none !important;\" allowfullscreen webkitallowfullscreen mozallowfullscreen></iframe></div></div>"
      ],
      "text/plain": [
       "<folium.folium.Map at 0x2545bfec9b0>"
      ]
     },
     "execution_count": 78,
     "metadata": {},
     "output_type": "execute_result"
    }
   ],
   "source": [
    "# initialize the Folium map on the centre of the selected locations, play with the zoom until ok\n",
    "fmap = folium.Map(location=[df['lat'].mean(), df['lon'].mean()], zoom_start=12)\n",
    "marker_cluster = MarkerCluster().add_to(fmap)\n",
    "for loc in range(0, len(loclist)):\n",
    "    folium.Marker(loclist[loc], popup=df['boornummer'][loc]).add_to(marker_cluster)\n",
    "fmap\n"
   ]
  },
  {
   "cell_type": "code",
   "execution_count": null,
   "metadata": {
    "collapsed": true
   },
   "outputs": [],
   "source": []
  }
 ],
 "metadata": {
  "kernelspec": {
   "display_name": "Python 3",
   "language": "python",
   "name": "python3"
  },
  "language_info": {
   "codemirror_mode": {
    "name": "ipython",
    "version": 3
   },
   "file_extension": ".py",
   "mimetype": "text/x-python",
   "name": "python",
   "nbconvert_exporter": "python",
   "pygments_lexer": "ipython3",
   "version": "3.6.2"
  }
 },
 "nbformat": 4,
 "nbformat_minor": 2
}
