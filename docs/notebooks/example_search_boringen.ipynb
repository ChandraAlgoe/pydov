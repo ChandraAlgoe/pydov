{
 "cells": [
  {
   "cell_type": "markdown",
   "metadata": {},
   "source": [
    "# Example of DOV search methods for boringen\n",
    "\n",
    "@pjhaest\n",
    "date 20180503"
   ]
  },
  {
   "cell_type": "markdown",
   "metadata": {},
   "source": [
    "## Use cases:\n",
    "* Select boreholes in a bbox\n",
    "* Select boreholes in a bbox with selected properties\n",
    "* Select boreholes in a municipality\n",
    "* Select boreholes in a municipality and return depth\n",
    "* Get boreholes using info from wfs fields, not available in the standard output dataframe\n",
    "* Get boreholes for a municipality where groundwater related data are available\n",
    "\n",
    "\n"
   ]
  },
  {
   "cell_type": "code",
   "execution_count": 1,
   "metadata": {},
   "outputs": [],
   "source": [
    "%matplotlib inline\n",
    "import os, sys\n",
    "import inspect"
   ]
  },
  {
   "cell_type": "code",
   "execution_count": 2,
   "metadata": {},
   "outputs": [
    {
     "name": "stdout",
     "output_type": "stream",
     "text": [
      "['c:\\\\_workingdir\\\\pydov\\\\pydov']\n"
     ]
    }
   ],
   "source": [
    "# check pydov path\n",
    "import pydov\n",
    "print(pydov.__path__)"
   ]
  },
  {
   "cell_type": "markdown",
   "metadata": {},
   "source": [
    "## Get information about code base"
   ]
  },
  {
   "cell_type": "code",
   "execution_count": 3,
   "metadata": {},
   "outputs": [
    {
     "name": "stdout",
     "output_type": "stream",
     "text": [
      "In de DOV-databank is elke waarneming van grondlagen een boring. Bij de meeste boringen wordt er met een boortoestel een gat gemaakt in de ondergrond om de verschillende grondlagen te kunnen beschrijven. Aan de hand van een boring krijg je een beeld van het materiaal in de ondergrond met toenemende diepte. Afhankelijk van het doel waarvoor de boring geplaatst wordt, zal men een geschikte boormethode toepassen. Boringen worden geplaatst voor verkennend bodemonderzoek, monstername van het sediment en/of grondwater, bepaling van bodemfysische parameters, milieuhygienisch onderzoek,... Afhankelijk van de diepte, soort materiaal, en het al dan niet boren tot onder de grondwatertafel kan men kiezen uit verscheidene systemen voor handmatig of machinaal te boren. Het bodemmateriaal dat vrijkomt, kan gebruikt worden om een profiel van de ondergrond op te stellen of om er grondmonsters van te nemen om verdere analyses op uit te voeren. Vaak is het de bedoeling een put uit te bouwen zodat water kan gewonnen worden (zie ook grondwatermeetnet en grondwatervergunningen). Soms worden boringen uitgevoerd om een aantal geotechnische karakteristieken te bepalen of om wetenschappelijk onderzoek uit te voeren. Oppervlakkige waarnemingen van de ondergrond noemen we ook boringen. Vooral rond 1900 beschreven een aantal geologen vaak de oppervlakkige lagen. In de databank staan er dan ook verschillende boringen met een diepte van 0 meter. Het gaat vooral om weginsnijdingen of om zichtbare lithologische kenmerken langs de oppervlakte.\n"
     ]
    }
   ],
   "source": [
    "from pydov.search.boring import BoringSearch\n",
    "boring = BoringSearch()\n",
    "\n",
    "# information about the Boring type (In Dutch):\n",
    "print(boring.get_description())"
   ]
  },
  {
   "cell_type": "code",
   "execution_count": 4,
   "metadata": {},
   "outputs": [
    {
     "name": "stderr",
     "output_type": "stream",
     "text": [
      "C:\\ProgramData\\Anaconda3\\lib\\site-packages\\owslib\\iso.py:117: FutureWarning: the .identification and .serviceidentification properties will merge into .identification being a list of properties.  This is currently implemented in .identificationinfo.  Please see https://github.com/geopython/OWSLib/issues/38 for more information\n",
      "  FutureWarning)\n"
     ]
    },
    {
     "name": "stdout",
     "output_type": "stream",
     "text": [
      "generated_id\n",
      "id\n",
      "boornummer\n",
      "pkey_boring\n",
      "rapport\n",
      "diepte_boring_tot\n",
      "datum_aanvang\n",
      "namen\n",
      "putnummer\n",
      "x\n",
      "y\n",
      "start_boring_mtaw\n",
      "gemeente\n",
      "uitvoerder\n",
      "doel\n",
      "methode\n",
      "erkenning\n",
      "opdrachtgever\n",
      "informele_stratigrafie\n",
      "formele_stratigrafie\n",
      "lithologische_beschrijving\n",
      "gecodeerde_lithologie\n",
      "hydrogeologische_stratigrafie\n",
      "quartaire_stratigrafie\n",
      "geotechnische_codering\n",
      "informele_hydrostratigrafie\n",
      "doorheen_quartair\n",
      "dikte_quartair\n",
      "tertiair_onder_quartair\n",
      "opdrachten\n",
      "mv_mtaw\n",
      "diepte_boring_van\n",
      "boorgatmeting\n",
      "diepte_methode_van\n",
      "diepte_methode_tot\n",
      "boormethode\n"
     ]
    }
   ],
   "source": [
    "# information about the available fields for a Boring object\n",
    "fields = boring.get_fields()\n",
    "# print available fields\n",
    "for f in fields.values():\n",
    "    print(f['name'])"
   ]
  },
  {
   "cell_type": "code",
   "execution_count": 5,
   "metadata": {},
   "outputs": [
    {
     "data": {
      "text/plain": [
       "{'cost': 1,\n",
       " 'definition': 'Maximumdiepte van de boring ten opzichte van het aanvangspeil, in meter.',\n",
       " 'name': 'diepte_boring_tot',\n",
       " 'notnull': False,\n",
       " 'type': 'float'}"
      ]
     },
     "execution_count": 5,
     "metadata": {},
     "output_type": "execute_result"
    }
   ],
   "source": [
    "# print information for a certain field\n",
    "fields['diepte_boring_tot']"
   ]
  },
  {
   "cell_type": "markdown",
   "metadata": {},
   "source": [
    "The cost is an arbitrary attribute to indicate if the information is retrieved from a wfs query (cost = 1), \n",
    "or from an xml (cost = 10)"
   ]
  },
  {
   "cell_type": "code",
   "execution_count": 6,
   "metadata": {},
   "outputs": [
    {
     "data": {
      "text/plain": [
       "{'cost': 1,\n",
       " 'definition': \"De methode waarmee de boring uitgevoerd werd. Heeft als waarde 'onbekend' indien de methode niet gekend is.\",\n",
       " 'name': 'methode',\n",
       " 'notnull': True,\n",
       " 'type': 'string',\n",
       " 'values': ['avegaarboring',\n",
       "  'droge boring',\n",
       "  'edelmanboring',\n",
       "  'geen boring',\n",
       "  'gestoken boring',\n",
       "  'graafmachine',\n",
       "  'handboring',\n",
       "  'kernboring',\n",
       "  'lansen',\n",
       "  'lepelboring',\n",
       "  'luchthamer',\n",
       "  'luchthevelboren of air-lift boren',\n",
       "  'meerdere technieken',\n",
       "  'omgek. spoelboring',\n",
       "  'onbekend',\n",
       "  'pulsboring',\n",
       "  'ramguts',\n",
       "  'ramkernboring',\n",
       "  'rollerbit',\n",
       "  'slagboring',\n",
       "  'spade',\n",
       "  'spiraalboring',\n",
       "  'spoelboring',\n",
       "  'steenboring',\n",
       "  'trilboring',\n",
       "  'voorput',\n",
       "  'zuigboring']}"
      ]
     },
     "execution_count": 6,
     "metadata": {},
     "output_type": "execute_result"
    }
   ],
   "source": [
    "# if an attribute can have several values, these are listed under 'values', e.g. for 'methode':\n",
    "fields['methode']"
   ]
  },
  {
   "cell_type": "markdown",
   "metadata": {},
   "source": [
    "## Try-out of use cases"
   ]
  },
  {
   "cell_type": "markdown",
   "metadata": {},
   "source": [
    "### Select boreholes in a bbox"
   ]
  },
  {
   "cell_type": "code",
   "execution_count": 7,
   "metadata": {},
   "outputs": [
    {
     "name": "stdout",
     "output_type": "stream",
     "text": [
      "                                         pkey_boring     boornummer         x  \\\n",
      "0  https://www.dov.vlaanderen.be/data/boring/1974...  GEO-74/254-b1  153147.0   \n",
      "1  https://www.dov.vlaanderen.be/data/boring/1974...  GEO-74/254-b1  153147.0   \n",
      "2  https://www.dov.vlaanderen.be/data/boring/1974...  GEO-74/254-b1  153147.0   \n",
      "\n",
      "          y  mv_mtaw  start_boring_mtaw   gemeente  diepte_boring_van  \\\n",
      "0  206931.0    14.12              14.12  Antwerpen                0.0   \n",
      "1  206931.0    14.12              14.12  Antwerpen                0.0   \n",
      "2  206931.0    14.12              14.12  Antwerpen                0.0   \n",
      "\n",
      "   diepte_boring_tot datum_aanvang                          uitvoerder  \\\n",
      "0              14.05    1974-07-02  Rijksinstituut voor Grondmechanica   \n",
      "1              14.05    1974-07-02  Rijksinstituut voor Grondmechanica   \n",
      "2              14.05    1974-07-02  Rijksinstituut voor Grondmechanica   \n",
      "\n",
      "   boorgatmeting  diepte_methode_van  diepte_methode_tot  boormethode  \n",
      "0          False                 0.0                1.30  lepelboring  \n",
      "1          False                 1.3               13.50   pulsboring  \n",
      "2          False                13.5               14.05  lepelboring  \n"
     ]
    }
   ],
   "source": [
    "# Get all borehole data in a bounding box (llx, llxy, ulx, uly)\n",
    "# the pkey_boring link is not available below, but is in the df\n",
    "df = boring.search(location=(153145, 206930, 153150, 206935))\n",
    "print(df.head())"
   ]
  },
  {
   "cell_type": "markdown",
   "metadata": {},
   "source": [
    "The dataframe contains one borehole where two methodes ('boormethode') were applied for its construction. The available data are flattened to represent unique attributes per row of the dataframe"
   ]
  },
  {
   "cell_type": "markdown",
   "metadata": {},
   "source": [
    "### Select boreholes in a bbox with selected properties"
   ]
  },
  {
   "cell_type": "code",
   "execution_count": 8,
   "metadata": {},
   "outputs": [
    {
     "name": "stdout",
     "output_type": "stream",
     "text": [
      "['PropertyIsBetween', 'PropertyIsEqualTo', 'PropertyIsGreaterThan', 'PropertyIsGreaterThanOrEqualTo', 'PropertyIsLessThan', 'PropertyIsLessThanOrEqualTo', 'PropertyIsLike', 'PropertyIsNotEqualTo', 'PropertyIsNull', 'SortProperty']\n"
     ]
    }
   ],
   "source": [
    "# list available query methods\n",
    "methods = [i for i,j in inspect.getmembers(sys.modules['owslib.fes'], \n",
    "                                           inspect.isclass) \n",
    "           if 'Property' in i]\n",
    "print(methods)\n",
    "from owslib.fes import PropertyIsGreaterThanOrEqualTo"
   ]
  },
  {
   "cell_type": "markdown",
   "metadata": {},
   "source": [
    "The property feature methodes listed above are available from the owslib module. These were not adapted for use in pydov."
   ]
  },
  {
   "cell_type": "code",
   "execution_count": 9,
   "metadata": {},
   "outputs": [
    {
     "name": "stdout",
     "output_type": "stream",
     "text": [
      "                                         pkey_boring  boornummer         x  \\\n",
      "0  https://www.dov.vlaanderen.be/data/boring/2016...  B/1-102785  201790.5   \n",
      "1  https://www.dov.vlaanderen.be/data/boring/2016...  B/1-102786  201783.0   \n",
      "2  https://www.dov.vlaanderen.be/data/boring/2016...  B/1-102786  201783.0   \n",
      "3  https://www.dov.vlaanderen.be/data/boring/2016...  B/1-102786  201783.0   \n",
      "4  https://www.dov.vlaanderen.be/data/boring/2016...  B/1-102786  201783.0   \n",
      "\n",
      "          y  mv_mtaw  start_boring_mtaw gemeente  diepte_boring_van  \\\n",
      "0  212962.0     25.0               25.0      Mol                0.0   \n",
      "1  212961.0     25.0               25.0      Mol                0.0   \n",
      "2  212961.0     25.0               25.0      Mol                0.0   \n",
      "3  212961.0     25.0               25.0      Mol                0.0   \n",
      "4  212961.0     25.0               25.0      Mol                0.0   \n",
      "\n",
      "   diepte_boring_tot datum_aanvang          uitvoerder  boorgatmeting  \\\n",
      "0             4341.0    2016-03-02  THV Daldrup - Smet           True   \n",
      "1             3610.0    2015-09-14  THV Daldrup - Smet           True   \n",
      "2             3610.0    2015-09-14  THV Daldrup - Smet           True   \n",
      "3             3610.0    2015-09-14  THV Daldrup - Smet           True   \n",
      "4             3610.0    2015-09-14  THV Daldrup - Smet           True   \n",
      "\n",
      "   diepte_methode_van  diepte_methode_tot  boormethode  \n",
      "0                 0.0              4341.0  spoelboring  \n",
      "1                 0.0              1034.0  spoelboring  \n",
      "2              1034.0              1042.0   kernboring  \n",
      "3              1042.0              2926.0  spoelboring  \n",
      "4              2926.0              2931.0   kernboring  \n"
     ]
    }
   ],
   "source": [
    "# Get deep boreholes in a bounding box \n",
    "from owslib.fes import PropertyIsEqualTo\n",
    "# the propertyname can be any of the fields of the boring object as shown on line 52 above, the literal is always a string, no \n",
    "# matter what its definition is in the boring object (string, float...)\n",
    "query = PropertyIsGreaterThanOrEqualTo(\n",
    "        propertyname='diepte_boring_tot', literal='2000')\n",
    "df = boring.search(\n",
    "    location=(200000, 211000, 205000, 214000),\n",
    "    query=query\n",
    "    )\n",
    "print(df.head())"
   ]
  },
  {
   "cell_type": "markdown",
   "metadata": {},
   "source": [
    "### Select boreholes in a municipality"
   ]
  },
  {
   "cell_type": "code",
   "execution_count": 10,
   "metadata": {},
   "outputs": [
    {
     "name": "stdout",
     "output_type": "stream",
     "text": [
      "                                         pkey_boring       boornummer  \\\n",
      "0  https://www.dov.vlaanderen.be/data/boring/2016...   kb33d106e-B236   \n",
      "1  https://www.dov.vlaanderen.be/data/boring/1993...  kb41d120e-B1027   \n",
      "\n",
      "          x         y  mv_mtaw  start_boring_mtaw   gemeente  \\\n",
      "0  224687.4  158191.0    124.0              124.0  Herstappe   \n",
      "1  224820.0  157794.0    132.0              132.0  Herstappe   \n",
      "\n",
      "   diepte_boring_van  diepte_boring_tot datum_aanvang  \\\n",
      "0                0.0                6.0          None   \n",
      "1                0.0               50.0    1993-09-02   \n",
      "\n",
      "                           uitvoerder  boorgatmeting  diepte_methode_van  \\\n",
      "0  Belgische Geologische Dienst (BGD)          False                 0.0   \n",
      "1                      Peeters-Ramsel          False                 0.0   \n",
      "\n",
      "   diepte_methode_tot      boormethode  \n",
      "0                 6.0  gestoken boring  \n",
      "1                50.0         onbekend  \n"
     ]
    }
   ],
   "source": [
    "query = PropertyIsEqualTo(propertyname='gemeente',\n",
    "                          literal='Herstappe')\n",
    "df = boring.search(query=query)\n",
    "print(df.head())"
   ]
  },
  {
   "cell_type": "markdown",
   "metadata": {},
   "source": [
    "### Select boreholes in a municipality and return depth"
   ]
  },
  {
   "cell_type": "code",
   "execution_count": 11,
   "metadata": {},
   "outputs": [
    {
     "name": "stdout",
     "output_type": "stream",
     "text": [
      "   diepte_boring_tot\n",
      "0               42.0\n",
      "1               32.0\n",
      "2               59.0\n",
      "3               11.0\n",
      "4               27.0\n",
      "       diepte_boring_tot\n",
      "count        2630.000000\n",
      "mean           15.525080\n",
      "std            32.298611\n",
      "min             0.000000\n",
      "25%             0.000000\n",
      "50%             6.095000\n",
      "75%            20.000000\n",
      "max           660.000000\n"
     ]
    }
   ],
   "source": [
    "query = PropertyIsEqualTo(propertyname='gemeente',\n",
    "                          literal='Gent')\n",
    "df = boring.search(query=query,\n",
    "                   return_fields=('diepte_boring_tot',))\n",
    "print(df.head())\n",
    "# get general info of dataframe\n",
    "print(df.describe())\n",
    "# depth of borehole equal to zero indicates missing values \n",
    "# a depth could be available in the interpretations"
   ]
  },
  {
   "cell_type": "markdown",
   "metadata": {},
   "source": [
    "### Get boreholes using info from wfs fields, not available in the standard output dataframe"
   ]
  },
  {
   "cell_type": "markdown",
   "metadata": {},
   "source": [
    "To keep the dataframe size acceptable, not all wfs fields are included in the standard output. However, one can use this information to select boreholes as illustrated below.\n",
    "The available wfs fields can be viewed in the object catalog of the Boringen wfs service, on-line [2018 05 04]: https://www.dov.vlaanderen.be/geonetwork/apps/tabsearch/index.html?hl=dut.\n",
    "For example, make a selection of the boreholes in municipality the of Antwerp, for which a hydrogeological interpretation was performed:"
   ]
  },
  {
   "cell_type": "code",
   "execution_count": 33,
   "metadata": {},
   "outputs": [
    {
     "name": "stdout",
     "output_type": "stream",
     "text": [
      "                                         pkey_boring    boornummer         x  \\\n",
      "0  https://www.dov.vlaanderen.be/data/boring/1937...   kb7d14e-B82  145457.0   \n",
      "1  https://www.dov.vlaanderen.be/data/boring/1969...  kb7d14e-B110  143700.4   \n",
      "2  https://www.dov.vlaanderen.be/data/boring/1966...  kb7d14e-B115  143067.0   \n",
      "3  https://www.dov.vlaanderen.be/data/boring/1966...  kb7d14e-B117  144770.5   \n",
      "4  https://www.dov.vlaanderen.be/data/boring/1970...  kb7d14e-B121  143597.8   \n",
      "\n",
      "          y  mv_mtaw  start_boring_mtaw   gemeente  diepte_boring_van  \\\n",
      "0  224973.5      2.0                2.0  Antwerpen                0.0   \n",
      "1  228086.3      2.0                2.0  Antwerpen                0.0   \n",
      "2  227707.6      1.0                1.0  Antwerpen                0.0   \n",
      "3  223430.6      6.0                6.0  Antwerpen                0.0   \n",
      "4  223498.6     -1.9               -1.9  Antwerpen                0.0   \n",
      "\n",
      "   diepte_boring_tot datum_aanvang     uitvoerder  boorgatmeting  \\\n",
      "0               10.0    1937-01-02       onbekend          False   \n",
      "1               12.0    1969-01-01  Smet - Dessel          False   \n",
      "2               66.0    1966-01-01  Smet - Dessel          False   \n",
      "3               49.0    1966-01-01  Smet - Dessel          False   \n",
      "4               11.9    1970-01-01          Fugro          False   \n",
      "\n",
      "   diepte_methode_van  diepte_methode_tot   boormethode  \n",
      "0                 0.0                10.0  droge boring  \n",
      "1                 0.0                12.0  droge boring  \n",
      "2                 0.0                66.0   spoelboring  \n",
      "3                 0.0                49.0   spoelboring  \n",
      "4                 0.0                11.9  droge boring  \n"
     ]
    }
   ],
   "source": [
    "from owslib.fes import And\n",
    "query = And([PropertyIsEqualTo(propertyname='gemeente',\n",
    "                               literal='Antwerpen'),\n",
    "             PropertyIsEqualTo(propertyname='hydrogeologische_stratigrafie', \n",
    "                               literal='True')]\n",
    "            )\n",
    "df = boring.search(query=query)\n",
    "print(df.head())"
   ]
  },
  {
   "cell_type": "markdown",
   "metadata": {},
   "source": [
    "### Get boreholes for a municipality where groundwater related data are available"
   ]
  },
  {
   "cell_type": "code",
   "execution_count": 37,
   "metadata": {},
   "outputs": [
    {
     "name": "stdout",
     "output_type": "stream",
     "text": [
      "                                         pkey_boring       boornummer  \\\n",
      "0  https://www.dov.vlaanderen.be/data/boring/1997...    kb15d28e-B741   \n",
      "1  https://www.dov.vlaanderen.be/data/boring/1996...    kb15d43w-B393   \n",
      "2  https://www.dov.vlaanderen.be/data/boring/2016...       B/1-102776   \n",
      "3  https://www.dov.vlaanderen.be/data/boring/2017...  1434-BG000106-9   \n",
      "4  https://www.dov.vlaanderen.be/data/boring/2017...       B/1-102987   \n",
      "\n",
      "          x         y  mv_mtaw  start_boring_mtaw   gemeente  \\\n",
      "0  154825.0  212445.0     5.00               5.00  Antwerpen   \n",
      "1  151150.0  206550.0    18.09              18.09  Antwerpen   \n",
      "2  153099.0  213577.0    -1.00              -1.00  Antwerpen   \n",
      "3  149486.0  221697.0     5.98               5.98  Antwerpen   \n",
      "4  149408.0  224256.0    -1.00              -1.00  Antwerpen   \n",
      "\n",
      "   diepte_boring_van  diepte_boring_tot datum_aanvang  \\\n",
      "0                0.0               36.5    1997-08-21   \n",
      "1                0.0              104.0    1996-06-26   \n",
      "2                0.0                0.0          None   \n",
      "3                0.0               50.0    2017-02-09   \n",
      "4                0.0                0.0          None   \n",
      "\n",
      "                             uitvoerder  boorgatmeting  diepte_methode_van  \\\n",
      "0  Meysen Dammekens (Dammekens)-Hoboken          False                 0.0   \n",
      "1  Meysen Dammekens (Dammekens)-Hoboken          False                 0.0   \n",
      "2                                  None          False                 0.0   \n",
      "3                   SMET GROUP OVERSEAS          False                 0.0   \n",
      "4                                  None          False                 0.0   \n",
      "\n",
      "   diepte_methode_tot  boormethode  \n",
      "0                36.5     onbekend  \n",
      "1               104.0  spoelboring  \n",
      "2                 0.0     onbekend  \n",
      "3                50.0  spoelboring  \n",
      "4                 0.0     onbekend  \n"
     ]
    }
   ],
   "source": [
    "#  E.g. get the boreholes where 'gemeente' is 'Antwerp' and either \n",
    "# 'putnummer' is not empty \n",
    "# or 'doel' starts with 'Grondwater' \n",
    "# or 'erkenning' equals '2. Andere grondwaterwinningen'\n",
    "from owslib.fes import PropertyIsLike\n",
    "from owslib.fes import PropertyIsNull\n",
    "from owslib.fes import Or\n",
    "from owslib.fes import Not\n",
    "query = And([PropertyIsEqualTo(propertyname='gemeente',\n",
    "                               literal='Antwerpen'),\n",
    "             Or([Not([PropertyIsNull(propertyname='putnummer')]),\n",
    "                PropertyIsLike(propertyname='doel',\n",
    "                               literal='Grondwater%'),\n",
    "                PropertyIsEqualTo(propertyname='erkenning', \n",
    "                                  literal='2. Andere grondwaterwinningen')]\n",
    "               )]\n",
    "           )\n",
    "df = boring.search(query=query)\n",
    "print(df.head())\n"
   ]
  },
  {
   "cell_type": "markdown",
   "metadata": {},
   "source": [
    "## Visualize results"
   ]
  },
  {
   "cell_type": "code",
   "execution_count": 44,
   "metadata": {},
   "outputs": [],
   "source": [
    "# import the necessary modules (not included in the requirements of pydov!)\n",
    "import folium\n",
    "from folium.plugins import MarkerCluster\n",
    "from pyproj import Proj, transform"
   ]
  },
  {
   "cell_type": "code",
   "execution_count": 38,
   "metadata": {},
   "outputs": [],
   "source": [
    "# convert the coordinates to lat/lon for folium\n",
    "def convert_latlon(x1, y1):\n",
    "    inProj = Proj(init='epsg:31370')\n",
    "    outProj = Proj(init='epsg:4326')\n",
    "    x2,y2 = transform(inProj, outProj, x1, y1)\n",
    "    return x2, y2\n",
    "df['lon'], df['lat'] = zip(*map(convert_latlon, df['x'], df['y'])) \n",
    "# convert to list\n",
    "loclist = df[['lat', 'lon']].values.tolist()"
   ]
  },
  {
   "cell_type": "code",
   "execution_count": 47,
   "metadata": {},
   "outputs": [
    {
     "data": {
      "text/html": [
       "<div style=\"width:100%;\"><div style=\"position:relative;width:100%;height:0;padding-bottom:60%;\"><iframe src=\"data:text/html;charset=utf-8;base64,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\" style=\"position:absolute;width:100%;height:100%;left:0;top:0;border:none !important;\" allowfullscreen webkitallowfullscreen mozallowfullscreen></iframe></div></div>"
      ],
      "text/plain": [
       "<folium.folium.Map at 0x14b6e438>"
      ]
     },
     "execution_count": 47,
     "metadata": {},
     "output_type": "execute_result"
    }
   ],
   "source": [
    "# initialize the Folium map on the centre of the selected locations, play with the zoom until ok\n",
    "fmap = folium.Map(location=[df['lat'].mean(), df['lon'].mean()], zoom_start=12)\n",
    "marker_cluster = MarkerCluster().add_to(fmap)\n",
    "for loc in range(0, len(loclist)):\n",
    "    folium.Marker(loclist[loc], popup=df['boornummer'][loc]).add_to(marker_cluster)\n",
    "fmap\n"
   ]
  },
  {
   "cell_type": "code",
   "execution_count": null,
   "metadata": {},
   "outputs": [],
   "source": []
  }
 ],
 "metadata": {
  "kernelspec": {
   "display_name": "Python 3",
   "language": "python",
   "name": "python3"
  },
  "language_info": {
   "codemirror_mode": {
    "name": "ipython",
    "version": 3
   },
   "file_extension": ".py",
   "mimetype": "text/x-python",
   "name": "python",
   "nbconvert_exporter": "python",
   "pygments_lexer": "ipython3",
   "version": "3.6.4"
  }
 },
 "nbformat": 4,
 "nbformat_minor": 2
}
