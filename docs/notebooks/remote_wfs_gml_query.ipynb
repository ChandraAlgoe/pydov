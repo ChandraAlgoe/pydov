{
 "cells": [
  {
   "cell_type": "code",
   "execution_count": 39,
   "metadata": {
    "collapsed": true
   },
   "outputs": [],
   "source": [
    "%matplotlib inline\n",
    "import matplotlib.pyplot as plt\n",
    "\n",
    "from owslib.etree import etree\n",
    "from owslib.fes import PropertyIsEqualTo\n",
    "from owslib.wfs import WebFeatureService\n",
    "\n",
    "from pydov.search.boring import BoringSearch\n",
    "\n",
    "from pydov.util.location import (\n",
    "    GmlFilter,\n",
    "    Within,\n",
    ")"
   ]
  },
  {
   "cell_type": "markdown",
   "metadata": {},
   "source": [
    "# Download data from a certain community using its geographic borders"
   ]
  },
  {
   "cell_type": "code",
   "execution_count": 2,
   "metadata": {
    "collapsed": true
   },
   "outputs": [],
   "source": [
    "gemeentegrenzen = WebFeatureService(\n",
    "    'https://geoservices.informatievlaanderen.be/overdrachtdiensten/VRBG/wfs',\n",
    "    version='1.1.0')"
   ]
  },
  {
   "cell_type": "code",
   "execution_count": 35,
   "metadata": {
    "collapsed": true
   },
   "outputs": [],
   "source": [
    "naam_filter = PropertyIsEqualTo(propertyname='NAAM', literal='Lievegem')"
   ]
  },
  {
   "cell_type": "code",
   "execution_count": 36,
   "metadata": {
    "collapsed": true
   },
   "outputs": [],
   "source": [
    "gemeente_poly = gemeentegrenzen.getfeature(\n",
    "    typename='VRBG:Refgem',\n",
    "    filter=etree.tostring(naam_filter.toXML()).decode(\"utf8\")).read()"
   ]
  },
  {
   "cell_type": "code",
   "execution_count": 37,
   "metadata": {},
   "outputs": [
    {
     "name": "stdout",
     "output_type": "stream",
     "text": [
      "[000/342] cccccccccccccccccccccccccccccccccccccccccccccccccc\n",
      "[050/342] cccccccccccccccccccccccccccccccccccccccccccccccccc\n",
      "[100/342] cccccccccccccccccccccccccccccccccccccccccccccccccc\n",
      "[150/342] cccccccccccccccccccccccccccccccccccccccccccccccccc\n",
      "[200/342] cccccccccccccccccccccccccccccccccccccccccccccccccc\n",
      "[250/342] cccccccccccccccccccccccccccccccccccccccccccccccccc\n",
      "[300/342] cccccccccccccccccccccccccccccccccccccccccc\n"
     ]
    }
   ],
   "source": [
    "bs = BoringSearch()\n",
    "df = bs.search(location=GmlFilter(gemeente_poly, Within))"
   ]
  },
  {
   "cell_type": "code",
   "execution_count": 38,
   "metadata": {},
   "outputs": [
    {
     "data": {
      "text/html": [
       "<div>\n",
       "<style scoped>\n",
       "    .dataframe tbody tr th:only-of-type {\n",
       "        vertical-align: middle;\n",
       "    }\n",
       "\n",
       "    .dataframe tbody tr th {\n",
       "        vertical-align: top;\n",
       "    }\n",
       "\n",
       "    .dataframe thead th {\n",
       "        text-align: right;\n",
       "    }\n",
       "</style>\n",
       "<table border=\"1\" class=\"dataframe\">\n",
       "  <thead>\n",
       "    <tr style=\"text-align: right;\">\n",
       "      <th></th>\n",
       "      <th>gemeente</th>\n",
       "      <th>counts</th>\n",
       "    </tr>\n",
       "  </thead>\n",
       "  <tbody>\n",
       "    <tr>\n",
       "      <th>0</th>\n",
       "      <td>Gent</td>\n",
       "      <td>2</td>\n",
       "    </tr>\n",
       "    <tr>\n",
       "      <th>1</th>\n",
       "      <td>Knesselare</td>\n",
       "      <td>2</td>\n",
       "    </tr>\n",
       "    <tr>\n",
       "      <th>2</th>\n",
       "      <td>Lovendegem</td>\n",
       "      <td>111</td>\n",
       "    </tr>\n",
       "    <tr>\n",
       "      <th>3</th>\n",
       "      <td>Nevele</td>\n",
       "      <td>1</td>\n",
       "    </tr>\n",
       "    <tr>\n",
       "      <th>4</th>\n",
       "      <td>Veurne</td>\n",
       "      <td>1</td>\n",
       "    </tr>\n",
       "    <tr>\n",
       "      <th>5</th>\n",
       "      <td>Waarschoot</td>\n",
       "      <td>48</td>\n",
       "    </tr>\n",
       "    <tr>\n",
       "      <th>6</th>\n",
       "      <td>Zomergem</td>\n",
       "      <td>193</td>\n",
       "    </tr>\n",
       "  </tbody>\n",
       "</table>\n",
       "</div>"
      ],
      "text/plain": [
       "     gemeente  counts\n",
       "0        Gent       2\n",
       "1  Knesselare       2\n",
       "2  Lovendegem     111\n",
       "3      Nevele       1\n",
       "4      Veurne       1\n",
       "5  Waarschoot      48\n",
       "6    Zomergem     193"
      ]
     },
     "execution_count": 38,
     "metadata": {},
     "output_type": "execute_result"
    }
   ],
   "source": [
    "df.groupby('gemeente').size().reset_index(name='counts')"
   ]
  },
  {
   "cell_type": "code",
   "execution_count": null,
   "metadata": {
    "collapsed": true
   },
   "outputs": [],
   "source": []
  }
 ],
 "metadata": {
  "kernelspec": {
   "display_name": "Python 2",
   "language": "python",
   "name": "python2"
  },
  "language_info": {
   "codemirror_mode": {
    "name": "ipython",
    "version": 2
   },
   "file_extension": ".py",
   "mimetype": "text/x-python",
   "name": "python",
   "nbconvert_exporter": "python",
   "pygments_lexer": "ipython2",
   "version": "2.7.13"
  }
 },
 "nbformat": 4,
 "nbformat_minor": 2
}
