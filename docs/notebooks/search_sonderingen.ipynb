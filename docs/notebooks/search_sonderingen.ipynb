{
 "cells": [
  {
   "cell_type": "markdown",
   "metadata": {},
   "source": [
    "# Example of DOV search methods for CPT measurements (sonderingen)"
   ]
  },
  {
   "cell_type": "markdown",
   "metadata": {},
   "source": [
    "## Use cases explained below\n",
    "* Get CPT measurements in a bounding box\n",
    "* Get CPT measurements with specific properties\n",
    "* Get CPT measurements in a bounding box based on specific properties\n",
    "* Select CPT measurements in a municipality and return depth\n",
    "* Get CPT measurements based on fields not available in the standard output dataframe\n",
    "* Get CPT measurements data, returning fields not available in the standard output dataframe\n",
    "* Get CPT measurements in a municipality and where groundwater related data are available"
   ]
  },
  {
   "cell_type": "code",
   "execution_count": 3,
   "metadata": {
    "collapsed": true
   },
   "outputs": [],
   "source": [
    "%matplotlib inline\n",
    "import inspect, sys\n",
    "import warnings; warnings.simplefilter('ignore')"
   ]
  },
  {
   "cell_type": "code",
   "execution_count": 4,
   "metadata": {
    "collapsed": true
   },
   "outputs": [],
   "source": [
    "# check pydov path\n",
    "import pydov"
   ]
  },
  {
   "cell_type": "markdown",
   "metadata": {},
   "source": [
    "## Get information about the datatype 'Sondering'"
   ]
  },
  {
   "cell_type": "code",
   "execution_count": 6,
   "metadata": {},
   "outputs": [],
   "source": [
    "from pydov.search.sondering import SonderingSearch\n",
    "sondering = SonderingSearch()"
   ]
  },
  {
   "cell_type": "markdown",
   "metadata": {},
   "source": [
    "A description is provided for the 'Sondering' datatype:"
   ]
  },
  {
   "cell_type": "code",
   "execution_count": 8,
   "metadata": {},
   "outputs": [
    {
     "data": {
      "text/plain": [
       "'In DOV worden de resultaten van sonderingen ter beschikking gesteld. Bij het uitvoeren van de sondering wordt een sondeerpunt met conus bij middel van buizen statisch de grond ingedrukt. Continu of met bepaalde diepte-intervallen wordt de weerstand aan de conuspunt, de plaatselijke wrijvingsweerstand en/of de totale indringingsweerstand opgemeten. Eventueel kan aanvullend de waterspanning in de grond rond de conus tijdens de sondering worden opgemeten met een waterspanningsmeter. Het op diepte drukken van de sondeerbuizen gebeurt met een indrukapparaat. De nodige reactie voor het indrukken van de buizen wordt geleverd door een verankering en/of door het gewicht van de sondeerwagen. De totale indrukcapaciteit varieert van 25 kN tot 250 kN, afhankelijk van apparaat en opstellingswijze.'"
      ]
     },
     "execution_count": 8,
     "metadata": {},
     "output_type": "execute_result"
    }
   ],
   "source": [
    "sondering.get_description()"
   ]
  },
  {
   "cell_type": "markdown",
   "metadata": {},
   "source": [
    "The different fields that are available for objects of the 'Sondering' datatype can be requested with the get_fields() method:"
   ]
  },
  {
   "cell_type": "code",
   "execution_count": 9,
   "metadata": {},
   "outputs": [
    {
     "name": "stdout",
     "output_type": "stream",
     "text": [
      "pkey_sondering\n",
      "apparaat\n",
      "datum_gw_meting\n",
      "diepte_sondering_van\n",
      "start_sondering_mtaw\n",
      "id\n",
      "informele_stratigrafie\n",
      "opdrachten\n",
      "uitvoerder\n",
      "conus\n",
      "Qt\n",
      "fs\n",
      "sondeernummer\n",
      "formele_stratigrafie\n",
      "meetreeks\n",
      "sondeermethode\n",
      "hydrogeologische_stratigrafie\n",
      "datum_aanvang\n",
      "gemeente\n",
      "generated_id\n",
      "i\n",
      "weerstandsdiagram\n",
      "diepte_sondering_tot\n",
      "diepte_gw_m\n",
      "qc\n",
      "u\n",
      "y\n",
      "x\n",
      "z\n"
     ]
    }
   ],
   "source": [
    "fields = sondering.get_fields()\n",
    "\n",
    "# print available fields\n",
    "for f in fields.values():\n",
    "    print(f['name'])"
   ]
  },
  {
   "cell_type": "markdown",
   "metadata": {},
   "source": [
    "You can get more information of a field by requesting it from the fields dictionary:\n",
    "* *name*: name of the field\n",
    "* *definition*: definition of this field\n",
    "* *cost*: currently this is either 1 or 10, depending on the datasource of the field. It is an indication of the expected time it will take to retrieve this field in the output dataframe.\n",
    "* *notnull*: whether the field is mandatory or not\n",
    "* *type*: datatype of the values of this field"
   ]
  },
  {
   "cell_type": "code",
   "execution_count": 10,
   "metadata": {},
   "outputs": [
    {
     "data": {
      "text/plain": [
       "{'cost': 1,\n",
       " 'definition': 'Maximumdiepte van de sondering ten opzichte van het aanvangspeil, in meter.',\n",
       " 'name': 'diepte_sondering_tot',\n",
       " 'notnull': True,\n",
       " 'query': True,\n",
       " 'type': 'float'}"
      ]
     },
     "execution_count": 10,
     "metadata": {},
     "output_type": "execute_result"
    }
   ],
   "source": [
    "fields['diepte_sondering_tot']"
   ]
  },
  {
   "cell_type": "markdown",
   "metadata": {},
   "source": [
    "Optionally, if the values of the field have a specific domain the possible values are listed as *values*:"
   ]
  },
  {
   "cell_type": "code",
   "execution_count": 11,
   "metadata": {},
   "outputs": [
    {
     "data": {
      "text/plain": [
       "['E', 'M1', 'M2', 'M4', 'U', 'onbekend']"
      ]
     },
     "execution_count": 11,
     "metadata": {},
     "output_type": "execute_result"
    }
   ],
   "source": [
    "fields['conus']['values']"
   ]
  },
  {
   "cell_type": "markdown",
   "metadata": {},
   "source": [
    "## Example use cases"
   ]
  },
  {
   "cell_type": "markdown",
   "metadata": {},
   "source": [
    "### Get CPT measurements in a bounding box"
   ]
  },
  {
   "cell_type": "markdown",
   "metadata": {},
   "source": [
    "Get data for all the CPT measurements that are geographically located within the bounds of the specified box.\n",
    "\n",
    "The coordinates are in the Belgian Lambert72 (EPSG:31370) coordinate system and are given in the order of lower left x, lower left y, upper right x, upper right y."
   ]
  },
  {
   "cell_type": "code",
   "execution_count": 20,
   "metadata": {},
   "outputs": [
    {
     "name": "stdout",
     "output_type": "stream",
     "text": [
      "[000/001] c\n"
     ]
    },
    {
     "data": {
      "text/html": [
       "<div>\n",
       "<style scoped>\n",
       "    .dataframe tbody tr th:only-of-type {\n",
       "        vertical-align: middle;\n",
       "    }\n",
       "\n",
       "    .dataframe tbody tr th {\n",
       "        vertical-align: top;\n",
       "    }\n",
       "\n",
       "    .dataframe thead th {\n",
       "        text-align: right;\n",
       "    }\n",
       "</style>\n",
       "<table border=\"1\" class=\"dataframe\">\n",
       "  <thead>\n",
       "    <tr style=\"text-align: right;\">\n",
       "      <th></th>\n",
       "      <th>pkey_sondering</th>\n",
       "      <th>sondeernummer</th>\n",
       "      <th>x</th>\n",
       "      <th>y</th>\n",
       "      <th>start_sondering_mtaw</th>\n",
       "      <th>diepte_sondering_van</th>\n",
       "      <th>diepte_sondering_tot</th>\n",
       "      <th>datum_aanvang</th>\n",
       "      <th>uitvoerder</th>\n",
       "      <th>sondeermethode</th>\n",
       "      <th>apparaat</th>\n",
       "      <th>datum_gw_meting</th>\n",
       "      <th>diepte_gw_m</th>\n",
       "      <th>z</th>\n",
       "      <th>qc</th>\n",
       "      <th>Qt</th>\n",
       "      <th>fs</th>\n",
       "      <th>u</th>\n",
       "      <th>i</th>\n",
       "    </tr>\n",
       "  </thead>\n",
       "  <tbody>\n",
       "    <tr>\n",
       "      <th>0</th>\n",
       "      <td>https://www.dov.vlaanderen.be/data/sondering/1...</td>\n",
       "      <td>GEO-72/555-SXVIII</td>\n",
       "      <td>153008.0</td>\n",
       "      <td>206985.0</td>\n",
       "      <td>15.8</td>\n",
       "      <td>0.0</td>\n",
       "      <td>36.0</td>\n",
       "      <td>1973-03-21</td>\n",
       "      <td>Rijksinstituut voor Grondmechanica</td>\n",
       "      <td>discontinu mechanisch</td>\n",
       "      <td>100KN</td>\n",
       "      <td>NaN</td>\n",
       "      <td>NaN</td>\n",
       "      <td>0.2</td>\n",
       "      <td>1.6</td>\n",
       "      <td>2.0600</td>\n",
       "      <td>NaN</td>\n",
       "      <td>NaN</td>\n",
       "      <td>NaN</td>\n",
       "    </tr>\n",
       "    <tr>\n",
       "      <th>1</th>\n",
       "      <td>https://www.dov.vlaanderen.be/data/sondering/1...</td>\n",
       "      <td>GEO-72/555-SXVIII</td>\n",
       "      <td>153008.0</td>\n",
       "      <td>206985.0</td>\n",
       "      <td>15.8</td>\n",
       "      <td>0.0</td>\n",
       "      <td>36.0</td>\n",
       "      <td>1973-03-21</td>\n",
       "      <td>Rijksinstituut voor Grondmechanica</td>\n",
       "      <td>discontinu mechanisch</td>\n",
       "      <td>100KN</td>\n",
       "      <td>NaN</td>\n",
       "      <td>NaN</td>\n",
       "      <td>0.4</td>\n",
       "      <td>3.6</td>\n",
       "      <td>4.2600</td>\n",
       "      <td>NaN</td>\n",
       "      <td>NaN</td>\n",
       "      <td>NaN</td>\n",
       "    </tr>\n",
       "    <tr>\n",
       "      <th>2</th>\n",
       "      <td>https://www.dov.vlaanderen.be/data/sondering/1...</td>\n",
       "      <td>GEO-72/555-SXVIII</td>\n",
       "      <td>153008.0</td>\n",
       "      <td>206985.0</td>\n",
       "      <td>15.8</td>\n",
       "      <td>0.0</td>\n",
       "      <td>36.0</td>\n",
       "      <td>1973-03-21</td>\n",
       "      <td>Rijksinstituut voor Grondmechanica</td>\n",
       "      <td>discontinu mechanisch</td>\n",
       "      <td>100KN</td>\n",
       "      <td>NaN</td>\n",
       "      <td>NaN</td>\n",
       "      <td>0.6</td>\n",
       "      <td>2.6</td>\n",
       "      <td>3.4600</td>\n",
       "      <td>NaN</td>\n",
       "      <td>NaN</td>\n",
       "      <td>NaN</td>\n",
       "    </tr>\n",
       "    <tr>\n",
       "      <th>3</th>\n",
       "      <td>https://www.dov.vlaanderen.be/data/sondering/1...</td>\n",
       "      <td>GEO-72/555-SXVIII</td>\n",
       "      <td>153008.0</td>\n",
       "      <td>206985.0</td>\n",
       "      <td>15.8</td>\n",
       "      <td>0.0</td>\n",
       "      <td>36.0</td>\n",
       "      <td>1973-03-21</td>\n",
       "      <td>Rijksinstituut voor Grondmechanica</td>\n",
       "      <td>discontinu mechanisch</td>\n",
       "      <td>100KN</td>\n",
       "      <td>NaN</td>\n",
       "      <td>NaN</td>\n",
       "      <td>0.8</td>\n",
       "      <td>4.0</td>\n",
       "      <td>5.6600</td>\n",
       "      <td>NaN</td>\n",
       "      <td>NaN</td>\n",
       "      <td>NaN</td>\n",
       "    </tr>\n",
       "    <tr>\n",
       "      <th>4</th>\n",
       "      <td>https://www.dov.vlaanderen.be/data/sondering/1...</td>\n",
       "      <td>GEO-72/555-SXVIII</td>\n",
       "      <td>153008.0</td>\n",
       "      <td>206985.0</td>\n",
       "      <td>15.8</td>\n",
       "      <td>0.0</td>\n",
       "      <td>36.0</td>\n",
       "      <td>1973-03-21</td>\n",
       "      <td>Rijksinstituut voor Grondmechanica</td>\n",
       "      <td>discontinu mechanisch</td>\n",
       "      <td>100KN</td>\n",
       "      <td>NaN</td>\n",
       "      <td>NaN</td>\n",
       "      <td>1.0</td>\n",
       "      <td>3.0</td>\n",
       "      <td>6.5300</td>\n",
       "      <td>NaN</td>\n",
       "      <td>NaN</td>\n",
       "      <td>NaN</td>\n",
       "    </tr>\n",
       "  </tbody>\n",
       "</table>\n",
       "</div>"
      ],
      "text/plain": [
       "                                      pkey_sondering      sondeernummer  \\\n",
       "0  https://www.dov.vlaanderen.be/data/sondering/1...  GEO-72/555-SXVIII   \n",
       "1  https://www.dov.vlaanderen.be/data/sondering/1...  GEO-72/555-SXVIII   \n",
       "2  https://www.dov.vlaanderen.be/data/sondering/1...  GEO-72/555-SXVIII   \n",
       "3  https://www.dov.vlaanderen.be/data/sondering/1...  GEO-72/555-SXVIII   \n",
       "4  https://www.dov.vlaanderen.be/data/sondering/1...  GEO-72/555-SXVIII   \n",
       "\n",
       "          x         y  start_sondering_mtaw  diepte_sondering_van  \\\n",
       "0  153008.0  206985.0                  15.8                   0.0   \n",
       "1  153008.0  206985.0                  15.8                   0.0   \n",
       "2  153008.0  206985.0                  15.8                   0.0   \n",
       "3  153008.0  206985.0                  15.8                   0.0   \n",
       "4  153008.0  206985.0                  15.8                   0.0   \n",
       "\n",
       "   diepte_sondering_tot datum_aanvang                          uitvoerder  \\\n",
       "0                  36.0    1973-03-21  Rijksinstituut voor Grondmechanica   \n",
       "1                  36.0    1973-03-21  Rijksinstituut voor Grondmechanica   \n",
       "2                  36.0    1973-03-21  Rijksinstituut voor Grondmechanica   \n",
       "3                  36.0    1973-03-21  Rijksinstituut voor Grondmechanica   \n",
       "4                  36.0    1973-03-21  Rijksinstituut voor Grondmechanica   \n",
       "\n",
       "          sondeermethode apparaat  datum_gw_meting  diepte_gw_m    z   qc  \\\n",
       "0  discontinu mechanisch    100KN              NaN          NaN  0.2  1.6   \n",
       "1  discontinu mechanisch    100KN              NaN          NaN  0.4  3.6   \n",
       "2  discontinu mechanisch    100KN              NaN          NaN  0.6  2.6   \n",
       "3  discontinu mechanisch    100KN              NaN          NaN  0.8  4.0   \n",
       "4  discontinu mechanisch    100KN              NaN          NaN  1.0  3.0   \n",
       "\n",
       "       Qt  fs   u   i  \n",
       "0  2.0600 NaN NaN NaN  \n",
       "1  4.2600 NaN NaN NaN  \n",
       "2  3.4600 NaN NaN NaN  \n",
       "3  5.6600 NaN NaN NaN  \n",
       "4  6.5300 NaN NaN NaN  "
      ]
     },
     "execution_count": 20,
     "metadata": {},
     "output_type": "execute_result"
    }
   ],
   "source": [
    "from pydov.util.location import Within, Box\n",
    "\n",
    "df = sondering.search(location=Within(Box(152999, 206930, 153050, 207935)))\n",
    "df.head()"
   ]
  },
  {
   "cell_type": "markdown",
   "metadata": {},
   "source": [
    "The dataframe contains one CPT measurement where multiple measurement points. The available data are flattened to represent unique attributes per row of the dataframe.\n",
    "\n",
    "Using the *pkey_sondering* field one can request the details of this borehole in a webbrowser:"
   ]
  },
  {
   "cell_type": "code",
   "execution_count": 21,
   "metadata": {},
   "outputs": [
    {
     "name": "stdout",
     "output_type": "stream",
     "text": [
      "https://www.dov.vlaanderen.be/data/sondering/1973-016812\n"
     ]
    }
   ],
   "source": [
    "for pkey_sondering in set(df.pkey_sondering):\n",
    "    print(pkey_sondering)"
   ]
  },
  {
   "cell_type": "markdown",
   "metadata": {},
   "source": [
    "### Get CPT measurements with specific properties"
   ]
  },
  {
   "cell_type": "markdown",
   "metadata": {},
   "source": [
    "Next to querying CPT based on their geographic location within a bounding box, we can also search for CPT measurements matching a specific set of properties. For this we can build a query using a combination of the 'Sondering' fields and operators provided by the WFS protocol.\n",
    "\n",
    "A list of possible operators can be found below:"
   ]
  },
  {
   "cell_type": "code",
   "execution_count": 22,
   "metadata": {},
   "outputs": [
    {
     "data": {
      "text/plain": [
       "['PropertyIsBetween',\n",
       " 'PropertyIsEqualTo',\n",
       " 'PropertyIsGreaterThan',\n",
       " 'PropertyIsGreaterThanOrEqualTo',\n",
       " 'PropertyIsLessThan',\n",
       " 'PropertyIsLessThanOrEqualTo',\n",
       " 'PropertyIsLike',\n",
       " 'PropertyIsNotEqualTo',\n",
       " 'PropertyIsNull',\n",
       " 'SortProperty']"
      ]
     },
     "execution_count": 22,
     "metadata": {},
     "output_type": "execute_result"
    }
   ],
   "source": [
    "[i for i,j in inspect.getmembers(sys.modules['owslib.fes'], inspect.isclass) if 'Property' in i]"
   ]
  },
  {
   "cell_type": "markdown",
   "metadata": {},
   "source": [
    "In this example we build a query using the *PropertyIsEqualTo* operator to find all CPT measuremetns that are within the community (gemeente) of 'Herstappe':"
   ]
  },
  {
   "cell_type": "code",
   "execution_count": 26,
   "metadata": {},
   "outputs": [
    {
     "name": "stdout",
     "output_type": "stream",
     "text": [
      "[000/029] .............................\n"
     ]
    },
    {
     "data": {
      "text/html": [
       "<div>\n",
       "<style scoped>\n",
       "    .dataframe tbody tr th:only-of-type {\n",
       "        vertical-align: middle;\n",
       "    }\n",
       "\n",
       "    .dataframe tbody tr th {\n",
       "        vertical-align: top;\n",
       "    }\n",
       "\n",
       "    .dataframe thead th {\n",
       "        text-align: right;\n",
       "    }\n",
       "</style>\n",
       "<table border=\"1\" class=\"dataframe\">\n",
       "  <thead>\n",
       "    <tr style=\"text-align: right;\">\n",
       "      <th></th>\n",
       "      <th>pkey_sondering</th>\n",
       "      <th>sondeernummer</th>\n",
       "      <th>x</th>\n",
       "      <th>y</th>\n",
       "      <th>start_sondering_mtaw</th>\n",
       "      <th>diepte_sondering_van</th>\n",
       "      <th>diepte_sondering_tot</th>\n",
       "      <th>datum_aanvang</th>\n",
       "      <th>uitvoerder</th>\n",
       "      <th>sondeermethode</th>\n",
       "      <th>apparaat</th>\n",
       "      <th>datum_gw_meting</th>\n",
       "      <th>diepte_gw_m</th>\n",
       "      <th>z</th>\n",
       "      <th>qc</th>\n",
       "      <th>Qt</th>\n",
       "      <th>fs</th>\n",
       "      <th>u</th>\n",
       "      <th>i</th>\n",
       "    </tr>\n",
       "  </thead>\n",
       "  <tbody>\n",
       "    <tr>\n",
       "      <th>0</th>\n",
       "      <td>https://www.dov.vlaanderen.be/data/sondering/1...</td>\n",
       "      <td>GEO-75/194-S1</td>\n",
       "      <td>150310.0</td>\n",
       "      <td>169796.0</td>\n",
       "      <td>56.3</td>\n",
       "      <td>0.0</td>\n",
       "      <td>4.5</td>\n",
       "      <td>1975-05-20</td>\n",
       "      <td>Rijksinstituut voor Grondmechanica</td>\n",
       "      <td>discontinu mechanisch</td>\n",
       "      <td>25KN</td>\n",
       "      <td>NaN</td>\n",
       "      <td>1.97</td>\n",
       "      <td>1.0</td>\n",
       "      <td>3.3</td>\n",
       "      <td>NaN</td>\n",
       "      <td>NaN</td>\n",
       "      <td>NaN</td>\n",
       "      <td>NaN</td>\n",
       "    </tr>\n",
       "    <tr>\n",
       "      <th>1</th>\n",
       "      <td>https://www.dov.vlaanderen.be/data/sondering/1...</td>\n",
       "      <td>GEO-75/194-S1</td>\n",
       "      <td>150310.0</td>\n",
       "      <td>169796.0</td>\n",
       "      <td>56.3</td>\n",
       "      <td>0.0</td>\n",
       "      <td>4.5</td>\n",
       "      <td>1975-05-20</td>\n",
       "      <td>Rijksinstituut voor Grondmechanica</td>\n",
       "      <td>discontinu mechanisch</td>\n",
       "      <td>25KN</td>\n",
       "      <td>NaN</td>\n",
       "      <td>1.97</td>\n",
       "      <td>1.1</td>\n",
       "      <td>2.9</td>\n",
       "      <td>NaN</td>\n",
       "      <td>NaN</td>\n",
       "      <td>NaN</td>\n",
       "      <td>NaN</td>\n",
       "    </tr>\n",
       "    <tr>\n",
       "      <th>2</th>\n",
       "      <td>https://www.dov.vlaanderen.be/data/sondering/1...</td>\n",
       "      <td>GEO-75/194-S1</td>\n",
       "      <td>150310.0</td>\n",
       "      <td>169796.0</td>\n",
       "      <td>56.3</td>\n",
       "      <td>0.0</td>\n",
       "      <td>4.5</td>\n",
       "      <td>1975-05-20</td>\n",
       "      <td>Rijksinstituut voor Grondmechanica</td>\n",
       "      <td>discontinu mechanisch</td>\n",
       "      <td>25KN</td>\n",
       "      <td>NaN</td>\n",
       "      <td>1.97</td>\n",
       "      <td>1.2</td>\n",
       "      <td>2.7</td>\n",
       "      <td>NaN</td>\n",
       "      <td>NaN</td>\n",
       "      <td>NaN</td>\n",
       "      <td>NaN</td>\n",
       "    </tr>\n",
       "    <tr>\n",
       "      <th>3</th>\n",
       "      <td>https://www.dov.vlaanderen.be/data/sondering/1...</td>\n",
       "      <td>GEO-75/194-S1</td>\n",
       "      <td>150310.0</td>\n",
       "      <td>169796.0</td>\n",
       "      <td>56.3</td>\n",
       "      <td>0.0</td>\n",
       "      <td>4.5</td>\n",
       "      <td>1975-05-20</td>\n",
       "      <td>Rijksinstituut voor Grondmechanica</td>\n",
       "      <td>discontinu mechanisch</td>\n",
       "      <td>25KN</td>\n",
       "      <td>NaN</td>\n",
       "      <td>1.97</td>\n",
       "      <td>1.3</td>\n",
       "      <td>2.4</td>\n",
       "      <td>NaN</td>\n",
       "      <td>NaN</td>\n",
       "      <td>NaN</td>\n",
       "      <td>NaN</td>\n",
       "    </tr>\n",
       "    <tr>\n",
       "      <th>4</th>\n",
       "      <td>https://www.dov.vlaanderen.be/data/sondering/1...</td>\n",
       "      <td>GEO-75/194-S1</td>\n",
       "      <td>150310.0</td>\n",
       "      <td>169796.0</td>\n",
       "      <td>56.3</td>\n",
       "      <td>0.0</td>\n",
       "      <td>4.5</td>\n",
       "      <td>1975-05-20</td>\n",
       "      <td>Rijksinstituut voor Grondmechanica</td>\n",
       "      <td>discontinu mechanisch</td>\n",
       "      <td>25KN</td>\n",
       "      <td>NaN</td>\n",
       "      <td>1.97</td>\n",
       "      <td>1.4</td>\n",
       "      <td>3.6</td>\n",
       "      <td>NaN</td>\n",
       "      <td>NaN</td>\n",
       "      <td>NaN</td>\n",
       "      <td>NaN</td>\n",
       "    </tr>\n",
       "  </tbody>\n",
       "</table>\n",
       "</div>"
      ],
      "text/plain": [
       "                                      pkey_sondering  sondeernummer         x  \\\n",
       "0  https://www.dov.vlaanderen.be/data/sondering/1...  GEO-75/194-S1  150310.0   \n",
       "1  https://www.dov.vlaanderen.be/data/sondering/1...  GEO-75/194-S1  150310.0   \n",
       "2  https://www.dov.vlaanderen.be/data/sondering/1...  GEO-75/194-S1  150310.0   \n",
       "3  https://www.dov.vlaanderen.be/data/sondering/1...  GEO-75/194-S1  150310.0   \n",
       "4  https://www.dov.vlaanderen.be/data/sondering/1...  GEO-75/194-S1  150310.0   \n",
       "\n",
       "          y  start_sondering_mtaw  diepte_sondering_van  diepte_sondering_tot  \\\n",
       "0  169796.0                  56.3                   0.0                   4.5   \n",
       "1  169796.0                  56.3                   0.0                   4.5   \n",
       "2  169796.0                  56.3                   0.0                   4.5   \n",
       "3  169796.0                  56.3                   0.0                   4.5   \n",
       "4  169796.0                  56.3                   0.0                   4.5   \n",
       "\n",
       "  datum_aanvang                          uitvoerder         sondeermethode  \\\n",
       "0    1975-05-20  Rijksinstituut voor Grondmechanica  discontinu mechanisch   \n",
       "1    1975-05-20  Rijksinstituut voor Grondmechanica  discontinu mechanisch   \n",
       "2    1975-05-20  Rijksinstituut voor Grondmechanica  discontinu mechanisch   \n",
       "3    1975-05-20  Rijksinstituut voor Grondmechanica  discontinu mechanisch   \n",
       "4    1975-05-20  Rijksinstituut voor Grondmechanica  discontinu mechanisch   \n",
       "\n",
       "  apparaat  datum_gw_meting  diepte_gw_m    z   qc   Qt  fs   u   i  \n",
       "0     25KN              NaN         1.97  1.0  3.3  NaN NaN NaN NaN  \n",
       "1     25KN              NaN         1.97  1.1  2.9  NaN NaN NaN NaN  \n",
       "2     25KN              NaN         1.97  1.2  2.7  NaN NaN NaN NaN  \n",
       "3     25KN              NaN         1.97  1.3  2.4  NaN NaN NaN NaN  \n",
       "4     25KN              NaN         1.97  1.4  3.6  NaN NaN NaN NaN  "
      ]
     },
     "execution_count": 26,
     "metadata": {},
     "output_type": "execute_result"
    }
   ],
   "source": [
    "from owslib.fes import PropertyIsEqualTo\n",
    "\n",
    "query = PropertyIsEqualTo(propertyname='gemeente',\n",
    "                          literal='Elsene')\n",
    "df = sondering.search(query=query)\n",
    "\n",
    "df.head()"
   ]
  },
  {
   "cell_type": "markdown",
   "metadata": {},
   "source": [
    "Once again we can use the *pkey_sondering* as a permanent link to the information of these CPT measurements:"
   ]
  },
  {
   "cell_type": "code",
   "execution_count": 27,
   "metadata": {},
   "outputs": [
    {
     "name": "stdout",
     "output_type": "stream",
     "text": [
      "https://www.dov.vlaanderen.be/data/sondering/1976-030148\n",
      "https://www.dov.vlaanderen.be/data/sondering/1980-024719\n",
      "https://www.dov.vlaanderen.be/data/sondering/1992-000335\n",
      "https://www.dov.vlaanderen.be/data/sondering/1976-014638\n",
      "https://www.dov.vlaanderen.be/data/sondering/1976-013899\n",
      "https://www.dov.vlaanderen.be/data/sondering/1976-013898\n",
      "https://www.dov.vlaanderen.be/data/sondering/1976-014640\n",
      "https://www.dov.vlaanderen.be/data/sondering/1971-023091\n",
      "https://www.dov.vlaanderen.be/data/sondering/1971-022776\n",
      "https://www.dov.vlaanderen.be/data/sondering/1971-022775\n",
      "https://www.dov.vlaanderen.be/data/sondering/1971-023319\n",
      "https://www.dov.vlaanderen.be/data/sondering/1992-000339\n",
      "https://www.dov.vlaanderen.be/data/sondering/1976-030140\n",
      "https://www.dov.vlaanderen.be/data/sondering/1971-022777\n",
      "https://www.dov.vlaanderen.be/data/sondering/1992-000336\n",
      "https://www.dov.vlaanderen.be/data/sondering/1992-000337\n",
      "https://www.dov.vlaanderen.be/data/sondering/1992-000338\n",
      "https://www.dov.vlaanderen.be/data/sondering/1980-024720\n",
      "https://www.dov.vlaanderen.be/data/sondering/1976-030150\n",
      "https://www.dov.vlaanderen.be/data/sondering/1971-023322\n",
      "https://www.dov.vlaanderen.be/data/sondering/1971-023323\n",
      "https://www.dov.vlaanderen.be/data/sondering/1976-013900\n",
      "https://www.dov.vlaanderen.be/data/sondering/1971-023321\n",
      "https://www.dov.vlaanderen.be/data/sondering/1971-023320\n",
      "https://www.dov.vlaanderen.be/data/sondering/1975-014063\n",
      "https://www.dov.vlaanderen.be/data/sondering/1975-014064\n",
      "https://www.dov.vlaanderen.be/data/sondering/1976-030128\n",
      "https://www.dov.vlaanderen.be/data/sondering/1974-016926\n",
      "https://www.dov.vlaanderen.be/data/sondering/1974-016927\n"
     ]
    }
   ],
   "source": [
    "for pkey_sondering in set(df.pkey_sondering):\n",
    "    print(pkey_sondering)"
   ]
  },
  {
   "cell_type": "markdown",
   "metadata": {},
   "source": [
    "### Get CPT measurements in a bounding box based on specific properties"
   ]
  },
  {
   "cell_type": "markdown",
   "metadata": {},
   "source": [
    "We can combine a query on attributes with a query on geographic location to get the CPT measurements within a bounding box that have specific properties.\n",
    "\n",
    "The following example requests the CPT measurements with a depth greater than or equal to 2000 meters within the given bounding box.\n",
    "\n",
    "(Note that the datatype of the *literal* parameter should be a string, regardless of the datatype of this field in the output dataframe.)"
   ]
  },
  {
   "cell_type": "code",
   "execution_count": 37,
   "metadata": {},
   "outputs": [
    {
     "name": "stdout",
     "output_type": "stream",
     "text": [
      "[000/009] ccccccccc\n"
     ]
    },
    {
     "data": {
      "text/html": [
       "<div>\n",
       "<style scoped>\n",
       "    .dataframe tbody tr th:only-of-type {\n",
       "        vertical-align: middle;\n",
       "    }\n",
       "\n",
       "    .dataframe tbody tr th {\n",
       "        vertical-align: top;\n",
       "    }\n",
       "\n",
       "    .dataframe thead th {\n",
       "        text-align: right;\n",
       "    }\n",
       "</style>\n",
       "<table border=\"1\" class=\"dataframe\">\n",
       "  <thead>\n",
       "    <tr style=\"text-align: right;\">\n",
       "      <th></th>\n",
       "      <th>pkey_sondering</th>\n",
       "      <th>sondeernummer</th>\n",
       "      <th>x</th>\n",
       "      <th>y</th>\n",
       "      <th>start_sondering_mtaw</th>\n",
       "      <th>diepte_sondering_van</th>\n",
       "      <th>diepte_sondering_tot</th>\n",
       "      <th>datum_aanvang</th>\n",
       "      <th>uitvoerder</th>\n",
       "      <th>sondeermethode</th>\n",
       "      <th>apparaat</th>\n",
       "      <th>datum_gw_meting</th>\n",
       "      <th>diepte_gw_m</th>\n",
       "      <th>z</th>\n",
       "      <th>qc</th>\n",
       "      <th>Qt</th>\n",
       "      <th>fs</th>\n",
       "      <th>u</th>\n",
       "      <th>i</th>\n",
       "    </tr>\n",
       "  </thead>\n",
       "  <tbody>\n",
       "    <tr>\n",
       "      <th>0</th>\n",
       "      <td>https://www.dov.vlaanderen.be/data/sondering/2...</td>\n",
       "      <td>GEO-10/095-S1</td>\n",
       "      <td>200030.2</td>\n",
       "      <td>212577.5</td>\n",
       "      <td>26.58</td>\n",
       "      <td>1.25</td>\n",
       "      <td>20.65</td>\n",
       "      <td>2010-08-30</td>\n",
       "      <td>VO - Afdeling Geotechniek</td>\n",
       "      <td>continu elektrisch</td>\n",
       "      <td>200kN - TRACK-TRUCK</td>\n",
       "      <td>2010-08-30 12:50:00</td>\n",
       "      <td>1.45</td>\n",
       "      <td>1.30</td>\n",
       "      <td>1.22</td>\n",
       "      <td>NaN</td>\n",
       "      <td>1.0</td>\n",
       "      <td>NaN</td>\n",
       "      <td>0.8</td>\n",
       "    </tr>\n",
       "    <tr>\n",
       "      <th>1</th>\n",
       "      <td>https://www.dov.vlaanderen.be/data/sondering/2...</td>\n",
       "      <td>GEO-10/095-S1</td>\n",
       "      <td>200030.2</td>\n",
       "      <td>212577.5</td>\n",
       "      <td>26.58</td>\n",
       "      <td>1.25</td>\n",
       "      <td>20.65</td>\n",
       "      <td>2010-08-30</td>\n",
       "      <td>VO - Afdeling Geotechniek</td>\n",
       "      <td>continu elektrisch</td>\n",
       "      <td>200kN - TRACK-TRUCK</td>\n",
       "      <td>2010-08-30 12:50:00</td>\n",
       "      <td>1.45</td>\n",
       "      <td>1.35</td>\n",
       "      <td>3.19</td>\n",
       "      <td>NaN</td>\n",
       "      <td>2.0</td>\n",
       "      <td>NaN</td>\n",
       "      <td>1.0</td>\n",
       "    </tr>\n",
       "    <tr>\n",
       "      <th>2</th>\n",
       "      <td>https://www.dov.vlaanderen.be/data/sondering/2...</td>\n",
       "      <td>GEO-10/095-S1</td>\n",
       "      <td>200030.2</td>\n",
       "      <td>212577.5</td>\n",
       "      <td>26.58</td>\n",
       "      <td>1.25</td>\n",
       "      <td>20.65</td>\n",
       "      <td>2010-08-30</td>\n",
       "      <td>VO - Afdeling Geotechniek</td>\n",
       "      <td>continu elektrisch</td>\n",
       "      <td>200kN - TRACK-TRUCK</td>\n",
       "      <td>2010-08-30 12:50:00</td>\n",
       "      <td>1.45</td>\n",
       "      <td>1.40</td>\n",
       "      <td>7.21</td>\n",
       "      <td>NaN</td>\n",
       "      <td>63.0</td>\n",
       "      <td>NaN</td>\n",
       "      <td>1.2</td>\n",
       "    </tr>\n",
       "    <tr>\n",
       "      <th>3</th>\n",
       "      <td>https://www.dov.vlaanderen.be/data/sondering/2...</td>\n",
       "      <td>GEO-10/095-S1</td>\n",
       "      <td>200030.2</td>\n",
       "      <td>212577.5</td>\n",
       "      <td>26.58</td>\n",
       "      <td>1.25</td>\n",
       "      <td>20.65</td>\n",
       "      <td>2010-08-30</td>\n",
       "      <td>VO - Afdeling Geotechniek</td>\n",
       "      <td>continu elektrisch</td>\n",
       "      <td>200kN - TRACK-TRUCK</td>\n",
       "      <td>2010-08-30 12:50:00</td>\n",
       "      <td>1.45</td>\n",
       "      <td>1.45</td>\n",
       "      <td>12.75</td>\n",
       "      <td>NaN</td>\n",
       "      <td>138.0</td>\n",
       "      <td>NaN</td>\n",
       "      <td>1.2</td>\n",
       "    </tr>\n",
       "    <tr>\n",
       "      <th>4</th>\n",
       "      <td>https://www.dov.vlaanderen.be/data/sondering/2...</td>\n",
       "      <td>GEO-10/095-S1</td>\n",
       "      <td>200030.2</td>\n",
       "      <td>212577.5</td>\n",
       "      <td>26.58</td>\n",
       "      <td>1.25</td>\n",
       "      <td>20.65</td>\n",
       "      <td>2010-08-30</td>\n",
       "      <td>VO - Afdeling Geotechniek</td>\n",
       "      <td>continu elektrisch</td>\n",
       "      <td>200kN - TRACK-TRUCK</td>\n",
       "      <td>2010-08-30 12:50:00</td>\n",
       "      <td>1.45</td>\n",
       "      <td>1.50</td>\n",
       "      <td>15.26</td>\n",
       "      <td>NaN</td>\n",
       "      <td>143.0</td>\n",
       "      <td>NaN</td>\n",
       "      <td>1.4</td>\n",
       "    </tr>\n",
       "  </tbody>\n",
       "</table>\n",
       "</div>"
      ],
      "text/plain": [
       "                                      pkey_sondering  sondeernummer         x  \\\n",
       "0  https://www.dov.vlaanderen.be/data/sondering/2...  GEO-10/095-S1  200030.2   \n",
       "1  https://www.dov.vlaanderen.be/data/sondering/2...  GEO-10/095-S1  200030.2   \n",
       "2  https://www.dov.vlaanderen.be/data/sondering/2...  GEO-10/095-S1  200030.2   \n",
       "3  https://www.dov.vlaanderen.be/data/sondering/2...  GEO-10/095-S1  200030.2   \n",
       "4  https://www.dov.vlaanderen.be/data/sondering/2...  GEO-10/095-S1  200030.2   \n",
       "\n",
       "          y  start_sondering_mtaw  diepte_sondering_van  diepte_sondering_tot  \\\n",
       "0  212577.5                 26.58                  1.25                 20.65   \n",
       "1  212577.5                 26.58                  1.25                 20.65   \n",
       "2  212577.5                 26.58                  1.25                 20.65   \n",
       "3  212577.5                 26.58                  1.25                 20.65   \n",
       "4  212577.5                 26.58                  1.25                 20.65   \n",
       "\n",
       "  datum_aanvang                 uitvoerder      sondeermethode  \\\n",
       "0    2010-08-30  VO - Afdeling Geotechniek  continu elektrisch   \n",
       "1    2010-08-30  VO - Afdeling Geotechniek  continu elektrisch   \n",
       "2    2010-08-30  VO - Afdeling Geotechniek  continu elektrisch   \n",
       "3    2010-08-30  VO - Afdeling Geotechniek  continu elektrisch   \n",
       "4    2010-08-30  VO - Afdeling Geotechniek  continu elektrisch   \n",
       "\n",
       "              apparaat     datum_gw_meting  diepte_gw_m     z     qc  Qt  \\\n",
       "0  200kN - TRACK-TRUCK 2010-08-30 12:50:00         1.45  1.30   1.22 NaN   \n",
       "1  200kN - TRACK-TRUCK 2010-08-30 12:50:00         1.45  1.35   3.19 NaN   \n",
       "2  200kN - TRACK-TRUCK 2010-08-30 12:50:00         1.45  1.40   7.21 NaN   \n",
       "3  200kN - TRACK-TRUCK 2010-08-30 12:50:00         1.45  1.45  12.75 NaN   \n",
       "4  200kN - TRACK-TRUCK 2010-08-30 12:50:00         1.45  1.50  15.26 NaN   \n",
       "\n",
       "      fs   u    i  \n",
       "0    1.0 NaN  0.8  \n",
       "1    2.0 NaN  1.0  \n",
       "2   63.0 NaN  1.2  \n",
       "3  138.0 NaN  1.2  \n",
       "4  143.0 NaN  1.4  "
      ]
     },
     "execution_count": 37,
     "metadata": {},
     "output_type": "execute_result"
    }
   ],
   "source": [
    "from owslib.fes import PropertyIsGreaterThanOrEqualTo\n",
    "\n",
    "query = PropertyIsGreaterThanOrEqualTo(\n",
    "            propertyname='diepte_sondering_tot',\n",
    "            literal='20')\n",
    "\n",
    "df = sondering.search(\n",
    "    location=Within(Box(200000, 211000, 205000, 214000)),\n",
    "    query=query\n",
    "    )\n",
    "\n",
    "df.head()"
   ]
  },
  {
   "cell_type": "markdown",
   "metadata": {},
   "source": [
    "We can look at one of the CPT measurements in a webbrowser using its *pkey_sondering*:"
   ]
  },
  {
   "cell_type": "code",
   "execution_count": 38,
   "metadata": {},
   "outputs": [
    {
     "name": "stdout",
     "output_type": "stream",
     "text": [
      "https://www.dov.vlaanderen.be/data/sondering/2009-000054\n",
      "https://www.dov.vlaanderen.be/data/sondering/2007-049201\n",
      "https://www.dov.vlaanderen.be/data/sondering/2015-054999\n",
      "https://www.dov.vlaanderen.be/data/sondering/2009-000053\n",
      "https://www.dov.vlaanderen.be/data/sondering/2009-000052\n",
      "https://www.dov.vlaanderen.be/data/sondering/2015-054995\n",
      "https://www.dov.vlaanderen.be/data/sondering/2015-055496\n",
      "https://www.dov.vlaanderen.be/data/sondering/2007-049200\n",
      "https://www.dov.vlaanderen.be/data/sondering/2010-062407\n"
     ]
    }
   ],
   "source": [
    "for pkey_sondering in set(df.pkey_sondering):\n",
    "    print(pkey_sondering)"
   ]
  },
  {
   "cell_type": "markdown",
   "metadata": {},
   "source": [
    "### Select CPT measurements in a municipality and return depth"
   ]
  },
  {
   "cell_type": "markdown",
   "metadata": {},
   "source": [
    "We can limit the columns in the output dataframe by specifying the *return_fields* parameter in our search.\n",
    "\n",
    "In this example we query all the CPT measurements in the city of Ghent and return their depth:"
   ]
  },
  {
   "cell_type": "code",
   "execution_count": 39,
   "metadata": {},
   "outputs": [
    {
     "data": {
      "text/html": [
       "<div>\n",
       "<style scoped>\n",
       "    .dataframe tbody tr th:only-of-type {\n",
       "        vertical-align: middle;\n",
       "    }\n",
       "\n",
       "    .dataframe tbody tr th {\n",
       "        vertical-align: top;\n",
       "    }\n",
       "\n",
       "    .dataframe thead th {\n",
       "        text-align: right;\n",
       "    }\n",
       "</style>\n",
       "<table border=\"1\" class=\"dataframe\">\n",
       "  <thead>\n",
       "    <tr style=\"text-align: right;\">\n",
       "      <th></th>\n",
       "      <th>diepte_sondering_tot</th>\n",
       "    </tr>\n",
       "  </thead>\n",
       "  <tbody>\n",
       "    <tr>\n",
       "      <th>0</th>\n",
       "      <td>2.7</td>\n",
       "    </tr>\n",
       "    <tr>\n",
       "      <th>1</th>\n",
       "      <td>1.4</td>\n",
       "    </tr>\n",
       "    <tr>\n",
       "      <th>2</th>\n",
       "      <td>7.6</td>\n",
       "    </tr>\n",
       "    <tr>\n",
       "      <th>3</th>\n",
       "      <td>11.5</td>\n",
       "    </tr>\n",
       "    <tr>\n",
       "      <th>4</th>\n",
       "      <td>18.6</td>\n",
       "    </tr>\n",
       "  </tbody>\n",
       "</table>\n",
       "</div>"
      ],
      "text/plain": [
       "   diepte_sondering_tot\n",
       "0                   2.7\n",
       "1                   1.4\n",
       "2                   7.6\n",
       "3                  11.5\n",
       "4                  18.6"
      ]
     },
     "execution_count": 39,
     "metadata": {},
     "output_type": "execute_result"
    }
   ],
   "source": [
    "query = PropertyIsEqualTo(propertyname='gemeente',\n",
    "                          literal='Gent')\n",
    "df = sondering.search(query=query,\n",
    "                      return_fields=('diepte_sondering_tot',))\n",
    "df.head()"
   ]
  },
  {
   "cell_type": "code",
   "execution_count": 40,
   "metadata": {},
   "outputs": [
    {
     "data": {
      "text/html": [
       "<div>\n",
       "<style scoped>\n",
       "    .dataframe tbody tr th:only-of-type {\n",
       "        vertical-align: middle;\n",
       "    }\n",
       "\n",
       "    .dataframe tbody tr th {\n",
       "        vertical-align: top;\n",
       "    }\n",
       "\n",
       "    .dataframe thead th {\n",
       "        text-align: right;\n",
       "    }\n",
       "</style>\n",
       "<table border=\"1\" class=\"dataframe\">\n",
       "  <thead>\n",
       "    <tr style=\"text-align: right;\">\n",
       "      <th></th>\n",
       "      <th>diepte_sondering_tot</th>\n",
       "    </tr>\n",
       "  </thead>\n",
       "  <tbody>\n",
       "    <tr>\n",
       "      <th>count</th>\n",
       "      <td>3560.000000</td>\n",
       "    </tr>\n",
       "    <tr>\n",
       "      <th>mean</th>\n",
       "      <td>18.495803</td>\n",
       "    </tr>\n",
       "    <tr>\n",
       "      <th>std</th>\n",
       "      <td>8.505536</td>\n",
       "    </tr>\n",
       "    <tr>\n",
       "      <th>min</th>\n",
       "      <td>1.000000</td>\n",
       "    </tr>\n",
       "    <tr>\n",
       "      <th>25%</th>\n",
       "      <td>11.400000</td>\n",
       "    </tr>\n",
       "    <tr>\n",
       "      <th>50%</th>\n",
       "      <td>18.600000</td>\n",
       "    </tr>\n",
       "    <tr>\n",
       "      <th>75%</th>\n",
       "      <td>24.600000</td>\n",
       "    </tr>\n",
       "    <tr>\n",
       "      <th>max</th>\n",
       "      <td>52.600000</td>\n",
       "    </tr>\n",
       "  </tbody>\n",
       "</table>\n",
       "</div>"
      ],
      "text/plain": [
       "       diepte_sondering_tot\n",
       "count           3560.000000\n",
       "mean              18.495803\n",
       "std                8.505536\n",
       "min                1.000000\n",
       "25%               11.400000\n",
       "50%               18.600000\n",
       "75%               24.600000\n",
       "max               52.600000"
      ]
     },
     "execution_count": 40,
     "metadata": {},
     "output_type": "execute_result"
    }
   ],
   "source": [
    "df.describe()"
   ]
  },
  {
   "cell_type": "code",
   "execution_count": 42,
   "metadata": {},
   "outputs": [
    {
     "data": {
      "text/plain": [
       "<matplotlib.axes._subplots.AxesSubplot at 0x1198d3c8>"
      ]
     },
     "execution_count": 42,
     "metadata": {},
     "output_type": "execute_result"
    },
    {
     "data": {
      "image/png": "[encoded data removed]",
      "text/plain": [
       "<matplotlib.figure.Figure at 0x11980e80>"
      ]
     },
     "metadata": {},
     "output_type": "display_data"
    }
   ],
   "source": [
    "df.boxplot()"
   ]
  },
  {
   "cell_type": "markdown",
   "metadata": {},
   "source": [
    "### Get CPT measurements based on fields not available in the standard output dataframe"
   ]
  },
  {
   "cell_type": "markdown",
   "metadata": {},
   "source": [
    "To keep the output dataframe size acceptable, not all availabe WFS fields are included in the standard output. However, one can use this information to select CPT measurements as illustrated below.\n",
    "\n",
    "For example, make a selection of the CPT measurements in municipality the of Antwerp, using a conustype 'U':"
   ]
  },
  {
   "cell_type": "code",
   "execution_count": 47,
   "metadata": {},
   "outputs": [
    {
     "data": {
      "text/html": [
       "<div>\n",
       "<style scoped>\n",
       "    .dataframe tbody tr th:only-of-type {\n",
       "        vertical-align: middle;\n",
       "    }\n",
       "\n",
       "    .dataframe tbody tr th {\n",
       "        vertical-align: top;\n",
       "    }\n",
       "\n",
       "    .dataframe thead th {\n",
       "        text-align: right;\n",
       "    }\n",
       "</style>\n",
       "<table border=\"1\" class=\"dataframe\">\n",
       "  <thead>\n",
       "    <tr style=\"text-align: right;\">\n",
       "      <th></th>\n",
       "      <th>pkey_sondering</th>\n",
       "      <th>sondeernummer</th>\n",
       "      <th>x</th>\n",
       "      <th>y</th>\n",
       "      <th>diepte_sondering_tot</th>\n",
       "      <th>datum_aanvang</th>\n",
       "    </tr>\n",
       "  </thead>\n",
       "  <tbody>\n",
       "    <tr>\n",
       "      <th>0</th>\n",
       "      <td>https://www.dov.vlaanderen.be/data/sondering/1...</td>\n",
       "      <td>GEO-93/023-SII-E</td>\n",
       "      <td>152740.0</td>\n",
       "      <td>215493.0</td>\n",
       "      <td>29.70</td>\n",
       "      <td>1993-03-02</td>\n",
       "    </tr>\n",
       "    <tr>\n",
       "      <th>1</th>\n",
       "      <td>https://www.dov.vlaanderen.be/data/sondering/2...</td>\n",
       "      <td>GEO-02/111-S1</td>\n",
       "      <td>150347.3</td>\n",
       "      <td>214036.4</td>\n",
       "      <td>29.95</td>\n",
       "      <td>2002-12-17</td>\n",
       "    </tr>\n",
       "    <tr>\n",
       "      <th>2</th>\n",
       "      <td>https://www.dov.vlaanderen.be/data/sondering/2...</td>\n",
       "      <td>GEO-04/123-SKD4-E</td>\n",
       "      <td>146437.7</td>\n",
       "      <td>222317.5</td>\n",
       "      <td>4.45</td>\n",
       "      <td>2004-07-12</td>\n",
       "    </tr>\n",
       "    <tr>\n",
       "      <th>3</th>\n",
       "      <td>https://www.dov.vlaanderen.be/data/sondering/2...</td>\n",
       "      <td>GEO-04/123-SKD6-E</td>\n",
       "      <td>146523.9</td>\n",
       "      <td>222379.7</td>\n",
       "      <td>7.40</td>\n",
       "      <td>2004-07-14</td>\n",
       "    </tr>\n",
       "    <tr>\n",
       "      <th>4</th>\n",
       "      <td>https://www.dov.vlaanderen.be/data/sondering/2...</td>\n",
       "      <td>GEO-04/123-SKD5-E</td>\n",
       "      <td>146493.4</td>\n",
       "      <td>222298.8</td>\n",
       "      <td>1.65</td>\n",
       "      <td>2004-07-16</td>\n",
       "    </tr>\n",
       "  </tbody>\n",
       "</table>\n",
       "</div>"
      ],
      "text/plain": [
       "                                      pkey_sondering      sondeernummer  \\\n",
       "0  https://www.dov.vlaanderen.be/data/sondering/1...   GEO-93/023-SII-E   \n",
       "1  https://www.dov.vlaanderen.be/data/sondering/2...      GEO-02/111-S1   \n",
       "2  https://www.dov.vlaanderen.be/data/sondering/2...  GEO-04/123-SKD4-E   \n",
       "3  https://www.dov.vlaanderen.be/data/sondering/2...  GEO-04/123-SKD6-E   \n",
       "4  https://www.dov.vlaanderen.be/data/sondering/2...  GEO-04/123-SKD5-E   \n",
       "\n",
       "          x         y  diepte_sondering_tot datum_aanvang  \n",
       "0  152740.0  215493.0                 29.70    1993-03-02  \n",
       "1  150347.3  214036.4                 29.95    2002-12-17  \n",
       "2  146437.7  222317.5                  4.45    2004-07-12  \n",
       "3  146523.9  222379.7                  7.40    2004-07-14  \n",
       "4  146493.4  222298.8                  1.65    2004-07-16  "
      ]
     },
     "execution_count": 47,
     "metadata": {},
     "output_type": "execute_result"
    }
   ],
   "source": [
    "from owslib.fes import And\n",
    "\n",
    "query = And([PropertyIsEqualTo(propertyname='gemeente',\n",
    "                               literal='Antwerpen'),\n",
    "             PropertyIsEqualTo(propertyname='conus', \n",
    "                               literal='U')]\n",
    "            )\n",
    "df = sondering.search(query=query,\n",
    "                      return_fields=('pkey_sondering', 'sondeernummer', 'x', 'y', 'diepte_sondering_tot', 'datum_aanvang'))\n",
    "df.head()"
   ]
  },
  {
   "cell_type": "markdown",
   "metadata": {},
   "source": [
    "### Get CPT data, returning fields not available in the standard output dataframe"
   ]
  },
  {
   "cell_type": "markdown",
   "metadata": {},
   "source": [
    "As denoted in the previous example, not all available fields are available in the default output frame to keep its size limited. However, you can request any available field by including it in the *return_fields* parameter of the search:"
   ]
  },
  {
   "cell_type": "code",
   "execution_count": 63,
   "metadata": {},
   "outputs": [
    {
     "data": {
      "text/html": [
       "<div>\n",
       "<style scoped>\n",
       "    .dataframe tbody tr th:only-of-type {\n",
       "        vertical-align: middle;\n",
       "    }\n",
       "\n",
       "    .dataframe tbody tr th {\n",
       "        vertical-align: top;\n",
       "    }\n",
       "\n",
       "    .dataframe thead th {\n",
       "        text-align: right;\n",
       "    }\n",
       "</style>\n",
       "<table border=\"1\" class=\"dataframe\">\n",
       "  <thead>\n",
       "    <tr style=\"text-align: right;\">\n",
       "      <th></th>\n",
       "      <th>pkey_sondering</th>\n",
       "      <th>sondeernummer</th>\n",
       "      <th>x</th>\n",
       "      <th>y</th>\n",
       "      <th>diepte_sondering_tot</th>\n",
       "      <th>conus</th>\n",
       "    </tr>\n",
       "  </thead>\n",
       "  <tbody>\n",
       "    <tr>\n",
       "      <th>0</th>\n",
       "      <td>https://www.dov.vlaanderen.be/data/sondering/1...</td>\n",
       "      <td>GEO-94/020-SV</td>\n",
       "      <td>110241.6</td>\n",
       "      <td>204692.2</td>\n",
       "      <td>33.80</td>\n",
       "      <td>U</td>\n",
       "    </tr>\n",
       "    <tr>\n",
       "      <th>1</th>\n",
       "      <td>https://www.dov.vlaanderen.be/data/sondering/1...</td>\n",
       "      <td>GEO-94/020-SI</td>\n",
       "      <td>110062.5</td>\n",
       "      <td>205051.4</td>\n",
       "      <td>15.65</td>\n",
       "      <td>U</td>\n",
       "    </tr>\n",
       "    <tr>\n",
       "      <th>2</th>\n",
       "      <td>https://www.dov.vlaanderen.be/data/sondering/1...</td>\n",
       "      <td>GEO-94/020-SII</td>\n",
       "      <td>110107.0</td>\n",
       "      <td>204965.3</td>\n",
       "      <td>26.50</td>\n",
       "      <td>U</td>\n",
       "    </tr>\n",
       "    <tr>\n",
       "      <th>3</th>\n",
       "      <td>https://www.dov.vlaanderen.be/data/sondering/1...</td>\n",
       "      <td>GEO-94/020-SIII</td>\n",
       "      <td>110152.4</td>\n",
       "      <td>204876.1</td>\n",
       "      <td>16.50</td>\n",
       "      <td>U</td>\n",
       "    </tr>\n",
       "    <tr>\n",
       "      <th>4</th>\n",
       "      <td>https://www.dov.vlaanderen.be/data/sondering/1...</td>\n",
       "      <td>GEO-94/020-SIV</td>\n",
       "      <td>110197.8</td>\n",
       "      <td>204787.0</td>\n",
       "      <td>16.70</td>\n",
       "      <td>U</td>\n",
       "    </tr>\n",
       "  </tbody>\n",
       "</table>\n",
       "</div>"
      ],
      "text/plain": [
       "                                      pkey_sondering    sondeernummer  \\\n",
       "0  https://www.dov.vlaanderen.be/data/sondering/1...    GEO-94/020-SV   \n",
       "1  https://www.dov.vlaanderen.be/data/sondering/1...    GEO-94/020-SI   \n",
       "2  https://www.dov.vlaanderen.be/data/sondering/1...   GEO-94/020-SII   \n",
       "3  https://www.dov.vlaanderen.be/data/sondering/1...  GEO-94/020-SIII   \n",
       "4  https://www.dov.vlaanderen.be/data/sondering/1...   GEO-94/020-SIV   \n",
       "\n",
       "          x         y  diepte_sondering_tot conus  \n",
       "0  110241.6  204692.2                 33.80     U  \n",
       "1  110062.5  205051.4                 15.65     U  \n",
       "2  110107.0  204965.3                 26.50     U  \n",
       "3  110152.4  204876.1                 16.50     U  \n",
       "4  110197.8  204787.0                 16.70     U  "
      ]
     },
     "execution_count": 63,
     "metadata": {},
     "output_type": "execute_result"
    }
   ],
   "source": [
    "query = And([PropertyIsEqualTo(propertyname='gemeente', literal='Gent'),\n",
    "             PropertyIsEqualTo(propertyname='conus', literal='U')])\n",
    "\n",
    "df = sondering.search(query=query,\n",
    "                      return_fields=('pkey_sondering', 'sondeernummer', 'diepte_sondering_tot',\n",
    "                                     'conus', 'x', 'y'))\n",
    "\n",
    "df.head()"
   ]
  },
  {
   "cell_type": "markdown",
   "metadata": {},
   "source": [
    "## Visualize results"
   ]
  },
  {
   "cell_type": "markdown",
   "metadata": {},
   "source": [
    "Using Folium, we can display the results of our search on a map."
   ]
  },
  {
   "cell_type": "code",
   "execution_count": 64,
   "metadata": {
    "collapsed": true
   },
   "outputs": [],
   "source": [
    "# import the necessary modules (not included in the requirements of pydov!)\n",
    "import folium\n",
    "from folium.plugins import MarkerCluster\n",
    "from pyproj import Proj, transform"
   ]
  },
  {
   "cell_type": "code",
   "execution_count": 65,
   "metadata": {},
   "outputs": [],
   "source": [
    "# convert the coordinates to lat/lon for folium\n",
    "def convert_latlon(x1, y1):\n",
    "    inProj = Proj(init='epsg:31370')\n",
    "    outProj = Proj(init='epsg:4326')\n",
    "    x2,y2 = transform(inProj, outProj, x1, y1)\n",
    "    return x2, y2\n",
    "df['lon'], df['lat'] = zip(*map(convert_latlon, df['x'], df['y'])) \n",
    "# convert to list\n",
    "loclist = df[['lat', 'lon']].values.tolist()"
   ]
  },
  {
   "cell_type": "code",
   "execution_count": 69,
   "metadata": {},
   "outputs": [
    {
     "data": {
      "text/html": [
       "<div style=\"width:100%;\"><div style=\"position:relative;width:100%;height:0;padding-bottom:60%;\"><iframe src=\"data:text/html;charset=utf-8;base64,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\" style=\"position:absolute;width:100%;height:100%;left:0;top:0;border:none !important;\" allowfullscreen webkitallowfullscreen mozallowfullscreen></iframe></div></div>"
      ],
      "text/plain": [
       "<folium.folium.Map at 0x15cd10b8>"
      ]
     },
     "execution_count": 69,
     "metadata": {},
     "output_type": "execute_result"
    }
   ],
   "source": [
    "# initialize the Folium map on the centre of the selected locations, play with the zoom until ok\n",
    "fmap = folium.Map(location=[df['lat'].mean(), df['lon'].mean()], zoom_start=11)\n",
    "marker_cluster = MarkerCluster().add_to(fmap)\n",
    "for loc in range(0, len(loclist)):\n",
    "    folium.Marker(loclist[loc], popup=df['sondeernummer'][loc]).add_to(marker_cluster)\n",
    "fmap\n"
   ]
  },
  {
   "cell_type": "code",
   "execution_count": null,
   "metadata": {
    "collapsed": true
   },
   "outputs": [],
   "source": []
  }
 ],
 "metadata": {
  "kernelspec": {
   "display_name": "Python 2",
   "language": "python",
   "name": "python2"
  },
  "language_info": {
   "codemirror_mode": {
    "name": "ipython",
    "version": 2
   },
   "file_extension": ".py",
   "mimetype": "text/x-python",
   "name": "python",
   "nbconvert_exporter": "python",
   "pygments_lexer": "ipython2",
   "version": "2.7.13"
  }
 },
 "nbformat": 4,
 "nbformat_minor": 2
}
