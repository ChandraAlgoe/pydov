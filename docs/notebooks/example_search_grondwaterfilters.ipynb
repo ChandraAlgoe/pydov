{
 "cells": [
  {
   "cell_type": "markdown",
   "metadata": {},
   "source": [
    "# Example of DOV search methods for groundwater screens (grondwaterfilters)\n"
   ]
  },
  {
   "cell_type": "markdown",
   "metadata": {},
   "source": [
    "## Use cases:\n",
    "* Get groundwater screens in a bounding box\n",
    "* Get groundwater screens with specific properties\n",
    "* Get the coordinates of all groundwater screens in Ghent\n",
    "* Get the 'meetnet' and 'meetnet_code' for groundwater screens in Boortmeerbeek\n",
    "* Get all details of groundwaterscreens of 'meetnet 9' within the given bounding box\n",
    "* Get groundwater screens based on a combination of specific properties"
   ]
  },
  {
   "cell_type": "code",
   "execution_count": 2,
   "metadata": {
    "collapsed": true
   },
   "outputs": [],
   "source": [
    "%matplotlib inline\n",
    "import os, sys\n",
    "import inspect"
   ]
  },
  {
   "cell_type": "code",
   "execution_count": 3,
   "metadata": {},
   "outputs": [],
   "source": [
    "# check pydov path\n",
    "import pydov"
   ]
  },
  {
   "cell_type": "markdown",
   "metadata": {},
   "source": [
    "## Get information about the datatype 'GrondwaterFilter'"
   ]
  },
  {
   "cell_type": "code",
   "execution_count": 4,
   "metadata": {
    "collapsed": true
   },
   "outputs": [],
   "source": [
    "from pydov.search.grondwaterfilter import GrondwaterFilterSearch\n",
    "gwfilter = GrondwaterFilterSearch()"
   ]
  },
  {
   "cell_type": "markdown",
   "metadata": {},
   "source": [
    "A description is provided for the 'GrondwaterFilter' datatype:"
   ]
  },
  {
   "cell_type": "code",
   "execution_count": 5,
   "metadata": {},
   "outputs": [
    {
     "data": {
      "text/plain": [
       "\"In de Databank Ondergrond Vlaanderen zijn verschillende grondwatermeetnetten opgenomen. Deze meetnetten staan in functie van uitgebreide monitoringprogramma's met de bedoeling een goed beeld te krijgen van de beschikbare grondwaterkwantiteit en grondwaterkwaliteit van de watervoerende lagen in Vlaanderen.\""
      ]
     },
     "execution_count": 5,
     "metadata": {},
     "output_type": "execute_result"
    }
   ],
   "source": [
    "gwfilter.get_description()"
   ]
  },
  {
   "cell_type": "markdown",
   "metadata": {},
   "source": [
    "The different fields that are available for objects of the 'GrondwaterFilter' datatype can be requested with the get_fields() method:"
   ]
  },
  {
   "cell_type": "code",
   "execution_count": 48,
   "metadata": {},
   "outputs": [
    {
     "name": "stdout",
     "output_type": "stream",
     "text": [
      "generated_id\n",
      "gw_id\n",
      "pkey_grondwaterlocatie\n",
      "filternummer\n",
      "pkey_filter\n",
      "filtergrafiek\n",
      "putgrafiek\n",
      "namen_grondwaterlocatie\n",
      "filtertype\n",
      "stijghoogte\n",
      "analyse\n",
      "x\n",
      "y\n",
      "Z_mTAW\n",
      "gemeente\n",
      "deelgemeente\n",
      "meetnet\n",
      "aquifer\n",
      "grondwaterlichaam\n",
      "diepte_onderkant_filter\n",
      "lengte_filter\n",
      "beschrijving_ligging\n",
      "peilmetingen_van\n",
      "peilmetingen_tot\n",
      "boornummer\n",
      "boringfiche\n",
      "oxidatie_reductie\n",
      "mv_mtaw\n",
      "meetnet_code\n",
      "aquifer_code\n",
      "grondwaterlichaam_code\n",
      "regime\n",
      "datum\n",
      "tijdstip\n",
      "peil_mtaw\n",
      "betrouwbaarheid\n",
      "methode\n"
     ]
    }
   ],
   "source": [
    "fields = gwfilter.get_fields()\n",
    "\n",
    "# print available fields\n",
    "for f in fields.values():\n",
    "    print(f['name'])"
   ]
  },
  {
   "cell_type": "markdown",
   "metadata": {},
   "source": [
    "You can get more information of a field by requesting it from the fields dictionary:\n",
    "* *name*: name of the field\n",
    "* *definition*: definition of this field\n",
    "* *cost*: currently this is either 1 or 10, depending on the datasource of the field. It is an indication of the expected time it will take to retrieve this field in the output dataframe.\n",
    "* *notnull*: whether the field is mandatory or not\n",
    "* *type*: datatype of the values of this field"
   ]
  },
  {
   "cell_type": "code",
   "execution_count": 49,
   "metadata": {},
   "outputs": [
    {
     "data": {
      "text/plain": [
       "{'cost': 1,\n",
       " 'definition': 'De aquifer waarin de filter hangt. Als tekst, opgebouwd uit de HCOV code (vier karakters) en de naam gescheiden door \" - \".',\n",
       " 'name': 'aquifer',\n",
       " 'notnull': False,\n",
       " 'type': 'string'}"
      ]
     },
     "execution_count": 49,
     "metadata": {},
     "output_type": "execute_result"
    }
   ],
   "source": [
    "# print information for a certain field\n",
    "fields['aquifer']"
   ]
  },
  {
   "cell_type": "markdown",
   "metadata": {},
   "source": [
    "Optionally, if the values of the field have a specific domain the possible values are listed as *values*:"
   ]
  },
  {
   "cell_type": "code",
   "execution_count": 50,
   "metadata": {},
   "outputs": [
    {
     "data": {
      "text/plain": [
       "['oxidatie', 'reductie', 'mengzone', 'onbekend']"
      ]
     },
     "execution_count": 50,
     "metadata": {},
     "output_type": "execute_result"
    }
   ],
   "source": [
    "# if an attribute can have several values, these are listed under 'values', e.g. for 'methode':\n",
    "fields['oxidatie_reductie']['values']"
   ]
  },
  {
   "cell_type": "markdown",
   "metadata": {},
   "source": [
    "## Example use cases"
   ]
  },
  {
   "cell_type": "markdown",
   "metadata": {},
   "source": [
    "### Get groundwater screens in a bounding box"
   ]
  },
  {
   "cell_type": "markdown",
   "metadata": {},
   "source": [
    "Get data for all the groundwater screens that are geographically located within the bounds of the specified box.\n",
    "\n",
    "The coordinates are in the Belgian Lambert72 (EPSG:31370) coordinate system and are given in the order of lower left x, lower left y, upper right x, upper right y."
   ]
  },
  {
   "cell_type": "code",
   "execution_count": 51,
   "metadata": {},
   "outputs": [
    {
     "data": {
      "text/html": [
       "<div>\n",
       "<style scoped>\n",
       "    .dataframe tbody tr th:only-of-type {\n",
       "        vertical-align: middle;\n",
       "    }\n",
       "\n",
       "    .dataframe tbody tr th {\n",
       "        vertical-align: top;\n",
       "    }\n",
       "\n",
       "    .dataframe thead th {\n",
       "        text-align: right;\n",
       "    }\n",
       "</style>\n",
       "<table border=\"1\" class=\"dataframe\">\n",
       "  <thead>\n",
       "    <tr style=\"text-align: right;\">\n",
       "      <th></th>\n",
       "      <th>pkey_filter</th>\n",
       "      <th>pkey_grondwaterlocatie</th>\n",
       "      <th>gw_id</th>\n",
       "      <th>filternummer</th>\n",
       "      <th>filtertype</th>\n",
       "      <th>x</th>\n",
       "      <th>y</th>\n",
       "      <th>mv_mtaw</th>\n",
       "      <th>gemeente</th>\n",
       "      <th>meetnet_code</th>\n",
       "      <th>aquifer_code</th>\n",
       "      <th>grondwaterlichaam_code</th>\n",
       "      <th>regime</th>\n",
       "      <th>diepte_onderkant_filter</th>\n",
       "      <th>lengte_filter</th>\n",
       "      <th>datum</th>\n",
       "      <th>tijdstip</th>\n",
       "      <th>peil_mtaw</th>\n",
       "      <th>betrouwbaarheid</th>\n",
       "      <th>methode</th>\n",
       "    </tr>\n",
       "  </thead>\n",
       "  <tbody>\n",
       "    <tr>\n",
       "      <th>0</th>\n",
       "      <td>https://www.dov.vlaanderen.be/data/filter/1999...</td>\n",
       "      <td>https://www.dov.vlaanderen.be/data/put/2017-00...</td>\n",
       "      <td>SWPP008</td>\n",
       "      <td>1</td>\n",
       "      <td>peilfilter</td>\n",
       "      <td>93961.296875</td>\n",
       "      <td>169668.296875</td>\n",
       "      <td>NaN</td>\n",
       "      <td>Wortegem-Petegem</td>\n",
       "      <td>9</td>\n",
       "      <td>0100</td>\n",
       "      <td>NaN</td>\n",
       "      <td>freatisch</td>\n",
       "      <td>NaN</td>\n",
       "      <td>NaN</td>\n",
       "      <td>1999-04-13</td>\n",
       "      <td>NaN</td>\n",
       "      <td>12.65</td>\n",
       "      <td>onbekend</td>\n",
       "      <td>NaN</td>\n",
       "    </tr>\n",
       "    <tr>\n",
       "      <th>1</th>\n",
       "      <td>https://www.dov.vlaanderen.be/data/filter/1999...</td>\n",
       "      <td>https://www.dov.vlaanderen.be/data/put/2017-00...</td>\n",
       "      <td>SWPP008</td>\n",
       "      <td>1</td>\n",
       "      <td>peilfilter</td>\n",
       "      <td>93961.296875</td>\n",
       "      <td>169668.296875</td>\n",
       "      <td>NaN</td>\n",
       "      <td>Wortegem-Petegem</td>\n",
       "      <td>9</td>\n",
       "      <td>0100</td>\n",
       "      <td>NaN</td>\n",
       "      <td>freatisch</td>\n",
       "      <td>NaN</td>\n",
       "      <td>NaN</td>\n",
       "      <td>1999-04-14</td>\n",
       "      <td>NaN</td>\n",
       "      <td>12.27</td>\n",
       "      <td>onbekend</td>\n",
       "      <td>NaN</td>\n",
       "    </tr>\n",
       "    <tr>\n",
       "      <th>2</th>\n",
       "      <td>https://www.dov.vlaanderen.be/data/filter/1999...</td>\n",
       "      <td>https://www.dov.vlaanderen.be/data/put/2017-00...</td>\n",
       "      <td>SWPP008</td>\n",
       "      <td>1</td>\n",
       "      <td>peilfilter</td>\n",
       "      <td>93961.296875</td>\n",
       "      <td>169668.296875</td>\n",
       "      <td>NaN</td>\n",
       "      <td>Wortegem-Petegem</td>\n",
       "      <td>9</td>\n",
       "      <td>0100</td>\n",
       "      <td>NaN</td>\n",
       "      <td>freatisch</td>\n",
       "      <td>NaN</td>\n",
       "      <td>NaN</td>\n",
       "      <td>1999-04-22</td>\n",
       "      <td>NaN</td>\n",
       "      <td>12.38</td>\n",
       "      <td>onbekend</td>\n",
       "      <td>NaN</td>\n",
       "    </tr>\n",
       "    <tr>\n",
       "      <th>3</th>\n",
       "      <td>https://www.dov.vlaanderen.be/data/filter/1999...</td>\n",
       "      <td>https://www.dov.vlaanderen.be/data/put/2017-00...</td>\n",
       "      <td>SWPP008</td>\n",
       "      <td>1</td>\n",
       "      <td>peilfilter</td>\n",
       "      <td>93961.296875</td>\n",
       "      <td>169668.296875</td>\n",
       "      <td>NaN</td>\n",
       "      <td>Wortegem-Petegem</td>\n",
       "      <td>9</td>\n",
       "      <td>0100</td>\n",
       "      <td>NaN</td>\n",
       "      <td>freatisch</td>\n",
       "      <td>NaN</td>\n",
       "      <td>NaN</td>\n",
       "      <td>1999-05-06</td>\n",
       "      <td>NaN</td>\n",
       "      <td>12.17</td>\n",
       "      <td>onbekend</td>\n",
       "      <td>NaN</td>\n",
       "    </tr>\n",
       "    <tr>\n",
       "      <th>4</th>\n",
       "      <td>https://www.dov.vlaanderen.be/data/filter/1999...</td>\n",
       "      <td>https://www.dov.vlaanderen.be/data/put/2017-00...</td>\n",
       "      <td>SWPP008</td>\n",
       "      <td>1</td>\n",
       "      <td>peilfilter</td>\n",
       "      <td>93961.296875</td>\n",
       "      <td>169668.296875</td>\n",
       "      <td>NaN</td>\n",
       "      <td>Wortegem-Petegem</td>\n",
       "      <td>9</td>\n",
       "      <td>0100</td>\n",
       "      <td>NaN</td>\n",
       "      <td>freatisch</td>\n",
       "      <td>NaN</td>\n",
       "      <td>NaN</td>\n",
       "      <td>1999-05-18</td>\n",
       "      <td>NaN</td>\n",
       "      <td>12.04</td>\n",
       "      <td>onbekend</td>\n",
       "      <td>NaN</td>\n",
       "    </tr>\n",
       "  </tbody>\n",
       "</table>\n",
       "</div>"
      ],
      "text/plain": [
       "                                         pkey_filter  \\\n",
       "0  https://www.dov.vlaanderen.be/data/filter/1999...   \n",
       "1  https://www.dov.vlaanderen.be/data/filter/1999...   \n",
       "2  https://www.dov.vlaanderen.be/data/filter/1999...   \n",
       "3  https://www.dov.vlaanderen.be/data/filter/1999...   \n",
       "4  https://www.dov.vlaanderen.be/data/filter/1999...   \n",
       "\n",
       "                              pkey_grondwaterlocatie    gw_id filternummer  \\\n",
       "0  https://www.dov.vlaanderen.be/data/put/2017-00...  SWPP008            1   \n",
       "1  https://www.dov.vlaanderen.be/data/put/2017-00...  SWPP008            1   \n",
       "2  https://www.dov.vlaanderen.be/data/put/2017-00...  SWPP008            1   \n",
       "3  https://www.dov.vlaanderen.be/data/put/2017-00...  SWPP008            1   \n",
       "4  https://www.dov.vlaanderen.be/data/put/2017-00...  SWPP008            1   \n",
       "\n",
       "   filtertype             x              y  mv_mtaw          gemeente  \\\n",
       "0  peilfilter  93961.296875  169668.296875      NaN  Wortegem-Petegem   \n",
       "1  peilfilter  93961.296875  169668.296875      NaN  Wortegem-Petegem   \n",
       "2  peilfilter  93961.296875  169668.296875      NaN  Wortegem-Petegem   \n",
       "3  peilfilter  93961.296875  169668.296875      NaN  Wortegem-Petegem   \n",
       "4  peilfilter  93961.296875  169668.296875      NaN  Wortegem-Petegem   \n",
       "\n",
       "   meetnet_code aquifer_code  grondwaterlichaam_code     regime  \\\n",
       "0             9         0100                     NaN  freatisch   \n",
       "1             9         0100                     NaN  freatisch   \n",
       "2             9         0100                     NaN  freatisch   \n",
       "3             9         0100                     NaN  freatisch   \n",
       "4             9         0100                     NaN  freatisch   \n",
       "\n",
       "   diepte_onderkant_filter  lengte_filter       datum  tijdstip  peil_mtaw  \\\n",
       "0                      NaN            NaN  1999-04-13       NaN      12.65   \n",
       "1                      NaN            NaN  1999-04-14       NaN      12.27   \n",
       "2                      NaN            NaN  1999-04-22       NaN      12.38   \n",
       "3                      NaN            NaN  1999-05-06       NaN      12.17   \n",
       "4                      NaN            NaN  1999-05-18       NaN      12.04   \n",
       "\n",
       "  betrouwbaarheid  methode  \n",
       "0        onbekend      NaN  \n",
       "1        onbekend      NaN  \n",
       "2        onbekend      NaN  \n",
       "3        onbekend      NaN  \n",
       "4        onbekend      NaN  "
      ]
     },
     "execution_count": 51,
     "metadata": {},
     "output_type": "execute_result"
    }
   ],
   "source": [
    "df = gwfilter.search(location=(93378, 168009, 94246, 169873))\n",
    "df.head()"
   ]
  },
  {
   "cell_type": "markdown",
   "metadata": {},
   "source": [
    "Using the *pkey* attributes one can request the details of the corresponding *put* or *filter* in a webbrowser:"
   ]
  },
  {
   "cell_type": "code",
   "execution_count": 52,
   "metadata": {},
   "outputs": [
    {
     "name": "stdout",
     "output_type": "stream",
     "text": [
      "https://www.dov.vlaanderen.be/data/put/2017-002866\n",
      "https://www.dov.vlaanderen.be/data/put/2017-002868\n",
      "https://www.dov.vlaanderen.be/data/put/2017-002867\n",
      "https://www.dov.vlaanderen.be/data/filter/1999-000607\n",
      "https://www.dov.vlaanderen.be/data/filter/1999-000605\n",
      "https://www.dov.vlaanderen.be/data/filter/1999-000606\n"
     ]
    }
   ],
   "source": [
    "for pkey_grondwaterlocatie in set(df.pkey_grondwaterlocatie):\n",
    "    print(pkey_grondwaterlocatie)\n",
    "\n",
    "for pkey_filter in set(df.pkey_filter):\n",
    "    print(pkey_filter)"
   ]
  },
  {
   "cell_type": "markdown",
   "metadata": {},
   "source": [
    "### Get groundwater screens with specific properties"
   ]
  },
  {
   "cell_type": "markdown",
   "metadata": {},
   "source": [
    "Next to querying groundwater screens based on their geographic location within a bounding box, we can also search for groundwater screens matching a specific set of properties. For this we can build a query using a combination of the 'GrondwaterFilter' fields and operators provided by the WFS protocol.\n",
    "\n",
    "A list of possible operators can be found below:"
   ]
  },
  {
   "cell_type": "code",
   "execution_count": 53,
   "metadata": {},
   "outputs": [
    {
     "data": {
      "text/plain": [
       "['PropertyIsBetween',\n",
       " 'PropertyIsEqualTo',\n",
       " 'PropertyIsGreaterThan',\n",
       " 'PropertyIsGreaterThanOrEqualTo',\n",
       " 'PropertyIsLessThan',\n",
       " 'PropertyIsLessThanOrEqualTo',\n",
       " 'PropertyIsLike',\n",
       " 'PropertyIsNotEqualTo',\n",
       " 'PropertyIsNull',\n",
       " 'SortProperty']"
      ]
     },
     "execution_count": 53,
     "metadata": {},
     "output_type": "execute_result"
    }
   ],
   "source": [
    "[i for i,j in inspect.getmembers(sys.modules['owslib.fes'], inspect.isclass) if 'Property' in i]"
   ]
  },
  {
   "cell_type": "markdown",
   "metadata": {},
   "source": [
    "In this example we build a query using the *PropertyIsEqualTo* operator to find all groundwater screens that are within the community (gemeente) of 'Hamme':"
   ]
  },
  {
   "cell_type": "code",
   "execution_count": 54,
   "metadata": {},
   "outputs": [
    {
     "data": {
      "text/html": [
       "<div>\n",
       "<style scoped>\n",
       "    .dataframe tbody tr th:only-of-type {\n",
       "        vertical-align: middle;\n",
       "    }\n",
       "\n",
       "    .dataframe tbody tr th {\n",
       "        vertical-align: top;\n",
       "    }\n",
       "\n",
       "    .dataframe thead th {\n",
       "        text-align: right;\n",
       "    }\n",
       "</style>\n",
       "<table border=\"1\" class=\"dataframe\">\n",
       "  <thead>\n",
       "    <tr style=\"text-align: right;\">\n",
       "      <th></th>\n",
       "      <th>pkey_filter</th>\n",
       "      <th>pkey_grondwaterlocatie</th>\n",
       "      <th>gw_id</th>\n",
       "      <th>filternummer</th>\n",
       "      <th>filtertype</th>\n",
       "      <th>x</th>\n",
       "      <th>y</th>\n",
       "      <th>mv_mtaw</th>\n",
       "      <th>gemeente</th>\n",
       "      <th>meetnet_code</th>\n",
       "      <th>aquifer_code</th>\n",
       "      <th>grondwaterlichaam_code</th>\n",
       "      <th>regime</th>\n",
       "      <th>diepte_onderkant_filter</th>\n",
       "      <th>lengte_filter</th>\n",
       "      <th>datum</th>\n",
       "      <th>tijdstip</th>\n",
       "      <th>peil_mtaw</th>\n",
       "      <th>betrouwbaarheid</th>\n",
       "      <th>methode</th>\n",
       "    </tr>\n",
       "  </thead>\n",
       "  <tbody>\n",
       "    <tr>\n",
       "      <th>0</th>\n",
       "      <td>https://www.dov.vlaanderen.be/data/filter/2000...</td>\n",
       "      <td>https://www.dov.vlaanderen.be/data/put/2017-00...</td>\n",
       "      <td>MORP001</td>\n",
       "      <td>1</td>\n",
       "      <td>peilfilter</td>\n",
       "      <td>130190.0</td>\n",
       "      <td>196378.0</td>\n",
       "      <td>NaN</td>\n",
       "      <td>Hamme</td>\n",
       "      <td>9</td>\n",
       "      <td>0100</td>\n",
       "      <td>NaN</td>\n",
       "      <td>freatisch</td>\n",
       "      <td>NaN</td>\n",
       "      <td>NaN</td>\n",
       "      <td>2000-12-01</td>\n",
       "      <td>NaN</td>\n",
       "      <td>-0.09</td>\n",
       "      <td>onbekend</td>\n",
       "      <td>NaN</td>\n",
       "    </tr>\n",
       "    <tr>\n",
       "      <th>1</th>\n",
       "      <td>https://www.dov.vlaanderen.be/data/filter/2000...</td>\n",
       "      <td>https://www.dov.vlaanderen.be/data/put/2017-00...</td>\n",
       "      <td>MORP001</td>\n",
       "      <td>1</td>\n",
       "      <td>peilfilter</td>\n",
       "      <td>130190.0</td>\n",
       "      <td>196378.0</td>\n",
       "      <td>NaN</td>\n",
       "      <td>Hamme</td>\n",
       "      <td>9</td>\n",
       "      <td>0100</td>\n",
       "      <td>NaN</td>\n",
       "      <td>freatisch</td>\n",
       "      <td>NaN</td>\n",
       "      <td>NaN</td>\n",
       "      <td>2001-01-04</td>\n",
       "      <td>NaN</td>\n",
       "      <td>-0.10</td>\n",
       "      <td>onbekend</td>\n",
       "      <td>NaN</td>\n",
       "    </tr>\n",
       "    <tr>\n",
       "      <th>2</th>\n",
       "      <td>https://www.dov.vlaanderen.be/data/filter/2000...</td>\n",
       "      <td>https://www.dov.vlaanderen.be/data/put/2017-00...</td>\n",
       "      <td>MORP001</td>\n",
       "      <td>1</td>\n",
       "      <td>peilfilter</td>\n",
       "      <td>130190.0</td>\n",
       "      <td>196378.0</td>\n",
       "      <td>NaN</td>\n",
       "      <td>Hamme</td>\n",
       "      <td>9</td>\n",
       "      <td>0100</td>\n",
       "      <td>NaN</td>\n",
       "      <td>freatisch</td>\n",
       "      <td>NaN</td>\n",
       "      <td>NaN</td>\n",
       "      <td>2001-02-01</td>\n",
       "      <td>NaN</td>\n",
       "      <td>-0.10</td>\n",
       "      <td>onbekend</td>\n",
       "      <td>NaN</td>\n",
       "    </tr>\n",
       "    <tr>\n",
       "      <th>3</th>\n",
       "      <td>https://www.dov.vlaanderen.be/data/filter/2000...</td>\n",
       "      <td>https://www.dov.vlaanderen.be/data/put/2017-00...</td>\n",
       "      <td>MORP001</td>\n",
       "      <td>1</td>\n",
       "      <td>peilfilter</td>\n",
       "      <td>130190.0</td>\n",
       "      <td>196378.0</td>\n",
       "      <td>NaN</td>\n",
       "      <td>Hamme</td>\n",
       "      <td>9</td>\n",
       "      <td>0100</td>\n",
       "      <td>NaN</td>\n",
       "      <td>freatisch</td>\n",
       "      <td>NaN</td>\n",
       "      <td>NaN</td>\n",
       "      <td>2001-03-01</td>\n",
       "      <td>NaN</td>\n",
       "      <td>-0.20</td>\n",
       "      <td>onbekend</td>\n",
       "      <td>NaN</td>\n",
       "    </tr>\n",
       "    <tr>\n",
       "      <th>4</th>\n",
       "      <td>https://www.dov.vlaanderen.be/data/filter/2000...</td>\n",
       "      <td>https://www.dov.vlaanderen.be/data/put/2017-00...</td>\n",
       "      <td>MORP001</td>\n",
       "      <td>1</td>\n",
       "      <td>peilfilter</td>\n",
       "      <td>130190.0</td>\n",
       "      <td>196378.0</td>\n",
       "      <td>NaN</td>\n",
       "      <td>Hamme</td>\n",
       "      <td>9</td>\n",
       "      <td>0100</td>\n",
       "      <td>NaN</td>\n",
       "      <td>freatisch</td>\n",
       "      <td>NaN</td>\n",
       "      <td>NaN</td>\n",
       "      <td>2001-04-02</td>\n",
       "      <td>NaN</td>\n",
       "      <td>-0.14</td>\n",
       "      <td>onbekend</td>\n",
       "      <td>NaN</td>\n",
       "    </tr>\n",
       "  </tbody>\n",
       "</table>\n",
       "</div>"
      ],
      "text/plain": [
       "                                         pkey_filter  \\\n",
       "0  https://www.dov.vlaanderen.be/data/filter/2000...   \n",
       "1  https://www.dov.vlaanderen.be/data/filter/2000...   \n",
       "2  https://www.dov.vlaanderen.be/data/filter/2000...   \n",
       "3  https://www.dov.vlaanderen.be/data/filter/2000...   \n",
       "4  https://www.dov.vlaanderen.be/data/filter/2000...   \n",
       "\n",
       "                              pkey_grondwaterlocatie    gw_id filternummer  \\\n",
       "0  https://www.dov.vlaanderen.be/data/put/2017-00...  MORP001            1   \n",
       "1  https://www.dov.vlaanderen.be/data/put/2017-00...  MORP001            1   \n",
       "2  https://www.dov.vlaanderen.be/data/put/2017-00...  MORP001            1   \n",
       "3  https://www.dov.vlaanderen.be/data/put/2017-00...  MORP001            1   \n",
       "4  https://www.dov.vlaanderen.be/data/put/2017-00...  MORP001            1   \n",
       "\n",
       "   filtertype         x         y  mv_mtaw gemeente  meetnet_code  \\\n",
       "0  peilfilter  130190.0  196378.0      NaN    Hamme             9   \n",
       "1  peilfilter  130190.0  196378.0      NaN    Hamme             9   \n",
       "2  peilfilter  130190.0  196378.0      NaN    Hamme             9   \n",
       "3  peilfilter  130190.0  196378.0      NaN    Hamme             9   \n",
       "4  peilfilter  130190.0  196378.0      NaN    Hamme             9   \n",
       "\n",
       "  aquifer_code grondwaterlichaam_code     regime  diepte_onderkant_filter  \\\n",
       "0         0100                    NaN  freatisch                      NaN   \n",
       "1         0100                    NaN  freatisch                      NaN   \n",
       "2         0100                    NaN  freatisch                      NaN   \n",
       "3         0100                    NaN  freatisch                      NaN   \n",
       "4         0100                    NaN  freatisch                      NaN   \n",
       "\n",
       "   lengte_filter       datum  tijdstip  peil_mtaw betrouwbaarheid  methode  \n",
       "0            NaN  2000-12-01       NaN      -0.09        onbekend      NaN  \n",
       "1            NaN  2001-01-04       NaN      -0.10        onbekend      NaN  \n",
       "2            NaN  2001-02-01       NaN      -0.10        onbekend      NaN  \n",
       "3            NaN  2001-03-01       NaN      -0.20        onbekend      NaN  \n",
       "4            NaN  2001-04-02       NaN      -0.14        onbekend      NaN  "
      ]
     },
     "execution_count": 54,
     "metadata": {},
     "output_type": "execute_result"
    }
   ],
   "source": [
    "from owslib.fes import PropertyIsEqualTo\n",
    "\n",
    "query = PropertyIsEqualTo(\n",
    "            propertyname='gemeente',\n",
    "            literal='Hamme')\n",
    "\n",
    "df = gwfilter.search(query=query)\n",
    "df.head()"
   ]
  },
  {
   "cell_type": "markdown",
   "metadata": {},
   "source": [
    "Once again we can use the *pkey_filter* as a permanent link to the information of the groundwater screens:"
   ]
  },
  {
   "cell_type": "code",
   "execution_count": 55,
   "metadata": {},
   "outputs": [
    {
     "name": "stdout",
     "output_type": "stream",
     "text": [
      "https://www.dov.vlaanderen.be/data/filter/2003-003996\n",
      "https://www.dov.vlaanderen.be/data/filter/2003-005517\n",
      "https://www.dov.vlaanderen.be/data/filter/1991-001041\n",
      "https://www.dov.vlaanderen.be/data/filter/2000-000643\n",
      "https://www.dov.vlaanderen.be/data/filter/2003-003992\n",
      "https://www.dov.vlaanderen.be/data/filter/2000-000642\n",
      "https://www.dov.vlaanderen.be/data/filter/2003-004009\n",
      "https://www.dov.vlaanderen.be/data/filter/2003-004008\n",
      "https://www.dov.vlaanderen.be/data/filter/2003-003990\n",
      "https://www.dov.vlaanderen.be/data/filter/2003-003991\n",
      "https://www.dov.vlaanderen.be/data/filter/2003-003995\n",
      "https://www.dov.vlaanderen.be/data/filter/2003-003997\n",
      "https://www.dov.vlaanderen.be/data/filter/1991-001040\n"
     ]
    }
   ],
   "source": [
    "for pkey_filter in set(df.pkey_filter):\n",
    "    print(pkey_filter)"
   ]
  },
  {
   "cell_type": "markdown",
   "metadata": {},
   "source": [
    "### Get the coordinates of all groundwater screens in Ghent"
   ]
  },
  {
   "cell_type": "code",
   "execution_count": 56,
   "metadata": {},
   "outputs": [
    {
     "data": {
      "text/html": [
       "<div>\n",
       "<style scoped>\n",
       "    .dataframe tbody tr th:only-of-type {\n",
       "        vertical-align: middle;\n",
       "    }\n",
       "\n",
       "    .dataframe tbody tr th {\n",
       "        vertical-align: top;\n",
       "    }\n",
       "\n",
       "    .dataframe thead th {\n",
       "        text-align: right;\n",
       "    }\n",
       "</style>\n",
       "<table border=\"1\" class=\"dataframe\">\n",
       "  <thead>\n",
       "    <tr style=\"text-align: right;\">\n",
       "      <th></th>\n",
       "      <th>pkey_filter</th>\n",
       "      <th>x</th>\n",
       "      <th>y</th>\n",
       "      <th>meetnet</th>\n",
       "    </tr>\n",
       "  </thead>\n",
       "  <tbody>\n",
       "    <tr>\n",
       "      <th>0</th>\n",
       "      <td>https://www.dov.vlaanderen.be/data/filter/1993...</td>\n",
       "      <td>100650.00000</td>\n",
       "      <td>195492.00000</td>\n",
       "      <td>meetnet 9 - peilputten INBO en natuurorganisaties</td>\n",
       "    </tr>\n",
       "    <tr>\n",
       "      <th>1</th>\n",
       "      <td>https://www.dov.vlaanderen.be/data/filter/1993...</td>\n",
       "      <td>100591.00000</td>\n",
       "      <td>195374.00000</td>\n",
       "      <td>meetnet 9 - peilputten INBO en natuurorganisaties</td>\n",
       "    </tr>\n",
       "    <tr>\n",
       "      <th>2</th>\n",
       "      <td>https://www.dov.vlaanderen.be/data/filter/1999...</td>\n",
       "      <td>109175.09375</td>\n",
       "      <td>192819.90625</td>\n",
       "      <td>meetnet 9 - peilputten INBO en natuurorganisaties</td>\n",
       "    </tr>\n",
       "    <tr>\n",
       "      <th>3</th>\n",
       "      <td>https://www.dov.vlaanderen.be/data/filter/1982...</td>\n",
       "      <td>110278.00000</td>\n",
       "      <td>208642.00000</td>\n",
       "      <td>meetnet 4 - externe instanties</td>\n",
       "    </tr>\n",
       "    <tr>\n",
       "      <th>4</th>\n",
       "      <td>https://www.dov.vlaanderen.be/data/filter/1999...</td>\n",
       "      <td>108358.84375</td>\n",
       "      <td>192203.31250</td>\n",
       "      <td>meetnet 9 - peilputten INBO en natuurorganisaties</td>\n",
       "    </tr>\n",
       "  </tbody>\n",
       "</table>\n",
       "</div>"
      ],
      "text/plain": [
       "                                         pkey_filter             x  \\\n",
       "0  https://www.dov.vlaanderen.be/data/filter/1993...  100650.00000   \n",
       "1  https://www.dov.vlaanderen.be/data/filter/1993...  100591.00000   \n",
       "2  https://www.dov.vlaanderen.be/data/filter/1999...  109175.09375   \n",
       "3  https://www.dov.vlaanderen.be/data/filter/1982...  110278.00000   \n",
       "4  https://www.dov.vlaanderen.be/data/filter/1999...  108358.84375   \n",
       "\n",
       "              y                                            meetnet  \n",
       "0  195492.00000  meetnet 9 - peilputten INBO en natuurorganisaties  \n",
       "1  195374.00000  meetnet 9 - peilputten INBO en natuurorganisaties  \n",
       "2  192819.90625  meetnet 9 - peilputten INBO en natuurorganisaties  \n",
       "3  208642.00000                     meetnet 4 - externe instanties  \n",
       "4  192203.31250  meetnet 9 - peilputten INBO en natuurorganisaties  "
      ]
     },
     "execution_count": 56,
     "metadata": {},
     "output_type": "execute_result"
    }
   ],
   "source": [
    "query = PropertyIsEqualTo(propertyname='gemeente',\n",
    "                          literal='Gent')\n",
    "\n",
    "df = gwfilter.search(query=query,\n",
    "                     return_fields=('pkey_filter', 'x', 'y', 'meetnet'))\n",
    "df.head()"
   ]
  },
  {
   "cell_type": "markdown",
   "metadata": {},
   "source": [
    "### Get the 'meetnet' and 'meetnet_code' for groundwater screens in Boortmeerbeek"
   ]
  },
  {
   "cell_type": "code",
   "execution_count": 57,
   "metadata": {},
   "outputs": [
    {
     "data": {
      "text/html": [
       "<div>\n",
       "<style scoped>\n",
       "    .dataframe tbody tr th:only-of-type {\n",
       "        vertical-align: middle;\n",
       "    }\n",
       "\n",
       "    .dataframe tbody tr th {\n",
       "        vertical-align: top;\n",
       "    }\n",
       "\n",
       "    .dataframe thead th {\n",
       "        text-align: right;\n",
       "    }\n",
       "</style>\n",
       "<table border=\"1\" class=\"dataframe\">\n",
       "  <thead>\n",
       "    <tr style=\"text-align: right;\">\n",
       "      <th></th>\n",
       "      <th>pkey_filter</th>\n",
       "      <th>meetnet_code</th>\n",
       "      <th>meetnet</th>\n",
       "    </tr>\n",
       "  </thead>\n",
       "  <tbody>\n",
       "    <tr>\n",
       "      <th>0</th>\n",
       "      <td>https://www.dov.vlaanderen.be/data/filter/1996...</td>\n",
       "      <td>1</td>\n",
       "      <td>meetnet 1 -  primair meetnet - afdeling Water</td>\n",
       "    </tr>\n",
       "    <tr>\n",
       "      <th>1</th>\n",
       "      <td>https://www.dov.vlaanderen.be/data/filter/2003...</td>\n",
       "      <td>8</td>\n",
       "      <td>meetnet 8 - freatisch meetnet - afdeling water</td>\n",
       "    </tr>\n",
       "    <tr>\n",
       "      <th>2</th>\n",
       "      <td>https://www.dov.vlaanderen.be/data/filter/2003...</td>\n",
       "      <td>8</td>\n",
       "      <td>meetnet 8 - freatisch meetnet - afdeling water</td>\n",
       "    </tr>\n",
       "    <tr>\n",
       "      <th>3</th>\n",
       "      <td>https://www.dov.vlaanderen.be/data/filter/1975...</td>\n",
       "      <td>1</td>\n",
       "      <td>meetnet 1 -  primair meetnet - afdeling Water</td>\n",
       "    </tr>\n",
       "    <tr>\n",
       "      <th>4</th>\n",
       "      <td>https://www.dov.vlaanderen.be/data/filter/1900...</td>\n",
       "      <td>3</td>\n",
       "      <td>meetnet 3 - tijdelijk meetnet - afdeling Water</td>\n",
       "    </tr>\n",
       "  </tbody>\n",
       "</table>\n",
       "</div>"
      ],
      "text/plain": [
       "                                         pkey_filter  meetnet_code  \\\n",
       "0  https://www.dov.vlaanderen.be/data/filter/1996...             1   \n",
       "1  https://www.dov.vlaanderen.be/data/filter/2003...             8   \n",
       "2  https://www.dov.vlaanderen.be/data/filter/2003...             8   \n",
       "3  https://www.dov.vlaanderen.be/data/filter/1975...             1   \n",
       "4  https://www.dov.vlaanderen.be/data/filter/1900...             3   \n",
       "\n",
       "                                          meetnet  \n",
       "0   meetnet 1 -  primair meetnet - afdeling Water  \n",
       "1  meetnet 8 - freatisch meetnet - afdeling water  \n",
       "2  meetnet 8 - freatisch meetnet - afdeling water  \n",
       "3   meetnet 1 -  primair meetnet - afdeling Water  \n",
       "4  meetnet 3 - tijdelijk meetnet - afdeling Water  "
      ]
     },
     "execution_count": 57,
     "metadata": {},
     "output_type": "execute_result"
    }
   ],
   "source": [
    "query = PropertyIsEqualTo(propertyname='gemeente',\n",
    "                          literal='Boortmeerbeek')\n",
    "\n",
    "df = gwfilter.search(query=query,\n",
    "                   return_fields=('pkey_filter', 'meetnet', 'meetnet_code'))\n",
    "df.head()"
   ]
  },
  {
   "cell_type": "markdown",
   "metadata": {},
   "source": [
    "### Get all details of groundwaterscreens of 'meetnet 9' within the given bounding box"
   ]
  },
  {
   "cell_type": "code",
   "execution_count": 58,
   "metadata": {},
   "outputs": [
    {
     "data": {
      "text/html": [
       "<div>\n",
       "<style scoped>\n",
       "    .dataframe tbody tr th:only-of-type {\n",
       "        vertical-align: middle;\n",
       "    }\n",
       "\n",
       "    .dataframe tbody tr th {\n",
       "        vertical-align: top;\n",
       "    }\n",
       "\n",
       "    .dataframe thead th {\n",
       "        text-align: right;\n",
       "    }\n",
       "</style>\n",
       "<table border=\"1\" class=\"dataframe\">\n",
       "  <thead>\n",
       "    <tr style=\"text-align: right;\">\n",
       "      <th></th>\n",
       "      <th>pkey_filter</th>\n",
       "      <th>pkey_grondwaterlocatie</th>\n",
       "      <th>gw_id</th>\n",
       "      <th>filternummer</th>\n",
       "      <th>filtertype</th>\n",
       "      <th>x</th>\n",
       "      <th>y</th>\n",
       "      <th>mv_mtaw</th>\n",
       "      <th>gemeente</th>\n",
       "      <th>meetnet_code</th>\n",
       "      <th>aquifer_code</th>\n",
       "      <th>grondwaterlichaam_code</th>\n",
       "      <th>regime</th>\n",
       "      <th>diepte_onderkant_filter</th>\n",
       "      <th>lengte_filter</th>\n",
       "      <th>datum</th>\n",
       "      <th>tijdstip</th>\n",
       "      <th>peil_mtaw</th>\n",
       "      <th>betrouwbaarheid</th>\n",
       "      <th>methode</th>\n",
       "    </tr>\n",
       "  </thead>\n",
       "  <tbody>\n",
       "    <tr>\n",
       "      <th>0</th>\n",
       "      <td>https://www.dov.vlaanderen.be/data/filter/1999...</td>\n",
       "      <td>https://www.dov.vlaanderen.be/data/put/2017-00...</td>\n",
       "      <td>WVSP009</td>\n",
       "      <td>1</td>\n",
       "      <td>peilfilter</td>\n",
       "      <td>89720.046875</td>\n",
       "      <td>165712.140625</td>\n",
       "      <td>NaN</td>\n",
       "      <td>Avelgem</td>\n",
       "      <td>9</td>\n",
       "      <td>0100</td>\n",
       "      <td>NaN</td>\n",
       "      <td>freatisch</td>\n",
       "      <td>5.95</td>\n",
       "      <td>1.0</td>\n",
       "      <td>1999-01-12</td>\n",
       "      <td>NaN</td>\n",
       "      <td>12.20</td>\n",
       "      <td>onbekend</td>\n",
       "      <td>NaN</td>\n",
       "    </tr>\n",
       "    <tr>\n",
       "      <th>1</th>\n",
       "      <td>https://www.dov.vlaanderen.be/data/filter/1999...</td>\n",
       "      <td>https://www.dov.vlaanderen.be/data/put/2017-00...</td>\n",
       "      <td>WVSP009</td>\n",
       "      <td>1</td>\n",
       "      <td>peilfilter</td>\n",
       "      <td>89720.046875</td>\n",
       "      <td>165712.140625</td>\n",
       "      <td>NaN</td>\n",
       "      <td>Avelgem</td>\n",
       "      <td>9</td>\n",
       "      <td>0100</td>\n",
       "      <td>NaN</td>\n",
       "      <td>freatisch</td>\n",
       "      <td>5.95</td>\n",
       "      <td>1.0</td>\n",
       "      <td>1999-01-21</td>\n",
       "      <td>NaN</td>\n",
       "      <td>12.26</td>\n",
       "      <td>onbekend</td>\n",
       "      <td>NaN</td>\n",
       "    </tr>\n",
       "    <tr>\n",
       "      <th>2</th>\n",
       "      <td>https://www.dov.vlaanderen.be/data/filter/1999...</td>\n",
       "      <td>https://www.dov.vlaanderen.be/data/put/2017-00...</td>\n",
       "      <td>WVSP009</td>\n",
       "      <td>1</td>\n",
       "      <td>peilfilter</td>\n",
       "      <td>89720.046875</td>\n",
       "      <td>165712.140625</td>\n",
       "      <td>NaN</td>\n",
       "      <td>Avelgem</td>\n",
       "      <td>9</td>\n",
       "      <td>0100</td>\n",
       "      <td>NaN</td>\n",
       "      <td>freatisch</td>\n",
       "      <td>5.95</td>\n",
       "      <td>1.0</td>\n",
       "      <td>1999-02-01</td>\n",
       "      <td>NaN</td>\n",
       "      <td>12.31</td>\n",
       "      <td>onbekend</td>\n",
       "      <td>NaN</td>\n",
       "    </tr>\n",
       "    <tr>\n",
       "      <th>3</th>\n",
       "      <td>https://www.dov.vlaanderen.be/data/filter/1999...</td>\n",
       "      <td>https://www.dov.vlaanderen.be/data/put/2017-00...</td>\n",
       "      <td>WVSP009</td>\n",
       "      <td>1</td>\n",
       "      <td>peilfilter</td>\n",
       "      <td>89720.046875</td>\n",
       "      <td>165712.140625</td>\n",
       "      <td>NaN</td>\n",
       "      <td>Avelgem</td>\n",
       "      <td>9</td>\n",
       "      <td>0100</td>\n",
       "      <td>NaN</td>\n",
       "      <td>freatisch</td>\n",
       "      <td>5.95</td>\n",
       "      <td>1.0</td>\n",
       "      <td>1999-02-06</td>\n",
       "      <td>NaN</td>\n",
       "      <td>12.29</td>\n",
       "      <td>onbekend</td>\n",
       "      <td>NaN</td>\n",
       "    </tr>\n",
       "    <tr>\n",
       "      <th>4</th>\n",
       "      <td>https://www.dov.vlaanderen.be/data/filter/1999...</td>\n",
       "      <td>https://www.dov.vlaanderen.be/data/put/2017-00...</td>\n",
       "      <td>WVSP009</td>\n",
       "      <td>1</td>\n",
       "      <td>peilfilter</td>\n",
       "      <td>89720.046875</td>\n",
       "      <td>165712.140625</td>\n",
       "      <td>NaN</td>\n",
       "      <td>Avelgem</td>\n",
       "      <td>9</td>\n",
       "      <td>0100</td>\n",
       "      <td>NaN</td>\n",
       "      <td>freatisch</td>\n",
       "      <td>5.95</td>\n",
       "      <td>1.0</td>\n",
       "      <td>1999-02-12</td>\n",
       "      <td>NaN</td>\n",
       "      <td>12.18</td>\n",
       "      <td>onbekend</td>\n",
       "      <td>NaN</td>\n",
       "    </tr>\n",
       "  </tbody>\n",
       "</table>\n",
       "</div>"
      ],
      "text/plain": [
       "                                         pkey_filter  \\\n",
       "0  https://www.dov.vlaanderen.be/data/filter/1999...   \n",
       "1  https://www.dov.vlaanderen.be/data/filter/1999...   \n",
       "2  https://www.dov.vlaanderen.be/data/filter/1999...   \n",
       "3  https://www.dov.vlaanderen.be/data/filter/1999...   \n",
       "4  https://www.dov.vlaanderen.be/data/filter/1999...   \n",
       "\n",
       "                              pkey_grondwaterlocatie    gw_id filternummer  \\\n",
       "0  https://www.dov.vlaanderen.be/data/put/2017-00...  WVSP009            1   \n",
       "1  https://www.dov.vlaanderen.be/data/put/2017-00...  WVSP009            1   \n",
       "2  https://www.dov.vlaanderen.be/data/put/2017-00...  WVSP009            1   \n",
       "3  https://www.dov.vlaanderen.be/data/put/2017-00...  WVSP009            1   \n",
       "4  https://www.dov.vlaanderen.be/data/put/2017-00...  WVSP009            1   \n",
       "\n",
       "   filtertype             x              y  mv_mtaw gemeente  meetnet_code  \\\n",
       "0  peilfilter  89720.046875  165712.140625      NaN  Avelgem             9   \n",
       "1  peilfilter  89720.046875  165712.140625      NaN  Avelgem             9   \n",
       "2  peilfilter  89720.046875  165712.140625      NaN  Avelgem             9   \n",
       "3  peilfilter  89720.046875  165712.140625      NaN  Avelgem             9   \n",
       "4  peilfilter  89720.046875  165712.140625      NaN  Avelgem             9   \n",
       "\n",
       "  aquifer_code  grondwaterlichaam_code     regime  diepte_onderkant_filter  \\\n",
       "0         0100                     NaN  freatisch                     5.95   \n",
       "1         0100                     NaN  freatisch                     5.95   \n",
       "2         0100                     NaN  freatisch                     5.95   \n",
       "3         0100                     NaN  freatisch                     5.95   \n",
       "4         0100                     NaN  freatisch                     5.95   \n",
       "\n",
       "   lengte_filter       datum  tijdstip  peil_mtaw betrouwbaarheid  methode  \n",
       "0            1.0  1999-01-12       NaN      12.20        onbekend      NaN  \n",
       "1            1.0  1999-01-21       NaN      12.26        onbekend      NaN  \n",
       "2            1.0  1999-02-01       NaN      12.31        onbekend      NaN  \n",
       "3            1.0  1999-02-06       NaN      12.29        onbekend      NaN  \n",
       "4            1.0  1999-02-12       NaN      12.18        onbekend      NaN  "
      ]
     },
     "execution_count": 58,
     "metadata": {},
     "output_type": "execute_result"
    }
   ],
   "source": [
    "from owslib.fes import PropertyIsLike\n",
    "\n",
    "query = PropertyIsLike(propertyname='meetnet',\n",
    "                       literal='meetnet 9 %')\n",
    "df = gwfilter.search(query=query,\n",
    "                     location=(87676, 163442, 91194, 168043))\n",
    "df.head()"
   ]
  },
  {
   "cell_type": "markdown",
   "metadata": {},
   "source": [
    "### Get groundwater screens based on a combination of specific properties"
   ]
  },
  {
   "cell_type": "markdown",
   "metadata": {},
   "source": [
    "Get all groundwater screens in Hamme that have a value for length_filter and either belong to the primary meetnet of VMM or that have a depth bottom screen less than 3 meter."
   ]
  },
  {
   "cell_type": "code",
   "execution_count": 59,
   "metadata": {},
   "outputs": [
    {
     "data": {
      "text/html": [
       "<div>\n",
       "<style scoped>\n",
       "    .dataframe tbody tr th:only-of-type {\n",
       "        vertical-align: middle;\n",
       "    }\n",
       "\n",
       "    .dataframe tbody tr th {\n",
       "        vertical-align: top;\n",
       "    }\n",
       "\n",
       "    .dataframe thead th {\n",
       "        text-align: right;\n",
       "    }\n",
       "</style>\n",
       "<table border=\"1\" class=\"dataframe\">\n",
       "  <thead>\n",
       "    <tr style=\"text-align: right;\">\n",
       "      <th></th>\n",
       "      <th>pkey_filter</th>\n",
       "      <th>gw_id</th>\n",
       "      <th>filternummer</th>\n",
       "      <th>x</th>\n",
       "      <th>y</th>\n",
       "      <th>diepte_onderkant_filter</th>\n",
       "    </tr>\n",
       "  </thead>\n",
       "  <tbody>\n",
       "    <tr>\n",
       "      <th>0</th>\n",
       "      <td>https://www.dov.vlaanderen.be/data/filter/1991...</td>\n",
       "      <td>4-0076</td>\n",
       "      <td>1</td>\n",
       "      <td>133977.000000</td>\n",
       "      <td>199147.000000</td>\n",
       "      <td>13.0</td>\n",
       "    </tr>\n",
       "    <tr>\n",
       "      <th>1</th>\n",
       "      <td>https://www.dov.vlaanderen.be/data/filter/1991...</td>\n",
       "      <td>4-0077</td>\n",
       "      <td>1</td>\n",
       "      <td>133977.000000</td>\n",
       "      <td>199149.000000</td>\n",
       "      <td>68.0</td>\n",
       "    </tr>\n",
       "    <tr>\n",
       "      <th>2</th>\n",
       "      <td>https://www.dov.vlaanderen.be/data/filter/2003...</td>\n",
       "      <td>802/21/3</td>\n",
       "      <td>1</td>\n",
       "      <td>131763.200000</td>\n",
       "      <td>198674.500000</td>\n",
       "      <td>2.5</td>\n",
       "    </tr>\n",
       "    <tr>\n",
       "      <th>3</th>\n",
       "      <td>https://www.dov.vlaanderen.be/data/filter/2003...</td>\n",
       "      <td>810/21/1</td>\n",
       "      <td>1</td>\n",
       "      <td>131837.656250</td>\n",
       "      <td>197054.203125</td>\n",
       "      <td>2.5</td>\n",
       "    </tr>\n",
       "    <tr>\n",
       "      <th>4</th>\n",
       "      <td>https://www.dov.vlaanderen.be/data/filter/2003...</td>\n",
       "      <td>813/21/2</td>\n",
       "      <td>1</td>\n",
       "      <td>133865.921875</td>\n",
       "      <td>195656.328125</td>\n",
       "      <td>2.5</td>\n",
       "    </tr>\n",
       "  </tbody>\n",
       "</table>\n",
       "</div>"
      ],
      "text/plain": [
       "                                         pkey_filter     gw_id filternummer  \\\n",
       "0  https://www.dov.vlaanderen.be/data/filter/1991...    4-0076            1   \n",
       "1  https://www.dov.vlaanderen.be/data/filter/1991...    4-0077            1   \n",
       "2  https://www.dov.vlaanderen.be/data/filter/2003...  802/21/3            1   \n",
       "3  https://www.dov.vlaanderen.be/data/filter/2003...  810/21/1            1   \n",
       "4  https://www.dov.vlaanderen.be/data/filter/2003...  813/21/2            1   \n",
       "\n",
       "               x              y  diepte_onderkant_filter  \n",
       "0  133977.000000  199147.000000                     13.0  \n",
       "1  133977.000000  199149.000000                     68.0  \n",
       "2  131763.200000  198674.500000                      2.5  \n",
       "3  131837.656250  197054.203125                      2.5  \n",
       "4  133865.921875  195656.328125                      2.5  "
      ]
     },
     "execution_count": 59,
     "metadata": {},
     "output_type": "execute_result"
    }
   ],
   "source": [
    "from owslib.fes import Or, Not, PropertyIsNull, PropertyIsLessThanOrEqualTo\n",
    "\n",
    "query = And([PropertyIsEqualTo(propertyname='gemeente',\n",
    "                               literal='Hamme'),\n",
    "             Not([PropertyIsNull(propertyname='lengte_filter')]),\n",
    "             Or([PropertyIsLike(propertyname='meetnet',\n",
    "                                literal='meetnet 1%'),\n",
    "                 PropertyIsLessThanOrEqualTo(\n",
    "                     propertyname='diepte_onderkant_filter',\n",
    "                     literal='3')])])\n",
    "df = gwfilter.search(query=query,\n",
    "                     return_fields=('pkey_filter', 'x', 'y', 'gw_id', 'filternummer', 'diepte_onderkant_filter'))\n",
    "df"
   ]
  },
  {
   "cell_type": "markdown",
   "metadata": {},
   "source": [
    "## Visualize results"
   ]
  },
  {
   "cell_type": "markdown",
   "metadata": {},
   "source": [
    "Using Folium, we can display the results of our search on a map."
   ]
  },
  {
   "cell_type": "code",
   "execution_count": 60,
   "metadata": {
    "collapsed": true
   },
   "outputs": [],
   "source": [
    "# import the necessary modules (not included in the requirements of pydov!)\n",
    "import folium\n",
    "from folium.plugins import MarkerCluster\n",
    "from pyproj import Proj, transform"
   ]
  },
  {
   "cell_type": "code",
   "execution_count": 61,
   "metadata": {
    "collapsed": true
   },
   "outputs": [],
   "source": [
    "# convert the coordinates to lat/lon for folium\n",
    "def convert_latlon(x1, y1):\n",
    "    inProj = Proj(init='epsg:31370')\n",
    "    outProj = Proj(init='epsg:4326')\n",
    "    x2,y2 = transform(inProj, outProj, x1, y1)\n",
    "    return x2, y2\n",
    "df['lon'], df['lat'] = zip(*map(convert_latlon, df['x'], df['y'])) \n",
    "# convert to list\n",
    "loclist = df[['lat', 'lon']].values.tolist()"
   ]
  },
  {
   "cell_type": "code",
   "execution_count": 63,
   "metadata": {},
   "outputs": [
    {
     "data": {
      "text/html": [
       "<div style=\"width:100%;\"><div style=\"position:relative;width:100%;height:0;padding-bottom:60%;\"><iframe src=\"data:text/html;charset=utf-8;base64,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\" style=\"position:absolute;width:100%;height:100%;left:0;top:0;border:none !important;\" allowfullscreen webkitallowfullscreen mozallowfullscreen></iframe></div></div>"
      ],
      "text/plain": [
       "<folium.folium.Map at 0x2a1f12b9198>"
      ]
     },
     "execution_count": 63,
     "metadata": {},
     "output_type": "execute_result"
    }
   ],
   "source": [
    "# initialize the Folium map on the centre of the selected locations, play with the zoom until ok\n",
    "fmap = folium.Map(location=[df['lat'].mean(), df['lon'].mean()], zoom_start=12)\n",
    "marker_cluster = MarkerCluster().add_to(fmap)\n",
    "for loc in range(0, len(loclist)):\n",
    "    folium.Marker(loclist[loc], popup=df['gw_id'][loc]).add_to(marker_cluster)\n",
    "fmap\n"
   ]
  },
  {
   "cell_type": "code",
   "execution_count": null,
   "metadata": {
    "collapsed": true
   },
   "outputs": [],
   "source": []
  }
 ],
 "metadata": {
  "kernelspec": {
   "display_name": "Python [default]",
   "language": "python",
   "name": "python3"
  },
  "language_info": {
   "codemirror_mode": {
    "name": "ipython",
    "version": 3
   },
   "file_extension": ".py",
   "mimetype": "text/x-python",
   "name": "python",
   "nbconvert_exporter": "python",
   "pygments_lexer": "ipython3",
   "version": "3.5.5"
  }
 },
 "nbformat": 4,
 "nbformat_minor": 2
}
