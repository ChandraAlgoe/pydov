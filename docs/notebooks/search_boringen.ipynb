{
 "cells": [
  {
   "cell_type": "markdown",
   "metadata": {},
   "source": [
    "# Example of DOV search methods for boreholes (boringen)"
   ]
  },
  {
   "cell_type": "markdown",
   "metadata": {},
   "source": [
    "## Use cases explained below\n",
    "* Get boreholes in a bounding box\n",
    "* Get boreholes with specific properties\n",
    "* Get boreholes in a bounding box based on specific properties\n",
    "* Select boreholes in a municipality and return depth\n",
    "* Get boreholes based on fields not available in the standard output dataframe\n",
    "* Get borehole data, returning fields not available in the standard output dataframe\n",
    "* Get boreholes in a municipality and where groundwater related data are available"
   ]
  },
  {
   "cell_type": "code",
   "execution_count": 1,
   "metadata": {},
   "outputs": [],
   "source": [
    "%matplotlib inline\n",
    "import inspect, sys\n",
    "import warnings; warnings.simplefilter('ignore')"
   ]
  },
  {
   "cell_type": "code",
   "execution_count": 2,
   "metadata": {},
   "outputs": [],
   "source": [
    "# check pydov path\n",
    "import pydov"
   ]
  },
  {
   "cell_type": "markdown",
   "metadata": {},
   "source": [
    "## Get information about the datatype 'Boring'"
   ]
  },
  {
   "cell_type": "code",
   "execution_count": 3,
   "metadata": {},
   "outputs": [],
   "source": [
    "from pydov.search.boring import BoringSearch\n",
    "boring = BoringSearch()"
   ]
  },
  {
   "cell_type": "markdown",
   "metadata": {},
   "source": [
    "A description is provided for the 'Boring' datatype:"
   ]
  },
  {
   "cell_type": "code",
   "execution_count": 4,
   "metadata": {},
   "outputs": [
    {
     "data": {
      "text/plain": [
       "'In de DOV-databank is elke waarneming van grondlagen een boring. Bij de meeste boringen wordt er met een boortoestel een gat gemaakt in de ondergrond om de verschillende grondlagen te kunnen beschrijven. Aan de hand van een boring krijg je een beeld van het materiaal in de ondergrond met toenemende diepte. Afhankelijk van het doel waarvoor de boring geplaatst wordt, zal men een geschikte boormethode toepassen. Boringen worden geplaatst voor verkennend bodemonderzoek, monstername van het sediment en/of grondwater, bepaling van bodemfysische parameters, milieuhygienisch onderzoek,... Afhankelijk van de diepte, soort materiaal, en het al dan niet boren tot onder de grondwatertafel kan men kiezen uit verscheidene systemen voor handmatig of machinaal te boren. Het bodemmateriaal dat vrijkomt, kan gebruikt worden om een profiel van de ondergrond op te stellen of om er grondmonsters van te nemen om verdere analyses op uit te voeren. Vaak is het de bedoeling een put uit te bouwen zodat water kan gewonnen worden (zie ook grondwatermeetnet en grondwatervergunningen). Soms worden boringen uitgevoerd om een aantal geotechnische karakteristieken te bepalen of om wetenschappelijk onderzoek uit te voeren. Oppervlakkige waarnemingen van de ondergrond noemen we ook boringen. Vooral rond 1900 beschreven een aantal geologen vaak de oppervlakkige lagen. In de databank staan er dan ook verschillende boringen met een diepte van 0 meter. Het gaat vooral om weginsnijdingen of om zichtbare lithologische kenmerken langs de oppervlakte.'"
      ]
     },
     "execution_count": 4,
     "metadata": {},
     "output_type": "execute_result"
    }
   ],
   "source": [
    "boring.get_description()"
   ]
  },
  {
   "cell_type": "markdown",
   "metadata": {},
   "source": [
    "The different fields that are available for objects of the 'Boring' datatype can be requested with the get_fields() method:"
   ]
  },
  {
   "cell_type": "code",
   "execution_count": 5,
   "metadata": {},
   "outputs": [
    {
     "name": "stdout",
     "output_type": "stream",
     "text": [
      "generated_id\n",
      "id\n",
      "boornummer\n",
      "pkey_boring\n",
      "rapport\n",
      "diepte_boring_tot\n",
      "datum_aanvang\n",
      "namen\n",
      "putnummer\n",
      "x\n",
      "y\n",
      "start_boring_mtaw\n",
      "gemeente\n",
      "uitvoerder\n",
      "doel\n",
      "methode\n",
      "erkenning\n",
      "opdrachtgever\n",
      "informele_stratigrafie\n",
      "formele_stratigrafie\n",
      "lithologische_beschrijving\n",
      "gecodeerde_lithologie\n",
      "hydrogeologische_stratigrafie\n",
      "quartaire_stratigrafie\n",
      "geotechnische_codering\n",
      "informele_hydrostratigrafie\n",
      "doorheen_quartair\n",
      "dikte_quartair\n",
      "tertiair_onder_quartair\n",
      "opdrachten\n",
      "mv_mtaw\n",
      "diepte_boring_van\n",
      "boorgatmeting\n",
      "diepte_methode_van\n",
      "diepte_methode_tot\n",
      "boormethode\n"
     ]
    }
   ],
   "source": [
    "fields = boring.get_fields()\n",
    "\n",
    "# print available fields\n",
    "for f in fields.values():\n",
    "    print(f['name'])"
   ]
  },
  {
   "cell_type": "markdown",
   "metadata": {},
   "source": [
    "You can get more information of a field by requesting it from the fields dictionary:\n",
    "* *name*: name of the field\n",
    "* *definition*: definition of this field\n",
    "* *cost*: currently this is either 1 or 10, depending on the datasource of the field. It is an indication of the expected time it will take to retrieve this field in the output dataframe.\n",
    "* *notnull*: whether the field is mandatory or not\n",
    "* *type*: datatype of the values of this field"
   ]
  },
  {
   "cell_type": "code",
   "execution_count": 6,
   "metadata": {},
   "outputs": [
    {
     "data": {
      "text/plain": [
       "{'cost': 1,\n",
       " 'definition': 'Maximumdiepte van de boring ten opzichte van het aanvangspeil, in meter.',\n",
       " 'name': 'diepte_boring_tot',\n",
       " 'notnull': False,\n",
       " 'type': 'float'}"
      ]
     },
     "execution_count": 6,
     "metadata": {},
     "output_type": "execute_result"
    }
   ],
   "source": [
    "fields['diepte_boring_tot']"
   ]
  },
  {
   "cell_type": "markdown",
   "metadata": {},
   "source": [
    "Optionally, if the values of the field have a specific domain the possible values are listed as *values*:"
   ]
  },
  {
   "cell_type": "code",
   "execution_count": 7,
   "metadata": {},
   "outputs": [
    {
     "data": {
      "text/plain": [
       "['avegaarboring',\n",
       " 'droge boring',\n",
       " 'edelmanboring',\n",
       " 'geen boring',\n",
       " 'gestoken boring',\n",
       " 'graafmachine',\n",
       " 'handboring',\n",
       " 'kernboring',\n",
       " 'lansen',\n",
       " 'lepelboring',\n",
       " 'luchthamer',\n",
       " 'luchthevelboren of air-lift boren',\n",
       " 'meerdere technieken',\n",
       " 'omgek. spoelboring',\n",
       " 'onbekend',\n",
       " 'pulsboring',\n",
       " 'ramguts',\n",
       " 'ramkernboring',\n",
       " 'rollerbit',\n",
       " 'slagboring',\n",
       " 'spade',\n",
       " 'spiraalboring',\n",
       " 'spoelboring',\n",
       " 'steenboring',\n",
       " 'trilboring',\n",
       " 'voorput',\n",
       " 'zuigboring']"
      ]
     },
     "execution_count": 7,
     "metadata": {},
     "output_type": "execute_result"
    }
   ],
   "source": [
    "fields['methode']['values']"
   ]
  },
  {
   "cell_type": "markdown",
   "metadata": {},
   "source": [
    "## Example use cases"
   ]
  },
  {
   "cell_type": "markdown",
   "metadata": {},
   "source": [
    "### Get boreholes in a bounding box"
   ]
  },
  {
   "cell_type": "markdown",
   "metadata": {},
   "source": [
    "Get data for all the boreholes that are geographically located within the bounds of the specified box.\n",
    "\n",
    "The coordinates are in the Belgian Lambert72 (EPSG:31370) coordinate system and are given in the order of lower left x, lower left y, upper right x, upper right y."
   ]
  },
  {
   "cell_type": "code",
   "execution_count": 8,
   "metadata": {},
   "outputs": [
    {
     "data": {
      "text/html": [
       "<div>\n",
       "<style scoped>\n",
       "    .dataframe tbody tr th:only-of-type {\n",
       "        vertical-align: middle;\n",
       "    }\n",
       "\n",
       "    .dataframe tbody tr th {\n",
       "        vertical-align: top;\n",
       "    }\n",
       "\n",
       "    .dataframe thead th {\n",
       "        text-align: right;\n",
       "    }\n",
       "</style>\n",
       "<table border=\"1\" class=\"dataframe\">\n",
       "  <thead>\n",
       "    <tr style=\"text-align: right;\">\n",
       "      <th></th>\n",
       "      <th>pkey_boring</th>\n",
       "      <th>boornummer</th>\n",
       "      <th>x</th>\n",
       "      <th>y</th>\n",
       "      <th>mv_mtaw</th>\n",
       "      <th>start_boring_mtaw</th>\n",
       "      <th>gemeente</th>\n",
       "      <th>diepte_boring_van</th>\n",
       "      <th>diepte_boring_tot</th>\n",
       "      <th>datum_aanvang</th>\n",
       "      <th>uitvoerder</th>\n",
       "      <th>boorgatmeting</th>\n",
       "      <th>diepte_methode_van</th>\n",
       "      <th>diepte_methode_tot</th>\n",
       "      <th>boormethode</th>\n",
       "    </tr>\n",
       "  </thead>\n",
       "  <tbody>\n",
       "    <tr>\n",
       "      <th>0</th>\n",
       "      <td>https://www.dov.vlaanderen.be/data/boring/1974...</td>\n",
       "      <td>GEO-74/254-b1</td>\n",
       "      <td>153147.0</td>\n",
       "      <td>206931.0</td>\n",
       "      <td>14.12</td>\n",
       "      <td>14.12</td>\n",
       "      <td>Antwerpen</td>\n",
       "      <td>0.0</td>\n",
       "      <td>14.05</td>\n",
       "      <td>1974-07-02</td>\n",
       "      <td>Rijksinstituut voor Grondmechanica</td>\n",
       "      <td>False</td>\n",
       "      <td>0.0</td>\n",
       "      <td>1.30</td>\n",
       "      <td>lepelboring</td>\n",
       "    </tr>\n",
       "    <tr>\n",
       "      <th>1</th>\n",
       "      <td>https://www.dov.vlaanderen.be/data/boring/1974...</td>\n",
       "      <td>GEO-74/254-b1</td>\n",
       "      <td>153147.0</td>\n",
       "      <td>206931.0</td>\n",
       "      <td>14.12</td>\n",
       "      <td>14.12</td>\n",
       "      <td>Antwerpen</td>\n",
       "      <td>0.0</td>\n",
       "      <td>14.05</td>\n",
       "      <td>1974-07-02</td>\n",
       "      <td>Rijksinstituut voor Grondmechanica</td>\n",
       "      <td>False</td>\n",
       "      <td>1.3</td>\n",
       "      <td>13.50</td>\n",
       "      <td>pulsboring</td>\n",
       "    </tr>\n",
       "    <tr>\n",
       "      <th>2</th>\n",
       "      <td>https://www.dov.vlaanderen.be/data/boring/1974...</td>\n",
       "      <td>GEO-74/254-b1</td>\n",
       "      <td>153147.0</td>\n",
       "      <td>206931.0</td>\n",
       "      <td>14.12</td>\n",
       "      <td>14.12</td>\n",
       "      <td>Antwerpen</td>\n",
       "      <td>0.0</td>\n",
       "      <td>14.05</td>\n",
       "      <td>1974-07-02</td>\n",
       "      <td>Rijksinstituut voor Grondmechanica</td>\n",
       "      <td>False</td>\n",
       "      <td>13.5</td>\n",
       "      <td>14.05</td>\n",
       "      <td>lepelboring</td>\n",
       "    </tr>\n",
       "  </tbody>\n",
       "</table>\n",
       "</div>"
      ],
      "text/plain": [
       "                                         pkey_boring     boornummer         x  \\\n",
       "0  https://www.dov.vlaanderen.be/data/boring/1974...  GEO-74/254-b1  153147.0   \n",
       "1  https://www.dov.vlaanderen.be/data/boring/1974...  GEO-74/254-b1  153147.0   \n",
       "2  https://www.dov.vlaanderen.be/data/boring/1974...  GEO-74/254-b1  153147.0   \n",
       "\n",
       "          y  mv_mtaw  start_boring_mtaw   gemeente  diepte_boring_van  \\\n",
       "0  206931.0    14.12              14.12  Antwerpen                0.0   \n",
       "1  206931.0    14.12              14.12  Antwerpen                0.0   \n",
       "2  206931.0    14.12              14.12  Antwerpen                0.0   \n",
       "\n",
       "   diepte_boring_tot datum_aanvang                          uitvoerder  \\\n",
       "0              14.05    1974-07-02  Rijksinstituut voor Grondmechanica   \n",
       "1              14.05    1974-07-02  Rijksinstituut voor Grondmechanica   \n",
       "2              14.05    1974-07-02  Rijksinstituut voor Grondmechanica   \n",
       "\n",
       "   boorgatmeting  diepte_methode_van  diepte_methode_tot  boormethode  \n",
       "0          False                 0.0                1.30  lepelboring  \n",
       "1          False                 1.3               13.50   pulsboring  \n",
       "2          False                13.5               14.05  lepelboring  "
      ]
     },
     "execution_count": 8,
     "metadata": {},
     "output_type": "execute_result"
    }
   ],
   "source": [
    "df = boring.search(location=(153145, 206930, 153150, 206935))\n",
    "df.head()"
   ]
  },
  {
   "cell_type": "markdown",
   "metadata": {},
   "source": [
    "The dataframe contains one borehole where three methods ('boormethode') were applied for its construction. The available data are flattened to represent unique attributes per row of the dataframe.\n",
    "\n",
    "Using the *pkey_boring* field one can request the details of this borehole in a webbrowser:"
   ]
  },
  {
   "cell_type": "code",
   "execution_count": 9,
   "metadata": {},
   "outputs": [
    {
     "name": "stdout",
     "output_type": "stream",
     "text": [
      "https://www.dov.vlaanderen.be/data/boring/1974-010351\n"
     ]
    }
   ],
   "source": [
    "for pkey_boring in set(df.pkey_boring):\n",
    "    print(pkey_boring)"
   ]
  },
  {
   "cell_type": "markdown",
   "metadata": {},
   "source": [
    "### Get boreholes with specific properties"
   ]
  },
  {
   "cell_type": "markdown",
   "metadata": {},
   "source": [
    "Next to querying boreholes based on their geographic location within a bounding box, we can also search for boreholes matching a specific set of properties. For this we can build a query using a combination of the 'Boring' fields and operators provided by the WFS protocol.\n",
    "\n",
    "A list of possible operators can be found below:"
   ]
  },
  {
   "cell_type": "code",
   "execution_count": 10,
   "metadata": {},
   "outputs": [
    {
     "data": {
      "text/plain": [
       "['PropertyIsBetween',\n",
       " 'PropertyIsEqualTo',\n",
       " 'PropertyIsGreaterThan',\n",
       " 'PropertyIsGreaterThanOrEqualTo',\n",
       " 'PropertyIsLessThan',\n",
       " 'PropertyIsLessThanOrEqualTo',\n",
       " 'PropertyIsLike',\n",
       " 'PropertyIsNotEqualTo',\n",
       " 'PropertyIsNull',\n",
       " 'SortProperty']"
      ]
     },
     "execution_count": 10,
     "metadata": {},
     "output_type": "execute_result"
    }
   ],
   "source": [
    "[i for i,j in inspect.getmembers(sys.modules['owslib.fes'], inspect.isclass) if 'Property' in i]"
   ]
  },
  {
   "cell_type": "markdown",
   "metadata": {},
   "source": [
    "In this example we build a query using the *PropertyIsEqualTo* operator to find all boreholes that are within the community (gemeente) of 'Herstappe':"
   ]
  },
  {
   "cell_type": "code",
   "execution_count": 11,
   "metadata": {},
   "outputs": [
    {
     "data": {
      "text/html": [
       "<div>\n",
       "<style scoped>\n",
       "    .dataframe tbody tr th:only-of-type {\n",
       "        vertical-align: middle;\n",
       "    }\n",
       "\n",
       "    .dataframe tbody tr th {\n",
       "        vertical-align: top;\n",
       "    }\n",
       "\n",
       "    .dataframe thead th {\n",
       "        text-align: right;\n",
       "    }\n",
       "</style>\n",
       "<table border=\"1\" class=\"dataframe\">\n",
       "  <thead>\n",
       "    <tr style=\"text-align: right;\">\n",
       "      <th></th>\n",
       "      <th>pkey_boring</th>\n",
       "      <th>boornummer</th>\n",
       "      <th>x</th>\n",
       "      <th>y</th>\n",
       "      <th>mv_mtaw</th>\n",
       "      <th>start_boring_mtaw</th>\n",
       "      <th>gemeente</th>\n",
       "      <th>diepte_boring_van</th>\n",
       "      <th>diepte_boring_tot</th>\n",
       "      <th>datum_aanvang</th>\n",
       "      <th>uitvoerder</th>\n",
       "      <th>boorgatmeting</th>\n",
       "      <th>diepte_methode_van</th>\n",
       "      <th>diepte_methode_tot</th>\n",
       "      <th>boormethode</th>\n",
       "    </tr>\n",
       "  </thead>\n",
       "  <tbody>\n",
       "    <tr>\n",
       "      <th>0</th>\n",
       "      <td>https://www.dov.vlaanderen.be/data/boring/2016...</td>\n",
       "      <td>kb33d106e-B236</td>\n",
       "      <td>224687.4</td>\n",
       "      <td>158191.0</td>\n",
       "      <td>124.0</td>\n",
       "      <td>124.0</td>\n",
       "      <td>Herstappe</td>\n",
       "      <td>0.0</td>\n",
       "      <td>6.0</td>\n",
       "      <td>NaN</td>\n",
       "      <td>Belgische Geologische Dienst (BGD)</td>\n",
       "      <td>False</td>\n",
       "      <td>0.0</td>\n",
       "      <td>6.0</td>\n",
       "      <td>gestoken boring</td>\n",
       "    </tr>\n",
       "    <tr>\n",
       "      <th>1</th>\n",
       "      <td>https://www.dov.vlaanderen.be/data/boring/1993...</td>\n",
       "      <td>kb41d120e-B1027</td>\n",
       "      <td>224820.0</td>\n",
       "      <td>157794.0</td>\n",
       "      <td>132.0</td>\n",
       "      <td>132.0</td>\n",
       "      <td>Herstappe</td>\n",
       "      <td>0.0</td>\n",
       "      <td>50.0</td>\n",
       "      <td>1993-09-02</td>\n",
       "      <td>Peeters-Ramsel</td>\n",
       "      <td>False</td>\n",
       "      <td>0.0</td>\n",
       "      <td>50.0</td>\n",
       "      <td>onbekend</td>\n",
       "    </tr>\n",
       "  </tbody>\n",
       "</table>\n",
       "</div>"
      ],
      "text/plain": [
       "                                         pkey_boring       boornummer  \\\n",
       "0  https://www.dov.vlaanderen.be/data/boring/2016...   kb33d106e-B236   \n",
       "1  https://www.dov.vlaanderen.be/data/boring/1993...  kb41d120e-B1027   \n",
       "\n",
       "          x         y  mv_mtaw  start_boring_mtaw   gemeente  \\\n",
       "0  224687.4  158191.0    124.0              124.0  Herstappe   \n",
       "1  224820.0  157794.0    132.0              132.0  Herstappe   \n",
       "\n",
       "   diepte_boring_van  diepte_boring_tot datum_aanvang  \\\n",
       "0                0.0                6.0           NaN   \n",
       "1                0.0               50.0    1993-09-02   \n",
       "\n",
       "                           uitvoerder  boorgatmeting  diepte_methode_van  \\\n",
       "0  Belgische Geologische Dienst (BGD)          False                 0.0   \n",
       "1                      Peeters-Ramsel          False                 0.0   \n",
       "\n",
       "   diepte_methode_tot      boormethode  \n",
       "0                 6.0  gestoken boring  \n",
       "1                50.0         onbekend  "
      ]
     },
     "execution_count": 11,
     "metadata": {},
     "output_type": "execute_result"
    }
   ],
   "source": [
    "from owslib.fes import PropertyIsEqualTo\n",
    "\n",
    "query = PropertyIsEqualTo(propertyname='gemeente',\n",
    "                          literal='Herstappe')\n",
    "df = boring.search(query=query)\n",
    "\n",
    "df.head()"
   ]
  },
  {
   "cell_type": "markdown",
   "metadata": {},
   "source": [
    "Once again we can use the *pkey_boring* as a permanent link to the information of these boreholes:"
   ]
  },
  {
   "cell_type": "code",
   "execution_count": 12,
   "metadata": {},
   "outputs": [
    {
     "name": "stdout",
     "output_type": "stream",
     "text": [
      "https://www.dov.vlaanderen.be/data/boring/1993-096210\n",
      "https://www.dov.vlaanderen.be/data/boring/2016-125511\n"
     ]
    }
   ],
   "source": [
    "for pkey_boring in set(df.pkey_boring):\n",
    "    print(pkey_boring)"
   ]
  },
  {
   "cell_type": "markdown",
   "metadata": {},
   "source": [
    "### Get boreholes in a bounding box based on specific properties"
   ]
  },
  {
   "cell_type": "markdown",
   "metadata": {},
   "source": [
    "We can combine a query on attributes with a query on geographic location to get the boreholes within a bounding box that have specific properties.\n",
    "\n",
    "The following example requests the boreholes with a depth greater than or equal to 2000 meters within the given bounding box.\n",
    "\n",
    "(Note that the datatype of the *literal* parameter should be a string, regardless of the datatype of this field in the output dataframe.)"
   ]
  },
  {
   "cell_type": "code",
   "execution_count": 13,
   "metadata": {},
   "outputs": [
    {
     "data": {
      "text/html": [
       "<div>\n",
       "<style scoped>\n",
       "    .dataframe tbody tr th:only-of-type {\n",
       "        vertical-align: middle;\n",
       "    }\n",
       "\n",
       "    .dataframe tbody tr th {\n",
       "        vertical-align: top;\n",
       "    }\n",
       "\n",
       "    .dataframe thead th {\n",
       "        text-align: right;\n",
       "    }\n",
       "</style>\n",
       "<table border=\"1\" class=\"dataframe\">\n",
       "  <thead>\n",
       "    <tr style=\"text-align: right;\">\n",
       "      <th></th>\n",
       "      <th>pkey_boring</th>\n",
       "      <th>boornummer</th>\n",
       "      <th>x</th>\n",
       "      <th>y</th>\n",
       "      <th>mv_mtaw</th>\n",
       "      <th>start_boring_mtaw</th>\n",
       "      <th>gemeente</th>\n",
       "      <th>diepte_boring_van</th>\n",
       "      <th>diepte_boring_tot</th>\n",
       "      <th>datum_aanvang</th>\n",
       "      <th>uitvoerder</th>\n",
       "      <th>boorgatmeting</th>\n",
       "      <th>diepte_methode_van</th>\n",
       "      <th>diepte_methode_tot</th>\n",
       "      <th>boormethode</th>\n",
       "    </tr>\n",
       "  </thead>\n",
       "  <tbody>\n",
       "    <tr>\n",
       "      <th>0</th>\n",
       "      <td>https://www.dov.vlaanderen.be/data/boring/2016...</td>\n",
       "      <td>B/1-102785</td>\n",
       "      <td>201790.5</td>\n",
       "      <td>212962.0</td>\n",
       "      <td>25.0</td>\n",
       "      <td>25.0</td>\n",
       "      <td>Mol</td>\n",
       "      <td>0.0</td>\n",
       "      <td>4341.0</td>\n",
       "      <td>2016-03-02</td>\n",
       "      <td>THV Daldrup - Smet</td>\n",
       "      <td>True</td>\n",
       "      <td>0.0</td>\n",
       "      <td>4341.0</td>\n",
       "      <td>spoelboring</td>\n",
       "    </tr>\n",
       "    <tr>\n",
       "      <th>1</th>\n",
       "      <td>https://www.dov.vlaanderen.be/data/boring/2016...</td>\n",
       "      <td>B/1-102786</td>\n",
       "      <td>201783.0</td>\n",
       "      <td>212961.0</td>\n",
       "      <td>25.0</td>\n",
       "      <td>25.0</td>\n",
       "      <td>Mol</td>\n",
       "      <td>0.0</td>\n",
       "      <td>3610.0</td>\n",
       "      <td>2015-09-14</td>\n",
       "      <td>THV Daldrup - Smet</td>\n",
       "      <td>True</td>\n",
       "      <td>0.0</td>\n",
       "      <td>1034.0</td>\n",
       "      <td>spoelboring</td>\n",
       "    </tr>\n",
       "    <tr>\n",
       "      <th>2</th>\n",
       "      <td>https://www.dov.vlaanderen.be/data/boring/2016...</td>\n",
       "      <td>B/1-102786</td>\n",
       "      <td>201783.0</td>\n",
       "      <td>212961.0</td>\n",
       "      <td>25.0</td>\n",
       "      <td>25.0</td>\n",
       "      <td>Mol</td>\n",
       "      <td>0.0</td>\n",
       "      <td>3610.0</td>\n",
       "      <td>2015-09-14</td>\n",
       "      <td>THV Daldrup - Smet</td>\n",
       "      <td>True</td>\n",
       "      <td>1034.0</td>\n",
       "      <td>1042.0</td>\n",
       "      <td>kernboring</td>\n",
       "    </tr>\n",
       "    <tr>\n",
       "      <th>3</th>\n",
       "      <td>https://www.dov.vlaanderen.be/data/boring/2016...</td>\n",
       "      <td>B/1-102786</td>\n",
       "      <td>201783.0</td>\n",
       "      <td>212961.0</td>\n",
       "      <td>25.0</td>\n",
       "      <td>25.0</td>\n",
       "      <td>Mol</td>\n",
       "      <td>0.0</td>\n",
       "      <td>3610.0</td>\n",
       "      <td>2015-09-14</td>\n",
       "      <td>THV Daldrup - Smet</td>\n",
       "      <td>True</td>\n",
       "      <td>1042.0</td>\n",
       "      <td>2926.0</td>\n",
       "      <td>spoelboring</td>\n",
       "    </tr>\n",
       "    <tr>\n",
       "      <th>4</th>\n",
       "      <td>https://www.dov.vlaanderen.be/data/boring/2016...</td>\n",
       "      <td>B/1-102786</td>\n",
       "      <td>201783.0</td>\n",
       "      <td>212961.0</td>\n",
       "      <td>25.0</td>\n",
       "      <td>25.0</td>\n",
       "      <td>Mol</td>\n",
       "      <td>0.0</td>\n",
       "      <td>3610.0</td>\n",
       "      <td>2015-09-14</td>\n",
       "      <td>THV Daldrup - Smet</td>\n",
       "      <td>True</td>\n",
       "      <td>2926.0</td>\n",
       "      <td>2931.0</td>\n",
       "      <td>kernboring</td>\n",
       "    </tr>\n",
       "  </tbody>\n",
       "</table>\n",
       "</div>"
      ],
      "text/plain": [
       "                                         pkey_boring  boornummer         x  \\\n",
       "0  https://www.dov.vlaanderen.be/data/boring/2016...  B/1-102785  201790.5   \n",
       "1  https://www.dov.vlaanderen.be/data/boring/2016...  B/1-102786  201783.0   \n",
       "2  https://www.dov.vlaanderen.be/data/boring/2016...  B/1-102786  201783.0   \n",
       "3  https://www.dov.vlaanderen.be/data/boring/2016...  B/1-102786  201783.0   \n",
       "4  https://www.dov.vlaanderen.be/data/boring/2016...  B/1-102786  201783.0   \n",
       "\n",
       "          y  mv_mtaw  start_boring_mtaw gemeente  diepte_boring_van  \\\n",
       "0  212962.0     25.0               25.0      Mol                0.0   \n",
       "1  212961.0     25.0               25.0      Mol                0.0   \n",
       "2  212961.0     25.0               25.0      Mol                0.0   \n",
       "3  212961.0     25.0               25.0      Mol                0.0   \n",
       "4  212961.0     25.0               25.0      Mol                0.0   \n",
       "\n",
       "   diepte_boring_tot datum_aanvang          uitvoerder  boorgatmeting  \\\n",
       "0             4341.0    2016-03-02  THV Daldrup - Smet           True   \n",
       "1             3610.0    2015-09-14  THV Daldrup - Smet           True   \n",
       "2             3610.0    2015-09-14  THV Daldrup - Smet           True   \n",
       "3             3610.0    2015-09-14  THV Daldrup - Smet           True   \n",
       "4             3610.0    2015-09-14  THV Daldrup - Smet           True   \n",
       "\n",
       "   diepte_methode_van  diepte_methode_tot  boormethode  \n",
       "0                 0.0              4341.0  spoelboring  \n",
       "1                 0.0              1034.0  spoelboring  \n",
       "2              1034.0              1042.0   kernboring  \n",
       "3              1042.0              2926.0  spoelboring  \n",
       "4              2926.0              2931.0   kernboring  "
      ]
     },
     "execution_count": 13,
     "metadata": {},
     "output_type": "execute_result"
    }
   ],
   "source": [
    "from owslib.fes import PropertyIsGreaterThanOrEqualTo\n",
    "\n",
    "query = PropertyIsGreaterThanOrEqualTo(\n",
    "            propertyname='diepte_boring_tot',\n",
    "            literal='2000')\n",
    "\n",
    "df = boring.search(\n",
    "    location=(200000, 211000, 205000, 214000),\n",
    "    query=query\n",
    "    )\n",
    "\n",
    "df.head()"
   ]
  },
  {
   "cell_type": "markdown",
   "metadata": {},
   "source": [
    "We can look at one of the boreholes in a webbrowser using its *pkey_boring*:"
   ]
  },
  {
   "cell_type": "code",
   "execution_count": 14,
   "metadata": {},
   "outputs": [
    {
     "name": "stdout",
     "output_type": "stream",
     "text": [
      "https://www.dov.vlaanderen.be/data/boring/2016-148767\n",
      "https://www.dov.vlaanderen.be/data/boring/2016-148766\n"
     ]
    }
   ],
   "source": [
    "for pkey_boring in set(df.pkey_boring):\n",
    "    print(pkey_boring)"
   ]
  },
  {
   "cell_type": "markdown",
   "metadata": {},
   "source": [
    "### Select boreholes in a municipality and return depth"
   ]
  },
  {
   "cell_type": "markdown",
   "metadata": {},
   "source": [
    "We can limit the columns in the output dataframe by specifying the *return_fields* parameter in our search.\n",
    "\n",
    "In this example we query all the boreholes in the city of Ghent and return their depth:"
   ]
  },
  {
   "cell_type": "code",
   "execution_count": 15,
   "metadata": {},
   "outputs": [
    {
     "data": {
      "text/html": [
       "<div>\n",
       "<style scoped>\n",
       "    .dataframe tbody tr th:only-of-type {\n",
       "        vertical-align: middle;\n",
       "    }\n",
       "\n",
       "    .dataframe tbody tr th {\n",
       "        vertical-align: top;\n",
       "    }\n",
       "\n",
       "    .dataframe thead th {\n",
       "        text-align: right;\n",
       "    }\n",
       "</style>\n",
       "<table border=\"1\" class=\"dataframe\">\n",
       "  <thead>\n",
       "    <tr style=\"text-align: right;\">\n",
       "      <th></th>\n",
       "      <th>diepte_boring_tot</th>\n",
       "    </tr>\n",
       "  </thead>\n",
       "  <tbody>\n",
       "    <tr>\n",
       "      <th>0</th>\n",
       "      <td>42.0</td>\n",
       "    </tr>\n",
       "    <tr>\n",
       "      <th>1</th>\n",
       "      <td>32.0</td>\n",
       "    </tr>\n",
       "    <tr>\n",
       "      <th>2</th>\n",
       "      <td>59.0</td>\n",
       "    </tr>\n",
       "    <tr>\n",
       "      <th>3</th>\n",
       "      <td>11.0</td>\n",
       "    </tr>\n",
       "    <tr>\n",
       "      <th>4</th>\n",
       "      <td>27.0</td>\n",
       "    </tr>\n",
       "  </tbody>\n",
       "</table>\n",
       "</div>"
      ],
      "text/plain": [
       "   diepte_boring_tot\n",
       "0               42.0\n",
       "1               32.0\n",
       "2               59.0\n",
       "3               11.0\n",
       "4               27.0"
      ]
     },
     "execution_count": 15,
     "metadata": {},
     "output_type": "execute_result"
    }
   ],
   "source": [
    "query = PropertyIsEqualTo(propertyname='gemeente',\n",
    "                          literal='Gent')\n",
    "df = boring.search(query=query,\n",
    "                   return_fields=('diepte_boring_tot',))\n",
    "df.head()"
   ]
  },
  {
   "cell_type": "code",
   "execution_count": 16,
   "metadata": {},
   "outputs": [
    {
     "data": {
      "text/html": [
       "<div>\n",
       "<style scoped>\n",
       "    .dataframe tbody tr th:only-of-type {\n",
       "        vertical-align: middle;\n",
       "    }\n",
       "\n",
       "    .dataframe tbody tr th {\n",
       "        vertical-align: top;\n",
       "    }\n",
       "\n",
       "    .dataframe thead th {\n",
       "        text-align: right;\n",
       "    }\n",
       "</style>\n",
       "<table border=\"1\" class=\"dataframe\">\n",
       "  <thead>\n",
       "    <tr style=\"text-align: right;\">\n",
       "      <th></th>\n",
       "      <th>diepte_boring_tot</th>\n",
       "    </tr>\n",
       "  </thead>\n",
       "  <tbody>\n",
       "    <tr>\n",
       "      <th>count</th>\n",
       "      <td>2663.000000</td>\n",
       "    </tr>\n",
       "    <tr>\n",
       "      <th>mean</th>\n",
       "      <td>15.459805</td>\n",
       "    </tr>\n",
       "    <tr>\n",
       "      <th>std</th>\n",
       "      <td>32.229134</td>\n",
       "    </tr>\n",
       "    <tr>\n",
       "      <th>min</th>\n",
       "      <td>0.000000</td>\n",
       "    </tr>\n",
       "    <tr>\n",
       "      <th>25%</th>\n",
       "      <td>0.000000</td>\n",
       "    </tr>\n",
       "    <tr>\n",
       "      <th>50%</th>\n",
       "      <td>6.000000</td>\n",
       "    </tr>\n",
       "    <tr>\n",
       "      <th>75%</th>\n",
       "      <td>20.000000</td>\n",
       "    </tr>\n",
       "    <tr>\n",
       "      <th>max</th>\n",
       "      <td>660.000000</td>\n",
       "    </tr>\n",
       "  </tbody>\n",
       "</table>\n",
       "</div>"
      ],
      "text/plain": [
       "       diepte_boring_tot\n",
       "count        2663.000000\n",
       "mean           15.459805\n",
       "std            32.229134\n",
       "min             0.000000\n",
       "25%             0.000000\n",
       "50%             6.000000\n",
       "75%            20.000000\n",
       "max           660.000000"
      ]
     },
     "execution_count": 16,
     "metadata": {},
     "output_type": "execute_result"
    }
   ],
   "source": [
    "df.describe()"
   ]
  },
  {
   "cell_type": "markdown",
   "metadata": {},
   "source": [
    "By discarding the boreholes with a depth of 0 m, we get a different result:"
   ]
  },
  {
   "cell_type": "code",
   "execution_count": 17,
   "metadata": {},
   "outputs": [
    {
     "data": {
      "text/html": [
       "<div>\n",
       "<style scoped>\n",
       "    .dataframe tbody tr th:only-of-type {\n",
       "        vertical-align: middle;\n",
       "    }\n",
       "\n",
       "    .dataframe tbody tr th {\n",
       "        vertical-align: top;\n",
       "    }\n",
       "\n",
       "    .dataframe thead th {\n",
       "        text-align: right;\n",
       "    }\n",
       "</style>\n",
       "<table border=\"1\" class=\"dataframe\">\n",
       "  <thead>\n",
       "    <tr style=\"text-align: right;\">\n",
       "      <th></th>\n",
       "      <th>diepte_boring_tot</th>\n",
       "    </tr>\n",
       "  </thead>\n",
       "  <tbody>\n",
       "    <tr>\n",
       "      <th>count</th>\n",
       "      <td>1987.000000</td>\n",
       "    </tr>\n",
       "    <tr>\n",
       "      <th>mean</th>\n",
       "      <td>20.719406</td>\n",
       "    </tr>\n",
       "    <tr>\n",
       "      <th>std</th>\n",
       "      <td>35.822447</td>\n",
       "    </tr>\n",
       "    <tr>\n",
       "      <th>min</th>\n",
       "      <td>0.100000</td>\n",
       "    </tr>\n",
       "    <tr>\n",
       "      <th>25%</th>\n",
       "      <td>5.000000</td>\n",
       "    </tr>\n",
       "    <tr>\n",
       "      <th>50%</th>\n",
       "      <td>12.000000</td>\n",
       "    </tr>\n",
       "    <tr>\n",
       "      <th>75%</th>\n",
       "      <td>22.000000</td>\n",
       "    </tr>\n",
       "    <tr>\n",
       "      <th>max</th>\n",
       "      <td>660.000000</td>\n",
       "    </tr>\n",
       "  </tbody>\n",
       "</table>\n",
       "</div>"
      ],
      "text/plain": [
       "       diepte_boring_tot\n",
       "count        1987.000000\n",
       "mean           20.719406\n",
       "std            35.822447\n",
       "min             0.100000\n",
       "25%             5.000000\n",
       "50%            12.000000\n",
       "75%            22.000000\n",
       "max           660.000000"
      ]
     },
     "execution_count": 17,
     "metadata": {},
     "output_type": "execute_result"
    }
   ],
   "source": [
    "df[df.diepte_boring_tot != 0].describe()"
   ]
  },
  {
   "cell_type": "code",
   "execution_count": 18,
   "metadata": {},
   "outputs": [
    {
     "data": {
      "text/plain": [
       "<matplotlib.axes._subplots.AxesSubplot at 0xff3f2b0>"
      ]
     },
     "execution_count": 18,
     "metadata": {},
     "output_type": "execute_result"
    },
    {
     "data": {
      "image/png": "[encoded data removed]",
      "text/plain": [
       "<matplotlib.figure.Figure at 0xff3f400>"
      ]
     },
     "metadata": {},
     "output_type": "display_data"
    }
   ],
   "source": [
    "df[df.diepte_boring_tot != 0].boxplot()"
   ]
  },
  {
   "cell_type": "markdown",
   "metadata": {},
   "source": [
    "### Get boreholes based on fields not available in the standard output dataframe"
   ]
  },
  {
   "cell_type": "markdown",
   "metadata": {},
   "source": [
    "To keep the output dataframe size acceptable, not all availabe WFS fields are included in the standard output. However, one can use this information to select boreholes as illustrated below.\n",
    "\n",
    "For example, make a selection of the boreholes in municipality the of Antwerp, for which a hydrogeological interpretation was performed:"
   ]
  },
  {
   "cell_type": "code",
   "execution_count": 19,
   "metadata": {},
   "outputs": [
    {
     "data": {
      "text/html": [
       "<div>\n",
       "<style scoped>\n",
       "    .dataframe tbody tr th:only-of-type {\n",
       "        vertical-align: middle;\n",
       "    }\n",
       "\n",
       "    .dataframe tbody tr th {\n",
       "        vertical-align: top;\n",
       "    }\n",
       "\n",
       "    .dataframe thead th {\n",
       "        text-align: right;\n",
       "    }\n",
       "</style>\n",
       "<table border=\"1\" class=\"dataframe\">\n",
       "  <thead>\n",
       "    <tr style=\"text-align: right;\">\n",
       "      <th></th>\n",
       "      <th>pkey_boring</th>\n",
       "      <th>boornummer</th>\n",
       "      <th>x</th>\n",
       "      <th>y</th>\n",
       "      <th>diepte_boring_tot</th>\n",
       "      <th>datum_aanvang</th>\n",
       "    </tr>\n",
       "  </thead>\n",
       "  <tbody>\n",
       "    <tr>\n",
       "      <th>0</th>\n",
       "      <td>https://www.dov.vlaanderen.be/data/boring/1937...</td>\n",
       "      <td>kb7d14e-B82</td>\n",
       "      <td>145457.0</td>\n",
       "      <td>224973.5</td>\n",
       "      <td>10.0</td>\n",
       "      <td>1937-01-02</td>\n",
       "    </tr>\n",
       "    <tr>\n",
       "      <th>1</th>\n",
       "      <td>https://www.dov.vlaanderen.be/data/boring/1969...</td>\n",
       "      <td>kb7d14e-B110</td>\n",
       "      <td>143700.4</td>\n",
       "      <td>228086.3</td>\n",
       "      <td>12.0</td>\n",
       "      <td>1969-01-01</td>\n",
       "    </tr>\n",
       "    <tr>\n",
       "      <th>2</th>\n",
       "      <td>https://www.dov.vlaanderen.be/data/boring/1966...</td>\n",
       "      <td>kb7d14e-B115</td>\n",
       "      <td>143067.0</td>\n",
       "      <td>227707.6</td>\n",
       "      <td>66.0</td>\n",
       "      <td>1966-01-01</td>\n",
       "    </tr>\n",
       "    <tr>\n",
       "      <th>3</th>\n",
       "      <td>https://www.dov.vlaanderen.be/data/boring/1966...</td>\n",
       "      <td>kb7d14e-B117</td>\n",
       "      <td>144770.5</td>\n",
       "      <td>223430.6</td>\n",
       "      <td>49.0</td>\n",
       "      <td>1966-01-01</td>\n",
       "    </tr>\n",
       "    <tr>\n",
       "      <th>4</th>\n",
       "      <td>https://www.dov.vlaanderen.be/data/boring/1970...</td>\n",
       "      <td>kb7d14e-B121</td>\n",
       "      <td>143597.8</td>\n",
       "      <td>223498.6</td>\n",
       "      <td>11.9</td>\n",
       "      <td>1970-01-01</td>\n",
       "    </tr>\n",
       "  </tbody>\n",
       "</table>\n",
       "</div>"
      ],
      "text/plain": [
       "                                         pkey_boring    boornummer         x  \\\n",
       "0  https://www.dov.vlaanderen.be/data/boring/1937...   kb7d14e-B82  145457.0   \n",
       "1  https://www.dov.vlaanderen.be/data/boring/1969...  kb7d14e-B110  143700.4   \n",
       "2  https://www.dov.vlaanderen.be/data/boring/1966...  kb7d14e-B115  143067.0   \n",
       "3  https://www.dov.vlaanderen.be/data/boring/1966...  kb7d14e-B117  144770.5   \n",
       "4  https://www.dov.vlaanderen.be/data/boring/1970...  kb7d14e-B121  143597.8   \n",
       "\n",
       "          y  diepte_boring_tot datum_aanvang  \n",
       "0  224973.5               10.0    1937-01-02  \n",
       "1  228086.3               12.0    1969-01-01  \n",
       "2  227707.6               66.0    1966-01-01  \n",
       "3  223430.6               49.0    1966-01-01  \n",
       "4  223498.6               11.9    1970-01-01  "
      ]
     },
     "execution_count": 19,
     "metadata": {},
     "output_type": "execute_result"
    }
   ],
   "source": [
    "from owslib.fes import And\n",
    "\n",
    "query = And([PropertyIsEqualTo(propertyname='gemeente',\n",
    "                               literal='Antwerpen'),\n",
    "             PropertyIsEqualTo(propertyname='hydrogeologische_stratigrafie', \n",
    "                               literal='True')]\n",
    "            )\n",
    "df = boring.search(query=query,\n",
    "                   return_fields=('pkey_boring', 'boornummer', 'x', 'y', 'diepte_boring_tot', 'datum_aanvang'))\n",
    "df.head()"
   ]
  },
  {
   "cell_type": "markdown",
   "metadata": {},
   "source": [
    "### Get borehole data, returning fields not available in the standard output dataframe"
   ]
  },
  {
   "cell_type": "markdown",
   "metadata": {},
   "source": [
    "As denoted in the previous example, not all available fields are available in the default output frame to keep its size limited. However, you can request any available field by including it in the *return_fields* parameter of the search:"
   ]
  },
  {
   "cell_type": "code",
   "execution_count": 20,
   "metadata": {},
   "outputs": [
    {
     "data": {
      "text/html": [
       "<div>\n",
       "<style scoped>\n",
       "    .dataframe tbody tr th:only-of-type {\n",
       "        vertical-align: middle;\n",
       "    }\n",
       "\n",
       "    .dataframe tbody tr th {\n",
       "        vertical-align: top;\n",
       "    }\n",
       "\n",
       "    .dataframe thead th {\n",
       "        text-align: right;\n",
       "    }\n",
       "</style>\n",
       "<table border=\"1\" class=\"dataframe\">\n",
       "  <thead>\n",
       "    <tr style=\"text-align: right;\">\n",
       "      <th></th>\n",
       "      <th>pkey_boring</th>\n",
       "      <th>boornummer</th>\n",
       "      <th>diepte_boring_tot</th>\n",
       "      <th>informele_stratigrafie</th>\n",
       "      <th>formele_stratigrafie</th>\n",
       "      <th>lithologische_beschrijving</th>\n",
       "      <th>gecodeerde_lithologie</th>\n",
       "      <th>hydrogeologische_stratigrafie</th>\n",
       "      <th>quartaire_stratigrafie</th>\n",
       "      <th>geotechnische_codering</th>\n",
       "      <th>informele_hydrostratigrafie</th>\n",
       "    </tr>\n",
       "  </thead>\n",
       "  <tbody>\n",
       "    <tr>\n",
       "      <th>0</th>\n",
       "      <td>https://www.dov.vlaanderen.be/data/boring/1981...</td>\n",
       "      <td>kb8d7e-B224</td>\n",
       "      <td>2513.0</td>\n",
       "      <td>True</td>\n",
       "      <td>True</td>\n",
       "      <td>False</td>\n",
       "      <td>False</td>\n",
       "      <td>False</td>\n",
       "      <td>False</td>\n",
       "      <td>False</td>\n",
       "      <td>False</td>\n",
       "    </tr>\n",
       "    <tr>\n",
       "      <th>1</th>\n",
       "      <td>https://www.dov.vlaanderen.be/data/boring/1952...</td>\n",
       "      <td>kb8d17e-B272</td>\n",
       "      <td>2705.0</td>\n",
       "      <td>True</td>\n",
       "      <td>True</td>\n",
       "      <td>True</td>\n",
       "      <td>True</td>\n",
       "      <td>True</td>\n",
       "      <td>False</td>\n",
       "      <td>False</td>\n",
       "      <td>False</td>\n",
       "    </tr>\n",
       "    <tr>\n",
       "      <th>2</th>\n",
       "      <td>https://www.dov.vlaanderen.be/data/boring/1935...</td>\n",
       "      <td>kb17d31e-B197</td>\n",
       "      <td>2034.0</td>\n",
       "      <td>True</td>\n",
       "      <td>True</td>\n",
       "      <td>False</td>\n",
       "      <td>True</td>\n",
       "      <td>True</td>\n",
       "      <td>False</td>\n",
       "      <td>False</td>\n",
       "      <td>False</td>\n",
       "    </tr>\n",
       "    <tr>\n",
       "      <th>3</th>\n",
       "      <td>https://www.dov.vlaanderen.be/data/boring/2016...</td>\n",
       "      <td>B/1-102785</td>\n",
       "      <td>4341.0</td>\n",
       "      <td>False</td>\n",
       "      <td>True</td>\n",
       "      <td>True</td>\n",
       "      <td>False</td>\n",
       "      <td>False</td>\n",
       "      <td>False</td>\n",
       "      <td>False</td>\n",
       "      <td>False</td>\n",
       "    </tr>\n",
       "    <tr>\n",
       "      <th>4</th>\n",
       "      <td>https://www.dov.vlaanderen.be/data/boring/2016...</td>\n",
       "      <td>B/1-102786</td>\n",
       "      <td>3610.0</td>\n",
       "      <td>False</td>\n",
       "      <td>True</td>\n",
       "      <td>True</td>\n",
       "      <td>False</td>\n",
       "      <td>False</td>\n",
       "      <td>False</td>\n",
       "      <td>False</td>\n",
       "      <td>False</td>\n",
       "    </tr>\n",
       "  </tbody>\n",
       "</table>\n",
       "</div>"
      ],
      "text/plain": [
       "                                         pkey_boring     boornummer  \\\n",
       "0  https://www.dov.vlaanderen.be/data/boring/1981...    kb8d7e-B224   \n",
       "1  https://www.dov.vlaanderen.be/data/boring/1952...   kb8d17e-B272   \n",
       "2  https://www.dov.vlaanderen.be/data/boring/1935...  kb17d31e-B197   \n",
       "3  https://www.dov.vlaanderen.be/data/boring/2016...     B/1-102785   \n",
       "4  https://www.dov.vlaanderen.be/data/boring/2016...     B/1-102786   \n",
       "\n",
       "   diepte_boring_tot  informele_stratigrafie  formele_stratigrafie  \\\n",
       "0             2513.0                    True                  True   \n",
       "1             2705.0                    True                  True   \n",
       "2             2034.0                    True                  True   \n",
       "3             4341.0                   False                  True   \n",
       "4             3610.0                   False                  True   \n",
       "\n",
       "   lithologische_beschrijving  gecodeerde_lithologie  \\\n",
       "0                       False                  False   \n",
       "1                        True                   True   \n",
       "2                       False                   True   \n",
       "3                        True                  False   \n",
       "4                        True                  False   \n",
       "\n",
       "   hydrogeologische_stratigrafie  quartaire_stratigrafie  \\\n",
       "0                          False                   False   \n",
       "1                           True                   False   \n",
       "2                           True                   False   \n",
       "3                          False                   False   \n",
       "4                          False                   False   \n",
       "\n",
       "   geotechnische_codering  informele_hydrostratigrafie  \n",
       "0                   False                        False  \n",
       "1                   False                        False  \n",
       "2                   False                        False  \n",
       "3                   False                        False  \n",
       "4                   False                        False  "
      ]
     },
     "execution_count": 20,
     "metadata": {},
     "output_type": "execute_result"
    }
   ],
   "source": [
    "query = PropertyIsGreaterThanOrEqualTo(\n",
    "            propertyname='diepte_boring_tot',\n",
    "            literal='2000')\n",
    "\n",
    "df = boring.search(query=query,\n",
    "                   return_fields=('pkey_boring', 'boornummer', 'diepte_boring_tot',\n",
    "                                  'informele_stratigrafie', 'formele_stratigrafie', 'lithologische_beschrijving',\n",
    "                                  'gecodeerde_lithologie', 'hydrogeologische_stratigrafie', 'quartaire_stratigrafie',\n",
    "                                  'geotechnische_codering', 'informele_hydrostratigrafie'))\n",
    "\n",
    "df.head()"
   ]
  },
  {
   "cell_type": "markdown",
   "metadata": {},
   "source": [
    "### Get boreholes in a municipality and where groundwater related data are available"
   ]
  },
  {
   "cell_type": "markdown",
   "metadata": {},
   "source": [
    "The following full example return all boreholes where *gemeente* is 'Antwerpen' and either *putnummer* is not empty or *doel* starts with 'Grondwater' or *erkenning* is '2. Andere grondwaterwinningen'."
   ]
  },
  {
   "cell_type": "code",
   "execution_count": 21,
   "metadata": {},
   "outputs": [
    {
     "data": {
      "text/html": [
       "<div>\n",
       "<style scoped>\n",
       "    .dataframe tbody tr th:only-of-type {\n",
       "        vertical-align: middle;\n",
       "    }\n",
       "\n",
       "    .dataframe tbody tr th {\n",
       "        vertical-align: top;\n",
       "    }\n",
       "\n",
       "    .dataframe thead th {\n",
       "        text-align: right;\n",
       "    }\n",
       "</style>\n",
       "<table border=\"1\" class=\"dataframe\">\n",
       "  <thead>\n",
       "    <tr style=\"text-align: right;\">\n",
       "      <th></th>\n",
       "      <th>pkey_boring</th>\n",
       "      <th>boornummer</th>\n",
       "      <th>x</th>\n",
       "      <th>y</th>\n",
       "      <th>mv_mtaw</th>\n",
       "      <th>start_boring_mtaw</th>\n",
       "      <th>gemeente</th>\n",
       "      <th>diepte_boring_van</th>\n",
       "      <th>diepte_boring_tot</th>\n",
       "      <th>datum_aanvang</th>\n",
       "      <th>uitvoerder</th>\n",
       "      <th>boorgatmeting</th>\n",
       "      <th>diepte_methode_van</th>\n",
       "      <th>diepte_methode_tot</th>\n",
       "      <th>boormethode</th>\n",
       "    </tr>\n",
       "  </thead>\n",
       "  <tbody>\n",
       "    <tr>\n",
       "      <th>0</th>\n",
       "      <td>https://www.dov.vlaanderen.be/data/boring/1997...</td>\n",
       "      <td>kb15d28e-B741</td>\n",
       "      <td>154825.0</td>\n",
       "      <td>212445.0</td>\n",
       "      <td>5.00</td>\n",
       "      <td>5.00</td>\n",
       "      <td>Antwerpen</td>\n",
       "      <td>0.0</td>\n",
       "      <td>36.5</td>\n",
       "      <td>1996-12-31</td>\n",
       "      <td>Meysen Dammekens (Dammekens)-Hoboken</td>\n",
       "      <td>False</td>\n",
       "      <td>0.0</td>\n",
       "      <td>36.5</td>\n",
       "      <td>onbekend</td>\n",
       "    </tr>\n",
       "    <tr>\n",
       "      <th>1</th>\n",
       "      <td>https://www.dov.vlaanderen.be/data/boring/1996...</td>\n",
       "      <td>kb15d43w-B393</td>\n",
       "      <td>151150.0</td>\n",
       "      <td>206550.0</td>\n",
       "      <td>18.09</td>\n",
       "      <td>18.09</td>\n",
       "      <td>Antwerpen</td>\n",
       "      <td>0.0</td>\n",
       "      <td>104.0</td>\n",
       "      <td>1996-06-26</td>\n",
       "      <td>Meysen Dammekens (Dammekens)-Hoboken</td>\n",
       "      <td>False</td>\n",
       "      <td>0.0</td>\n",
       "      <td>104.0</td>\n",
       "      <td>spoelboring</td>\n",
       "    </tr>\n",
       "    <tr>\n",
       "      <th>2</th>\n",
       "      <td>https://www.dov.vlaanderen.be/data/boring/2017...</td>\n",
       "      <td>B/1-103105</td>\n",
       "      <td>153020.0</td>\n",
       "      <td>220412.0</td>\n",
       "      <td>-1.00</td>\n",
       "      <td>-1.00</td>\n",
       "      <td>Antwerpen</td>\n",
       "      <td>0.0</td>\n",
       "      <td>0.0</td>\n",
       "      <td>NaN</td>\n",
       "      <td>NaN</td>\n",
       "      <td>False</td>\n",
       "      <td>0.0</td>\n",
       "      <td>0.0</td>\n",
       "      <td>onbekend</td>\n",
       "    </tr>\n",
       "    <tr>\n",
       "      <th>3</th>\n",
       "      <td>https://www.dov.vlaanderen.be/data/boring/2017...</td>\n",
       "      <td>B/1-103483</td>\n",
       "      <td>153054.0</td>\n",
       "      <td>210697.0</td>\n",
       "      <td>-1.00</td>\n",
       "      <td>-1.00</td>\n",
       "      <td>Antwerpen</td>\n",
       "      <td>0.0</td>\n",
       "      <td>0.0</td>\n",
       "      <td>NaN</td>\n",
       "      <td>NaN</td>\n",
       "      <td>False</td>\n",
       "      <td>0.0</td>\n",
       "      <td>0.0</td>\n",
       "      <td>onbekend</td>\n",
       "    </tr>\n",
       "    <tr>\n",
       "      <th>4</th>\n",
       "      <td>https://www.dov.vlaanderen.be/data/boring/2016...</td>\n",
       "      <td>B/1-102776</td>\n",
       "      <td>153099.0</td>\n",
       "      <td>213577.0</td>\n",
       "      <td>-1.00</td>\n",
       "      <td>-1.00</td>\n",
       "      <td>Antwerpen</td>\n",
       "      <td>0.0</td>\n",
       "      <td>0.0</td>\n",
       "      <td>NaN</td>\n",
       "      <td>NaN</td>\n",
       "      <td>False</td>\n",
       "      <td>0.0</td>\n",
       "      <td>0.0</td>\n",
       "      <td>onbekend</td>\n",
       "    </tr>\n",
       "  </tbody>\n",
       "</table>\n",
       "</div>"
      ],
      "text/plain": [
       "                                         pkey_boring     boornummer         x  \\\n",
       "0  https://www.dov.vlaanderen.be/data/boring/1997...  kb15d28e-B741  154825.0   \n",
       "1  https://www.dov.vlaanderen.be/data/boring/1996...  kb15d43w-B393  151150.0   \n",
       "2  https://www.dov.vlaanderen.be/data/boring/2017...     B/1-103105  153020.0   \n",
       "3  https://www.dov.vlaanderen.be/data/boring/2017...     B/1-103483  153054.0   \n",
       "4  https://www.dov.vlaanderen.be/data/boring/2016...     B/1-102776  153099.0   \n",
       "\n",
       "          y  mv_mtaw  start_boring_mtaw   gemeente  diepte_boring_van  \\\n",
       "0  212445.0     5.00               5.00  Antwerpen                0.0   \n",
       "1  206550.0    18.09              18.09  Antwerpen                0.0   \n",
       "2  220412.0    -1.00              -1.00  Antwerpen                0.0   \n",
       "3  210697.0    -1.00              -1.00  Antwerpen                0.0   \n",
       "4  213577.0    -1.00              -1.00  Antwerpen                0.0   \n",
       "\n",
       "   diepte_boring_tot datum_aanvang                            uitvoerder  \\\n",
       "0               36.5    1996-12-31  Meysen Dammekens (Dammekens)-Hoboken   \n",
       "1              104.0    1996-06-26  Meysen Dammekens (Dammekens)-Hoboken   \n",
       "2                0.0           NaN                                   NaN   \n",
       "3                0.0           NaN                                   NaN   \n",
       "4                0.0           NaN                                   NaN   \n",
       "\n",
       "   boorgatmeting  diepte_methode_van  diepte_methode_tot  boormethode  \n",
       "0          False                 0.0                36.5     onbekend  \n",
       "1          False                 0.0               104.0  spoelboring  \n",
       "2          False                 0.0                 0.0     onbekend  \n",
       "3          False                 0.0                 0.0     onbekend  \n",
       "4          False                 0.0                 0.0     onbekend  "
      ]
     },
     "execution_count": 21,
     "metadata": {},
     "output_type": "execute_result"
    }
   ],
   "source": [
    "from owslib.fes import PropertyIsLike\n",
    "from owslib.fes import PropertyIsNull\n",
    "from owslib.fes import Or\n",
    "from owslib.fes import Not\n",
    "\n",
    "query = And([PropertyIsEqualTo(propertyname='gemeente',\n",
    "                               literal='Antwerpen'),\n",
    "             Or([Not([PropertyIsNull(propertyname='putnummer')]),\n",
    "                PropertyIsLike(propertyname='doel',\n",
    "                               literal='Grondwater%'),\n",
    "                PropertyIsEqualTo(propertyname='erkenning', \n",
    "                                  literal='2. Andere grondwaterwinningen')]\n",
    "               )]\n",
    "           )\n",
    "df = boring.search(query=query)\n",
    "df.head()"
   ]
  },
  {
   "cell_type": "markdown",
   "metadata": {},
   "source": [
    "## Visualize results"
   ]
  },
  {
   "cell_type": "markdown",
   "metadata": {},
   "source": [
    "Using Folium, we can display the results of our search on a map."
   ]
  },
  {
   "cell_type": "code",
   "execution_count": 22,
   "metadata": {},
   "outputs": [],
   "source": [
    "# import the necessary modules (not included in the requirements of pydov!)\n",
    "import folium\n",
    "from folium.plugins import MarkerCluster\n",
    "from pyproj import Proj, transform"
   ]
  },
  {
   "cell_type": "code",
   "execution_count": 23,
   "metadata": {},
   "outputs": [],
   "source": [
    "# convert the coordinates to lat/lon for folium\n",
    "def convert_latlon(x1, y1):\n",
    "    inProj = Proj(init='epsg:31370')\n",
    "    outProj = Proj(init='epsg:4326')\n",
    "    x2,y2 = transform(inProj, outProj, x1, y1)\n",
    "    return x2, y2\n",
    "df['lon'], df['lat'] = zip(*map(convert_latlon, df['x'], df['y'])) \n",
    "# convert to list\n",
    "loclist = df[['lat', 'lon']].values.tolist()"
   ]
  },
  {
   "cell_type": "code",
   "execution_count": 24,
   "metadata": {},
   "outputs": [
    {
     "data": {
      "text/html": [
       "<div style=\"width:100%;\"><div style=\"position:relative;width:100%;height:0;padding-bottom:60%;\"><iframe src=\"data:text/html;charset=utf-8;base64,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\" style=\"position:absolute;width:100%;height:100%;left:0;top:0;border:none !important;\" allowfullscreen webkitallowfullscreen mozallowfullscreen></iframe></div></div>"
      ],
      "text/plain": [
       "<folium.folium.Map at 0x138d7ba8>"
      ]
     },
     "execution_count": 24,
     "metadata": {},
     "output_type": "execute_result"
    }
   ],
   "source": [
    "# initialize the Folium map on the centre of the selected locations, play with the zoom until ok\n",
    "fmap = folium.Map(location=[df['lat'].mean(), df['lon'].mean()], zoom_start=12)\n",
    "marker_cluster = MarkerCluster().add_to(fmap)\n",
    "for loc in range(0, len(loclist)):\n",
    "    folium.Marker(loclist[loc], popup=df['boornummer'][loc]).add_to(marker_cluster)\n",
    "fmap\n"
   ]
  },
  {
   "cell_type": "code",
   "execution_count": null,
   "metadata": {},
   "outputs": [],
   "source": []
  }
 ],
 "metadata": {
  "kernelspec": {
   "display_name": "Python 3",
   "language": "python",
   "name": "python3"
  },
  "language_info": {
   "codemirror_mode": {
    "name": "ipython",
    "version": 3
   },
   "file_extension": ".py",
   "mimetype": "text/x-python",
   "name": "python",
   "nbconvert_exporter": "python",
   "pygments_lexer": "ipython3",
   "version": "3.6.4"
  }
 },
 "nbformat": 4,
 "nbformat_minor": 2
}
