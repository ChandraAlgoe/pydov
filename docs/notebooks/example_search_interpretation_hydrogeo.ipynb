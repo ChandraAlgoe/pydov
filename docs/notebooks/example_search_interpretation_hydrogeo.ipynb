{
 "cells": [
  {
   "cell_type": "markdown",
   "metadata": {},
   "source": [
    "# Example of DOV search methods for hydrogeological interpretations\n",
    "\n",
    "@pjhaest\n",
    "date 20180515"
   ]
  },
  {
   "cell_type": "markdown",
   "metadata": {},
   "source": [
    "## Use cases:\n",
    "* Select interpretations in a bbox\n",
    "* Select interpretations in a bbox with selected properties\n",
    "* Select interpretations in a municipality"
   ]
  },
  {
   "cell_type": "code",
   "execution_count": 1,
   "metadata": {},
   "outputs": [],
   "source": [
    "%matplotlib inline\n",
    "import os, sys\n",
    "import inspect"
   ]
  },
  {
   "cell_type": "code",
   "execution_count": 2,
   "metadata": {},
   "outputs": [
    {
     "name": "stdout",
     "output_type": "stream",
     "text": [
      "['c:\\\\_workingdir\\\\pydov\\\\pydov']\n"
     ]
    }
   ],
   "source": [
    "# check pydov path\n",
    "import pydov\n",
    "print(pydov.__path__)"
   ]
  },
  {
   "cell_type": "markdown",
   "metadata": {},
   "source": [
    "## Get information about code base"
   ]
  },
  {
   "cell_type": "code",
   "execution_count": 1,
   "metadata": {},
   "outputs": [
    {
     "name": "stdout",
     "output_type": "stream",
     "text": [
      "De hydrostratigrafie geeft, op basis van de (gecodeerde) lithologie, een indeling weer naar de al dan niet watervoerende eigenschappen van een bepaald beschreven diepte-interval. Deze interpretatie respecteert de lithostratigrafie van het Tertiair, maar deelt deze anders in. De hiervoor gebruikte standaard is de Hydrogeologische Codering van de Ondergrond van Vlaanderen (HCOV). Deze kan beschouwd worden als de officiele hydrogeologische codering voor het Vlaams Gewest.\n"
     ]
    }
   ],
   "source": [
    "from pydov.search.interpretaties import HydrogeologischeStratigrafieSearch\n",
    "ip_hydrogeo = HydrogeologischeStratigrafieSearch()\n",
    "\n",
    "# information about the HydrogeologischeStratigrafie type (In Dutch):\n",
    "print(ip_hydrogeo.get_description())"
   ]
  },
  {
   "cell_type": "code",
   "execution_count": 4,
   "metadata": {},
   "outputs": [
    {
     "name": "stderr",
     "output_type": "stream",
     "text": [
      "C:\\ProgramData\\Anaconda3\\lib\\site-packages\\owslib\\iso.py:117: FutureWarning: the .identification and .serviceidentification properties will merge into .identification being a list of properties.  This is currently implemented in .identificationinfo.  Please see https://github.com/geopython/OWSLib/issues/38 for more information\n",
      "  FutureWarning)\n"
     ]
    },
    {
     "name": "stdout",
     "output_type": "stream",
     "text": [
      "generated_id\n",
      "pkey_interpretatie\n",
      "Type_proef\n",
      "Proefnummer\n",
      "Proeffiche\n",
      "X_mL72\n",
      "Y_mL72\n",
      "Z_mTAW\n",
      "gemeente\n",
      "Auteurs\n",
      "Datum\n",
      "Opdrachten\n",
      "betrouwbaarheid_interpretatie\n",
      "Geldig_van\n",
      "Geldig_tot\n",
      "diepte_laag_van\n",
      "diepte_laag_tot\n",
      "aquifer\n",
      "pkey_boring\n",
      "pkey_sondering\n"
     ]
    }
   ],
   "source": [
    "# information about the available fields for a HydrogeologischeStratigrafie object\n",
    "fields = ip_hydrogeo.get_fields()\n",
    "# print available fields\n",
    "for f in fields.values():\n",
    "    print(f['name'])"
   ]
  },
  {
   "cell_type": "code",
   "execution_count": 5,
   "metadata": {},
   "outputs": [
    {
     "data": {
      "text/plain": [
       "{'cost': 10,\n",
       " 'definition': 'code van de watervoerende laag waarin de laag Hydrogeologische stratigrafie zich bevindt.',\n",
       " 'name': 'aquifer',\n",
       " 'notnull': False,\n",
       " 'type': 'string'}"
      ]
     },
     "execution_count": 5,
     "metadata": {},
     "output_type": "execute_result"
    }
   ],
   "source": [
    "# print information for a certain field\n",
    "fields['aquifer']"
   ]
  },
  {
   "cell_type": "markdown",
   "metadata": {},
   "source": [
    "The cost is an arbitrary attribute to indicate if the information is retrieved from a wfs query (cost = 1), \n",
    "or from an xml (cost = 10)"
   ]
  },
  {
   "cell_type": "code",
   "execution_count": 13,
   "metadata": {},
   "outputs": [
    {
     "data": {
      "text/plain": [
       "{'cost': 1,\n",
       " 'definition': 'Het type van de proef waarvan de hydrogeologische stratigrafie een interpretatie is.',\n",
       " 'name': 'Type_proef',\n",
       " 'notnull': False,\n",
       " 'type': 'string',\n",
       " 'values': ['Boring', 'Sondering']}"
      ]
     },
     "execution_count": 13,
     "metadata": {},
     "output_type": "execute_result"
    }
   ],
   "source": [
    "# if an attribute can have several values, these are listed under 'values', e.g. for 'Type_proef':\n",
    "fields['Type_proef']"
   ]
  },
  {
   "cell_type": "markdown",
   "metadata": {},
   "source": [
    "## Try-out of use cases"
   ]
  },
  {
   "cell_type": "markdown",
   "metadata": {},
   "source": [
    "### Select interpretations in a bbox"
   ]
  },
  {
   "cell_type": "code",
   "execution_count": 6,
   "metadata": {},
   "outputs": [
    {
     "name": "stdout",
     "output_type": "stream",
     "text": [
      "                                  pkey_interpretatie  \\\n",
      "0  https://www.dov.vlaanderen.be/data/interpretat...   \n",
      "1  https://www.dov.vlaanderen.be/data/interpretat...   \n",
      "\n",
      "                                         pkey_boring pkey_sondering  \\\n",
      "0  https://www.dov.vlaanderen.be/data/boring/1974...           None   \n",
      "1  https://www.dov.vlaanderen.be/data/boring/1974...           None   \n",
      "\n",
      "  betrouwbaarheid_interpretatie  diepte_laag_van  diepte_laag_tot aquifer  \n",
      "0                          goed              0.0              2.5    0152  \n",
      "1                          goed              2.5              7.0    0254  \n"
     ]
    }
   ],
   "source": [
    "# Get all borehole data in a bounding box (llx, lly, ulx, uly)\n",
    "# the pkey_boring link is not available below, but is in the df\n",
    "df = ip_hydrogeo.search(location=(153145, 206930, 153150, 206935))\n",
    "print(df.head())"
   ]
  },
  {
   "cell_type": "markdown",
   "metadata": {},
   "source": [
    "### Select interpretations in a bbox with selected properties"
   ]
  },
  {
   "cell_type": "code",
   "execution_count": 7,
   "metadata": {},
   "outputs": [
    {
     "name": "stdout",
     "output_type": "stream",
     "text": [
      "['PropertyIsBetween', 'PropertyIsEqualTo', 'PropertyIsGreaterThan', 'PropertyIsGreaterThanOrEqualTo', 'PropertyIsLessThan', 'PropertyIsLessThanOrEqualTo', 'PropertyIsLike', 'PropertyIsNotEqualTo', 'PropertyIsNull', 'SortProperty']\n"
     ]
    }
   ],
   "source": [
    "# list available query methods\n",
    "methods = [i for i,j in inspect.getmembers(sys.modules['owslib.fes'], \n",
    "                                           inspect.isclass) \n",
    "           if 'Property' in i]\n",
    "print(methods)\n",
    "from owslib.fes import PropertyIsGreaterThanOrEqualTo"
   ]
  },
  {
   "cell_type": "markdown",
   "metadata": {},
   "source": [
    "The property feature methodes listed above are available from the owslib module. These were not adapted for use in pydov."
   ]
  },
  {
   "cell_type": "code",
   "execution_count": 8,
   "metadata": {},
   "outputs": [
    {
     "name": "stdout",
     "output_type": "stream",
     "text": [
      "                                  pkey_interpretatie  \\\n",
      "0  https://www.dov.vlaanderen.be/data/interpretat...   \n",
      "1  https://www.dov.vlaanderen.be/data/interpretat...   \n",
      "\n",
      "                                         pkey_boring pkey_sondering  \\\n",
      "0  https://www.dov.vlaanderen.be/data/boring/1974...           None   \n",
      "1  https://www.dov.vlaanderen.be/data/boring/1974...           None   \n",
      "\n",
      "  betrouwbaarheid_interpretatie  diepte_laag_van  diepte_laag_tot aquifer  \n",
      "0                          goed              0.0              2.5    0152  \n",
      "1                          goed              2.5              7.0    0254  \n"
     ]
    }
   ],
   "source": [
    "# Get deep boreholes in a bounding box \n",
    "from owslib.fes import PropertyIsEqualTo\n",
    "# the propertyname can be any of the fields of the hydrogeological interpretations object that belong to the wfs source\n",
    "# the literal is always a string, no matter what its definition is in the boring object (string, float...)\n",
    "query = PropertyIsGreaterThanOrEqualTo(\n",
    "        propertyname='betrouwbaarheid_interpretatie', literal='goed')\n",
    "df = ip_hydrogeo.search(location=(153145, 206930, 153150, 206935),\n",
    "                        query=query\n",
    "                       )\n",
    "print(df.head())"
   ]
  },
  {
   "cell_type": "markdown",
   "metadata": {},
   "source": [
    "### Select interpretations in a municipality"
   ]
  },
  {
   "cell_type": "code",
   "execution_count": 10,
   "metadata": {},
   "outputs": [
    {
     "name": "stdout",
     "output_type": "stream",
     "text": [
      "                                  pkey_interpretatie  \\\n",
      "0  https://www.dov.vlaanderen.be/data/interpretat...   \n",
      "1  https://www.dov.vlaanderen.be/data/interpretat...   \n",
      "2  https://www.dov.vlaanderen.be/data/interpretat...   \n",
      "3  https://www.dov.vlaanderen.be/data/interpretat...   \n",
      "4  https://www.dov.vlaanderen.be/data/interpretat...   \n",
      "\n",
      "                                         pkey_boring pkey_sondering  \\\n",
      "0  https://www.dov.vlaanderen.be/data/boring/1950...           None   \n",
      "1  https://www.dov.vlaanderen.be/data/boring/1950...           None   \n",
      "2  https://www.dov.vlaanderen.be/data/boring/1878...           None   \n",
      "3  https://www.dov.vlaanderen.be/data/boring/1878...           None   \n",
      "4  https://www.dov.vlaanderen.be/data/boring/1891...           None   \n",
      "\n",
      "  betrouwbaarheid_interpretatie  diepte_laag_van  diepte_laag_tot aquifer  \n",
      "0                          goed              0.0            49.00    0300  \n",
      "1                          goed             49.0            59.00    0400  \n",
      "2                          goed              0.0             2.50    0151  \n",
      "3                          goed              2.5             3.05    0254  \n",
      "4                          goed              0.0            28.50    0300  \n"
     ]
    }
   ],
   "source": [
    "query = PropertyIsEqualTo(propertyname='gemeente',\n",
    "                          literal='Aartselaar')\n",
    "df = ip_hydrogeo.search(query=query)\n",
    "print(df.head())"
   ]
  },
  {
   "cell_type": "markdown",
   "metadata": {},
   "source": [
    "### Get interpretations using info from wfs fields, not available in the standard output dataframe"
   ]
  },
  {
   "cell_type": "markdown",
   "metadata": {},
   "source": [
    "To keep the dataframe size acceptable, not all wfs fields are included in the standard output. However, one can use this information to select interpretations as illustrated below.\n",
    "The available wfs fields can be viewed in the object catalog of the 'Hydrogeologische stratigrafie' wfs service, on-line [2018 05 16]: https://www.dov.vlaanderen.be/geonetwork/apps/tabsearch/index.html?hl=dut.\n",
    "For example, make a selection of the interpretations in municipality the of Antwerp that were derived from cpt data"
   ]
  },
  {
   "cell_type": "code",
   "execution_count": 17,
   "metadata": {},
   "outputs": [
    {
     "name": "stdout",
     "output_type": "stream",
     "text": [
      "                                  pkey_interpretatie  \\\n",
      "0  https://www.dov.vlaanderen.be/data/interpretat...   \n",
      "1  https://www.dov.vlaanderen.be/data/interpretat...   \n",
      "2  https://www.dov.vlaanderen.be/data/interpretat...   \n",
      "3  https://www.dov.vlaanderen.be/data/interpretat...   \n",
      "4  https://www.dov.vlaanderen.be/data/interpretat...   \n",
      "\n",
      "                                         pkey_boring pkey_sondering  \\\n",
      "0  https://www.dov.vlaanderen.be/data/boring/1959...           None   \n",
      "1  https://www.dov.vlaanderen.be/data/boring/1959...           None   \n",
      "2  https://www.dov.vlaanderen.be/data/boring/1959...           None   \n",
      "3  https://www.dov.vlaanderen.be/data/boring/1959...           None   \n",
      "4  https://www.dov.vlaanderen.be/data/boring/1959...           None   \n",
      "\n",
      "  betrouwbaarheid_interpretatie  diepte_laag_van  diepte_laag_tot aquifer  \n",
      "0                          goed              0.0              3.5    0100  \n",
      "1                          goed              3.5              8.5    0233  \n",
      "2                          goed              8.5             13.7    0241  \n",
      "3                          goed             13.7             31.3    0251  \n",
      "4                          goed              0.0              3.5    0133  \n"
     ]
    }
   ],
   "source": [
    "from owslib.fes import And\n",
    "query = And([PropertyIsEqualTo(propertyname='gemeente',\n",
    "                               literal='Antwerpen'),\n",
    "             PropertyIsEqualTo(propertyname='Type_proef', \n",
    "                               literal='Boring')]\n",
    "            )\n",
    "df = ip_hydrogeo.search(query=query)\n",
    "print(df.head())"
   ]
  }
 ],
 "metadata": {
  "kernelspec": {
   "display_name": "Python 3",
   "language": "python",
   "name": "python3"
  },
  "language_info": {
   "codemirror_mode": {
    "name": "ipython",
    "version": 3
   },
   "file_extension": ".py",
   "mimetype": "text/x-python",
   "name": "python",
   "nbconvert_exporter": "python",
   "pygments_lexer": "ipython3",
   "version": "3.6.4"
  }
 },
 "nbformat": 4,
 "nbformat_minor": 2
}
