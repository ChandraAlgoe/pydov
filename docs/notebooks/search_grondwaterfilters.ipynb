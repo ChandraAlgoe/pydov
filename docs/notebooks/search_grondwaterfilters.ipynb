{
 "cells": [
  {
   "cell_type": "markdown",
   "metadata": {},
   "source": [
    "# Example of DOV search methods for groundwater screens (grondwaterfilters)\n"
   ]
  },
  {
   "cell_type": "markdown",
   "metadata": {},
   "source": [
    "## Use cases:\n",
    "* Get groundwater screens in a bounding box\n",
    "* Get groundwater screens with specific properties\n",
    "* Get the coordinates of all groundwater screens in Ghent\n",
    "* Get the 'meetnet' and 'meetnet_code' for groundwater screens in Boortmeerbeek\n",
    "* Get all details of groundwaterscreens of 'meetnet 9' within the given bounding box\n",
    "* Get groundwater screens based on a combination of specific properties"
   ]
  },
  {
   "cell_type": "code",
   "execution_count": 1,
   "metadata": {
    "collapsed": true
   },
   "outputs": [],
   "source": [
    "%matplotlib inline\n",
    "import inspect, sys"
   ]
  },
  {
   "cell_type": "code",
   "execution_count": 2,
   "metadata": {
    "collapsed": true
   },
   "outputs": [],
   "source": [
    "# check pydov path\n",
    "import pydov"
   ]
  },
  {
   "cell_type": "markdown",
   "metadata": {},
   "source": [
    "## Get information about the datatype 'GrondwaterFilter'"
   ]
  },
  {
   "cell_type": "code",
   "execution_count": 3,
   "metadata": {
    "collapsed": true
   },
   "outputs": [],
   "source": [
    "from pydov.search.grondwaterfilter import GrondwaterFilterSearch\n",
    "gwfilter = GrondwaterFilterSearch()"
   ]
  },
  {
   "cell_type": "markdown",
   "metadata": {},
   "source": [
    "A description is provided for the 'GrondwaterFilter' datatype:"
   ]
  },
  {
   "cell_type": "code",
   "execution_count": 4,
   "metadata": {},
   "outputs": [
    {
     "data": {
      "text/plain": [
       "\"In de Databank Ondergrond Vlaanderen zijn verschillende grondwatermeetnetten opgenomen. Deze meetnetten staan in functie van uitgebreide monitoringprogramma's met de bedoeling een goed beeld te krijgen van de beschikbare grondwaterkwantiteit en grondwaterkwaliteit van de watervoerende lagen in Vlaanderen.\""
      ]
     },
     "execution_count": 4,
     "metadata": {},
     "output_type": "execute_result"
    }
   ],
   "source": [
    "gwfilter.get_description()"
   ]
  },
  {
   "cell_type": "markdown",
   "metadata": {},
   "source": [
    "The different fields that are available for objects of the 'GrondwaterFilter' datatype can be requested with the get_fields() method:"
   ]
  },
  {
   "cell_type": "code",
   "execution_count": 5,
   "metadata": {},
   "outputs": [
    {
     "name": "stderr",
     "output_type": "stream",
     "text": [
      "/home/stijn_vanhoey/.pyenv/versions/miniconda3-4.3.11/envs/inbobase/lib/python3.5/site-packages/owslib/iso.py:116: FutureWarning: the .identification and .serviceidentification properties will merge into .identification being a list of properties.  This is currently implemented in .identificationinfo.  Please see https://github.com/geopython/OWSLib/issues/38 for more information\n",
      "  FutureWarning)\n"
     ]
    },
    {
     "name": "stdout",
     "output_type": "stream",
     "text": [
      "boringfiche\n",
      "meetnet\n",
      "peilmetingen_tot\n",
      "meetnet_code\n",
      "beschrijving_ligging\n",
      "methode\n",
      "boornummer\n",
      "deelgemeente\n",
      "regime\n",
      "namen_grondwaterlocatie\n",
      "peil_mtaw\n",
      "oxidatie_reductie\n",
      "filternummer\n",
      "datum\n",
      "gemeente\n",
      "aquifer\n",
      "pkey_filter\n",
      "filtergrafiek\n",
      "gw_id\n",
      "peilmetingen_van\n",
      "diepte_onderkant_filter\n",
      "pkey_grondwaterlocatie\n",
      "generated_id\n",
      "betrouwbaarheid\n",
      "aquifer_code\n",
      "mv_mtaw\n",
      "tijdstip\n",
      "filtertype\n",
      "x\n",
      "grondwaterlichaam\n",
      "Z_mTAW\n",
      "lengte_filter\n",
      "stijghoogte\n",
      "y\n",
      "analyse\n",
      "putgrafiek\n",
      "grondwaterlichaam_code\n"
     ]
    }
   ],
   "source": [
    "fields = gwfilter.get_fields()\n",
    "\n",
    "# print available fields\n",
    "for f in fields.values():\n",
    "    print(f['name'])"
   ]
  },
  {
   "cell_type": "markdown",
   "metadata": {},
   "source": [
    "You can get more information of a field by requesting it from the fields dictionary:\n",
    "* *name*: name of the field\n",
    "* *definition*: definition of this field\n",
    "* *cost*: currently this is either 1 or 10, depending on the datasource of the field. It is an indication of the expected time it will take to retrieve this field in the output dataframe.\n",
    "* *notnull*: whether the field is mandatory or not\n",
    "* *type*: datatype of the values of this field"
   ]
  },
  {
   "cell_type": "code",
   "execution_count": 6,
   "metadata": {},
   "outputs": [
    {
     "data": {
      "text/plain": [
       "{'cost': 1,\n",
       " 'definition': 'De aquifer waarin de filter hangt. Als tekst, opgebouwd uit de HCOV code (vier karakters) en de naam gescheiden door \" - \".',\n",
       " 'name': 'aquifer',\n",
       " 'notnull': False,\n",
       " 'type': 'string'}"
      ]
     },
     "execution_count": 6,
     "metadata": {},
     "output_type": "execute_result"
    }
   ],
   "source": [
    "# print information for a certain field\n",
    "fields['aquifer']"
   ]
  },
  {
   "cell_type": "markdown",
   "metadata": {},
   "source": [
    "Optionally, if the values of the field have a specific domain the possible values are listed as *values*:"
   ]
  },
  {
   "cell_type": "code",
   "execution_count": 7,
   "metadata": {},
   "outputs": [
    {
     "data": {
      "text/plain": [
       "['oxidatie', 'reductie', 'mengzone', 'onbekend']"
      ]
     },
     "execution_count": 7,
     "metadata": {},
     "output_type": "execute_result"
    }
   ],
   "source": [
    "# if an attribute can have several values, these are listed under 'values', e.g. for 'methode':\n",
    "fields['oxidatie_reductie']['values']"
   ]
  },
  {
   "cell_type": "markdown",
   "metadata": {},
   "source": [
    "## Example use cases"
   ]
  },
  {
   "cell_type": "markdown",
   "metadata": {},
   "source": [
    "### Get groundwater screens in a bounding box"
   ]
  },
  {
   "cell_type": "markdown",
   "metadata": {},
   "source": [
    "Get data for all the groundwater screens that are geographically located within the bounds of the specified box.\n",
    "\n",
    "The coordinates are in the Belgian Lambert72 (EPSG:31370) coordinate system and are given in the order of lower left x, lower left y, upper right x, upper right y."
   ]
  },
  {
   "cell_type": "code",
   "execution_count": 8,
   "metadata": {},
   "outputs": [
    {
     "data": {
      "text/html": [
       "<div>\n",
       "<style scoped>\n",
       "    .dataframe tbody tr th:only-of-type {\n",
       "        vertical-align: middle;\n",
       "    }\n",
       "\n",
       "    .dataframe tbody tr th {\n",
       "        vertical-align: top;\n",
       "    }\n",
       "\n",
       "    .dataframe thead th {\n",
       "        text-align: right;\n",
       "    }\n",
       "</style>\n",
       "<table border=\"1\" class=\"dataframe\">\n",
       "  <thead>\n",
       "    <tr style=\"text-align: right;\">\n",
       "      <th></th>\n",
       "      <th>pkey_filter</th>\n",
       "      <th>pkey_grondwaterlocatie</th>\n",
       "      <th>gw_id</th>\n",
       "      <th>filternummer</th>\n",
       "      <th>filtertype</th>\n",
       "      <th>x</th>\n",
       "      <th>y</th>\n",
       "      <th>mv_mtaw</th>\n",
       "      <th>gemeente</th>\n",
       "      <th>meetnet_code</th>\n",
       "      <th>aquifer_code</th>\n",
       "      <th>grondwaterlichaam_code</th>\n",
       "      <th>regime</th>\n",
       "      <th>diepte_onderkant_filter</th>\n",
       "      <th>lengte_filter</th>\n",
       "      <th>datum</th>\n",
       "      <th>tijdstip</th>\n",
       "      <th>peil_mtaw</th>\n",
       "      <th>betrouwbaarheid</th>\n",
       "      <th>methode</th>\n",
       "    </tr>\n",
       "  </thead>\n",
       "  <tbody>\n",
       "    <tr>\n",
       "      <th>0</th>\n",
       "      <td>https://www.dov.vlaanderen.be/data/filter/1999...</td>\n",
       "      <td>https://www.dov.vlaanderen.be/data/put/2017-00...</td>\n",
       "      <td>SWPP008</td>\n",
       "      <td>1</td>\n",
       "      <td>peilfilter</td>\n",
       "      <td>93961.296875</td>\n",
       "      <td>169668.296875</td>\n",
       "      <td>NaN</td>\n",
       "      <td>Wortegem-Petegem</td>\n",
       "      <td>9</td>\n",
       "      <td>0100</td>\n",
       "      <td>NaN</td>\n",
       "      <td>freatisch</td>\n",
       "      <td>NaN</td>\n",
       "      <td>NaN</td>\n",
       "      <td>1999-04-13</td>\n",
       "      <td>NaN</td>\n",
       "      <td>12.65</td>\n",
       "      <td>onbekend</td>\n",
       "      <td>NaN</td>\n",
       "    </tr>\n",
       "    <tr>\n",
       "      <th>1</th>\n",
       "      <td>https://www.dov.vlaanderen.be/data/filter/1999...</td>\n",
       "      <td>https://www.dov.vlaanderen.be/data/put/2017-00...</td>\n",
       "      <td>SWPP008</td>\n",
       "      <td>1</td>\n",
       "      <td>peilfilter</td>\n",
       "      <td>93961.296875</td>\n",
       "      <td>169668.296875</td>\n",
       "      <td>NaN</td>\n",
       "      <td>Wortegem-Petegem</td>\n",
       "      <td>9</td>\n",
       "      <td>0100</td>\n",
       "      <td>NaN</td>\n",
       "      <td>freatisch</td>\n",
       "      <td>NaN</td>\n",
       "      <td>NaN</td>\n",
       "      <td>1999-04-14</td>\n",
       "      <td>NaN</td>\n",
       "      <td>12.27</td>\n",
       "      <td>onbekend</td>\n",
       "      <td>NaN</td>\n",
       "    </tr>\n",
       "    <tr>\n",
       "      <th>2</th>\n",
       "      <td>https://www.dov.vlaanderen.be/data/filter/1999...</td>\n",
       "      <td>https://www.dov.vlaanderen.be/data/put/2017-00...</td>\n",
       "      <td>SWPP008</td>\n",
       "      <td>1</td>\n",
       "      <td>peilfilter</td>\n",
       "      <td>93961.296875</td>\n",
       "      <td>169668.296875</td>\n",
       "      <td>NaN</td>\n",
       "      <td>Wortegem-Petegem</td>\n",
       "      <td>9</td>\n",
       "      <td>0100</td>\n",
       "      <td>NaN</td>\n",
       "      <td>freatisch</td>\n",
       "      <td>NaN</td>\n",
       "      <td>NaN</td>\n",
       "      <td>1999-04-22</td>\n",
       "      <td>NaN</td>\n",
       "      <td>12.38</td>\n",
       "      <td>onbekend</td>\n",
       "      <td>NaN</td>\n",
       "    </tr>\n",
       "    <tr>\n",
       "      <th>3</th>\n",
       "      <td>https://www.dov.vlaanderen.be/data/filter/1999...</td>\n",
       "      <td>https://www.dov.vlaanderen.be/data/put/2017-00...</td>\n",
       "      <td>SWPP008</td>\n",
       "      <td>1</td>\n",
       "      <td>peilfilter</td>\n",
       "      <td>93961.296875</td>\n",
       "      <td>169668.296875</td>\n",
       "      <td>NaN</td>\n",
       "      <td>Wortegem-Petegem</td>\n",
       "      <td>9</td>\n",
       "      <td>0100</td>\n",
       "      <td>NaN</td>\n",
       "      <td>freatisch</td>\n",
       "      <td>NaN</td>\n",
       "      <td>NaN</td>\n",
       "      <td>1999-05-06</td>\n",
       "      <td>NaN</td>\n",
       "      <td>12.17</td>\n",
       "      <td>onbekend</td>\n",
       "      <td>NaN</td>\n",
       "    </tr>\n",
       "    <tr>\n",
       "      <th>4</th>\n",
       "      <td>https://www.dov.vlaanderen.be/data/filter/1999...</td>\n",
       "      <td>https://www.dov.vlaanderen.be/data/put/2017-00...</td>\n",
       "      <td>SWPP008</td>\n",
       "      <td>1</td>\n",
       "      <td>peilfilter</td>\n",
       "      <td>93961.296875</td>\n",
       "      <td>169668.296875</td>\n",
       "      <td>NaN</td>\n",
       "      <td>Wortegem-Petegem</td>\n",
       "      <td>9</td>\n",
       "      <td>0100</td>\n",
       "      <td>NaN</td>\n",
       "      <td>freatisch</td>\n",
       "      <td>NaN</td>\n",
       "      <td>NaN</td>\n",
       "      <td>1999-05-18</td>\n",
       "      <td>NaN</td>\n",
       "      <td>12.04</td>\n",
       "      <td>onbekend</td>\n",
       "      <td>NaN</td>\n",
       "    </tr>\n",
       "  </tbody>\n",
       "</table>\n",
       "</div>"
      ],
      "text/plain": [
       "                                         pkey_filter  \\\n",
       "0  https://www.dov.vlaanderen.be/data/filter/1999...   \n",
       "1  https://www.dov.vlaanderen.be/data/filter/1999...   \n",
       "2  https://www.dov.vlaanderen.be/data/filter/1999...   \n",
       "3  https://www.dov.vlaanderen.be/data/filter/1999...   \n",
       "4  https://www.dov.vlaanderen.be/data/filter/1999...   \n",
       "\n",
       "                              pkey_grondwaterlocatie    gw_id filternummer  \\\n",
       "0  https://www.dov.vlaanderen.be/data/put/2017-00...  SWPP008            1   \n",
       "1  https://www.dov.vlaanderen.be/data/put/2017-00...  SWPP008            1   \n",
       "2  https://www.dov.vlaanderen.be/data/put/2017-00...  SWPP008            1   \n",
       "3  https://www.dov.vlaanderen.be/data/put/2017-00...  SWPP008            1   \n",
       "4  https://www.dov.vlaanderen.be/data/put/2017-00...  SWPP008            1   \n",
       "\n",
       "   filtertype             x              y  mv_mtaw          gemeente  \\\n",
       "0  peilfilter  93961.296875  169668.296875      NaN  Wortegem-Petegem   \n",
       "1  peilfilter  93961.296875  169668.296875      NaN  Wortegem-Petegem   \n",
       "2  peilfilter  93961.296875  169668.296875      NaN  Wortegem-Petegem   \n",
       "3  peilfilter  93961.296875  169668.296875      NaN  Wortegem-Petegem   \n",
       "4  peilfilter  93961.296875  169668.296875      NaN  Wortegem-Petegem   \n",
       "\n",
       "   meetnet_code aquifer_code  grondwaterlichaam_code     regime  \\\n",
       "0             9         0100                     NaN  freatisch   \n",
       "1             9         0100                     NaN  freatisch   \n",
       "2             9         0100                     NaN  freatisch   \n",
       "3             9         0100                     NaN  freatisch   \n",
       "4             9         0100                     NaN  freatisch   \n",
       "\n",
       "   diepte_onderkant_filter  lengte_filter       datum  tijdstip  peil_mtaw  \\\n",
       "0                      NaN            NaN  1999-04-13       NaN      12.65   \n",
       "1                      NaN            NaN  1999-04-14       NaN      12.27   \n",
       "2                      NaN            NaN  1999-04-22       NaN      12.38   \n",
       "3                      NaN            NaN  1999-05-06       NaN      12.17   \n",
       "4                      NaN            NaN  1999-05-18       NaN      12.04   \n",
       "\n",
       "  betrouwbaarheid  methode  \n",
       "0        onbekend      NaN  \n",
       "1        onbekend      NaN  \n",
       "2        onbekend      NaN  \n",
       "3        onbekend      NaN  \n",
       "4        onbekend      NaN  "
      ]
     },
     "execution_count": 8,
     "metadata": {},
     "output_type": "execute_result"
    }
   ],
   "source": [
    "df = gwfilter.search(location=(93378, 168009, 94246, 169873))\n",
    "df.head()"
   ]
  },
  {
   "cell_type": "markdown",
   "metadata": {},
   "source": [
    "Using the *pkey* attributes one can request the details of the corresponding *put* or *filter* in a webbrowser:"
   ]
  },
  {
   "cell_type": "code",
   "execution_count": 9,
   "metadata": {},
   "outputs": [
    {
     "name": "stdout",
     "output_type": "stream",
     "text": [
      "https://www.dov.vlaanderen.be/data/put/2017-002868\n",
      "https://www.dov.vlaanderen.be/data/put/2017-002867\n",
      "https://www.dov.vlaanderen.be/data/put/2017-002866\n",
      "https://www.dov.vlaanderen.be/data/filter/1999-000607\n",
      "https://www.dov.vlaanderen.be/data/filter/1999-000606\n",
      "https://www.dov.vlaanderen.be/data/filter/1999-000605\n"
     ]
    }
   ],
   "source": [
    "for pkey_grondwaterlocatie in set(df.pkey_grondwaterlocatie):\n",
    "    print(pkey_grondwaterlocatie)\n",
    "\n",
    "for pkey_filter in set(df.pkey_filter):\n",
    "    print(pkey_filter)"
   ]
  },
  {
   "cell_type": "markdown",
   "metadata": {},
   "source": [
    "### Get groundwater screens with specific properties"
   ]
  },
  {
   "cell_type": "markdown",
   "metadata": {},
   "source": [
    "Next to querying groundwater screens based on their geographic location within a bounding box, we can also search for groundwater screens matching a specific set of properties. For this we can build a query using a combination of the 'GrondwaterFilter' fields and operators provided by the WFS protocol.\n",
    "\n",
    "A list of possible operators can be found below:"
   ]
  },
  {
   "cell_type": "code",
   "execution_count": 10,
   "metadata": {},
   "outputs": [
    {
     "data": {
      "text/plain": [
       "['PropertyIsBetween',\n",
       " 'PropertyIsEqualTo',\n",
       " 'PropertyIsGreaterThan',\n",
       " 'PropertyIsGreaterThanOrEqualTo',\n",
       " 'PropertyIsLessThan',\n",
       " 'PropertyIsLessThanOrEqualTo',\n",
       " 'PropertyIsLike',\n",
       " 'PropertyIsNotEqualTo',\n",
       " 'PropertyIsNull',\n",
       " 'SortProperty']"
      ]
     },
     "execution_count": 10,
     "metadata": {},
     "output_type": "execute_result"
    }
   ],
   "source": [
    "[i for i,j in inspect.getmembers(sys.modules['owslib.fes'], inspect.isclass) if 'Property' in i]"
   ]
  },
  {
   "cell_type": "markdown",
   "metadata": {},
   "source": [
    "In this example we build a query using the *PropertyIsEqualTo* operator to find all groundwater screens that are within the community (gemeente) of 'Hamme':"
   ]
  },
  {
   "cell_type": "code",
   "execution_count": 11,
   "metadata": {},
   "outputs": [
    {
     "data": {
      "text/html": [
       "<div>\n",
       "<style scoped>\n",
       "    .dataframe tbody tr th:only-of-type {\n",
       "        vertical-align: middle;\n",
       "    }\n",
       "\n",
       "    .dataframe tbody tr th {\n",
       "        vertical-align: top;\n",
       "    }\n",
       "\n",
       "    .dataframe thead th {\n",
       "        text-align: right;\n",
       "    }\n",
       "</style>\n",
       "<table border=\"1\" class=\"dataframe\">\n",
       "  <thead>\n",
       "    <tr style=\"text-align: right;\">\n",
       "      <th></th>\n",
       "      <th>pkey_filter</th>\n",
       "      <th>pkey_grondwaterlocatie</th>\n",
       "      <th>gw_id</th>\n",
       "      <th>filternummer</th>\n",
       "      <th>filtertype</th>\n",
       "      <th>x</th>\n",
       "      <th>y</th>\n",
       "      <th>mv_mtaw</th>\n",
       "      <th>gemeente</th>\n",
       "      <th>meetnet_code</th>\n",
       "      <th>aquifer_code</th>\n",
       "      <th>grondwaterlichaam_code</th>\n",
       "      <th>regime</th>\n",
       "      <th>diepte_onderkant_filter</th>\n",
       "      <th>lengte_filter</th>\n",
       "      <th>datum</th>\n",
       "      <th>tijdstip</th>\n",
       "      <th>peil_mtaw</th>\n",
       "      <th>betrouwbaarheid</th>\n",
       "      <th>methode</th>\n",
       "    </tr>\n",
       "  </thead>\n",
       "  <tbody>\n",
       "    <tr>\n",
       "      <th>0</th>\n",
       "      <td>https://www.dov.vlaanderen.be/data/filter/2000...</td>\n",
       "      <td>https://www.dov.vlaanderen.be/data/put/2017-00...</td>\n",
       "      <td>MORP001</td>\n",
       "      <td>1</td>\n",
       "      <td>peilfilter</td>\n",
       "      <td>130190.0</td>\n",
       "      <td>196378.0</td>\n",
       "      <td>NaN</td>\n",
       "      <td>Hamme</td>\n",
       "      <td>9</td>\n",
       "      <td>0100</td>\n",
       "      <td>NaN</td>\n",
       "      <td>freatisch</td>\n",
       "      <td>NaN</td>\n",
       "      <td>NaN</td>\n",
       "      <td>2000-12-01</td>\n",
       "      <td>NaN</td>\n",
       "      <td>-0.09</td>\n",
       "      <td>onbekend</td>\n",
       "      <td>NaN</td>\n",
       "    </tr>\n",
       "    <tr>\n",
       "      <th>1</th>\n",
       "      <td>https://www.dov.vlaanderen.be/data/filter/2000...</td>\n",
       "      <td>https://www.dov.vlaanderen.be/data/put/2017-00...</td>\n",
       "      <td>MORP001</td>\n",
       "      <td>1</td>\n",
       "      <td>peilfilter</td>\n",
       "      <td>130190.0</td>\n",
       "      <td>196378.0</td>\n",
       "      <td>NaN</td>\n",
       "      <td>Hamme</td>\n",
       "      <td>9</td>\n",
       "      <td>0100</td>\n",
       "      <td>NaN</td>\n",
       "      <td>freatisch</td>\n",
       "      <td>NaN</td>\n",
       "      <td>NaN</td>\n",
       "      <td>2001-01-04</td>\n",
       "      <td>NaN</td>\n",
       "      <td>-0.10</td>\n",
       "      <td>onbekend</td>\n",
       "      <td>NaN</td>\n",
       "    </tr>\n",
       "    <tr>\n",
       "      <th>2</th>\n",
       "      <td>https://www.dov.vlaanderen.be/data/filter/2000...</td>\n",
       "      <td>https://www.dov.vlaanderen.be/data/put/2017-00...</td>\n",
       "      <td>MORP001</td>\n",
       "      <td>1</td>\n",
       "      <td>peilfilter</td>\n",
       "      <td>130190.0</td>\n",
       "      <td>196378.0</td>\n",
       "      <td>NaN</td>\n",
       "      <td>Hamme</td>\n",
       "      <td>9</td>\n",
       "      <td>0100</td>\n",
       "      <td>NaN</td>\n",
       "      <td>freatisch</td>\n",
       "      <td>NaN</td>\n",
       "      <td>NaN</td>\n",
       "      <td>2001-02-01</td>\n",
       "      <td>NaN</td>\n",
       "      <td>-0.10</td>\n",
       "      <td>onbekend</td>\n",
       "      <td>NaN</td>\n",
       "    </tr>\n",
       "    <tr>\n",
       "      <th>3</th>\n",
       "      <td>https://www.dov.vlaanderen.be/data/filter/2000...</td>\n",
       "      <td>https://www.dov.vlaanderen.be/data/put/2017-00...</td>\n",
       "      <td>MORP001</td>\n",
       "      <td>1</td>\n",
       "      <td>peilfilter</td>\n",
       "      <td>130190.0</td>\n",
       "      <td>196378.0</td>\n",
       "      <td>NaN</td>\n",
       "      <td>Hamme</td>\n",
       "      <td>9</td>\n",
       "      <td>0100</td>\n",
       "      <td>NaN</td>\n",
       "      <td>freatisch</td>\n",
       "      <td>NaN</td>\n",
       "      <td>NaN</td>\n",
       "      <td>2001-03-01</td>\n",
       "      <td>NaN</td>\n",
       "      <td>-0.20</td>\n",
       "      <td>onbekend</td>\n",
       "      <td>NaN</td>\n",
       "    </tr>\n",
       "    <tr>\n",
       "      <th>4</th>\n",
       "      <td>https://www.dov.vlaanderen.be/data/filter/2000...</td>\n",
       "      <td>https://www.dov.vlaanderen.be/data/put/2017-00...</td>\n",
       "      <td>MORP001</td>\n",
       "      <td>1</td>\n",
       "      <td>peilfilter</td>\n",
       "      <td>130190.0</td>\n",
       "      <td>196378.0</td>\n",
       "      <td>NaN</td>\n",
       "      <td>Hamme</td>\n",
       "      <td>9</td>\n",
       "      <td>0100</td>\n",
       "      <td>NaN</td>\n",
       "      <td>freatisch</td>\n",
       "      <td>NaN</td>\n",
       "      <td>NaN</td>\n",
       "      <td>2001-04-02</td>\n",
       "      <td>NaN</td>\n",
       "      <td>-0.14</td>\n",
       "      <td>onbekend</td>\n",
       "      <td>NaN</td>\n",
       "    </tr>\n",
       "  </tbody>\n",
       "</table>\n",
       "</div>"
      ],
      "text/plain": [
       "                                         pkey_filter  \\\n",
       "0  https://www.dov.vlaanderen.be/data/filter/2000...   \n",
       "1  https://www.dov.vlaanderen.be/data/filter/2000...   \n",
       "2  https://www.dov.vlaanderen.be/data/filter/2000...   \n",
       "3  https://www.dov.vlaanderen.be/data/filter/2000...   \n",
       "4  https://www.dov.vlaanderen.be/data/filter/2000...   \n",
       "\n",
       "                              pkey_grondwaterlocatie    gw_id filternummer  \\\n",
       "0  https://www.dov.vlaanderen.be/data/put/2017-00...  MORP001            1   \n",
       "1  https://www.dov.vlaanderen.be/data/put/2017-00...  MORP001            1   \n",
       "2  https://www.dov.vlaanderen.be/data/put/2017-00...  MORP001            1   \n",
       "3  https://www.dov.vlaanderen.be/data/put/2017-00...  MORP001            1   \n",
       "4  https://www.dov.vlaanderen.be/data/put/2017-00...  MORP001            1   \n",
       "\n",
       "   filtertype         x         y  mv_mtaw gemeente  meetnet_code  \\\n",
       "0  peilfilter  130190.0  196378.0      NaN    Hamme             9   \n",
       "1  peilfilter  130190.0  196378.0      NaN    Hamme             9   \n",
       "2  peilfilter  130190.0  196378.0      NaN    Hamme             9   \n",
       "3  peilfilter  130190.0  196378.0      NaN    Hamme             9   \n",
       "4  peilfilter  130190.0  196378.0      NaN    Hamme             9   \n",
       "\n",
       "  aquifer_code grondwaterlichaam_code     regime  diepte_onderkant_filter  \\\n",
       "0         0100                    NaN  freatisch                      NaN   \n",
       "1         0100                    NaN  freatisch                      NaN   \n",
       "2         0100                    NaN  freatisch                      NaN   \n",
       "3         0100                    NaN  freatisch                      NaN   \n",
       "4         0100                    NaN  freatisch                      NaN   \n",
       "\n",
       "   lengte_filter       datum  tijdstip  peil_mtaw betrouwbaarheid  methode  \n",
       "0            NaN  2000-12-01       NaN      -0.09        onbekend      NaN  \n",
       "1            NaN  2001-01-04       NaN      -0.10        onbekend      NaN  \n",
       "2            NaN  2001-02-01       NaN      -0.10        onbekend      NaN  \n",
       "3            NaN  2001-03-01       NaN      -0.20        onbekend      NaN  \n",
       "4            NaN  2001-04-02       NaN      -0.14        onbekend      NaN  "
      ]
     },
     "execution_count": 11,
     "metadata": {},
     "output_type": "execute_result"
    }
   ],
   "source": [
    "from owslib.fes import PropertyIsEqualTo\n",
    "\n",
    "query = PropertyIsEqualTo(\n",
    "            propertyname='gemeente',\n",
    "            literal='Hamme')\n",
    "\n",
    "df = gwfilter.search(query=query)\n",
    "df.head()"
   ]
  },
  {
   "cell_type": "markdown",
   "metadata": {},
   "source": [
    "Once again we can use the *pkey_filter* as a permanent link to the information of the groundwater screens:"
   ]
  },
  {
   "cell_type": "code",
   "execution_count": 12,
   "metadata": {},
   "outputs": [
    {
     "name": "stdout",
     "output_type": "stream",
     "text": [
      "https://www.dov.vlaanderen.be/data/filter/2003-003992\n",
      "https://www.dov.vlaanderen.be/data/filter/2000-000643\n",
      "https://www.dov.vlaanderen.be/data/filter/2003-003997\n",
      "https://www.dov.vlaanderen.be/data/filter/2000-000642\n",
      "https://www.dov.vlaanderen.be/data/filter/2003-004009\n",
      "https://www.dov.vlaanderen.be/data/filter/1991-001040\n",
      "https://www.dov.vlaanderen.be/data/filter/2003-003996\n",
      "https://www.dov.vlaanderen.be/data/filter/2003-005517\n",
      "https://www.dov.vlaanderen.be/data/filter/2003-003990\n",
      "https://www.dov.vlaanderen.be/data/filter/1991-001041\n",
      "https://www.dov.vlaanderen.be/data/filter/2003-004008\n",
      "https://www.dov.vlaanderen.be/data/filter/2003-003995\n",
      "https://www.dov.vlaanderen.be/data/filter/2003-003991\n"
     ]
    }
   ],
   "source": [
    "for pkey_filter in set(df.pkey_filter):\n",
    "    print(pkey_filter)"
   ]
  },
  {
   "cell_type": "markdown",
   "metadata": {},
   "source": [
    "### Get the coordinates of all groundwater screens in Ghent"
   ]
  },
  {
   "cell_type": "code",
   "execution_count": 13,
   "metadata": {},
   "outputs": [
    {
     "data": {
      "text/html": [
       "<div>\n",
       "<style scoped>\n",
       "    .dataframe tbody tr th:only-of-type {\n",
       "        vertical-align: middle;\n",
       "    }\n",
       "\n",
       "    .dataframe tbody tr th {\n",
       "        vertical-align: top;\n",
       "    }\n",
       "\n",
       "    .dataframe thead th {\n",
       "        text-align: right;\n",
       "    }\n",
       "</style>\n",
       "<table border=\"1\" class=\"dataframe\">\n",
       "  <thead>\n",
       "    <tr style=\"text-align: right;\">\n",
       "      <th></th>\n",
       "      <th>pkey_filter</th>\n",
       "      <th>x</th>\n",
       "      <th>y</th>\n",
       "      <th>meetnet</th>\n",
       "    </tr>\n",
       "  </thead>\n",
       "  <tbody>\n",
       "    <tr>\n",
       "      <th>0</th>\n",
       "      <td>https://www.dov.vlaanderen.be/data/filter/1993...</td>\n",
       "      <td>100650.00000</td>\n",
       "      <td>195492.00000</td>\n",
       "      <td>meetnet 9 - peilputten INBO en natuurorganisaties</td>\n",
       "    </tr>\n",
       "    <tr>\n",
       "      <th>1</th>\n",
       "      <td>https://www.dov.vlaanderen.be/data/filter/1993...</td>\n",
       "      <td>100591.00000</td>\n",
       "      <td>195374.00000</td>\n",
       "      <td>meetnet 9 - peilputten INBO en natuurorganisaties</td>\n",
       "    </tr>\n",
       "    <tr>\n",
       "      <th>2</th>\n",
       "      <td>https://www.dov.vlaanderen.be/data/filter/1999...</td>\n",
       "      <td>109175.09375</td>\n",
       "      <td>192819.90625</td>\n",
       "      <td>meetnet 9 - peilputten INBO en natuurorganisaties</td>\n",
       "    </tr>\n",
       "    <tr>\n",
       "      <th>3</th>\n",
       "      <td>https://www.dov.vlaanderen.be/data/filter/1982...</td>\n",
       "      <td>110278.00000</td>\n",
       "      <td>208642.00000</td>\n",
       "      <td>meetnet 4 - externe instanties</td>\n",
       "    </tr>\n",
       "    <tr>\n",
       "      <th>4</th>\n",
       "      <td>https://www.dov.vlaanderen.be/data/filter/1999...</td>\n",
       "      <td>108358.84375</td>\n",
       "      <td>192203.31250</td>\n",
       "      <td>meetnet 9 - peilputten INBO en natuurorganisaties</td>\n",
       "    </tr>\n",
       "  </tbody>\n",
       "</table>\n",
       "</div>"
      ],
      "text/plain": [
       "                                         pkey_filter             x  \\\n",
       "0  https://www.dov.vlaanderen.be/data/filter/1993...  100650.00000   \n",
       "1  https://www.dov.vlaanderen.be/data/filter/1993...  100591.00000   \n",
       "2  https://www.dov.vlaanderen.be/data/filter/1999...  109175.09375   \n",
       "3  https://www.dov.vlaanderen.be/data/filter/1982...  110278.00000   \n",
       "4  https://www.dov.vlaanderen.be/data/filter/1999...  108358.84375   \n",
       "\n",
       "              y                                            meetnet  \n",
       "0  195492.00000  meetnet 9 - peilputten INBO en natuurorganisaties  \n",
       "1  195374.00000  meetnet 9 - peilputten INBO en natuurorganisaties  \n",
       "2  192819.90625  meetnet 9 - peilputten INBO en natuurorganisaties  \n",
       "3  208642.00000                     meetnet 4 - externe instanties  \n",
       "4  192203.31250  meetnet 9 - peilputten INBO en natuurorganisaties  "
      ]
     },
     "execution_count": 13,
     "metadata": {},
     "output_type": "execute_result"
    }
   ],
   "source": [
    "query = PropertyIsEqualTo(propertyname='gemeente',\n",
    "                          literal='Gent')\n",
    "\n",
    "df = gwfilter.search(query=query,\n",
    "                     return_fields=('pkey_filter', 'x', 'y', 'meetnet'))\n",
    "df.head()"
   ]
  },
  {
   "cell_type": "markdown",
   "metadata": {},
   "source": [
    "### Get the 'meetnet' and 'meetnet_code' for groundwater screens in Boortmeerbeek"
   ]
  },
  {
   "cell_type": "code",
   "execution_count": 14,
   "metadata": {},
   "outputs": [
    {
     "data": {
      "text/html": [
       "<div>\n",
       "<style scoped>\n",
       "    .dataframe tbody tr th:only-of-type {\n",
       "        vertical-align: middle;\n",
       "    }\n",
       "\n",
       "    .dataframe tbody tr th {\n",
       "        vertical-align: top;\n",
       "    }\n",
       "\n",
       "    .dataframe thead th {\n",
       "        text-align: right;\n",
       "    }\n",
       "</style>\n",
       "<table border=\"1\" class=\"dataframe\">\n",
       "  <thead>\n",
       "    <tr style=\"text-align: right;\">\n",
       "      <th></th>\n",
       "      <th>pkey_filter</th>\n",
       "      <th>meetnet_code</th>\n",
       "      <th>meetnet</th>\n",
       "    </tr>\n",
       "  </thead>\n",
       "  <tbody>\n",
       "    <tr>\n",
       "      <th>0</th>\n",
       "      <td>https://www.dov.vlaanderen.be/data/filter/1996...</td>\n",
       "      <td>1</td>\n",
       "      <td>meetnet 1 -  primair meetnet - afdeling Water</td>\n",
       "    </tr>\n",
       "    <tr>\n",
       "      <th>1</th>\n",
       "      <td>https://www.dov.vlaanderen.be/data/filter/2003...</td>\n",
       "      <td>8</td>\n",
       "      <td>meetnet 8 - freatisch meetnet - afdeling water</td>\n",
       "    </tr>\n",
       "    <tr>\n",
       "      <th>2</th>\n",
       "      <td>https://www.dov.vlaanderen.be/data/filter/2003...</td>\n",
       "      <td>8</td>\n",
       "      <td>meetnet 8 - freatisch meetnet - afdeling water</td>\n",
       "    </tr>\n",
       "    <tr>\n",
       "      <th>3</th>\n",
       "      <td>https://www.dov.vlaanderen.be/data/filter/1975...</td>\n",
       "      <td>1</td>\n",
       "      <td>meetnet 1 -  primair meetnet - afdeling Water</td>\n",
       "    </tr>\n",
       "    <tr>\n",
       "      <th>4</th>\n",
       "      <td>https://www.dov.vlaanderen.be/data/filter/1900...</td>\n",
       "      <td>3</td>\n",
       "      <td>meetnet 3 - tijdelijk meetnet - afdeling Water</td>\n",
       "    </tr>\n",
       "  </tbody>\n",
       "</table>\n",
       "</div>"
      ],
      "text/plain": [
       "                                         pkey_filter  meetnet_code  \\\n",
       "0  https://www.dov.vlaanderen.be/data/filter/1996...             1   \n",
       "1  https://www.dov.vlaanderen.be/data/filter/2003...             8   \n",
       "2  https://www.dov.vlaanderen.be/data/filter/2003...             8   \n",
       "3  https://www.dov.vlaanderen.be/data/filter/1975...             1   \n",
       "4  https://www.dov.vlaanderen.be/data/filter/1900...             3   \n",
       "\n",
       "                                          meetnet  \n",
       "0   meetnet 1 -  primair meetnet - afdeling Water  \n",
       "1  meetnet 8 - freatisch meetnet - afdeling water  \n",
       "2  meetnet 8 - freatisch meetnet - afdeling water  \n",
       "3   meetnet 1 -  primair meetnet - afdeling Water  \n",
       "4  meetnet 3 - tijdelijk meetnet - afdeling Water  "
      ]
     },
     "execution_count": 14,
     "metadata": {},
     "output_type": "execute_result"
    }
   ],
   "source": [
    "query = PropertyIsEqualTo(propertyname='gemeente',\n",
    "                          literal='Boortmeerbeek')\n",
    "\n",
    "df = gwfilter.search(query=query,\n",
    "                   return_fields=('pkey_filter', 'meetnet', 'meetnet_code'))\n",
    "df.head()"
   ]
  },
  {
   "cell_type": "markdown",
   "metadata": {},
   "source": [
    "### Get all details of groundwaterscreens of 'meetnet 9' within the given bounding box"
   ]
  },
  {
   "cell_type": "code",
   "execution_count": 15,
   "metadata": {},
   "outputs": [
    {
     "data": {
      "text/html": [
       "<div>\n",
       "<style scoped>\n",
       "    .dataframe tbody tr th:only-of-type {\n",
       "        vertical-align: middle;\n",
       "    }\n",
       "\n",
       "    .dataframe tbody tr th {\n",
       "        vertical-align: top;\n",
       "    }\n",
       "\n",
       "    .dataframe thead th {\n",
       "        text-align: right;\n",
       "    }\n",
       "</style>\n",
       "<table border=\"1\" class=\"dataframe\">\n",
       "  <thead>\n",
       "    <tr style=\"text-align: right;\">\n",
       "      <th></th>\n",
       "      <th>pkey_filter</th>\n",
       "      <th>pkey_grondwaterlocatie</th>\n",
       "      <th>gw_id</th>\n",
       "      <th>filternummer</th>\n",
       "      <th>filtertype</th>\n",
       "      <th>x</th>\n",
       "      <th>y</th>\n",
       "      <th>mv_mtaw</th>\n",
       "      <th>gemeente</th>\n",
       "      <th>meetnet_code</th>\n",
       "      <th>aquifer_code</th>\n",
       "      <th>grondwaterlichaam_code</th>\n",
       "      <th>regime</th>\n",
       "      <th>diepte_onderkant_filter</th>\n",
       "      <th>lengte_filter</th>\n",
       "      <th>datum</th>\n",
       "      <th>tijdstip</th>\n",
       "      <th>peil_mtaw</th>\n",
       "      <th>betrouwbaarheid</th>\n",
       "      <th>methode</th>\n",
       "    </tr>\n",
       "  </thead>\n",
       "  <tbody>\n",
       "    <tr>\n",
       "      <th>0</th>\n",
       "      <td>https://www.dov.vlaanderen.be/data/filter/1999...</td>\n",
       "      <td>https://www.dov.vlaanderen.be/data/put/2017-00...</td>\n",
       "      <td>WVSP009</td>\n",
       "      <td>1</td>\n",
       "      <td>peilfilter</td>\n",
       "      <td>89720.046875</td>\n",
       "      <td>165712.140625</td>\n",
       "      <td>NaN</td>\n",
       "      <td>Avelgem</td>\n",
       "      <td>9</td>\n",
       "      <td>0100</td>\n",
       "      <td>NaN</td>\n",
       "      <td>freatisch</td>\n",
       "      <td>5.95</td>\n",
       "      <td>1.0</td>\n",
       "      <td>1999-01-12</td>\n",
       "      <td>NaN</td>\n",
       "      <td>12.20</td>\n",
       "      <td>onbekend</td>\n",
       "      <td>NaN</td>\n",
       "    </tr>\n",
       "    <tr>\n",
       "      <th>1</th>\n",
       "      <td>https://www.dov.vlaanderen.be/data/filter/1999...</td>\n",
       "      <td>https://www.dov.vlaanderen.be/data/put/2017-00...</td>\n",
       "      <td>WVSP009</td>\n",
       "      <td>1</td>\n",
       "      <td>peilfilter</td>\n",
       "      <td>89720.046875</td>\n",
       "      <td>165712.140625</td>\n",
       "      <td>NaN</td>\n",
       "      <td>Avelgem</td>\n",
       "      <td>9</td>\n",
       "      <td>0100</td>\n",
       "      <td>NaN</td>\n",
       "      <td>freatisch</td>\n",
       "      <td>5.95</td>\n",
       "      <td>1.0</td>\n",
       "      <td>1999-01-21</td>\n",
       "      <td>NaN</td>\n",
       "      <td>12.26</td>\n",
       "      <td>onbekend</td>\n",
       "      <td>NaN</td>\n",
       "    </tr>\n",
       "    <tr>\n",
       "      <th>2</th>\n",
       "      <td>https://www.dov.vlaanderen.be/data/filter/1999...</td>\n",
       "      <td>https://www.dov.vlaanderen.be/data/put/2017-00...</td>\n",
       "      <td>WVSP009</td>\n",
       "      <td>1</td>\n",
       "      <td>peilfilter</td>\n",
       "      <td>89720.046875</td>\n",
       "      <td>165712.140625</td>\n",
       "      <td>NaN</td>\n",
       "      <td>Avelgem</td>\n",
       "      <td>9</td>\n",
       "      <td>0100</td>\n",
       "      <td>NaN</td>\n",
       "      <td>freatisch</td>\n",
       "      <td>5.95</td>\n",
       "      <td>1.0</td>\n",
       "      <td>1999-02-01</td>\n",
       "      <td>NaN</td>\n",
       "      <td>12.31</td>\n",
       "      <td>onbekend</td>\n",
       "      <td>NaN</td>\n",
       "    </tr>\n",
       "    <tr>\n",
       "      <th>3</th>\n",
       "      <td>https://www.dov.vlaanderen.be/data/filter/1999...</td>\n",
       "      <td>https://www.dov.vlaanderen.be/data/put/2017-00...</td>\n",
       "      <td>WVSP009</td>\n",
       "      <td>1</td>\n",
       "      <td>peilfilter</td>\n",
       "      <td>89720.046875</td>\n",
       "      <td>165712.140625</td>\n",
       "      <td>NaN</td>\n",
       "      <td>Avelgem</td>\n",
       "      <td>9</td>\n",
       "      <td>0100</td>\n",
       "      <td>NaN</td>\n",
       "      <td>freatisch</td>\n",
       "      <td>5.95</td>\n",
       "      <td>1.0</td>\n",
       "      <td>1999-02-06</td>\n",
       "      <td>NaN</td>\n",
       "      <td>12.29</td>\n",
       "      <td>onbekend</td>\n",
       "      <td>NaN</td>\n",
       "    </tr>\n",
       "    <tr>\n",
       "      <th>4</th>\n",
       "      <td>https://www.dov.vlaanderen.be/data/filter/1999...</td>\n",
       "      <td>https://www.dov.vlaanderen.be/data/put/2017-00...</td>\n",
       "      <td>WVSP009</td>\n",
       "      <td>1</td>\n",
       "      <td>peilfilter</td>\n",
       "      <td>89720.046875</td>\n",
       "      <td>165712.140625</td>\n",
       "      <td>NaN</td>\n",
       "      <td>Avelgem</td>\n",
       "      <td>9</td>\n",
       "      <td>0100</td>\n",
       "      <td>NaN</td>\n",
       "      <td>freatisch</td>\n",
       "      <td>5.95</td>\n",
       "      <td>1.0</td>\n",
       "      <td>1999-02-12</td>\n",
       "      <td>NaN</td>\n",
       "      <td>12.18</td>\n",
       "      <td>onbekend</td>\n",
       "      <td>NaN</td>\n",
       "    </tr>\n",
       "  </tbody>\n",
       "</table>\n",
       "</div>"
      ],
      "text/plain": [
       "                                         pkey_filter  \\\n",
       "0  https://www.dov.vlaanderen.be/data/filter/1999...   \n",
       "1  https://www.dov.vlaanderen.be/data/filter/1999...   \n",
       "2  https://www.dov.vlaanderen.be/data/filter/1999...   \n",
       "3  https://www.dov.vlaanderen.be/data/filter/1999...   \n",
       "4  https://www.dov.vlaanderen.be/data/filter/1999...   \n",
       "\n",
       "                              pkey_grondwaterlocatie    gw_id filternummer  \\\n",
       "0  https://www.dov.vlaanderen.be/data/put/2017-00...  WVSP009            1   \n",
       "1  https://www.dov.vlaanderen.be/data/put/2017-00...  WVSP009            1   \n",
       "2  https://www.dov.vlaanderen.be/data/put/2017-00...  WVSP009            1   \n",
       "3  https://www.dov.vlaanderen.be/data/put/2017-00...  WVSP009            1   \n",
       "4  https://www.dov.vlaanderen.be/data/put/2017-00...  WVSP009            1   \n",
       "\n",
       "   filtertype             x              y  mv_mtaw gemeente  meetnet_code  \\\n",
       "0  peilfilter  89720.046875  165712.140625      NaN  Avelgem             9   \n",
       "1  peilfilter  89720.046875  165712.140625      NaN  Avelgem             9   \n",
       "2  peilfilter  89720.046875  165712.140625      NaN  Avelgem             9   \n",
       "3  peilfilter  89720.046875  165712.140625      NaN  Avelgem             9   \n",
       "4  peilfilter  89720.046875  165712.140625      NaN  Avelgem             9   \n",
       "\n",
       "  aquifer_code  grondwaterlichaam_code     regime  diepte_onderkant_filter  \\\n",
       "0         0100                     NaN  freatisch                     5.95   \n",
       "1         0100                     NaN  freatisch                     5.95   \n",
       "2         0100                     NaN  freatisch                     5.95   \n",
       "3         0100                     NaN  freatisch                     5.95   \n",
       "4         0100                     NaN  freatisch                     5.95   \n",
       "\n",
       "   lengte_filter       datum  tijdstip  peil_mtaw betrouwbaarheid  methode  \n",
       "0            1.0  1999-01-12       NaN      12.20        onbekend      NaN  \n",
       "1            1.0  1999-01-21       NaN      12.26        onbekend      NaN  \n",
       "2            1.0  1999-02-01       NaN      12.31        onbekend      NaN  \n",
       "3            1.0  1999-02-06       NaN      12.29        onbekend      NaN  \n",
       "4            1.0  1999-02-12       NaN      12.18        onbekend      NaN  "
      ]
     },
     "execution_count": 15,
     "metadata": {},
     "output_type": "execute_result"
    }
   ],
   "source": [
    "from owslib.fes import PropertyIsLike\n",
    "\n",
    "query = PropertyIsLike(propertyname='meetnet',\n",
    "                       literal='meetnet 9 %')\n",
    "df = gwfilter.search(query=query,\n",
    "                     location=(87676, 163442, 91194, 168043))\n",
    "df.head()"
   ]
  },
  {
   "cell_type": "markdown",
   "metadata": {},
   "source": [
    "### Get groundwater screens based on a combination of specific properties"
   ]
  },
  {
   "cell_type": "markdown",
   "metadata": {},
   "source": [
    "Get all groundwater screens in Hamme that have a value for length_filter and either belong to the primary meetnet of VMM or that have a depth bottom screen less than 3 meter."
   ]
  },
  {
   "cell_type": "code",
   "execution_count": 17,
   "metadata": {},
   "outputs": [
    {
     "data": {
      "text/html": [
       "<div>\n",
       "<style scoped>\n",
       "    .dataframe tbody tr th:only-of-type {\n",
       "        vertical-align: middle;\n",
       "    }\n",
       "\n",
       "    .dataframe tbody tr th {\n",
       "        vertical-align: top;\n",
       "    }\n",
       "\n",
       "    .dataframe thead th {\n",
       "        text-align: right;\n",
       "    }\n",
       "</style>\n",
       "<table border=\"1\" class=\"dataframe\">\n",
       "  <thead>\n",
       "    <tr style=\"text-align: right;\">\n",
       "      <th></th>\n",
       "      <th>pkey_filter</th>\n",
       "      <th>gw_id</th>\n",
       "      <th>filternummer</th>\n",
       "      <th>x</th>\n",
       "      <th>y</th>\n",
       "      <th>diepte_onderkant_filter</th>\n",
       "    </tr>\n",
       "  </thead>\n",
       "  <tbody>\n",
       "    <tr>\n",
       "      <th>0</th>\n",
       "      <td>https://www.dov.vlaanderen.be/data/filter/1991...</td>\n",
       "      <td>4-0076</td>\n",
       "      <td>1</td>\n",
       "      <td>133977.000000</td>\n",
       "      <td>199147.000000</td>\n",
       "      <td>13.0</td>\n",
       "    </tr>\n",
       "    <tr>\n",
       "      <th>1</th>\n",
       "      <td>https://www.dov.vlaanderen.be/data/filter/1991...</td>\n",
       "      <td>4-0077</td>\n",
       "      <td>1</td>\n",
       "      <td>133977.000000</td>\n",
       "      <td>199149.000000</td>\n",
       "      <td>68.0</td>\n",
       "    </tr>\n",
       "    <tr>\n",
       "      <th>2</th>\n",
       "      <td>https://www.dov.vlaanderen.be/data/filter/2003...</td>\n",
       "      <td>802/21/3</td>\n",
       "      <td>1</td>\n",
       "      <td>131763.200000</td>\n",
       "      <td>198674.500000</td>\n",
       "      <td>2.5</td>\n",
       "    </tr>\n",
       "    <tr>\n",
       "      <th>3</th>\n",
       "      <td>https://www.dov.vlaanderen.be/data/filter/2003...</td>\n",
       "      <td>810/21/1</td>\n",
       "      <td>1</td>\n",
       "      <td>131837.656250</td>\n",
       "      <td>197054.203125</td>\n",
       "      <td>2.5</td>\n",
       "    </tr>\n",
       "    <tr>\n",
       "      <th>4</th>\n",
       "      <td>https://www.dov.vlaanderen.be/data/filter/2003...</td>\n",
       "      <td>813/21/2</td>\n",
       "      <td>1</td>\n",
       "      <td>133865.921875</td>\n",
       "      <td>195656.328125</td>\n",
       "      <td>2.5</td>\n",
       "    </tr>\n",
       "  </tbody>\n",
       "</table>\n",
       "</div>"
      ],
      "text/plain": [
       "                                         pkey_filter     gw_id filternummer  \\\n",
       "0  https://www.dov.vlaanderen.be/data/filter/1991...    4-0076            1   \n",
       "1  https://www.dov.vlaanderen.be/data/filter/1991...    4-0077            1   \n",
       "2  https://www.dov.vlaanderen.be/data/filter/2003...  802/21/3            1   \n",
       "3  https://www.dov.vlaanderen.be/data/filter/2003...  810/21/1            1   \n",
       "4  https://www.dov.vlaanderen.be/data/filter/2003...  813/21/2            1   \n",
       "\n",
       "               x              y  diepte_onderkant_filter  \n",
       "0  133977.000000  199147.000000                     13.0  \n",
       "1  133977.000000  199149.000000                     68.0  \n",
       "2  131763.200000  198674.500000                      2.5  \n",
       "3  131837.656250  197054.203125                      2.5  \n",
       "4  133865.921875  195656.328125                      2.5  "
      ]
     },
     "execution_count": 17,
     "metadata": {},
     "output_type": "execute_result"
    }
   ],
   "source": [
    "from owslib.fes import Or, Not, PropertyIsNull, PropertyIsLessThanOrEqualTo, And\n",
    "\n",
    "query = And([PropertyIsEqualTo(propertyname='gemeente',\n",
    "                               literal='Hamme'),\n",
    "             Not([PropertyIsNull(propertyname='lengte_filter')]),\n",
    "             Or([PropertyIsLike(propertyname='meetnet',\n",
    "                                literal='meetnet 1%'),\n",
    "                 PropertyIsLessThanOrEqualTo(\n",
    "                     propertyname='diepte_onderkant_filter',\n",
    "                     literal='3')])])\n",
    "df = gwfilter.search(query=query,\n",
    "                     return_fields=('pkey_filter', 'x', 'y', 'gw_id', 'filternummer', 'diepte_onderkant_filter'))\n",
    "df"
   ]
  },
  {
   "cell_type": "markdown",
   "metadata": {},
   "source": [
    "## Visualize results"
   ]
  },
  {
   "cell_type": "markdown",
   "metadata": {},
   "source": [
    "Using Folium, we can display the results of our search on a map."
   ]
  },
  {
   "cell_type": "code",
   "execution_count": 18,
   "metadata": {
    "collapsed": true
   },
   "outputs": [],
   "source": [
    "# import the necessary modules (not included in the requirements of pydov!)\n",
    "import folium\n",
    "from folium.plugins import MarkerCluster\n",
    "from pyproj import Proj, transform"
   ]
  },
  {
   "cell_type": "code",
   "execution_count": 19,
   "metadata": {
    "collapsed": true
   },
   "outputs": [],
   "source": [
    "# convert the coordinates to lat/lon for folium\n",
    "def convert_latlon(x1, y1):\n",
    "    inProj = Proj(init='epsg:31370')\n",
    "    outProj = Proj(init='epsg:4326')\n",
    "    x2,y2 = transform(inProj, outProj, x1, y1)\n",
    "    return x2, y2\n",
    "df['lon'], df['lat'] = zip(*map(convert_latlon, df['x'], df['y'])) \n",
    "# convert to list\n",
    "loclist = df[['lat', 'lon']].values.tolist()"
   ]
  },
  {
   "cell_type": "code",
   "execution_count": 20,
   "metadata": {},
   "outputs": [
    {
     "data": {
      "text/html": [
       "<div style=\"width:100%;\"><div style=\"position:relative;width:100%;height:0;padding-bottom:60%;\"><iframe src=\"data:text/html;charset=utf-8;base64,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\" style=\"position:absolute;width:100%;height:100%;left:0;top:0;border:none !important;\" allowfullscreen webkitallowfullscreen mozallowfullscreen></iframe></div></div>"
      ],
      "text/plain": [
       "<folium.folium.Map at 0x7f9b4cbb36d8>"
      ]
     },
     "execution_count": 20,
     "metadata": {},
     "output_type": "execute_result"
    }
   ],
   "source": [
    "# initialize the Folium map on the centre of the selected locations, play with the zoom until ok\n",
    "fmap = folium.Map(location=[df['lat'].mean(), df['lon'].mean()], zoom_start=12)\n",
    "marker_cluster = MarkerCluster().add_to(fmap)\n",
    "for loc in range(0, len(loclist)):\n",
    "    folium.Marker(loclist[loc], popup=df['gw_id'][loc]).add_to(marker_cluster)\n",
    "fmap\n"
   ]
  }
 ],
 "metadata": {
  "kernelspec": {
   "display_name": "Python [default]",
   "language": "python",
   "name": "python3"
  },
  "language_info": {
   "codemirror_mode": {
    "name": "ipython",
    "version": 3
   },
   "file_extension": ".py",
   "mimetype": "text/x-python",
   "name": "python",
   "nbconvert_exporter": "python",
   "pygments_lexer": "ipython3",
   "version": "3.5.5"
  }
 },
 "nbformat": 4,
 "nbformat_minor": 2
}
