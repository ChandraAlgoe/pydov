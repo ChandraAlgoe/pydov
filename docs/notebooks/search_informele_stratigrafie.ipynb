{
 "cells": [
  {
   "cell_type": "markdown",
   "metadata": {},
   "source": [
    "# Example of DOV search methods for interpretations (informele stratigrafie)"
   ]
  },
  {
   "cell_type": "markdown",
   "metadata": {},
   "source": [
    "## Use cases explained below\n",
    "* Get 'informele stratigrafie' in a bounding box\n",
    "* Get 'informele stratigrafie' with specific properties\n",
    "* Get 'informele stratigrafie' in a bounding box based on specific properties\n",
    "* Select 'informele stratigrafie' in a municipality and return date\n",
    "* Get 'informele stratigrafie' based on fields not available in the standard output dataframe\n",
    "* Get 'informele stratigrafie' data, returning fields not available in the standard output dataframe"
   ]
  },
  {
   "cell_type": "code",
   "execution_count": 6,
   "metadata": {},
   "outputs": [],
   "source": [
    "%matplotlib inline\n",
    "import inspect, sys\n",
    "import warnings; warnings.simplefilter('ignore')"
   ]
  },
  {
   "cell_type": "code",
   "execution_count": 7,
   "metadata": {},
   "outputs": [],
   "source": [
    "# check pydov path\n",
    "import pydov"
   ]
  },
  {
   "cell_type": "markdown",
   "metadata": {},
   "source": [
    "## Get information about the datatype 'Informele stratigrafie'"
   ]
  },
  {
   "cell_type": "code",
   "execution_count": 8,
   "metadata": {},
   "outputs": [],
   "source": [
    "from pydov.search.interpretaties import InformeleStratigrafieSearch\n",
    "itp = InformeleStratigrafieSearch()"
   ]
  },
  {
   "cell_type": "markdown",
   "metadata": {},
   "source": [
    "A description is provided for the 'Informele stratigrafie' datatype:"
   ]
  },
  {
   "cell_type": "code",
   "execution_count": 9,
   "metadata": {},
   "outputs": [
    {
     "data": {
      "text/plain": [
       "'Een informele stratigrafie van een boring is, net als een formele stratigrafie, een lithostratigrafische interpretatie van een (gecodeerde) lithologische beschrijving per diepte-interval. Het verschil met de formele stratigrafie is dat de informele stratigrafie niet moet voldoen aan een algemeen aanvaarde standaard. De informele stratigrafie is een plaats in DOV om oude interpretaties of interpretaties die niet voldoen aan de huidige stratigrafische indeling toch weer te geven. De informele stratigrafie kan ook een gedetailleerde beschrijving bevatten van een lithostratigrafische eenheid.'"
      ]
     },
     "execution_count": 9,
     "metadata": {},
     "output_type": "execute_result"
    }
   ],
   "source": [
    "itp.get_description()"
   ]
  },
  {
   "cell_type": "markdown",
   "metadata": {},
   "source": [
    "The different fields that are available for objects of the 'Informele stratigrafie' datatype can be requested with the get_fields() method:"
   ]
  },
  {
   "cell_type": "code",
   "execution_count": 10,
   "metadata": {},
   "outputs": [
    {
     "name": "stdout",
     "output_type": "stream",
     "text": [
      "generated_id\n",
      "pkey_interpretatie\n",
      "Type_proef\n",
      "Proefnummer\n",
      "Proeffiche\n",
      "x\n",
      "y\n",
      "Z_mTAW\n",
      "gemeente\n",
      "Auteurs\n",
      "Datum\n",
      "Opdrachten\n",
      "betrouwbaarheid_interpretatie\n",
      "Geldig_van\n",
      "Geldig_tot\n",
      "diepte_laag_van\n",
      "diepte_laag_tot\n",
      "beschrijving\n",
      "pkey_boring\n",
      "pkey_sondering\n"
     ]
    }
   ],
   "source": [
    "fields = itp.get_fields()\n",
    "\n",
    "# print available fields\n",
    "for f in fields.values():\n",
    "    print(f['name'])"
   ]
  },
  {
   "cell_type": "markdown",
   "metadata": {},
   "source": [
    "You can get more information of a field by requesting it from the fields dictionary:\n",
    "* *name*: name of the field\n",
    "* *definition*: definition of this field\n",
    "* *cost*: currently this is either 1 or 10, depending on the datasource of the field. It is an indication of the expected time it will take to retrieve this field in the output dataframe.\n",
    "* *notnull*: whether the field is mandatory or not\n",
    "* *type*: datatype of the values of this field"
   ]
  },
  {
   "cell_type": "code",
   "execution_count": 11,
   "metadata": {},
   "outputs": [
    {
     "data": {
      "text/plain": [
       "{'cost': 1,\n",
       " 'definition': 'De datum waarop de informele stratigrafie werd beschreven.',\n",
       " 'name': 'Datum',\n",
       " 'notnull': False,\n",
       " 'type': 'date'}"
      ]
     },
     "execution_count": 11,
     "metadata": {},
     "output_type": "execute_result"
    }
   ],
   "source": [
    "fields['Datum']"
   ]
  },
  {
   "cell_type": "markdown",
   "metadata": {},
   "source": [
    "## Example use cases"
   ]
  },
  {
   "cell_type": "markdown",
   "metadata": {},
   "source": [
    "### Get 'informele stratigrafie' in a bounding box"
   ]
  },
  {
   "cell_type": "markdown",
   "metadata": {},
   "source": [
    "Get data for all the 'informele stratigrafie' interpretations that are geographically located within the bounds of the specified box.\n",
    "\n",
    "The coordinates are in the Belgian Lambert72 (EPSG:31370) coordinate system and are given in the order of lower left x, lower left y, upper right x, upper right y."
   ]
  },
  {
   "cell_type": "code",
   "execution_count": 12,
   "metadata": {},
   "outputs": [
    {
     "data": {
      "text/html": [
       "<div>\n",
       "<style scoped>\n",
       "    .dataframe tbody tr th:only-of-type {\n",
       "        vertical-align: middle;\n",
       "    }\n",
       "\n",
       "    .dataframe tbody tr th {\n",
       "        vertical-align: top;\n",
       "    }\n",
       "\n",
       "    .dataframe thead th {\n",
       "        text-align: right;\n",
       "    }\n",
       "</style>\n",
       "<table border=\"1\" class=\"dataframe\">\n",
       "  <thead>\n",
       "    <tr style=\"text-align: right;\">\n",
       "      <th></th>\n",
       "      <th>pkey_interpretatie</th>\n",
       "      <th>pkey_boring</th>\n",
       "      <th>pkey_sondering</th>\n",
       "      <th>betrouwbaarheid_interpretatie</th>\n",
       "      <th>x</th>\n",
       "      <th>y</th>\n",
       "      <th>diepte_laag_van</th>\n",
       "      <th>diepte_laag_tot</th>\n",
       "      <th>beschrijving</th>\n",
       "    </tr>\n",
       "  </thead>\n",
       "  <tbody>\n",
       "    <tr>\n",
       "      <th>0</th>\n",
       "      <td>https://www.dov.vlaanderen.be/data/interpretat...</td>\n",
       "      <td>https://www.dov.vlaanderen.be/data/boring/1974...</td>\n",
       "      <td>NaN</td>\n",
       "      <td>goed</td>\n",
       "      <td>153147.0</td>\n",
       "      <td>206931.0</td>\n",
       "      <td>0.0</td>\n",
       "      <td>3.00</td>\n",
       "      <td>Quartair</td>\n",
       "    </tr>\n",
       "    <tr>\n",
       "      <th>1</th>\n",
       "      <td>https://www.dov.vlaanderen.be/data/interpretat...</td>\n",
       "      <td>https://www.dov.vlaanderen.be/data/boring/1974...</td>\n",
       "      <td>NaN</td>\n",
       "      <td>goed</td>\n",
       "      <td>153147.0</td>\n",
       "      <td>206931.0</td>\n",
       "      <td>3.0</td>\n",
       "      <td>14.05</td>\n",
       "      <td>Tertiair - Mioceen: Antwerpiaan</td>\n",
       "    </tr>\n",
       "  </tbody>\n",
       "</table>\n",
       "</div>"
      ],
      "text/plain": [
       "                                  pkey_interpretatie  \\\n",
       "0  https://www.dov.vlaanderen.be/data/interpretat...   \n",
       "1  https://www.dov.vlaanderen.be/data/interpretat...   \n",
       "\n",
       "                                         pkey_boring  pkey_sondering  \\\n",
       "0  https://www.dov.vlaanderen.be/data/boring/1974...             NaN   \n",
       "1  https://www.dov.vlaanderen.be/data/boring/1974...             NaN   \n",
       "\n",
       "  betrouwbaarheid_interpretatie         x         y  diepte_laag_van  \\\n",
       "0                          goed  153147.0  206931.0              0.0   \n",
       "1                          goed  153147.0  206931.0              3.0   \n",
       "\n",
       "   diepte_laag_tot                     beschrijving  \n",
       "0             3.00                         Quartair  \n",
       "1            14.05  Tertiair - Mioceen: Antwerpiaan  "
      ]
     },
     "execution_count": 12,
     "metadata": {},
     "output_type": "execute_result"
    }
   ],
   "source": [
    "df = itp.search(location=(153145, 206930, 153150, 206935))\n",
    "df.head()"
   ]
  },
  {
   "cell_type": "markdown",
   "metadata": {},
   "source": [
    "The dataframe contains one 'informele stratigrafie' interpretation where three layers ('laag') were identified. The available data are flattened to represent unique attributes per row of the dataframe.\n",
    "\n",
    "Using the *pkey_interpretatie* field one can request the details of this interpretation in a webbrowser:"
   ]
  },
  {
   "cell_type": "code",
   "execution_count": 13,
   "metadata": {},
   "outputs": [
    {
     "name": "stdout",
     "output_type": "stream",
     "text": [
      "https://www.dov.vlaanderen.be/data/interpretatie/1975-213484\n"
     ]
    }
   ],
   "source": [
    "for pkey_interpretatie in set(df.pkey_interpretatie):\n",
    "    print(pkey_interpretatie)"
   ]
  },
  {
   "cell_type": "markdown",
   "metadata": {},
   "source": [
    "### Get 'informele stratigrafie' with specific properties"
   ]
  },
  {
   "cell_type": "markdown",
   "metadata": {},
   "source": [
    "Next to querying interpretations based on their geographic location within a bounding box, we can also search for interpretations matching a specific set of properties. For this we can build a query using a combination of the 'InformeleStratigrafie' fields and operators provided by the WFS protocol.\n",
    "\n",
    "A list of possible operators can be found below:"
   ]
  },
  {
   "cell_type": "code",
   "execution_count": 14,
   "metadata": {},
   "outputs": [
    {
     "data": {
      "text/plain": [
       "['PropertyIsBetween',\n",
       " 'PropertyIsEqualTo',\n",
       " 'PropertyIsGreaterThan',\n",
       " 'PropertyIsGreaterThanOrEqualTo',\n",
       " 'PropertyIsLessThan',\n",
       " 'PropertyIsLessThanOrEqualTo',\n",
       " 'PropertyIsLike',\n",
       " 'PropertyIsNotEqualTo',\n",
       " 'PropertyIsNull',\n",
       " 'SortProperty']"
      ]
     },
     "execution_count": 14,
     "metadata": {},
     "output_type": "execute_result"
    }
   ],
   "source": [
    "[i for i,j in inspect.getmembers(sys.modules['owslib.fes'], inspect.isclass) if 'Property' in i]"
   ]
  },
  {
   "cell_type": "markdown",
   "metadata": {},
   "source": [
    "In this example we build a query using the *PropertyIsEqualTo* operator to find all interpretations that are within the community (gemeente) of 'Herstappe':"
   ]
  },
  {
   "cell_type": "code",
   "execution_count": 15,
   "metadata": {},
   "outputs": [
    {
     "data": {
      "text/html": [
       "<div>\n",
       "<style scoped>\n",
       "    .dataframe tbody tr th:only-of-type {\n",
       "        vertical-align: middle;\n",
       "    }\n",
       "\n",
       "    .dataframe tbody tr th {\n",
       "        vertical-align: top;\n",
       "    }\n",
       "\n",
       "    .dataframe thead th {\n",
       "        text-align: right;\n",
       "    }\n",
       "</style>\n",
       "<table border=\"1\" class=\"dataframe\">\n",
       "  <thead>\n",
       "    <tr style=\"text-align: right;\">\n",
       "      <th></th>\n",
       "      <th>pkey_interpretatie</th>\n",
       "      <th>pkey_boring</th>\n",
       "      <th>pkey_sondering</th>\n",
       "      <th>betrouwbaarheid_interpretatie</th>\n",
       "      <th>x</th>\n",
       "      <th>y</th>\n",
       "      <th>diepte_laag_van</th>\n",
       "      <th>diepte_laag_tot</th>\n",
       "      <th>beschrijving</th>\n",
       "    </tr>\n",
       "  </thead>\n",
       "  <tbody>\n",
       "    <tr>\n",
       "      <th>0</th>\n",
       "      <td>https://www.dov.vlaanderen.be/data/interpretat...</td>\n",
       "      <td>https://www.dov.vlaanderen.be/data/boring/2016...</td>\n",
       "      <td>NaN</td>\n",
       "      <td>goed</td>\n",
       "      <td>224687.4</td>\n",
       "      <td>158191.0</td>\n",
       "      <td>0.00</td>\n",
       "      <td>3.75</td>\n",
       "      <td>q2</td>\n",
       "    </tr>\n",
       "    <tr>\n",
       "      <th>1</th>\n",
       "      <td>https://www.dov.vlaanderen.be/data/interpretat...</td>\n",
       "      <td>https://www.dov.vlaanderen.be/data/boring/2016...</td>\n",
       "      <td>NaN</td>\n",
       "      <td>goed</td>\n",
       "      <td>224687.4</td>\n",
       "      <td>158191.0</td>\n",
       "      <td>3.75</td>\n",
       "      <td>6.00</td>\n",
       "      <td>q1c</td>\n",
       "    </tr>\n",
       "    <tr>\n",
       "      <th>2</th>\n",
       "      <td>https://www.dov.vlaanderen.be/data/interpretat...</td>\n",
       "      <td>https://www.dov.vlaanderen.be/data/boring/1993...</td>\n",
       "      <td>NaN</td>\n",
       "      <td>goed</td>\n",
       "      <td>224820.0</td>\n",
       "      <td>157794.0</td>\n",
       "      <td>0.00</td>\n",
       "      <td>50.00</td>\n",
       "      <td>?</td>\n",
       "    </tr>\n",
       "    <tr>\n",
       "      <th>3</th>\n",
       "      <td>https://www.dov.vlaanderen.be/data/interpretat...</td>\n",
       "      <td>https://www.dov.vlaanderen.be/data/boring/1993...</td>\n",
       "      <td>NaN</td>\n",
       "      <td>goed</td>\n",
       "      <td>224820.0</td>\n",
       "      <td>157794.0</td>\n",
       "      <td>5.00</td>\n",
       "      <td>50.00</td>\n",
       "      <td>Formatie van Gulpen</td>\n",
       "    </tr>\n",
       "  </tbody>\n",
       "</table>\n",
       "</div>"
      ],
      "text/plain": [
       "                                  pkey_interpretatie  \\\n",
       "0  https://www.dov.vlaanderen.be/data/interpretat...   \n",
       "1  https://www.dov.vlaanderen.be/data/interpretat...   \n",
       "2  https://www.dov.vlaanderen.be/data/interpretat...   \n",
       "3  https://www.dov.vlaanderen.be/data/interpretat...   \n",
       "\n",
       "                                         pkey_boring  pkey_sondering  \\\n",
       "0  https://www.dov.vlaanderen.be/data/boring/2016...             NaN   \n",
       "1  https://www.dov.vlaanderen.be/data/boring/2016...             NaN   \n",
       "2  https://www.dov.vlaanderen.be/data/boring/1993...             NaN   \n",
       "3  https://www.dov.vlaanderen.be/data/boring/1993...             NaN   \n",
       "\n",
       "  betrouwbaarheid_interpretatie         x         y  diepte_laag_van  \\\n",
       "0                          goed  224687.4  158191.0             0.00   \n",
       "1                          goed  224687.4  158191.0             3.75   \n",
       "2                          goed  224820.0  157794.0             0.00   \n",
       "3                          goed  224820.0  157794.0             5.00   \n",
       "\n",
       "   diepte_laag_tot         beschrijving  \n",
       "0             3.75                   q2  \n",
       "1             6.00                  q1c  \n",
       "2            50.00                    ?  \n",
       "3            50.00  Formatie van Gulpen  "
      ]
     },
     "execution_count": 15,
     "metadata": {},
     "output_type": "execute_result"
    }
   ],
   "source": [
    "from owslib.fes import PropertyIsEqualTo\n",
    "\n",
    "query = PropertyIsEqualTo(propertyname='gemeente',\n",
    "                          literal='Herstappe')\n",
    "df = itp.search(query=query)\n",
    "\n",
    "df.head()"
   ]
  },
  {
   "cell_type": "markdown",
   "metadata": {},
   "source": [
    "Once again we can use the *pkey_interpretatie* as a permanent link to the information of these interpretations:"
   ]
  },
  {
   "cell_type": "code",
   "execution_count": 16,
   "metadata": {},
   "outputs": [
    {
     "name": "stdout",
     "output_type": "stream",
     "text": [
      "https://www.dov.vlaanderen.be/data/interpretatie/2010-106477\n",
      "https://www.dov.vlaanderen.be/data/interpretatie/2016-271517\n",
      "https://www.dov.vlaanderen.be/data/interpretatie/1993-097697\n"
     ]
    }
   ],
   "source": [
    "for pkey_interpretatie in set(df.pkey_interpretatie):\n",
    "    print(pkey_interpretatie)"
   ]
  },
  {
   "cell_type": "markdown",
   "metadata": {},
   "source": [
    "### Get 'informele stratigrafie' in a bounding box based on specific properties"
   ]
  },
  {
   "cell_type": "markdown",
   "metadata": {},
   "source": [
    "We can combine a query on attributes with a query on geographic location to get the interpretations within a bounding box that have specific properties.\n",
    "\n",
    "The following example requests the interpretations of boreholes only, within the given bounding box.\n",
    "\n",
    "(Note that the datatype of the *literal* parameter should be a string, regardless of the datatype of this field in the output dataframe.)"
   ]
  },
  {
   "cell_type": "code",
   "execution_count": 17,
   "metadata": {},
   "outputs": [
    {
     "data": {
      "text/html": [
       "<div>\n",
       "<style scoped>\n",
       "    .dataframe tbody tr th:only-of-type {\n",
       "        vertical-align: middle;\n",
       "    }\n",
       "\n",
       "    .dataframe tbody tr th {\n",
       "        vertical-align: top;\n",
       "    }\n",
       "\n",
       "    .dataframe thead th {\n",
       "        text-align: right;\n",
       "    }\n",
       "</style>\n",
       "<table border=\"1\" class=\"dataframe\">\n",
       "  <thead>\n",
       "    <tr style=\"text-align: right;\">\n",
       "      <th></th>\n",
       "      <th>pkey_interpretatie</th>\n",
       "      <th>pkey_boring</th>\n",
       "      <th>pkey_sondering</th>\n",
       "      <th>betrouwbaarheid_interpretatie</th>\n",
       "      <th>x</th>\n",
       "      <th>y</th>\n",
       "      <th>diepte_laag_van</th>\n",
       "      <th>diepte_laag_tot</th>\n",
       "      <th>beschrijving</th>\n",
       "    </tr>\n",
       "  </thead>\n",
       "  <tbody>\n",
       "    <tr>\n",
       "      <th>0</th>\n",
       "      <td>https://www.dov.vlaanderen.be/data/interpretat...</td>\n",
       "      <td>https://www.dov.vlaanderen.be/data/boring/1975...</td>\n",
       "      <td>NaN</td>\n",
       "      <td>goed</td>\n",
       "      <td>205264.2</td>\n",
       "      <td>205607.5</td>\n",
       "      <td>0.0</td>\n",
       "      <td>8.0</td>\n",
       "      <td>Kwartair</td>\n",
       "    </tr>\n",
       "    <tr>\n",
       "      <th>1</th>\n",
       "      <td>https://www.dov.vlaanderen.be/data/interpretat...</td>\n",
       "      <td>https://www.dov.vlaanderen.be/data/boring/1896...</td>\n",
       "      <td>NaN</td>\n",
       "      <td>goed</td>\n",
       "      <td>205952.9</td>\n",
       "      <td>205993.0</td>\n",
       "      <td>0.0</td>\n",
       "      <td>1.0</td>\n",
       "      <td>R</td>\n",
       "    </tr>\n",
       "    <tr>\n",
       "      <th>2</th>\n",
       "      <td>https://www.dov.vlaanderen.be/data/interpretat...</td>\n",
       "      <td>https://www.dov.vlaanderen.be/data/boring/1896...</td>\n",
       "      <td>NaN</td>\n",
       "      <td>goed</td>\n",
       "      <td>205952.9</td>\n",
       "      <td>205993.0</td>\n",
       "      <td>1.0</td>\n",
       "      <td>2.3</td>\n",
       "      <td>q4</td>\n",
       "    </tr>\n",
       "    <tr>\n",
       "      <th>3</th>\n",
       "      <td>https://www.dov.vlaanderen.be/data/interpretat...</td>\n",
       "      <td>https://www.dov.vlaanderen.be/data/boring/1896...</td>\n",
       "      <td>NaN</td>\n",
       "      <td>goed</td>\n",
       "      <td>205970.0</td>\n",
       "      <td>205270.5</td>\n",
       "      <td>0.0</td>\n",
       "      <td>2.3</td>\n",
       "      <td>q4</td>\n",
       "    </tr>\n",
       "  </tbody>\n",
       "</table>\n",
       "</div>"
      ],
      "text/plain": [
       "                                  pkey_interpretatie  \\\n",
       "0  https://www.dov.vlaanderen.be/data/interpretat...   \n",
       "1  https://www.dov.vlaanderen.be/data/interpretat...   \n",
       "2  https://www.dov.vlaanderen.be/data/interpretat...   \n",
       "3  https://www.dov.vlaanderen.be/data/interpretat...   \n",
       "\n",
       "                                         pkey_boring  pkey_sondering  \\\n",
       "0  https://www.dov.vlaanderen.be/data/boring/1975...             NaN   \n",
       "1  https://www.dov.vlaanderen.be/data/boring/1896...             NaN   \n",
       "2  https://www.dov.vlaanderen.be/data/boring/1896...             NaN   \n",
       "3  https://www.dov.vlaanderen.be/data/boring/1896...             NaN   \n",
       "\n",
       "  betrouwbaarheid_interpretatie         x         y  diepte_laag_van  \\\n",
       "0                          goed  205264.2  205607.5              0.0   \n",
       "1                          goed  205952.9  205993.0              0.0   \n",
       "2                          goed  205952.9  205993.0              1.0   \n",
       "3                          goed  205970.0  205270.5              0.0   \n",
       "\n",
       "   diepte_laag_tot beschrijving  \n",
       "0              8.0     Kwartair  \n",
       "1              1.0            R  \n",
       "2              2.3           q4  \n",
       "3              2.3           q4  "
      ]
     },
     "execution_count": 17,
     "metadata": {},
     "output_type": "execute_result"
    }
   ],
   "source": [
    "from owslib.fes import PropertyIsEqualTo\n",
    "\n",
    "query = PropertyIsEqualTo(\n",
    "            propertyname='Type_proef',\n",
    "            literal='Boring')\n",
    "\n",
    "df = itp.search(\n",
    "    location=(205000, 205000, 206000, 206000),\n",
    "    query=query\n",
    "    )\n",
    "\n",
    "df.head()"
   ]
  },
  {
   "cell_type": "markdown",
   "metadata": {},
   "source": [
    "We can look at one of the interpretations in a webbrowser using its *pkey_interpretatie*:"
   ]
  },
  {
   "cell_type": "code",
   "execution_count": 18,
   "metadata": {},
   "outputs": [
    {
     "name": "stdout",
     "output_type": "stream",
     "text": [
      "https://www.dov.vlaanderen.be/data/interpretatie/1896-044149\n",
      "https://www.dov.vlaanderen.be/data/interpretatie/1896-044150\n",
      "https://www.dov.vlaanderen.be/data/interpretatie/1975-044576\n"
     ]
    }
   ],
   "source": [
    "for pkey_interpretatie in set(df.pkey_interpretatie):\n",
    "    print(pkey_interpretatie)"
   ]
  },
  {
   "cell_type": "markdown",
   "metadata": {},
   "source": [
    "### Select 'informele stratigrafie' in a municipality and return date"
   ]
  },
  {
   "cell_type": "markdown",
   "metadata": {},
   "source": [
    "We can limit the columns in the output dataframe by specifying the *return_fields* parameter in our search.\n",
    "\n",
    "In this example we query all the 'informele stratigrafie' interpretations in the city of Ghent and return their date:"
   ]
  },
  {
   "cell_type": "code",
   "execution_count": 19,
   "metadata": {},
   "outputs": [
    {
     "data": {
      "text/html": [
       "<div>\n",
       "<style scoped>\n",
       "    .dataframe tbody tr th:only-of-type {\n",
       "        vertical-align: middle;\n",
       "    }\n",
       "\n",
       "    .dataframe tbody tr th {\n",
       "        vertical-align: top;\n",
       "    }\n",
       "\n",
       "    .dataframe thead th {\n",
       "        text-align: right;\n",
       "    }\n",
       "</style>\n",
       "<table border=\"1\" class=\"dataframe\">\n",
       "  <thead>\n",
       "    <tr style=\"text-align: right;\">\n",
       "      <th></th>\n",
       "      <th>Datum</th>\n",
       "    </tr>\n",
       "  </thead>\n",
       "  <tbody>\n",
       "    <tr>\n",
       "      <th>0</th>\n",
       "      <td>NaN</td>\n",
       "    </tr>\n",
       "    <tr>\n",
       "      <th>1</th>\n",
       "      <td>NaN</td>\n",
       "    </tr>\n",
       "    <tr>\n",
       "      <th>2</th>\n",
       "      <td>1988-12-07</td>\n",
       "    </tr>\n",
       "    <tr>\n",
       "      <th>3</th>\n",
       "      <td>NaN</td>\n",
       "    </tr>\n",
       "    <tr>\n",
       "      <th>4</th>\n",
       "      <td>1996-11-25</td>\n",
       "    </tr>\n",
       "  </tbody>\n",
       "</table>\n",
       "</div>"
      ],
      "text/plain": [
       "        Datum\n",
       "0         NaN\n",
       "1         NaN\n",
       "2  1988-12-07\n",
       "3         NaN\n",
       "4  1996-11-25"
      ]
     },
     "execution_count": 19,
     "metadata": {},
     "output_type": "execute_result"
    }
   ],
   "source": [
    "query = PropertyIsEqualTo(propertyname='gemeente',\n",
    "                          literal='Gent')\n",
    "df = itp.search(query=query,\n",
    "                return_fields=('Datum',))\n",
    "df.head()"
   ]
  },
  {
   "cell_type": "code",
   "execution_count": 20,
   "metadata": {},
   "outputs": [
    {
     "data": {
      "text/html": [
       "<div>\n",
       "<style scoped>\n",
       "    .dataframe tbody tr th:only-of-type {\n",
       "        vertical-align: middle;\n",
       "    }\n",
       "\n",
       "    .dataframe tbody tr th {\n",
       "        vertical-align: top;\n",
       "    }\n",
       "\n",
       "    .dataframe thead th {\n",
       "        text-align: right;\n",
       "    }\n",
       "</style>\n",
       "<table border=\"1\" class=\"dataframe\">\n",
       "  <thead>\n",
       "    <tr style=\"text-align: right;\">\n",
       "      <th></th>\n",
       "      <th>Datum</th>\n",
       "    </tr>\n",
       "  </thead>\n",
       "  <tbody>\n",
       "    <tr>\n",
       "      <th>count</th>\n",
       "      <td>651</td>\n",
       "    </tr>\n",
       "    <tr>\n",
       "      <th>unique</th>\n",
       "      <td>251</td>\n",
       "    </tr>\n",
       "    <tr>\n",
       "      <th>top</th>\n",
       "      <td>1996-11-25</td>\n",
       "    </tr>\n",
       "    <tr>\n",
       "      <th>freq</th>\n",
       "      <td>41</td>\n",
       "    </tr>\n",
       "  </tbody>\n",
       "</table>\n",
       "</div>"
      ],
      "text/plain": [
       "             Datum\n",
       "count          651\n",
       "unique         251\n",
       "top     1996-11-25\n",
       "freq            41"
      ]
     },
     "execution_count": 20,
     "metadata": {},
     "output_type": "execute_result"
    }
   ],
   "source": [
    "df.describe()"
   ]
  },
  {
   "cell_type": "markdown",
   "metadata": {},
   "source": [
    "### Get 'informele stratigrafie' based on fields not available in the standard output dataframe"
   ]
  },
  {
   "cell_type": "markdown",
   "metadata": {},
   "source": [
    "To keep the output dataframe size acceptable, not all availabe WFS fields are included in the standard output. However, one can use this information to select interpretations as illustrated below.\n",
    "\n",
    "For example, make a selection of the interpretations in municipality the of Antwerp, before 1/1/1900:"
   ]
  },
  {
   "cell_type": "code",
   "execution_count": 21,
   "metadata": {},
   "outputs": [
    {
     "data": {
      "text/html": [
       "<div>\n",
       "<style scoped>\n",
       "    .dataframe tbody tr th:only-of-type {\n",
       "        vertical-align: middle;\n",
       "    }\n",
       "\n",
       "    .dataframe tbody tr th {\n",
       "        vertical-align: top;\n",
       "    }\n",
       "\n",
       "    .dataframe thead th {\n",
       "        text-align: right;\n",
       "    }\n",
       "</style>\n",
       "<table border=\"1\" class=\"dataframe\">\n",
       "  <thead>\n",
       "    <tr style=\"text-align: right;\">\n",
       "      <th></th>\n",
       "      <th>pkey_interpretatie</th>\n",
       "      <th>Datum</th>\n",
       "    </tr>\n",
       "  </thead>\n",
       "  <tbody>\n",
       "    <tr>\n",
       "      <th>0</th>\n",
       "      <td>https://www.dov.vlaanderen.be/data/interpretat...</td>\n",
       "      <td>1879-08-18</td>\n",
       "    </tr>\n",
       "    <tr>\n",
       "      <th>1</th>\n",
       "      <td>https://www.dov.vlaanderen.be/data/interpretat...</td>\n",
       "      <td>1894-04-27</td>\n",
       "    </tr>\n",
       "    <tr>\n",
       "      <th>2</th>\n",
       "      <td>https://www.dov.vlaanderen.be/data/interpretat...</td>\n",
       "      <td>1895-04-11</td>\n",
       "    </tr>\n",
       "    <tr>\n",
       "      <th>3</th>\n",
       "      <td>https://www.dov.vlaanderen.be/data/interpretat...</td>\n",
       "      <td>1895-04-08</td>\n",
       "    </tr>\n",
       "    <tr>\n",
       "      <th>4</th>\n",
       "      <td>https://www.dov.vlaanderen.be/data/interpretat...</td>\n",
       "      <td>1886-01-01</td>\n",
       "    </tr>\n",
       "  </tbody>\n",
       "</table>\n",
       "</div>"
      ],
      "text/plain": [
       "                                  pkey_interpretatie       Datum\n",
       "0  https://www.dov.vlaanderen.be/data/interpretat...  1879-08-18\n",
       "1  https://www.dov.vlaanderen.be/data/interpretat...  1894-04-27\n",
       "2  https://www.dov.vlaanderen.be/data/interpretat...  1895-04-11\n",
       "3  https://www.dov.vlaanderen.be/data/interpretat...  1895-04-08\n",
       "4  https://www.dov.vlaanderen.be/data/interpretat...  1886-01-01"
      ]
     },
     "execution_count": 21,
     "metadata": {},
     "output_type": "execute_result"
    }
   ],
   "source": [
    "from owslib.fes import And, PropertyIsEqualTo, PropertyIsLessThan\n",
    "\n",
    "query = And([PropertyIsEqualTo(propertyname='gemeente',\n",
    "                               literal='Antwerpen'),\n",
    "             PropertyIsLessThan(propertyname='Datum', \n",
    "                                 literal='1900-01-01')]\n",
    "            )\n",
    "df = itp.search(query=query,\n",
    "                return_fields=('pkey_interpretatie', 'Datum'))\n",
    "df.head()"
   ]
  },
  {
   "cell_type": "markdown",
   "metadata": {},
   "source": [
    "### Get 'informele stratigrafie' data, returning fields not available in the standard output dataframe"
   ]
  },
  {
   "cell_type": "markdown",
   "metadata": {},
   "source": [
    "As denoted in the previous example, not all available fields are available in the default output frame to keep its size limited. However, you can request any available field by including it in the *return_fields* parameter of the search:"
   ]
  },
  {
   "cell_type": "code",
   "execution_count": 23,
   "metadata": {},
   "outputs": [
    {
     "data": {
      "text/html": [
       "<div>\n",
       "<style scoped>\n",
       "    .dataframe tbody tr th:only-of-type {\n",
       "        vertical-align: middle;\n",
       "    }\n",
       "\n",
       "    .dataframe tbody tr th {\n",
       "        vertical-align: top;\n",
       "    }\n",
       "\n",
       "    .dataframe thead th {\n",
       "        text-align: right;\n",
       "    }\n",
       "</style>\n",
       "<table border=\"1\" class=\"dataframe\">\n",
       "  <thead>\n",
       "    <tr style=\"text-align: right;\">\n",
       "      <th></th>\n",
       "      <th>pkey_interpretatie</th>\n",
       "      <th>pkey_boring</th>\n",
       "      <th>pkey_sondering</th>\n",
       "      <th>x</th>\n",
       "      <th>y</th>\n",
       "      <th>Proefnummer</th>\n",
       "      <th>Z_mTAW</th>\n",
       "      <th>gemeente</th>\n",
       "      <th>Auteurs</th>\n",
       "    </tr>\n",
       "  </thead>\n",
       "  <tbody>\n",
       "    <tr>\n",
       "      <th>0</th>\n",
       "      <td>https://www.dov.vlaanderen.be/data/interpretat...</td>\n",
       "      <td>https://www.dov.vlaanderen.be/data/boring/2016...</td>\n",
       "      <td>NaN</td>\n",
       "      <td>224687.4</td>\n",
       "      <td>158191.0</td>\n",
       "      <td>kb33d106e-B236</td>\n",
       "      <td>124.0</td>\n",
       "      <td>Herstappe</td>\n",
       "      <td>Rutôt, A. - Belgische Geologische Dienst (BGD)</td>\n",
       "    </tr>\n",
       "    <tr>\n",
       "      <th>1</th>\n",
       "      <td>https://www.dov.vlaanderen.be/data/interpretat...</td>\n",
       "      <td>https://www.dov.vlaanderen.be/data/boring/1993...</td>\n",
       "      <td>NaN</td>\n",
       "      <td>224820.0</td>\n",
       "      <td>157794.0</td>\n",
       "      <td>kb41d120e-B1027</td>\n",
       "      <td>132.0</td>\n",
       "      <td>Herstappe</td>\n",
       "      <td>boormeester - bedrijf-dienst onbekend</td>\n",
       "    </tr>\n",
       "    <tr>\n",
       "      <th>2</th>\n",
       "      <td>https://www.dov.vlaanderen.be/data/interpretat...</td>\n",
       "      <td>https://www.dov.vlaanderen.be/data/boring/1993...</td>\n",
       "      <td>NaN</td>\n",
       "      <td>224820.0</td>\n",
       "      <td>157794.0</td>\n",
       "      <td>kb41d120e-B1027</td>\n",
       "      <td>132.0</td>\n",
       "      <td>Herstappe</td>\n",
       "      <td>Lagrou, David - VLAKO</td>\n",
       "    </tr>\n",
       "  </tbody>\n",
       "</table>\n",
       "</div>"
      ],
      "text/plain": [
       "                                  pkey_interpretatie  \\\n",
       "0  https://www.dov.vlaanderen.be/data/interpretat...   \n",
       "1  https://www.dov.vlaanderen.be/data/interpretat...   \n",
       "2  https://www.dov.vlaanderen.be/data/interpretat...   \n",
       "\n",
       "                                         pkey_boring  pkey_sondering  \\\n",
       "0  https://www.dov.vlaanderen.be/data/boring/2016...             NaN   \n",
       "1  https://www.dov.vlaanderen.be/data/boring/1993...             NaN   \n",
       "2  https://www.dov.vlaanderen.be/data/boring/1993...             NaN   \n",
       "\n",
       "          x         y      Proefnummer  Z_mTAW   gemeente  \\\n",
       "0  224687.4  158191.0   kb33d106e-B236   124.0  Herstappe   \n",
       "1  224820.0  157794.0  kb41d120e-B1027   132.0  Herstappe   \n",
       "2  224820.0  157794.0  kb41d120e-B1027   132.0  Herstappe   \n",
       "\n",
       "                                          Auteurs  \n",
       "0  Rutôt, A. - Belgische Geologische Dienst (BGD)  \n",
       "1           boormeester - bedrijf-dienst onbekend  \n",
       "2                           Lagrou, David - VLAKO  "
      ]
     },
     "execution_count": 23,
     "metadata": {},
     "output_type": "execute_result"
    }
   ],
   "source": [
    "query = PropertyIsEqualTo(\n",
    "            propertyname='gemeente',\n",
    "            literal='Herstappe')\n",
    "\n",
    "df = itp.search(query=query,\n",
    "                return_fields=('pkey_interpretatie', 'pkey_boring', 'pkey_sondering',\n",
    "                               'x', 'y', 'Z_mTAW', 'gemeente', 'Auteurs', 'Proefnummer'))\n",
    "\n",
    "df.head()"
   ]
  },
  {
   "cell_type": "markdown",
   "metadata": {},
   "source": [
    "## Visualize results"
   ]
  },
  {
   "cell_type": "markdown",
   "metadata": {},
   "source": [
    "Using Folium, we can display the results of our search on a map."
   ]
  },
  {
   "cell_type": "code",
   "execution_count": 24,
   "metadata": {},
   "outputs": [],
   "source": [
    "# import the necessary modules (not included in the requirements of pydov!)\n",
    "import folium\n",
    "from folium.plugins import MarkerCluster\n",
    "from pyproj import Proj, transform"
   ]
  },
  {
   "cell_type": "code",
   "execution_count": 25,
   "metadata": {},
   "outputs": [],
   "source": [
    "# convert the coordinates to lat/lon for folium\n",
    "def convert_latlon(x1, y1):\n",
    "    inProj = Proj(init='epsg:31370')\n",
    "    outProj = Proj(init='epsg:4326')\n",
    "    x2,y2 = transform(inProj, outProj, x1, y1)\n",
    "    return x2, y2\n",
    "df['lon'], df['lat'] = zip(*map(convert_latlon, df['x'], df['y'])) \n",
    "# convert to list\n",
    "loclist = df[['lat', 'lon']].values.tolist()"
   ]
  },
  {
   "cell_type": "code",
   "execution_count": 26,
   "metadata": {},
   "outputs": [
    {
     "data": {
      "text/html": [
       "<div style=\"width:100%;\"><div style=\"position:relative;width:100%;height:0;padding-bottom:60%;\"><iframe src=\"data:text/html;charset=utf-8;base64,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\" style=\"position:absolute;width:100%;height:100%;left:0;top:0;border:none !important;\" allowfullscreen webkitallowfullscreen mozallowfullscreen></iframe></div></div>"
      ],
      "text/plain": [
       "<folium.folium.Map at 0x11a6a358>"
      ]
     },
     "execution_count": 26,
     "metadata": {},
     "output_type": "execute_result"
    }
   ],
   "source": [
    "# initialize the Folium map on the centre of the selected locations, play with the zoom until ok\n",
    "fmap = folium.Map(location=[df['lat'].mean(), df['lon'].mean()], zoom_start=12)\n",
    "marker_cluster = MarkerCluster().add_to(fmap)\n",
    "for loc in range(0, len(loclist)):\n",
    "    folium.Marker(loclist[loc], popup=df['Proefnummer'][loc]).add_to(marker_cluster)\n",
    "fmap\n"
   ]
  },
  {
   "cell_type": "code",
   "execution_count": null,
   "metadata": {
    "collapsed": true
   },
   "outputs": [],
   "source": []
  }
 ],
 "metadata": {
  "kernelspec": {
   "display_name": "Python 3",
   "language": "python",
   "name": "python3"
  },
  "language_info": {
   "codemirror_mode": {
    "name": "ipython",
    "version": 3
   },
   "file_extension": ".py",
   "mimetype": "text/x-python",
   "name": "python",
   "nbconvert_exporter": "python",
   "pygments_lexer": "ipython3",
   "version": "3.6.4"
  }
 },
 "nbformat": 4,
 "nbformat_minor": 2
}
